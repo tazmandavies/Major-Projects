{
 "cells": [
  {
   "cell_type": "markdown",
   "metadata": {},
   "source": [
    "# Import required Python modules"
   ]
  },
  {
   "cell_type": "code",
   "execution_count": 232,
   "metadata": {},
   "outputs": [],
   "source": [
    "# Selenium is the main scraping software used here\n",
    "# It is used to automate web browsers (i.e. open URLs, click, scroll, etc without human interaction)\n",
    "from selenium import webdriver\n",
    "\n",
    "# beautifulsoup converts the scraped HTML into a structure you can easily retrieve information from\n",
    "from bs4 import BeautifulSoup\n",
    "\n",
    "# time can be used to slow down the scraper when necessary\n",
    "import time\n",
    "\n",
    "# 'pandas' will be used to manipulate the data and construct the output CSV file\n",
    "import pandas as pd"
   ]
  },
  {
   "cell_type": "markdown",
   "metadata": {},
   "source": [
    "# Scrape HTML from single product page"
   ]
  },
  {
   "cell_type": "code",
   "execution_count": 357,
   "metadata": {},
   "outputs": [],
   "source": [
    "# set desired URL for scraping\n",
    "url = 'https://www.parknshop.com/en/honey-crunch-corn-flakes/p/BP_151582'\n",
    "\n",
    "# open browser using scraping software\n",
    "driver = webdriver.Chrome(\"/Users/Tazman/Desktop/chromedriver 2\")\n",
    "\n",
    "# go to the desired URL on the driver\n",
    "driver.get(url)\n",
    "\n",
    "# convert the webpage's HTML into a structured format\n",
    "soup=BeautifulSoup(driver.page_source, 'lxml')"
   ]
  },
  {
   "cell_type": "markdown",
   "metadata": {},
   "source": [
    "# Collect desired information from scraped and formatted HTML"
   ]
  },
  {
   "cell_type": "markdown",
   "metadata": {},
   "source": [
    "## Product name"
   ]
  },
  {
   "cell_type": "code",
   "execution_count": 358,
   "metadata": {},
   "outputs": [
    {
     "data": {
      "text/plain": [
       "<div class=\"itemName\"><a href=\"/en/brandlist/KELLOGGS/b/KELLOGGS\"><span class=\"brandName\" itemprop=\"brand\">KELLOGG'S</span></a> <h1 class=\"productName productNameForH1\" itemprop=\"name\">HONEY CRUNCH CORN FLAKES</h1> <span class=\"sizeUnitColor\">400G</span></div>"
      ]
     },
     "execution_count": 358,
     "metadata": {},
     "output_type": "execute_result"
    }
   ],
   "source": [
    "# find the 'div' tag that contains class name 'itemName'\n",
    "soup.find('div', {\"class\":\"itemName\"})"
   ]
  },
  {
   "cell_type": "code",
   "execution_count": 359,
   "metadata": {},
   "outputs": [
    {
     "data": {
      "text/plain": [
       "\"KELLOGG'S HONEY CRUNCH CORN FLAKES 400G\""
      ]
     },
     "execution_count": 359,
     "metadata": {},
     "output_type": "execute_result"
    }
   ],
   "source": [
    "# extract all text\n",
    "soup.find('div', {\"class\":\"itemName\"}).text"
   ]
  },
  {
   "cell_type": "markdown",
   "metadata": {},
   "source": [
    "## Brand name"
   ]
  },
  {
   "cell_type": "code",
   "execution_count": 360,
   "metadata": {},
   "outputs": [
    {
     "data": {
      "text/plain": [
       "\"KELLOGG'S\""
      ]
     },
     "execution_count": 360,
     "metadata": {},
     "output_type": "execute_result"
    }
   ],
   "source": [
    "# find the 'div' tag that contains class name 'itemName', \n",
    "# then find 'span' tag that contains class name 'brandName'\n",
    "soup.find('div', {\"class\":\"itemName\"}).find('span', {\"class\":\"brandName\"}).text"
   ]
  },
  {
   "cell_type": "markdown",
   "metadata": {},
   "source": [
    "## Package size"
   ]
  },
  {
   "cell_type": "code",
   "execution_count": 361,
   "metadata": {},
   "outputs": [
    {
     "data": {
      "text/plain": [
       "'400G'"
      ]
     },
     "execution_count": 361,
     "metadata": {},
     "output_type": "execute_result"
    }
   ],
   "source": [
    "# find the 'div' tag that contains class name 'itemName', \n",
    "# then find 'span' tag that contains class name 'sizeUnitColo'\n",
    "\n",
    "soup.find('div', {\"class\":\"itemName\"}).find('span', {\"class\":\"sizeUnitColor\"}).text"
   ]
  },
  {
   "cell_type": "markdown",
   "metadata": {},
   "source": [
    "## NIP photo"
   ]
  },
  {
   "cell_type": "code",
   "execution_count": 362,
   "metadata": {},
   "outputs": [
    {
     "data": {
      "text/plain": [
       "<div class=\"newShowGalleryImagesContainer\">\n",
       "<meta content=\"http://www.parknshop.com/medias/sys_master/front/prd/9059087187998.jpg\" itemprop=\"image\"/>\n",
       "<div class=\"largePhoto\">\n",
       "<div class=\"photo\">\n",
       "<div class=\"photo-container\" data-zoom-image=\"/medias/sys_master/front/zoom/9059100917790.jpg\" id=\"large-photo\" style=\"background-image:url(/medias/sys_master/front/prd/9059100622878.jpg);\" title=\"KELLOGG'S HONEY CRUNCH CORN FLAKES\"></div>\n",
       "<div class=\"zoom-box\" id=\"zoom-box\"></div>\n",
       "<div class=\"hidden-content\"><img alt=\"HONEY CRUNCH CORN FLAKES\" itemprop=\"image\" src=\"/medias/sys_master/front/prd/9059100622878.jpg\"/></div>\n",
       "</div>\n",
       "<ul class=\"mobile-thumb-point\">\n",
       "<li class=\"selected\" data-image=\"/medias/sys_master/front/prdthumb/9059100688414.jpg\" data-index=\"0\" data-zoom-image=\"/medias/sys_master/front/zoom/9059100917790.jpg\"></li>\n",
       "<li class=\"\" data-image=\"/medias/sys_master/back/prdthumb/9059079454750.jpg\" data-index=\"0\" data-zoom-image=\"/medias/sys_master/front/zoom/9059100917790.jpg\"></li>\n",
       "<li class=\"\" data-image=\"/medias/sys_master/nutrition/prdthumb/9059078537246.jpg\" data-index=\"0\" data-zoom-image=\"/medias/sys_master/front/zoom/9059100917790.jpg\"></li>\n",
       "</ul>\n",
       "</div>\n",
       "<p class=\"photoDesc\">Photo is for reference only</p>\n",
       "<div class=\"thumb-holder\">\n",
       "<div class=\"thumbPhoto item-container\" id=\"zoom-thumb\">\n",
       "<div data-image=\"/medias/sys_master/front/prd/9059100622878.jpg\" data-index=\"0\" data-zoom-image=\"/medias/sys_master/front/zoom/9059100917790.jpg\" style=\"background-image:url(/medias/sys_master/front/prdthumb/9059100688414.jpg);\" title=\"KELLOGG'S HONEY CRUNCH CORN FLAKES\"></div>\n",
       "<div data-image=\"/medias/sys_master/back/prd/9059079389214.jpg\" data-index=\"0\" data-zoom-image=\"/medias/sys_master/back/zoom/9059079487518.jpg\" style=\"background-image:url(/medias/sys_master/back/prdthumb/9059079454750.jpg);\" title=\"KELLOGG'S HONEY CRUNCH CORN FLAKES\"></div>\n",
       "<div data-image=\"/medias/sys_master/nutrition/prd/9059078471710.jpg\" data-index=\"0\" data-zoom-image=\"/medias/sys_master/nutrition/zoom/9059078570014.jpg\" style=\"background-image:url(/medias/sys_master/nutrition/prdthumb/9059078537246.jpg);\" title=\"KELLOGG'S HONEY CRUNCH CORN FLAKES\"></div>\n",
       "</div>\n",
       "<div class=\"btn-next icon-arrow-right\"></div>\n",
       "<div class=\"btn-prev icon-arrow-left\"></div>\n",
       "</div>\n",
       "</div>"
      ]
     },
     "execution_count": 362,
     "metadata": {},
     "output_type": "execute_result"
    }
   ],
   "source": [
    "# find product images section\n",
    "soup.find('div', {\"class\":'newShowGalleryImagesContainer'})"
   ]
  },
  {
   "cell_type": "code",
   "execution_count": 363,
   "metadata": {},
   "outputs": [
    {
     "data": {
      "text/plain": [
       "[<li class=\"selected\" data-image=\"/medias/sys_master/front/prdthumb/9059100688414.jpg\" data-index=\"0\" data-zoom-image=\"/medias/sys_master/front/zoom/9059100917790.jpg\"></li>,\n",
       " <li class=\"\" data-image=\"/medias/sys_master/back/prdthumb/9059079454750.jpg\" data-index=\"0\" data-zoom-image=\"/medias/sys_master/front/zoom/9059100917790.jpg\"></li>,\n",
       " <li class=\"\" data-image=\"/medias/sys_master/nutrition/prdthumb/9059078537246.jpg\" data-index=\"0\" data-zoom-image=\"/medias/sys_master/front/zoom/9059100917790.jpg\"></li>]"
      ]
     },
     "execution_count": 363,
     "metadata": {},
     "output_type": "execute_result"
    }
   ],
   "source": [
    "# then find all 'li' tags, as these contains the URLs\n",
    "soup.find('div', {\"class\":'newShowGalleryImagesContainer'}).find_all('li')"
   ]
  },
  {
   "cell_type": "code",
   "execution_count": 364,
   "metadata": {},
   "outputs": [
    {
     "data": {
      "text/plain": [
       "'/medias/sys_master/front/prdthumb/9059100688414.jpg'"
      ]
     },
     "execution_count": 364,
     "metadata": {},
     "output_type": "execute_result"
    }
   ],
   "source": [
    "# let's isolate the URL for the first image using 'get'\n",
    "soup.find('div', {\"class\":'newShowGalleryImagesContainer'}).find_all('li')[0].get('data-image')"
   ]
  },
  {
   "cell_type": "code",
   "execution_count": 365,
   "metadata": {},
   "outputs": [
    {
     "data": {
      "text/plain": [
       "[1, 4, 9, 16]"
      ]
     },
     "execution_count": 365,
     "metadata": {},
     "output_type": "execute_result"
    }
   ],
   "source": [
    "# Side lesson - learn about list comprehensions\n",
    "list_a = [1, 2, 3, 4]\n",
    "\n",
    "# if we want to do something to each individual element in the list (e.g. square), we need to use a list comprehension\n",
    "\n",
    "[x**2 for x in list_a]"
   ]
  },
  {
   "cell_type": "code",
   "execution_count": 366,
   "metadata": {},
   "outputs": [
    {
     "data": {
      "text/plain": [
       "['/medias/sys_master/front/prdthumb/9059100688414.jpg',\n",
       " '/medias/sys_master/back/prdthumb/9059079454750.jpg',\n",
       " '/medias/sys_master/nutrition/prdthumb/9059078537246.jpg']"
      ]
     },
     "execution_count": 366,
     "metadata": {},
     "output_type": "execute_result"
    }
   ],
   "source": [
    "# use a list comprehension syntax to extract all image URLS\n",
    "image_url_section = soup.find('div', {\"class\":'newShowGalleryImagesContainer'}).find_all('li')\n",
    "image_urls = [x.get('data-image') for x in image_url_section]\n",
    "image_urls"
   ]
  },
  {
   "cell_type": "code",
   "execution_count": 367,
   "metadata": {},
   "outputs": [
    {
     "data": {
      "text/plain": [
       "'https://www.parknshop.com/medias/sys_master/nutrition/prdthumb/9059078537246.jpg'"
      ]
     },
     "execution_count": 367,
     "metadata": {},
     "output_type": "execute_result"
    }
   ],
   "source": [
    "# use for loop to search for  presence of the word 'nutrition' in each URL\n",
    "\n",
    "# first, assume NIP URL is absent and set variable to nothing\n",
    "NIP_url = ''\n",
    "\n",
    "for image_url in image_urls:\n",
    "    if 'nutrition' in image_url:\n",
    "        \n",
    "        # if required URL is found, reset NIP_url variable, and concatenate the website URL out the front\n",
    "        NIP_url = 'https://www.parknshop.com' + image_url\n",
    "        \n",
    "        # this stops the for loop - don't want it running longer than necessary!\n",
    "        break\n",
    "NIP_url"
   ]
  },
  {
   "cell_type": "markdown",
   "metadata": {},
   "source": [
    "## Ingredients list"
   ]
  },
  {
   "cell_type": "code",
   "execution_count": 368,
   "metadata": {},
   "outputs": [
    {
     "data": {
      "text/plain": [
       "<div class=\"tabpage product-info selected\" id=\"product-info\">\n",
       "<div class=\"tab-button\"><span>Product Information</span><div class=\"icon-arrow-up\"></div></div>\n",
       "<div class=\"tab-content\" itemprop=\"description\">\n",
       "<h3>Product Details:</h3>\n",
       "<p>HONEY CRUNCH CORN FLAKES</p>\n",
       "<br/>\n",
       "<!-- <h3>Ingredient:</h3>\n",
       "\t\t\t<table>\n",
       "\t\t\t\t<tr class=\"header\">\n",
       "\t\t\t\t\t<td>Typical values</td>\n",
       "\t\t\t\t\t<td>Per 100g</td>\n",
       "\t\t\t\t\t<td>Approx. 6 bottle (1000ml)</td>\n",
       "\t\t\t\t\t<td>Column for icons</td>\n",
       "\t\t\t\t</tr>\n",
       "\t\t\t\t<tr><td>Energy</td><td>2185kJ</td><td>365kJ</td><td><span class=\"icon-circle-tick\"></span></td></tr>\n",
       "\t\t\t\t<tr><td>Energy</td><td>522kcal</td><td>87kcal</td><td><span class=\"icon-circle-tick\"></span></td></tr>\n",
       "\t\t\t\t<tr><td>Fat</td><td>27.0g</td><td>4.5g</td><td></td></tr>\n",
       "\t\t\t\t<tr><td>Of which</td><td></td><td></td><td></td></tr>\n",
       "\t\t\t\t<tr><td>- Saturates</td><td>15.8g</td><td>2.6g</td><td><span class=\"icon-circle-tick\"></span></td></tr>\n",
       "\t\t\t\t<tr><td>Carbohydrate</td><td>63.5g</td><td>10.6g</td><td><span class=\"icon-circle-tick\"></span></td></tr>\n",
       "\t\t\t\t<tr><td>Of which</td><td></td><td></td><td></td></tr>\n",
       "\t\t\t\t<tr><td>- Sugars</td><td>61.6g</td><td>10.3g</td><td><span class=\"icon-circle-tick\"></span></td></tr>\n",
       "\t\t\t</table> -->\n",
       "<h3>Origin:</h3>\n",
       "<p>United States</p>\n",
       "<br/>\n",
       "<h3>Product Warnings:</h3>\n",
       "<p>Contains gluten and soy bean. This product is manufactured in the facility also produces traces of peanuts and almond (tree nuts).</p>\n",
       "<br/>\n",
       "<h3>Product Usage:</h3>\n",
       "<p>Refer to Chinese version</p>\n",
       "<br/>\n",
       "<h3>Storage Condition:</h3>\n",
       "<p>請置於陰涼乾燥處◦開封後,請將產品置入密封罐中或用密封夾夾住,以防產品受潮變質◦ (建議開袋後盡快食用完畢)</p>\n",
       "<br/>\n",
       "<h3>Ingredients:</h3>\n",
       "<p>Corn, Sugar, Peanut, Honey, Malt Extract, Salt, Vitamin C (Ascorbic Acid), Antioxidant (⍺-Tocopherol), Nicotinamide, Zinc Oxide, Reduced Iron, Vitamin A Palmitate, Vitamin B6 (Pyridoxine Hydrochloride), Vitamin B1 (Thiamine Hydrochloride),  Vitamin B2 (Riboflavin), Vitamin B12 (Cyanocobalamin), Folic Acid.</p>\n",
       "<br/>\n",
       "<!-- <img src=\"assets/img/product/photo.jpg\" style=\"width:100%;\" alt=\"\"> -->\n",
       "</div>\n",
       "</div>"
      ]
     },
     "execution_count": 368,
     "metadata": {},
     "output_type": "execute_result"
    }
   ],
   "source": [
    "# find product info section\n",
    "soup.find('div', {\"class\":\"tabpage product-info selected\"})"
   ]
  },
  {
   "cell_type": "code",
   "execution_count": 369,
   "metadata": {},
   "outputs": [
    {
     "data": {
      "text/plain": [
       "[<h3>Product Details:</h3>,\n",
       " <h3>Origin:</h3>,\n",
       " <h3>Product Warnings:</h3>,\n",
       " <h3>Product Usage:</h3>,\n",
       " <h3>Storage Condition:</h3>,\n",
       " <h3>Ingredients:</h3>]"
      ]
     },
     "execution_count": 369,
     "metadata": {},
     "output_type": "execute_result"
    }
   ],
   "source": [
    "# find all 'h3' tags in product info section\n",
    "soup.find('div', {\"class\":\"tabpage product-info selected\"}).find_all('h3')"
   ]
  },
  {
   "cell_type": "code",
   "execution_count": 370,
   "metadata": {},
   "outputs": [
    {
     "data": {
      "text/plain": [
       "['product details:',\n",
       " 'origin:',\n",
       " 'product warnings:',\n",
       " 'product usage:',\n",
       " 'storage condition:',\n",
       " 'ingredients:']"
      ]
     },
     "execution_count": 370,
     "metadata": {},
     "output_type": "execute_result"
    }
   ],
   "source": [
    "# use a list comprehension again to capture all text\n",
    "h3_headings = soup.find('div', {\"class\":\"tabpage product-info selected\"}).find_all('h3')\n",
    "\n",
    "h3_headings_text = [x.text.lower() for x in h3_headings]\n",
    "h3_headings_text"
   ]
  },
  {
   "cell_type": "code",
   "execution_count": 371,
   "metadata": {},
   "outputs": [
    {
     "data": {
      "text/plain": [
       "'d'"
      ]
     },
     "execution_count": 371,
     "metadata": {},
     "output_type": "execute_result"
    }
   ],
   "source": [
    "# side lesson: accessing elements using indexes\n",
    "list_b = ['a', 'b', 'c', 'd', 'e']\n",
    "list_b[3]"
   ]
  },
  {
   "cell_type": "code",
   "execution_count": 372,
   "metadata": {},
   "outputs": [],
   "source": [
    "# determine index that contains 'ingredients'\n",
    "ingredients_index = ''\n",
    "num_headings = len(h3_headings_text)\n",
    "for index in range(0, num_headings):\n",
    "    h3_heading = h3_headings_text[index]\n",
    "    if 'ingredients' in h3_heading:\n",
    "        ingredients_index = index\n",
    "        break"
   ]
  },
  {
   "cell_type": "code",
   "execution_count": 373,
   "metadata": {},
   "outputs": [
    {
     "data": {
      "text/plain": [
       "5"
      ]
     },
     "execution_count": 373,
     "metadata": {},
     "output_type": "execute_result"
    }
   ],
   "source": [
    "ingredients_index"
   ]
  },
  {
   "cell_type": "code",
   "execution_count": 374,
   "metadata": {},
   "outputs": [
    {
     "data": {
      "text/plain": [
       "[<p>HONEY CRUNCH CORN FLAKES</p>,\n",
       " <p>United States</p>,\n",
       " <p>Contains gluten and soy bean. This product is manufactured in the facility also produces traces of peanuts and almond (tree nuts).</p>,\n",
       " <p>Refer to Chinese version</p>,\n",
       " <p>請置於陰涼乾燥處◦開封後,請將產品置入密封罐中或用密封夾夾住,以防產品受潮變質◦ (建議開袋後盡快食用完畢)</p>,\n",
       " <p>Corn, Sugar, Peanut, Honey, Malt Extract, Salt, Vitamin C (Ascorbic Acid), Antioxidant (⍺-Tocopherol), Nicotinamide, Zinc Oxide, Reduced Iron, Vitamin A Palmitate, Vitamin B6 (Pyridoxine Hydrochloride), Vitamin B1 (Thiamine Hydrochloride),  Vitamin B2 (Riboflavin), Vitamin B12 (Cyanocobalamin), Folic Acid.</p>]"
      ]
     },
     "execution_count": 374,
     "metadata": {},
     "output_type": "execute_result"
    }
   ],
   "source": [
    "# now that we know this index, let's access the full ingredients list\n",
    "soup.find('div', {\"class\":\"tabpage product-info selected\"}).find_all('p')"
   ]
  },
  {
   "cell_type": "code",
   "execution_count": 375,
   "metadata": {},
   "outputs": [
    {
     "data": {
      "text/plain": [
       "'Corn, Sugar, Peanut, Honey, Malt Extract, Salt, Vitamin C (Ascorbic Acid), Antioxidant (⍺-Tocopherol), Nicotinamide, Zinc Oxide, Reduced Iron, Vitamin A Palmitate, Vitamin B6 (Pyridoxine Hydrochloride), Vitamin B1 (Thiamine Hydrochloride),  Vitamin B2 (Riboflavin), Vitamin B12 (Cyanocobalamin), Folic Acid.'"
      ]
     },
     "execution_count": 375,
     "metadata": {},
     "output_type": "execute_result"
    }
   ],
   "source": [
    "soup.find('div', {\"class\":\"tabpage product-info selected\"}).find_all('p')[ingredients_index].text"
   ]
  },
  {
   "cell_type": "markdown",
   "metadata": {},
   "source": [
    "# Scrape bakery category"
   ]
  },
  {
   "cell_type": "code",
   "execution_count": 287,
   "metadata": {},
   "outputs": [],
   "source": [
    "# set desired category URL for scraping\n",
    "url = 'https://www.parknshop.com/en/breakfast-bakery/bakery/c/010100'\n",
    "\n",
    "driver = webdriver.Chrome(\"/Users/Tazman/Desktop/chromedriver 2\")\n",
    "\n",
    "# go to the desired URL on the driver\n",
    "driver.get(url)"
   ]
  },
  {
   "cell_type": "code",
   "execution_count": 277,
   "metadata": {},
   "outputs": [],
   "source": [
    "# notice some products aren't visible until you click 'Show More'.\n",
    "# we need to keep clicking this button until we see everything\n",
    "for i in range(0, 100):\n",
    "    try:\n",
    "        time.sleep(3)\n",
    "        driver.find_element_by_xpath(\"//*[@class='button highlight']\").click()\n",
    "    except:\n",
    "        break"
   ]
  },
  {
   "cell_type": "code",
   "execution_count": 288,
   "metadata": {},
   "outputs": [],
   "source": [
    "# convert the webpage's HTML into a structured format\n",
    "soup=BeautifulSoup(driver.page_source, 'lxml')"
   ]
  },
  {
   "cell_type": "code",
   "execution_count": 289,
   "metadata": {},
   "outputs": [],
   "source": [
    "# isolate all product URLs for the category\n",
    "all_names_section = soup.find_all('div', {\"class\":\"name\"})\n",
    "product_urls = ['https://www.parknshop.com' + x.find('a').get('data-link') for x in all_names_section]"
   ]
  },
  {
   "cell_type": "code",
   "execution_count": 381,
   "metadata": {},
   "outputs": [
    {
     "data": {
      "text/html": [
       "<div>\n",
       "<style scoped>\n",
       "    .dataframe tbody tr th:only-of-type {\n",
       "        vertical-align: middle;\n",
       "    }\n",
       "\n",
       "    .dataframe tbody tr th {\n",
       "        vertical-align: top;\n",
       "    }\n",
       "\n",
       "    .dataframe thead th {\n",
       "        text-align: right;\n",
       "    }\n",
       "</style>\n",
       "<table border=\"1\" class=\"dataframe\">\n",
       "  <thead>\n",
       "    <tr style=\"text-align: right;\">\n",
       "      <th></th>\n",
       "      <th>Animal</th>\n",
       "      <th>n</th>\n",
       "    </tr>\n",
       "  </thead>\n",
       "  <tbody>\n",
       "    <tr>\n",
       "      <th>0</th>\n",
       "      <td>Cat</td>\n",
       "      <td>2</td>\n",
       "    </tr>\n",
       "    <tr>\n",
       "      <th>1</th>\n",
       "      <td>Dog</td>\n",
       "      <td>3</td>\n",
       "    </tr>\n",
       "  </tbody>\n",
       "</table>\n",
       "</div>"
      ],
      "text/plain": [
       "  Animal  n\n",
       "0    Cat  2\n",
       "1    Dog  3"
      ]
     },
     "execution_count": 381,
     "metadata": {},
     "output_type": "execute_result"
    }
   ],
   "source": [
    "# side lesson - how to store data in pandas dataframe, by progressively assing rows\n",
    "\n",
    "row_1 = {'Animal':'Cat', 'n':2} #dictionary\n",
    "row_2 = {'Animal':'Dog', 'n':3}\n",
    "\n",
    "# let's append to a list\n",
    "\n",
    "example = []\n",
    "example.append(row_1)\n",
    "example.append(row_2)\n",
    "\n",
    "pd.DataFrame(example)"
   ]
  },
  {
   "cell_type": "code",
   "execution_count": 339,
   "metadata": {},
   "outputs": [],
   "source": [
    "# let's store all product data in the list 'data'\n",
    "\n",
    "data = []\n",
    "for product_url in product_urls:\n",
    "    driver.get(product_url)\n",
    "    time.sleep(3)\n",
    "    soup=BeautifulSoup(driver.page_source, 'lxml')\n",
    "    row = {}\n",
    "    \n",
    "    row['URL'] = product_url\n",
    "    \n",
    "    try:\n",
    "        row['Product name'] = soup.find('div', {\"class\":\"itemName\"}).text\n",
    "    except:\n",
    "        row['Product name'] = ''\n",
    "        \n",
    "    try:    \n",
    "        row['Brand Name'] = soup.find('div', {\"class\":\"itemName\"}).find('span', {\"class\":\"brandName\"}).text\n",
    "    except:\n",
    "        row['Brand Name'] = ''\n",
    "    \n",
    "    try:\n",
    "        row['Package size'] = soup.find('div', {\"class\":\"itemName\"}).find('span', {\"class\":\"sizeUnitColor\"}).text\n",
    "    except:\n",
    "        row['Package size'] = ''\n",
    "    \n",
    "    try:\n",
    "        image_url_section = soup.find('div', {\"class\":'newShowGalleryImagesContainer'}).find_all('li')\n",
    "        image_urls = [x.get('data-image') for x in image_url_section]\n",
    "        image_urls\n",
    "        NIP_url = ''\n",
    "        for image_url in image_urls:\n",
    "            if 'nutrition' in image_url:\n",
    "                NIP_url = 'https://www.parknshop.com' + image_url\n",
    "                break\n",
    "        row['NIP url'] = NIP_url\n",
    "    except:\n",
    "        row['NIP url'] = ''\n",
    "    \n",
    "    try:\n",
    "        h3_headings = soup.find('div', {\"class\":\"tabpage product-info selected\"}).find_all('h3')\n",
    "        h3_headings_text = [x.text.lower() for x in h3_headings]\n",
    "        ingredients_index = ''\n",
    "        num_headings = len(h3_headings_text)\n",
    "        for index in range(0, num_headings):\n",
    "            h3_heading = h3_headings_text[index]\n",
    "            if 'ingredients' in h3_heading:\n",
    "                ingredients_index = index\n",
    "                break\n",
    "        row['Ingredients'] = soup.find('div', {\"class\":\"tabpage product-info selected\"}).find_all('p')[ingredients_index].text\n",
    "    except:\n",
    "        row['Ingredients'] = ''\n",
    "        \n",
    "    data.append(row)\n",
    "    \n",
    "    "
   ]
  },
  {
   "cell_type": "code",
   "execution_count": 340,
   "metadata": {},
   "outputs": [],
   "source": [
    "df = pd.DataFrame(data)"
   ]
  },
  {
   "cell_type": "code",
   "execution_count": 382,
   "metadata": {},
   "outputs": [
    {
     "data": {
      "text/html": [
       "<div>\n",
       "<style scoped>\n",
       "    .dataframe tbody tr th:only-of-type {\n",
       "        vertical-align: middle;\n",
       "    }\n",
       "\n",
       "    .dataframe tbody tr th {\n",
       "        vertical-align: top;\n",
       "    }\n",
       "\n",
       "    .dataframe thead th {\n",
       "        text-align: right;\n",
       "    }\n",
       "</style>\n",
       "<table border=\"1\" class=\"dataframe\">\n",
       "  <thead>\n",
       "    <tr style=\"text-align: right;\">\n",
       "      <th></th>\n",
       "      <th>Brand Name</th>\n",
       "      <th>Ingredients</th>\n",
       "      <th>NIP url</th>\n",
       "      <th>Package size</th>\n",
       "      <th>Product name</th>\n",
       "      <th>URL</th>\n",
       "    </tr>\n",
       "  </thead>\n",
       "  <tbody>\n",
       "    <tr>\n",
       "      <th>0</th>\n",
       "      <td>HANG HEUNG</td>\n",
       "      <td>Lotus seed paste[lotus seed, sugar, peanut oil...</td>\n",
       "      <td></td>\n",
       "      <td>4PCS</td>\n",
       "      <td>HANG HEUNG WHITE LOTUS SEED 2 YOLKS MOONCAKES ...</td>\n",
       "      <td>https://www.parknshop.com/en/white-lotus-seed-...</td>\n",
       "    </tr>\n",
       "    <tr>\n",
       "      <th>1</th>\n",
       "      <td>HANG HEUNG</td>\n",
       "      <td>Almond, Glutinous rice flour, Walnut, Sugar, W...</td>\n",
       "      <td></td>\n",
       "      <td>4PCS</td>\n",
       "      <td>HANG HEUNG MOONCAKE WITH ASSORTED NUTS 4PCS</td>\n",
       "      <td>https://www.parknshop.com/en/mooncake-with-ass...</td>\n",
       "    </tr>\n",
       "    <tr>\n",
       "      <th>2</th>\n",
       "      <td>MESTEMACHER</td>\n",
       "      <td>Organic whole kernel rye, water, organic whole...</td>\n",
       "      <td>https://www.parknshop.com/medias/sys_master/nu...</td>\n",
       "      <td>500G</td>\n",
       "      <td>MESTEMACHER ORGANIC THREE GRAIN BREAD 500G</td>\n",
       "      <td>https://www.parknshop.com/en/organic-three-gra...</td>\n",
       "    </tr>\n",
       "    <tr>\n",
       "      <th>3</th>\n",
       "      <td>IMP. BANQUET</td>\n",
       "      <td>Wheat Flour, Sugar, Margarine, Shortening, Egg...</td>\n",
       "      <td>https://www.parknshop.com/medias/sys_master/nu...</td>\n",
       "      <td>150G</td>\n",
       "      <td>IMP. BANQUET EGG ROLL 150G</td>\n",
       "      <td>https://www.parknshop.com/en/egg-roll/p/BP_423500</td>\n",
       "    </tr>\n",
       "    <tr>\n",
       "      <th>4</th>\n",
       "      <td>IMP. BANQUET</td>\n",
       "      <td>Wheat Flour, Sugar, Shortening (Refined Palm O...</td>\n",
       "      <td>https://www.parknshop.com/medias/sys_master/nu...</td>\n",
       "      <td>140G</td>\n",
       "      <td>IMP. BANQUET PHOENIX  ROLL 140G</td>\n",
       "      <td>https://www.parknshop.com/en/phoenix-roll/p/BP...</td>\n",
       "    </tr>\n",
       "  </tbody>\n",
       "</table>\n",
       "</div>"
      ],
      "text/plain": [
       "     Brand Name                                        Ingredients  \\\n",
       "0    HANG HEUNG  Lotus seed paste[lotus seed, sugar, peanut oil...   \n",
       "1    HANG HEUNG  Almond, Glutinous rice flour, Walnut, Sugar, W...   \n",
       "2   MESTEMACHER  Organic whole kernel rye, water, organic whole...   \n",
       "3  IMP. BANQUET  Wheat Flour, Sugar, Margarine, Shortening, Egg...   \n",
       "4  IMP. BANQUET  Wheat Flour, Sugar, Shortening (Refined Palm O...   \n",
       "\n",
       "                                             NIP url Package size  \\\n",
       "0                                                            4PCS   \n",
       "1                                                            4PCS   \n",
       "2  https://www.parknshop.com/medias/sys_master/nu...         500G   \n",
       "3  https://www.parknshop.com/medias/sys_master/nu...         150G   \n",
       "4  https://www.parknshop.com/medias/sys_master/nu...         140G   \n",
       "\n",
       "                                        Product name  \\\n",
       "0  HANG HEUNG WHITE LOTUS SEED 2 YOLKS MOONCAKES ...   \n",
       "1        HANG HEUNG MOONCAKE WITH ASSORTED NUTS 4PCS   \n",
       "2         MESTEMACHER ORGANIC THREE GRAIN BREAD 500G   \n",
       "3                         IMP. BANQUET EGG ROLL 150G   \n",
       "4                    IMP. BANQUET PHOENIX  ROLL 140G   \n",
       "\n",
       "                                                 URL  \n",
       "0  https://www.parknshop.com/en/white-lotus-seed-...  \n",
       "1  https://www.parknshop.com/en/mooncake-with-ass...  \n",
       "2  https://www.parknshop.com/en/organic-three-gra...  \n",
       "3  https://www.parknshop.com/en/egg-roll/p/BP_423500  \n",
       "4  https://www.parknshop.com/en/phoenix-roll/p/BP...  "
      ]
     },
     "execution_count": 382,
     "metadata": {},
     "output_type": "execute_result"
    }
   ],
   "source": [
    "df.head()"
   ]
  },
  {
   "cell_type": "code",
   "execution_count": 356,
   "metadata": {},
   "outputs": [],
   "source": [
    "df.to_csv('bakery.csv')"
   ]
  },
  {
   "cell_type": "code",
   "execution_count": null,
   "metadata": {},
   "outputs": [],
   "source": []
  },
  {
   "cell_type": "code",
   "execution_count": null,
   "metadata": {},
   "outputs": [],
   "source": []
  }
 ],
 "metadata": {
  "kernelspec": {
   "display_name": "Python 3",
   "language": "python",
   "name": "python3"
  },
  "language_info": {
   "codemirror_mode": {
    "name": "ipython",
    "version": 3
   },
   "file_extension": ".py",
   "mimetype": "text/x-python",
   "name": "python",
   "nbconvert_exporter": "python",
   "pygments_lexer": "ipython3",
   "version": "3.7.1"
  },
  "toc": {
   "base_numbering": 1,
   "nav_menu": {},
   "number_sections": true,
   "sideBar": true,
   "skip_h1_title": false,
   "title_cell": "Table of Contents",
   "title_sidebar": "Contents",
   "toc_cell": false,
   "toc_position": {
    "height": "calc(100% - 180px)",
    "left": "10px",
    "top": "150px",
    "width": "217.646px"
   },
   "toc_section_display": true,
   "toc_window_display": true
  }
 },
 "nbformat": 4,
 "nbformat_minor": 2
}
