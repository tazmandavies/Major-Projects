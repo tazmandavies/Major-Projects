{
 "cells": [
  {
   "cell_type": "markdown",
   "metadata": {},
   "source": [
    "# Importing libraries"
   ]
  },
  {
   "cell_type": "code",
   "execution_count": 2,
   "metadata": {},
   "outputs": [
    {
     "ename": "KeyboardInterrupt",
     "evalue": "",
     "output_type": "error",
     "traceback": [
      "\u001b[0;31m---------------------------------------------------------------------------\u001b[0m",
      "\u001b[0;31mKeyboardInterrupt\u001b[0m                         Traceback (most recent call last)",
      "\u001b[0;32m<ipython-input-2-0b8f9a377f3a>\u001b[0m in \u001b[0;36m<module>\u001b[0;34m\u001b[0m\n\u001b[1;32m      9\u001b[0m \u001b[0;32mimport\u001b[0m \u001b[0mmatplotlib\u001b[0m\u001b[0;34m.\u001b[0m\u001b[0mpyplot\u001b[0m \u001b[0;32mas\u001b[0m \u001b[0mplt\u001b[0m\u001b[0;34m\u001b[0m\u001b[0;34m\u001b[0m\u001b[0m\n\u001b[1;32m     10\u001b[0m \u001b[0;32mimport\u001b[0m \u001b[0mseaborn\u001b[0m \u001b[0;32mas\u001b[0m \u001b[0msns\u001b[0m\u001b[0;34m\u001b[0m\u001b[0;34m\u001b[0m\u001b[0m\n\u001b[0;32m---> 11\u001b[0;31m \u001b[0;32mfrom\u001b[0m \u001b[0msklearn\u001b[0m\u001b[0;34m.\u001b[0m\u001b[0mmodel_selection\u001b[0m \u001b[0;32mimport\u001b[0m \u001b[0mtrain_test_split\u001b[0m\u001b[0;34m\u001b[0m\u001b[0;34m\u001b[0m\u001b[0m\n\u001b[0m\u001b[1;32m     12\u001b[0m \u001b[0;32mfrom\u001b[0m \u001b[0msklearn\u001b[0m\u001b[0;34m.\u001b[0m\u001b[0mneighbors\u001b[0m \u001b[0;32mimport\u001b[0m \u001b[0mKNeighborsClassifier\u001b[0m\u001b[0;34m\u001b[0m\u001b[0;34m\u001b[0m\u001b[0m\n\u001b[1;32m     13\u001b[0m \u001b[0;32mfrom\u001b[0m \u001b[0msklearn\u001b[0m \u001b[0;32mimport\u001b[0m \u001b[0mmetrics\u001b[0m\u001b[0;34m\u001b[0m\u001b[0;34m\u001b[0m\u001b[0m\n",
      "\u001b[0;32m~/anaconda3/lib/python3.7/site-packages/sklearn/model_selection/__init__.py\u001b[0m in \u001b[0;36m<module>\u001b[0;34m\u001b[0m\n\u001b[1;32m     17\u001b[0m \u001b[0;32mfrom\u001b[0m \u001b[0;34m.\u001b[0m\u001b[0m_split\u001b[0m \u001b[0;32mimport\u001b[0m \u001b[0mcheck_cv\u001b[0m\u001b[0;34m\u001b[0m\u001b[0;34m\u001b[0m\u001b[0m\n\u001b[1;32m     18\u001b[0m \u001b[0;34m\u001b[0m\u001b[0m\n\u001b[0;32m---> 19\u001b[0;31m \u001b[0;32mfrom\u001b[0m \u001b[0;34m.\u001b[0m\u001b[0m_validation\u001b[0m \u001b[0;32mimport\u001b[0m \u001b[0mcross_val_score\u001b[0m\u001b[0;34m\u001b[0m\u001b[0;34m\u001b[0m\u001b[0m\n\u001b[0m\u001b[1;32m     20\u001b[0m \u001b[0;32mfrom\u001b[0m \u001b[0;34m.\u001b[0m\u001b[0m_validation\u001b[0m \u001b[0;32mimport\u001b[0m \u001b[0mcross_val_predict\u001b[0m\u001b[0;34m\u001b[0m\u001b[0;34m\u001b[0m\u001b[0m\n\u001b[1;32m     21\u001b[0m \u001b[0;32mfrom\u001b[0m \u001b[0;34m.\u001b[0m\u001b[0m_validation\u001b[0m \u001b[0;32mimport\u001b[0m \u001b[0mcross_validate\u001b[0m\u001b[0;34m\u001b[0m\u001b[0;34m\u001b[0m\u001b[0m\n",
      "\u001b[0;32m~/anaconda3/lib/python3.7/site-packages/sklearn/model_selection/_validation.py\u001b[0m in \u001b[0;36m<module>\u001b[0;34m\u001b[0m\n\u001b[1;32m     29\u001b[0m \u001b[0;32mfrom\u001b[0m \u001b[0;34m.\u001b[0m\u001b[0;34m.\u001b[0m\u001b[0mutils\u001b[0m\u001b[0;34m.\u001b[0m\u001b[0m_joblib\u001b[0m \u001b[0;32mimport\u001b[0m \u001b[0mlogger\u001b[0m\u001b[0;34m\u001b[0m\u001b[0;34m\u001b[0m\u001b[0m\n\u001b[1;32m     30\u001b[0m \u001b[0;32mfrom\u001b[0m \u001b[0;34m.\u001b[0m\u001b[0;34m.\u001b[0m\u001b[0mexternals\u001b[0m\u001b[0;34m.\u001b[0m\u001b[0msix\u001b[0m\u001b[0;34m.\u001b[0m\u001b[0mmoves\u001b[0m \u001b[0;32mimport\u001b[0m \u001b[0mzip\u001b[0m\u001b[0;34m\u001b[0m\u001b[0;34m\u001b[0m\u001b[0m\n\u001b[0;32m---> 31\u001b[0;31m \u001b[0;32mfrom\u001b[0m \u001b[0;34m.\u001b[0m\u001b[0;34m.\u001b[0m\u001b[0mmetrics\u001b[0m\u001b[0;34m.\u001b[0m\u001b[0mscorer\u001b[0m \u001b[0;32mimport\u001b[0m \u001b[0mcheck_scoring\u001b[0m\u001b[0;34m,\u001b[0m \u001b[0m_check_multimetric_scoring\u001b[0m\u001b[0;34m\u001b[0m\u001b[0;34m\u001b[0m\u001b[0m\n\u001b[0m\u001b[1;32m     32\u001b[0m \u001b[0;32mfrom\u001b[0m \u001b[0;34m.\u001b[0m\u001b[0;34m.\u001b[0m\u001b[0mexceptions\u001b[0m \u001b[0;32mimport\u001b[0m \u001b[0mFitFailedWarning\u001b[0m\u001b[0;34m\u001b[0m\u001b[0;34m\u001b[0m\u001b[0m\n\u001b[1;32m     33\u001b[0m \u001b[0;32mfrom\u001b[0m \u001b[0;34m.\u001b[0m\u001b[0m_split\u001b[0m \u001b[0;32mimport\u001b[0m \u001b[0mcheck_cv\u001b[0m\u001b[0;34m\u001b[0m\u001b[0;34m\u001b[0m\u001b[0m\n",
      "\u001b[0;32m~/anaconda3/lib/python3.7/site-packages/sklearn/metrics/__init__.py\u001b[0m in \u001b[0;36m<module>\u001b[0;34m\u001b[0m\n\u001b[1;32m      5\u001b[0m \u001b[0;34m\u001b[0m\u001b[0m\n\u001b[1;32m      6\u001b[0m \u001b[0;34m\u001b[0m\u001b[0m\n\u001b[0;32m----> 7\u001b[0;31m \u001b[0;32mfrom\u001b[0m \u001b[0;34m.\u001b[0m\u001b[0mranking\u001b[0m \u001b[0;32mimport\u001b[0m \u001b[0mauc\u001b[0m\u001b[0;34m\u001b[0m\u001b[0;34m\u001b[0m\u001b[0m\n\u001b[0m\u001b[1;32m      8\u001b[0m \u001b[0;32mfrom\u001b[0m \u001b[0;34m.\u001b[0m\u001b[0mranking\u001b[0m \u001b[0;32mimport\u001b[0m \u001b[0maverage_precision_score\u001b[0m\u001b[0;34m\u001b[0m\u001b[0;34m\u001b[0m\u001b[0m\n\u001b[1;32m      9\u001b[0m \u001b[0;32mfrom\u001b[0m \u001b[0;34m.\u001b[0m\u001b[0mranking\u001b[0m \u001b[0;32mimport\u001b[0m \u001b[0mcoverage_error\u001b[0m\u001b[0;34m\u001b[0m\u001b[0;34m\u001b[0m\u001b[0m\n",
      "\u001b[0;32m~/anaconda3/lib/python3.7/site-packages/sklearn/metrics/ranking.py\u001b[0m in \u001b[0;36m<module>\u001b[0;34m\u001b[0m\n\u001b[1;32m     34\u001b[0m \u001b[0;32mfrom\u001b[0m \u001b[0;34m.\u001b[0m\u001b[0;34m.\u001b[0m\u001b[0mutils\u001b[0m\u001b[0;34m.\u001b[0m\u001b[0msparsefuncs\u001b[0m \u001b[0;32mimport\u001b[0m \u001b[0mcount_nonzero\u001b[0m\u001b[0;34m\u001b[0m\u001b[0;34m\u001b[0m\u001b[0m\n\u001b[1;32m     35\u001b[0m \u001b[0;32mfrom\u001b[0m \u001b[0;34m.\u001b[0m\u001b[0;34m.\u001b[0m\u001b[0mexceptions\u001b[0m \u001b[0;32mimport\u001b[0m \u001b[0mUndefinedMetricWarning\u001b[0m\u001b[0;34m\u001b[0m\u001b[0;34m\u001b[0m\u001b[0m\n\u001b[0;32m---> 36\u001b[0;31m \u001b[0;32mfrom\u001b[0m \u001b[0;34m.\u001b[0m\u001b[0;34m.\u001b[0m\u001b[0mpreprocessing\u001b[0m \u001b[0;32mimport\u001b[0m \u001b[0mlabel_binarize\u001b[0m\u001b[0;34m\u001b[0m\u001b[0;34m\u001b[0m\u001b[0m\n\u001b[0m\u001b[1;32m     37\u001b[0m \u001b[0;34m\u001b[0m\u001b[0m\n\u001b[1;32m     38\u001b[0m \u001b[0;32mfrom\u001b[0m \u001b[0;34m.\u001b[0m\u001b[0mbase\u001b[0m \u001b[0;32mimport\u001b[0m \u001b[0m_average_binary_score\u001b[0m\u001b[0;34m\u001b[0m\u001b[0;34m\u001b[0m\u001b[0m\n",
      "\u001b[0;32m~/anaconda3/lib/python3.7/site-packages/sklearn/preprocessing/__init__.py\u001b[0m in \u001b[0;36m<module>\u001b[0;34m\u001b[0m\n\u001b[1;32m      4\u001b[0m \"\"\"\n\u001b[1;32m      5\u001b[0m \u001b[0;34m\u001b[0m\u001b[0m\n\u001b[0;32m----> 6\u001b[0;31m \u001b[0;32mfrom\u001b[0m \u001b[0;34m.\u001b[0m\u001b[0m_function_transformer\u001b[0m \u001b[0;32mimport\u001b[0m \u001b[0mFunctionTransformer\u001b[0m\u001b[0;34m\u001b[0m\u001b[0;34m\u001b[0m\u001b[0m\n\u001b[0m\u001b[1;32m      7\u001b[0m \u001b[0;34m\u001b[0m\u001b[0m\n\u001b[1;32m      8\u001b[0m \u001b[0;32mfrom\u001b[0m \u001b[0;34m.\u001b[0m\u001b[0mdata\u001b[0m \u001b[0;32mimport\u001b[0m \u001b[0mBinarizer\u001b[0m\u001b[0;34m\u001b[0m\u001b[0;34m\u001b[0m\u001b[0m\n",
      "\u001b[0;32m~/anaconda3/lib/python3.7/site-packages/sklearn/preprocessing/_function_transformer.py\u001b[0m in \u001b[0;36m<module>\u001b[0;34m\u001b[0m\n\u001b[1;32m      3\u001b[0m \u001b[0;32mfrom\u001b[0m \u001b[0;34m.\u001b[0m\u001b[0;34m.\u001b[0m\u001b[0mbase\u001b[0m \u001b[0;32mimport\u001b[0m \u001b[0mBaseEstimator\u001b[0m\u001b[0;34m,\u001b[0m \u001b[0mTransformerMixin\u001b[0m\u001b[0;34m\u001b[0m\u001b[0;34m\u001b[0m\u001b[0m\n\u001b[1;32m      4\u001b[0m \u001b[0;32mfrom\u001b[0m \u001b[0;34m.\u001b[0m\u001b[0;34m.\u001b[0m\u001b[0mutils\u001b[0m \u001b[0;32mimport\u001b[0m \u001b[0mcheck_array\u001b[0m\u001b[0;34m\u001b[0m\u001b[0;34m\u001b[0m\u001b[0m\n\u001b[0;32m----> 5\u001b[0;31m \u001b[0;32mfrom\u001b[0m \u001b[0;34m.\u001b[0m\u001b[0;34m.\u001b[0m\u001b[0mutils\u001b[0m\u001b[0;34m.\u001b[0m\u001b[0mtesting\u001b[0m \u001b[0;32mimport\u001b[0m \u001b[0massert_allclose_dense_sparse\u001b[0m\u001b[0;34m\u001b[0m\u001b[0;34m\u001b[0m\u001b[0m\n\u001b[0m\u001b[1;32m      6\u001b[0m \u001b[0;32mfrom\u001b[0m \u001b[0;34m.\u001b[0m\u001b[0;34m.\u001b[0m\u001b[0mexternals\u001b[0m\u001b[0;34m.\u001b[0m\u001b[0msix\u001b[0m \u001b[0;32mimport\u001b[0m \u001b[0mstring_types\u001b[0m\u001b[0;34m\u001b[0m\u001b[0;34m\u001b[0m\u001b[0m\n\u001b[1;32m      7\u001b[0m \u001b[0;34m\u001b[0m\u001b[0m\n",
      "\u001b[0;32m~/anaconda3/lib/python3.7/site-packages/sklearn/utils/testing.py\u001b[0m in \u001b[0;36m<module>\u001b[0;34m\u001b[0m\n\u001b[1;32m     52\u001b[0m \u001b[0madditional_names_in_all\u001b[0m \u001b[0;34m=\u001b[0m \u001b[0;34m[\u001b[0m\u001b[0;34m]\u001b[0m\u001b[0;34m\u001b[0m\u001b[0;34m\u001b[0m\u001b[0m\n\u001b[1;32m     53\u001b[0m \u001b[0;32mtry\u001b[0m\u001b[0;34m:\u001b[0m\u001b[0;34m\u001b[0m\u001b[0;34m\u001b[0m\u001b[0m\n\u001b[0;32m---> 54\u001b[0;31m     \u001b[0;32mfrom\u001b[0m \u001b[0mnose\u001b[0m\u001b[0;34m.\u001b[0m\u001b[0mtools\u001b[0m \u001b[0;32mimport\u001b[0m \u001b[0mraises\u001b[0m \u001b[0;32mas\u001b[0m \u001b[0m_nose_raises\u001b[0m\u001b[0;34m\u001b[0m\u001b[0;34m\u001b[0m\u001b[0m\n\u001b[0m\u001b[1;32m     55\u001b[0m     deprecation_message = (\n\u001b[1;32m     56\u001b[0m         \u001b[0;34m'sklearn.utils.testing.raises has been deprecated in version 0.20 '\u001b[0m\u001b[0;34m\u001b[0m\u001b[0;34m\u001b[0m\u001b[0m\n",
      "\u001b[0;32m~/anaconda3/lib/python3.7/site-packages/nose/__init__.py\u001b[0m in \u001b[0;36m<module>\u001b[0;34m\u001b[0m\n\u001b[0;32m----> 1\u001b[0;31m \u001b[0;32mfrom\u001b[0m \u001b[0mnose\u001b[0m\u001b[0;34m.\u001b[0m\u001b[0mcore\u001b[0m \u001b[0;32mimport\u001b[0m \u001b[0mcollector\u001b[0m\u001b[0;34m,\u001b[0m \u001b[0mmain\u001b[0m\u001b[0;34m,\u001b[0m \u001b[0mrun\u001b[0m\u001b[0;34m,\u001b[0m \u001b[0mrun_exit\u001b[0m\u001b[0;34m,\u001b[0m \u001b[0mrunmodule\u001b[0m\u001b[0;34m\u001b[0m\u001b[0;34m\u001b[0m\u001b[0m\n\u001b[0m\u001b[1;32m      2\u001b[0m \u001b[0;31m# backwards compatibility\u001b[0m\u001b[0;34m\u001b[0m\u001b[0;34m\u001b[0m\u001b[0;34m\u001b[0m\u001b[0m\n\u001b[1;32m      3\u001b[0m \u001b[0;32mfrom\u001b[0m \u001b[0mnose\u001b[0m\u001b[0;34m.\u001b[0m\u001b[0mexc\u001b[0m \u001b[0;32mimport\u001b[0m \u001b[0mSkipTest\u001b[0m\u001b[0;34m,\u001b[0m \u001b[0mDeprecatedTest\u001b[0m\u001b[0;34m\u001b[0m\u001b[0;34m\u001b[0m\u001b[0m\n\u001b[1;32m      4\u001b[0m \u001b[0;32mfrom\u001b[0m \u001b[0mnose\u001b[0m\u001b[0;34m.\u001b[0m\u001b[0mtools\u001b[0m \u001b[0;32mimport\u001b[0m \u001b[0mwith_setup\u001b[0m\u001b[0;34m\u001b[0m\u001b[0;34m\u001b[0m\u001b[0m\n\u001b[1;32m      5\u001b[0m \u001b[0;34m\u001b[0m\u001b[0m\n",
      "\u001b[0;32m~/anaconda3/lib/python3.7/site-packages/nose/core.py\u001b[0m in \u001b[0;36m<module>\u001b[0;34m\u001b[0m\n\u001b[1;32m      9\u001b[0m \u001b[0;32mimport\u001b[0m \u001b[0munittest\u001b[0m\u001b[0;34m\u001b[0m\u001b[0;34m\u001b[0m\u001b[0m\n\u001b[1;32m     10\u001b[0m \u001b[0;34m\u001b[0m\u001b[0m\n\u001b[0;32m---> 11\u001b[0;31m \u001b[0;32mfrom\u001b[0m \u001b[0mnose\u001b[0m\u001b[0;34m.\u001b[0m\u001b[0mconfig\u001b[0m \u001b[0;32mimport\u001b[0m \u001b[0mConfig\u001b[0m\u001b[0;34m,\u001b[0m \u001b[0mall_config_files\u001b[0m\u001b[0;34m\u001b[0m\u001b[0;34m\u001b[0m\u001b[0m\n\u001b[0m\u001b[1;32m     12\u001b[0m \u001b[0;32mfrom\u001b[0m \u001b[0mnose\u001b[0m\u001b[0;34m.\u001b[0m\u001b[0mloader\u001b[0m \u001b[0;32mimport\u001b[0m \u001b[0mdefaultTestLoader\u001b[0m\u001b[0;34m\u001b[0m\u001b[0;34m\u001b[0m\u001b[0m\n\u001b[1;32m     13\u001b[0m \u001b[0;32mfrom\u001b[0m \u001b[0mnose\u001b[0m\u001b[0;34m.\u001b[0m\u001b[0mplugins\u001b[0m\u001b[0;34m.\u001b[0m\u001b[0mmanager\u001b[0m \u001b[0;32mimport\u001b[0m \u001b[0mPluginManager\u001b[0m\u001b[0;34m,\u001b[0m \u001b[0mDefaultPluginManager\u001b[0m\u001b[0;34m,\u001b[0m\u001b[0;31m \u001b[0m\u001b[0;31m\\\u001b[0m\u001b[0;34m\u001b[0m\u001b[0;34m\u001b[0m\u001b[0m\n",
      "\u001b[0;32m~/anaconda3/lib/python3.7/site-packages/nose/config.py\u001b[0m in \u001b[0;36m<module>\u001b[0;34m\u001b[0m\n\u001b[1;32m      7\u001b[0m \u001b[0;32mfrom\u001b[0m \u001b[0moptparse\u001b[0m \u001b[0;32mimport\u001b[0m \u001b[0mOptionParser\u001b[0m\u001b[0;34m\u001b[0m\u001b[0;34m\u001b[0m\u001b[0m\n\u001b[1;32m      8\u001b[0m \u001b[0;32mfrom\u001b[0m \u001b[0mnose\u001b[0m\u001b[0;34m.\u001b[0m\u001b[0mutil\u001b[0m \u001b[0;32mimport\u001b[0m \u001b[0mabsdir\u001b[0m\u001b[0;34m,\u001b[0m \u001b[0mtolist\u001b[0m\u001b[0;34m\u001b[0m\u001b[0;34m\u001b[0m\u001b[0m\n\u001b[0;32m----> 9\u001b[0;31m \u001b[0;32mfrom\u001b[0m \u001b[0mnose\u001b[0m\u001b[0;34m.\u001b[0m\u001b[0mplugins\u001b[0m\u001b[0;34m.\u001b[0m\u001b[0mmanager\u001b[0m \u001b[0;32mimport\u001b[0m \u001b[0mNoPlugins\u001b[0m\u001b[0;34m\u001b[0m\u001b[0;34m\u001b[0m\u001b[0m\n\u001b[0m\u001b[1;32m     10\u001b[0m \u001b[0;32mfrom\u001b[0m \u001b[0mwarnings\u001b[0m \u001b[0;32mimport\u001b[0m \u001b[0mwarn\u001b[0m\u001b[0;34m,\u001b[0m \u001b[0mfilterwarnings\u001b[0m\u001b[0;34m\u001b[0m\u001b[0;34m\u001b[0m\u001b[0m\n\u001b[1;32m     11\u001b[0m \u001b[0;34m\u001b[0m\u001b[0m\n",
      "\u001b[0;32m~/anaconda3/lib/python3.7/site-packages/nose/plugins/__init__.py\u001b[0m in \u001b[0;36m<module>\u001b[0;34m\u001b[0m\n\u001b[1;32m    183\u001b[0m \"\"\"\n\u001b[1;32m    184\u001b[0m \u001b[0;32mfrom\u001b[0m \u001b[0mnose\u001b[0m\u001b[0;34m.\u001b[0m\u001b[0mplugins\u001b[0m\u001b[0;34m.\u001b[0m\u001b[0mbase\u001b[0m \u001b[0;32mimport\u001b[0m \u001b[0mPlugin\u001b[0m\u001b[0;34m\u001b[0m\u001b[0;34m\u001b[0m\u001b[0m\n\u001b[0;32m--> 185\u001b[0;31m \u001b[0;32mfrom\u001b[0m \u001b[0mnose\u001b[0m\u001b[0;34m.\u001b[0m\u001b[0mplugins\u001b[0m\u001b[0;34m.\u001b[0m\u001b[0mmanager\u001b[0m \u001b[0;32mimport\u001b[0m \u001b[0;34m*\u001b[0m\u001b[0;34m\u001b[0m\u001b[0;34m\u001b[0m\u001b[0m\n\u001b[0m\u001b[1;32m    186\u001b[0m \u001b[0;32mfrom\u001b[0m \u001b[0mnose\u001b[0m\u001b[0;34m.\u001b[0m\u001b[0mplugins\u001b[0m\u001b[0;34m.\u001b[0m\u001b[0mplugintest\u001b[0m \u001b[0;32mimport\u001b[0m \u001b[0mPluginTester\u001b[0m\u001b[0;34m\u001b[0m\u001b[0;34m\u001b[0m\u001b[0m\n\u001b[1;32m    187\u001b[0m \u001b[0;34m\u001b[0m\u001b[0m\n",
      "\u001b[0;32m~/anaconda3/lib/python3.7/site-packages/nose/plugins/manager.py\u001b[0m in \u001b[0;36m<module>\u001b[0;34m\u001b[0m\n\u001b[1;32m    416\u001b[0m \u001b[0;34m\u001b[0m\u001b[0m\n\u001b[1;32m    417\u001b[0m \u001b[0;32mtry\u001b[0m\u001b[0;34m:\u001b[0m\u001b[0;34m\u001b[0m\u001b[0;34m\u001b[0m\u001b[0m\n\u001b[0;32m--> 418\u001b[0;31m     \u001b[0;32mimport\u001b[0m \u001b[0mpkg_resources\u001b[0m\u001b[0;34m\u001b[0m\u001b[0;34m\u001b[0m\u001b[0m\n\u001b[0m\u001b[1;32m    419\u001b[0m     \u001b[0;32mclass\u001b[0m \u001b[0mDefaultPluginManager\u001b[0m\u001b[0;34m(\u001b[0m\u001b[0mEntryPointPluginManager\u001b[0m\u001b[0;34m,\u001b[0m \u001b[0mBuiltinPluginManager\u001b[0m\u001b[0;34m)\u001b[0m\u001b[0;34m:\u001b[0m\u001b[0;34m\u001b[0m\u001b[0;34m\u001b[0m\u001b[0m\n\u001b[1;32m    420\u001b[0m         \u001b[0;32mpass\u001b[0m\u001b[0;34m\u001b[0m\u001b[0;34m\u001b[0m\u001b[0m\n",
      "\u001b[0;32m~/anaconda3/lib/python3.7/site-packages/pkg_resources/__init__.py\u001b[0m in \u001b[0;36m<module>\u001b[0;34m\u001b[0m\n\u001b[1;32m   3124\u001b[0m \u001b[0;34m\u001b[0m\u001b[0m\n\u001b[1;32m   3125\u001b[0m \u001b[0;34m\u001b[0m\u001b[0m\n\u001b[0;32m-> 3126\u001b[0;31m \u001b[0;34m@\u001b[0m\u001b[0m_call_aside\u001b[0m\u001b[0;34m\u001b[0m\u001b[0;34m\u001b[0m\u001b[0m\n\u001b[0m\u001b[1;32m   3127\u001b[0m \u001b[0;32mdef\u001b[0m \u001b[0m_initialize_master_working_set\u001b[0m\u001b[0;34m(\u001b[0m\u001b[0;34m)\u001b[0m\u001b[0;34m:\u001b[0m\u001b[0;34m\u001b[0m\u001b[0;34m\u001b[0m\u001b[0m\n\u001b[1;32m   3128\u001b[0m     \"\"\"\n",
      "\u001b[0;32m~/anaconda3/lib/python3.7/site-packages/pkg_resources/__init__.py\u001b[0m in \u001b[0;36m_call_aside\u001b[0;34m(f, *args, **kwargs)\u001b[0m\n\u001b[1;32m   3108\u001b[0m \u001b[0;31m# from jaraco.functools 1.3\u001b[0m\u001b[0;34m\u001b[0m\u001b[0;34m\u001b[0m\u001b[0;34m\u001b[0m\u001b[0m\n\u001b[1;32m   3109\u001b[0m \u001b[0;32mdef\u001b[0m \u001b[0m_call_aside\u001b[0m\u001b[0;34m(\u001b[0m\u001b[0mf\u001b[0m\u001b[0;34m,\u001b[0m \u001b[0;34m*\u001b[0m\u001b[0margs\u001b[0m\u001b[0;34m,\u001b[0m \u001b[0;34m**\u001b[0m\u001b[0mkwargs\u001b[0m\u001b[0;34m)\u001b[0m\u001b[0;34m:\u001b[0m\u001b[0;34m\u001b[0m\u001b[0;34m\u001b[0m\u001b[0m\n\u001b[0;32m-> 3110\u001b[0;31m     \u001b[0mf\u001b[0m\u001b[0;34m(\u001b[0m\u001b[0;34m*\u001b[0m\u001b[0margs\u001b[0m\u001b[0;34m,\u001b[0m \u001b[0;34m**\u001b[0m\u001b[0mkwargs\u001b[0m\u001b[0;34m)\u001b[0m\u001b[0;34m\u001b[0m\u001b[0;34m\u001b[0m\u001b[0m\n\u001b[0m\u001b[1;32m   3111\u001b[0m     \u001b[0;32mreturn\u001b[0m \u001b[0mf\u001b[0m\u001b[0;34m\u001b[0m\u001b[0;34m\u001b[0m\u001b[0m\n\u001b[1;32m   3112\u001b[0m \u001b[0;34m\u001b[0m\u001b[0m\n",
      "\u001b[0;32m~/anaconda3/lib/python3.7/site-packages/pkg_resources/__init__.py\u001b[0m in \u001b[0;36m_initialize_master_working_set\u001b[0;34m()\u001b[0m\n\u001b[1;32m   3137\u001b[0m     \u001b[0mat\u001b[0m \u001b[0mtheir\u001b[0m \u001b[0mown\u001b[0m \u001b[0mrisk\u001b[0m\u001b[0;34m.\u001b[0m\u001b[0;34m\u001b[0m\u001b[0;34m\u001b[0m\u001b[0m\n\u001b[1;32m   3138\u001b[0m     \"\"\"\n\u001b[0;32m-> 3139\u001b[0;31m     \u001b[0mworking_set\u001b[0m \u001b[0;34m=\u001b[0m \u001b[0mWorkingSet\u001b[0m\u001b[0;34m.\u001b[0m\u001b[0m_build_master\u001b[0m\u001b[0;34m(\u001b[0m\u001b[0;34m)\u001b[0m\u001b[0;34m\u001b[0m\u001b[0;34m\u001b[0m\u001b[0m\n\u001b[0m\u001b[1;32m   3140\u001b[0m     \u001b[0m_declare_state\u001b[0m\u001b[0;34m(\u001b[0m\u001b[0;34m'object'\u001b[0m\u001b[0;34m,\u001b[0m \u001b[0mworking_set\u001b[0m\u001b[0;34m=\u001b[0m\u001b[0mworking_set\u001b[0m\u001b[0;34m)\u001b[0m\u001b[0;34m\u001b[0m\u001b[0;34m\u001b[0m\u001b[0m\n\u001b[1;32m   3141\u001b[0m \u001b[0;34m\u001b[0m\u001b[0m\n",
      "\u001b[0;32m~/anaconda3/lib/python3.7/site-packages/pkg_resources/__init__.py\u001b[0m in \u001b[0;36m_build_master\u001b[0;34m(cls)\u001b[0m\n\u001b[1;32m    570\u001b[0m         \u001b[0mPrepare\u001b[0m \u001b[0mthe\u001b[0m \u001b[0mmaster\u001b[0m \u001b[0mworking\u001b[0m \u001b[0mset\u001b[0m\u001b[0;34m.\u001b[0m\u001b[0;34m\u001b[0m\u001b[0;34m\u001b[0m\u001b[0m\n\u001b[1;32m    571\u001b[0m         \"\"\"\n\u001b[0;32m--> 572\u001b[0;31m         \u001b[0mws\u001b[0m \u001b[0;34m=\u001b[0m \u001b[0mcls\u001b[0m\u001b[0;34m(\u001b[0m\u001b[0;34m)\u001b[0m\u001b[0;34m\u001b[0m\u001b[0;34m\u001b[0m\u001b[0m\n\u001b[0m\u001b[1;32m    573\u001b[0m         \u001b[0;32mtry\u001b[0m\u001b[0;34m:\u001b[0m\u001b[0;34m\u001b[0m\u001b[0;34m\u001b[0m\u001b[0m\n\u001b[1;32m    574\u001b[0m             \u001b[0;32mfrom\u001b[0m \u001b[0m__main__\u001b[0m \u001b[0;32mimport\u001b[0m \u001b[0m__requires__\u001b[0m\u001b[0;34m\u001b[0m\u001b[0;34m\u001b[0m\u001b[0m\n",
      "\u001b[0;32m~/anaconda3/lib/python3.7/site-packages/pkg_resources/__init__.py\u001b[0m in \u001b[0;36m__init__\u001b[0;34m(self, entries)\u001b[0m\n\u001b[1;32m    563\u001b[0m \u001b[0;34m\u001b[0m\u001b[0m\n\u001b[1;32m    564\u001b[0m         \u001b[0;32mfor\u001b[0m \u001b[0mentry\u001b[0m \u001b[0;32min\u001b[0m \u001b[0mentries\u001b[0m\u001b[0;34m:\u001b[0m\u001b[0;34m\u001b[0m\u001b[0;34m\u001b[0m\u001b[0m\n\u001b[0;32m--> 565\u001b[0;31m             \u001b[0mself\u001b[0m\u001b[0;34m.\u001b[0m\u001b[0madd_entry\u001b[0m\u001b[0;34m(\u001b[0m\u001b[0mentry\u001b[0m\u001b[0;34m)\u001b[0m\u001b[0;34m\u001b[0m\u001b[0;34m\u001b[0m\u001b[0m\n\u001b[0m\u001b[1;32m    566\u001b[0m \u001b[0;34m\u001b[0m\u001b[0m\n\u001b[1;32m    567\u001b[0m     \u001b[0;34m@\u001b[0m\u001b[0mclassmethod\u001b[0m\u001b[0;34m\u001b[0m\u001b[0;34m\u001b[0m\u001b[0m\n",
      "\u001b[0;32m~/anaconda3/lib/python3.7/site-packages/pkg_resources/__init__.py\u001b[0m in \u001b[0;36madd_entry\u001b[0;34m(self, entry)\u001b[0m\n\u001b[1;32m    619\u001b[0m         \u001b[0mself\u001b[0m\u001b[0;34m.\u001b[0m\u001b[0mentry_keys\u001b[0m\u001b[0;34m.\u001b[0m\u001b[0msetdefault\u001b[0m\u001b[0;34m(\u001b[0m\u001b[0mentry\u001b[0m\u001b[0;34m,\u001b[0m \u001b[0;34m[\u001b[0m\u001b[0;34m]\u001b[0m\u001b[0;34m)\u001b[0m\u001b[0;34m\u001b[0m\u001b[0;34m\u001b[0m\u001b[0m\n\u001b[1;32m    620\u001b[0m         \u001b[0mself\u001b[0m\u001b[0;34m.\u001b[0m\u001b[0mentries\u001b[0m\u001b[0;34m.\u001b[0m\u001b[0mappend\u001b[0m\u001b[0;34m(\u001b[0m\u001b[0mentry\u001b[0m\u001b[0;34m)\u001b[0m\u001b[0;34m\u001b[0m\u001b[0;34m\u001b[0m\u001b[0m\n\u001b[0;32m--> 621\u001b[0;31m         \u001b[0;32mfor\u001b[0m \u001b[0mdist\u001b[0m \u001b[0;32min\u001b[0m \u001b[0mfind_distributions\u001b[0m\u001b[0;34m(\u001b[0m\u001b[0mentry\u001b[0m\u001b[0;34m,\u001b[0m \u001b[0;32mTrue\u001b[0m\u001b[0;34m)\u001b[0m\u001b[0;34m:\u001b[0m\u001b[0;34m\u001b[0m\u001b[0;34m\u001b[0m\u001b[0m\n\u001b[0m\u001b[1;32m    622\u001b[0m             \u001b[0mself\u001b[0m\u001b[0;34m.\u001b[0m\u001b[0madd\u001b[0m\u001b[0;34m(\u001b[0m\u001b[0mdist\u001b[0m\u001b[0;34m,\u001b[0m \u001b[0mentry\u001b[0m\u001b[0;34m,\u001b[0m \u001b[0;32mFalse\u001b[0m\u001b[0;34m)\u001b[0m\u001b[0;34m\u001b[0m\u001b[0;34m\u001b[0m\u001b[0m\n\u001b[1;32m    623\u001b[0m \u001b[0;34m\u001b[0m\u001b[0m\n",
      "\u001b[0;32m~/anaconda3/lib/python3.7/site-packages/pkg_resources/__init__.py\u001b[0m in \u001b[0;36mfind_on_path\u001b[0;34m(importer, path_item, only)\u001b[0m\n\u001b[1;32m   1966\u001b[0m         \u001b[0mfullpath\u001b[0m \u001b[0;34m=\u001b[0m \u001b[0mos\u001b[0m\u001b[0;34m.\u001b[0m\u001b[0mpath\u001b[0m\u001b[0;34m.\u001b[0m\u001b[0mjoin\u001b[0m\u001b[0;34m(\u001b[0m\u001b[0mpath_item\u001b[0m\u001b[0;34m,\u001b[0m \u001b[0mentry\u001b[0m\u001b[0;34m)\u001b[0m\u001b[0;34m\u001b[0m\u001b[0;34m\u001b[0m\u001b[0m\n\u001b[1;32m   1967\u001b[0m         \u001b[0mfactory\u001b[0m \u001b[0;34m=\u001b[0m \u001b[0mdist_factory\u001b[0m\u001b[0;34m(\u001b[0m\u001b[0mpath_item\u001b[0m\u001b[0;34m,\u001b[0m \u001b[0mentry\u001b[0m\u001b[0;34m,\u001b[0m \u001b[0monly\u001b[0m\u001b[0;34m)\u001b[0m\u001b[0;34m\u001b[0m\u001b[0;34m\u001b[0m\u001b[0m\n\u001b[0;32m-> 1968\u001b[0;31m         \u001b[0;32mfor\u001b[0m \u001b[0mdist\u001b[0m \u001b[0;32min\u001b[0m \u001b[0mfactory\u001b[0m\u001b[0;34m(\u001b[0m\u001b[0mfullpath\u001b[0m\u001b[0;34m)\u001b[0m\u001b[0;34m:\u001b[0m\u001b[0;34m\u001b[0m\u001b[0;34m\u001b[0m\u001b[0m\n\u001b[0m\u001b[1;32m   1969\u001b[0m             \u001b[0;32myield\u001b[0m \u001b[0mdist\u001b[0m\u001b[0;34m\u001b[0m\u001b[0;34m\u001b[0m\u001b[0m\n\u001b[1;32m   1970\u001b[0m \u001b[0;34m\u001b[0m\u001b[0m\n",
      "\u001b[0;32m~/anaconda3/lib/python3.7/site-packages/pkg_resources/__init__.py\u001b[0m in \u001b[0;36mdistributions_from_metadata\u001b[0;34m(path)\u001b[0m\n\u001b[1;32m   2036\u001b[0m     \u001b[0mentry\u001b[0m \u001b[0;34m=\u001b[0m \u001b[0mos\u001b[0m\u001b[0;34m.\u001b[0m\u001b[0mpath\u001b[0m\u001b[0;34m.\u001b[0m\u001b[0mbasename\u001b[0m\u001b[0;34m(\u001b[0m\u001b[0mpath\u001b[0m\u001b[0;34m)\u001b[0m\u001b[0;34m\u001b[0m\u001b[0;34m\u001b[0m\u001b[0m\n\u001b[1;32m   2037\u001b[0m     yield Distribution.from_location(\n\u001b[0;32m-> 2038\u001b[0;31m         \u001b[0mroot\u001b[0m\u001b[0;34m,\u001b[0m \u001b[0mentry\u001b[0m\u001b[0;34m,\u001b[0m \u001b[0mmetadata\u001b[0m\u001b[0;34m,\u001b[0m \u001b[0mprecedence\u001b[0m\u001b[0;34m=\u001b[0m\u001b[0mDEVELOP_DIST\u001b[0m\u001b[0;34m,\u001b[0m\u001b[0;34m\u001b[0m\u001b[0;34m\u001b[0m\u001b[0m\n\u001b[0m\u001b[1;32m   2039\u001b[0m     )\n\u001b[1;32m   2040\u001b[0m \u001b[0;34m\u001b[0m\u001b[0m\n",
      "\u001b[0;32m~/anaconda3/lib/python3.7/site-packages/pkg_resources/__init__.py\u001b[0m in \u001b[0;36mfrom_location\u001b[0;34m(cls, location, basename, metadata, **kw)\u001b[0m\n\u001b[1;32m   2493\u001b[0m         return cls(\n\u001b[1;32m   2494\u001b[0m             \u001b[0mlocation\u001b[0m\u001b[0;34m,\u001b[0m \u001b[0mmetadata\u001b[0m\u001b[0;34m,\u001b[0m \u001b[0mproject_name\u001b[0m\u001b[0;34m=\u001b[0m\u001b[0mproject_name\u001b[0m\u001b[0;34m,\u001b[0m \u001b[0mversion\u001b[0m\u001b[0;34m=\u001b[0m\u001b[0mversion\u001b[0m\u001b[0;34m,\u001b[0m\u001b[0;34m\u001b[0m\u001b[0;34m\u001b[0m\u001b[0m\n\u001b[0;32m-> 2495\u001b[0;31m             \u001b[0mpy_version\u001b[0m\u001b[0;34m=\u001b[0m\u001b[0mpy_version\u001b[0m\u001b[0;34m,\u001b[0m \u001b[0mplatform\u001b[0m\u001b[0;34m=\u001b[0m\u001b[0mplatform\u001b[0m\u001b[0;34m,\u001b[0m \u001b[0;34m**\u001b[0m\u001b[0mkw\u001b[0m\u001b[0;34m\u001b[0m\u001b[0;34m\u001b[0m\u001b[0m\n\u001b[0m\u001b[1;32m   2496\u001b[0m         )._reload_version()\n\u001b[1;32m   2497\u001b[0m \u001b[0;34m\u001b[0m\u001b[0m\n",
      "\u001b[0;32m~/anaconda3/lib/python3.7/site-packages/pkg_resources/__init__.py\u001b[0m in \u001b[0;36m_reload_version\u001b[0;34m(self)\u001b[0m\n\u001b[1;32m   2868\u001b[0m         \u001b[0mthe\u001b[0m \u001b[0mmetadata\u001b[0m \u001b[0mfile\u001b[0m \u001b[0mitself\u001b[0m \u001b[0minstead\u001b[0m \u001b[0mof\u001b[0m \u001b[0mthe\u001b[0m \u001b[0mfilename\u001b[0m\u001b[0;34m.\u001b[0m\u001b[0;34m\u001b[0m\u001b[0;34m\u001b[0m\u001b[0m\n\u001b[1;32m   2869\u001b[0m         \"\"\"\n\u001b[0;32m-> 2870\u001b[0;31m         \u001b[0mmd_version\u001b[0m \u001b[0;34m=\u001b[0m \u001b[0m_version_from_file\u001b[0m\u001b[0;34m(\u001b[0m\u001b[0mself\u001b[0m\u001b[0;34m.\u001b[0m\u001b[0m_get_metadata\u001b[0m\u001b[0;34m(\u001b[0m\u001b[0mself\u001b[0m\u001b[0;34m.\u001b[0m\u001b[0mPKG_INFO\u001b[0m\u001b[0;34m)\u001b[0m\u001b[0;34m)\u001b[0m\u001b[0;34m\u001b[0m\u001b[0;34m\u001b[0m\u001b[0m\n\u001b[0m\u001b[1;32m   2871\u001b[0m         \u001b[0;32mif\u001b[0m \u001b[0mmd_version\u001b[0m\u001b[0;34m:\u001b[0m\u001b[0;34m\u001b[0m\u001b[0;34m\u001b[0m\u001b[0m\n\u001b[1;32m   2872\u001b[0m             \u001b[0mself\u001b[0m\u001b[0;34m.\u001b[0m\u001b[0m_version\u001b[0m \u001b[0;34m=\u001b[0m \u001b[0mmd_version\u001b[0m\u001b[0;34m\u001b[0m\u001b[0;34m\u001b[0m\u001b[0m\n",
      "\u001b[0;32m~/anaconda3/lib/python3.7/site-packages/pkg_resources/__init__.py\u001b[0m in \u001b[0;36m_version_from_file\u001b[0;34m(lines)\u001b[0m\n\u001b[1;32m   2457\u001b[0m         \u001b[0;32mreturn\u001b[0m \u001b[0mline\u001b[0m\u001b[0;34m.\u001b[0m\u001b[0mlower\u001b[0m\u001b[0;34m(\u001b[0m\u001b[0;34m)\u001b[0m\u001b[0;34m.\u001b[0m\u001b[0mstartswith\u001b[0m\u001b[0;34m(\u001b[0m\u001b[0;34m'version:'\u001b[0m\u001b[0;34m)\u001b[0m\u001b[0;34m\u001b[0m\u001b[0;34m\u001b[0m\u001b[0m\n\u001b[1;32m   2458\u001b[0m     \u001b[0mversion_lines\u001b[0m \u001b[0;34m=\u001b[0m \u001b[0mfilter\u001b[0m\u001b[0;34m(\u001b[0m\u001b[0mis_version_line\u001b[0m\u001b[0;34m,\u001b[0m \u001b[0mlines\u001b[0m\u001b[0;34m)\u001b[0m\u001b[0;34m\u001b[0m\u001b[0;34m\u001b[0m\u001b[0m\n\u001b[0;32m-> 2459\u001b[0;31m     \u001b[0mline\u001b[0m \u001b[0;34m=\u001b[0m \u001b[0mnext\u001b[0m\u001b[0;34m(\u001b[0m\u001b[0miter\u001b[0m\u001b[0;34m(\u001b[0m\u001b[0mversion_lines\u001b[0m\u001b[0;34m)\u001b[0m\u001b[0;34m,\u001b[0m \u001b[0;34m''\u001b[0m\u001b[0;34m)\u001b[0m\u001b[0;34m\u001b[0m\u001b[0;34m\u001b[0m\u001b[0m\n\u001b[0m\u001b[1;32m   2460\u001b[0m     \u001b[0m_\u001b[0m\u001b[0;34m,\u001b[0m \u001b[0m_\u001b[0m\u001b[0;34m,\u001b[0m \u001b[0mvalue\u001b[0m \u001b[0;34m=\u001b[0m \u001b[0mline\u001b[0m\u001b[0;34m.\u001b[0m\u001b[0mpartition\u001b[0m\u001b[0;34m(\u001b[0m\u001b[0;34m':'\u001b[0m\u001b[0;34m)\u001b[0m\u001b[0;34m\u001b[0m\u001b[0;34m\u001b[0m\u001b[0m\n\u001b[1;32m   2461\u001b[0m     \u001b[0;32mreturn\u001b[0m \u001b[0msafe_version\u001b[0m\u001b[0;34m(\u001b[0m\u001b[0mvalue\u001b[0m\u001b[0;34m.\u001b[0m\u001b[0mstrip\u001b[0m\u001b[0;34m(\u001b[0m\u001b[0;34m)\u001b[0m\u001b[0;34m)\u001b[0m \u001b[0;32mor\u001b[0m \u001b[0;32mNone\u001b[0m\u001b[0;34m\u001b[0m\u001b[0;34m\u001b[0m\u001b[0m\n",
      "\u001b[0;32m~/anaconda3/lib/python3.7/site-packages/pkg_resources/__init__.py\u001b[0m in \u001b[0;36m_get_metadata\u001b[0;34m(self, name)\u001b[0m\n\u001b[1;32m   2647\u001b[0m     \u001b[0;32mdef\u001b[0m \u001b[0m_get_metadata\u001b[0m\u001b[0;34m(\u001b[0m\u001b[0mself\u001b[0m\u001b[0;34m,\u001b[0m \u001b[0mname\u001b[0m\u001b[0;34m)\u001b[0m\u001b[0;34m:\u001b[0m\u001b[0;34m\u001b[0m\u001b[0;34m\u001b[0m\u001b[0m\n\u001b[1;32m   2648\u001b[0m         \u001b[0;32mif\u001b[0m \u001b[0mself\u001b[0m\u001b[0;34m.\u001b[0m\u001b[0mhas_metadata\u001b[0m\u001b[0;34m(\u001b[0m\u001b[0mname\u001b[0m\u001b[0;34m)\u001b[0m\u001b[0;34m:\u001b[0m\u001b[0;34m\u001b[0m\u001b[0;34m\u001b[0m\u001b[0m\n\u001b[0;32m-> 2649\u001b[0;31m             \u001b[0;32mfor\u001b[0m \u001b[0mline\u001b[0m \u001b[0;32min\u001b[0m \u001b[0mself\u001b[0m\u001b[0;34m.\u001b[0m\u001b[0mget_metadata_lines\u001b[0m\u001b[0;34m(\u001b[0m\u001b[0mname\u001b[0m\u001b[0;34m)\u001b[0m\u001b[0;34m:\u001b[0m\u001b[0;34m\u001b[0m\u001b[0;34m\u001b[0m\u001b[0m\n\u001b[0m\u001b[1;32m   2650\u001b[0m                 \u001b[0;32myield\u001b[0m \u001b[0mline\u001b[0m\u001b[0;34m\u001b[0m\u001b[0;34m\u001b[0m\u001b[0m\n\u001b[1;32m   2651\u001b[0m \u001b[0;34m\u001b[0m\u001b[0m\n",
      "\u001b[0;32m~/anaconda3/lib/python3.7/site-packages/pkg_resources/__init__.py\u001b[0m in \u001b[0;36mget_metadata_lines\u001b[0;34m(self, name)\u001b[0m\n\u001b[1;32m   1412\u001b[0m \u001b[0;34m\u001b[0m\u001b[0m\n\u001b[1;32m   1413\u001b[0m     \u001b[0;32mdef\u001b[0m \u001b[0mget_metadata_lines\u001b[0m\u001b[0;34m(\u001b[0m\u001b[0mself\u001b[0m\u001b[0;34m,\u001b[0m \u001b[0mname\u001b[0m\u001b[0;34m)\u001b[0m\u001b[0;34m:\u001b[0m\u001b[0;34m\u001b[0m\u001b[0;34m\u001b[0m\u001b[0m\n\u001b[0;32m-> 1414\u001b[0;31m         \u001b[0;32mreturn\u001b[0m \u001b[0myield_lines\u001b[0m\u001b[0;34m(\u001b[0m\u001b[0mself\u001b[0m\u001b[0;34m.\u001b[0m\u001b[0mget_metadata\u001b[0m\u001b[0;34m(\u001b[0m\u001b[0mname\u001b[0m\u001b[0;34m)\u001b[0m\u001b[0;34m)\u001b[0m\u001b[0;34m\u001b[0m\u001b[0;34m\u001b[0m\u001b[0m\n\u001b[0m\u001b[1;32m   1415\u001b[0m \u001b[0;34m\u001b[0m\u001b[0m\n\u001b[1;32m   1416\u001b[0m     \u001b[0;32mdef\u001b[0m \u001b[0mresource_isdir\u001b[0m\u001b[0;34m(\u001b[0m\u001b[0mself\u001b[0m\u001b[0;34m,\u001b[0m \u001b[0mresource_name\u001b[0m\u001b[0;34m)\u001b[0m\u001b[0;34m:\u001b[0m\u001b[0;34m\u001b[0m\u001b[0;34m\u001b[0m\u001b[0m\n",
      "\u001b[0;32m~/anaconda3/lib/python3.7/site-packages/pkg_resources/__init__.py\u001b[0m in \u001b[0;36mget_metadata\u001b[0;34m(self, name)\u001b[0m\n\u001b[1;32m   1408\u001b[0m         \u001b[0;32mif\u001b[0m \u001b[0;32mnot\u001b[0m \u001b[0mself\u001b[0m\u001b[0;34m.\u001b[0m\u001b[0megg_info\u001b[0m\u001b[0;34m:\u001b[0m\u001b[0;34m\u001b[0m\u001b[0;34m\u001b[0m\u001b[0m\n\u001b[1;32m   1409\u001b[0m             \u001b[0;32mreturn\u001b[0m \u001b[0;34m\"\"\u001b[0m\u001b[0;34m\u001b[0m\u001b[0;34m\u001b[0m\u001b[0m\n\u001b[0;32m-> 1410\u001b[0;31m         \u001b[0mvalue\u001b[0m \u001b[0;34m=\u001b[0m \u001b[0mself\u001b[0m\u001b[0;34m.\u001b[0m\u001b[0m_get\u001b[0m\u001b[0;34m(\u001b[0m\u001b[0mself\u001b[0m\u001b[0;34m.\u001b[0m\u001b[0m_fn\u001b[0m\u001b[0;34m(\u001b[0m\u001b[0mself\u001b[0m\u001b[0;34m.\u001b[0m\u001b[0megg_info\u001b[0m\u001b[0;34m,\u001b[0m \u001b[0mname\u001b[0m\u001b[0;34m)\u001b[0m\u001b[0;34m)\u001b[0m\u001b[0;34m\u001b[0m\u001b[0;34m\u001b[0m\u001b[0m\n\u001b[0m\u001b[1;32m   1411\u001b[0m         \u001b[0;32mreturn\u001b[0m \u001b[0mvalue\u001b[0m\u001b[0;34m.\u001b[0m\u001b[0mdecode\u001b[0m\u001b[0;34m(\u001b[0m\u001b[0;34m'utf-8'\u001b[0m\u001b[0;34m)\u001b[0m \u001b[0;32mif\u001b[0m \u001b[0msix\u001b[0m\u001b[0;34m.\u001b[0m\u001b[0mPY3\u001b[0m \u001b[0;32melse\u001b[0m \u001b[0mvalue\u001b[0m\u001b[0;34m\u001b[0m\u001b[0;34m\u001b[0m\u001b[0m\n\u001b[1;32m   1412\u001b[0m \u001b[0;34m\u001b[0m\u001b[0m\n",
      "\u001b[0;32m~/anaconda3/lib/python3.7/site-packages/pkg_resources/__init__.py\u001b[0m in \u001b[0;36m_get\u001b[0;34m(self, path)\u001b[0m\n\u001b[1;32m   1521\u001b[0m     \u001b[0;32mdef\u001b[0m \u001b[0m_get\u001b[0m\u001b[0;34m(\u001b[0m\u001b[0mself\u001b[0m\u001b[0;34m,\u001b[0m \u001b[0mpath\u001b[0m\u001b[0;34m)\u001b[0m\u001b[0;34m:\u001b[0m\u001b[0;34m\u001b[0m\u001b[0;34m\u001b[0m\u001b[0m\n\u001b[1;32m   1522\u001b[0m         \u001b[0;32mwith\u001b[0m \u001b[0mopen\u001b[0m\u001b[0;34m(\u001b[0m\u001b[0mpath\u001b[0m\u001b[0;34m,\u001b[0m \u001b[0;34m'rb'\u001b[0m\u001b[0;34m)\u001b[0m \u001b[0;32mas\u001b[0m \u001b[0mstream\u001b[0m\u001b[0;34m:\u001b[0m\u001b[0;34m\u001b[0m\u001b[0;34m\u001b[0m\u001b[0m\n\u001b[0;32m-> 1523\u001b[0;31m             \u001b[0;32mreturn\u001b[0m \u001b[0mstream\u001b[0m\u001b[0;34m.\u001b[0m\u001b[0mread\u001b[0m\u001b[0;34m(\u001b[0m\u001b[0;34m)\u001b[0m\u001b[0;34m\u001b[0m\u001b[0;34m\u001b[0m\u001b[0m\n\u001b[0m\u001b[1;32m   1524\u001b[0m \u001b[0;34m\u001b[0m\u001b[0m\n\u001b[1;32m   1525\u001b[0m     \u001b[0;34m@\u001b[0m\u001b[0mclassmethod\u001b[0m\u001b[0;34m\u001b[0m\u001b[0;34m\u001b[0m\u001b[0m\n",
      "\u001b[0;31mKeyboardInterrupt\u001b[0m: "
     ]
    }
   ],
   "source": [
    "import requests\n",
    "from bs4 import BeautifulSoup\n",
    "import pandas as pd\n",
    "import numpy as np\n",
    "import re\n",
    "from os import path\n",
    "from PIL import Image\n",
    "from wordcloud import WordCloud, STOPWORDS, ImageColorGenerator\n",
    "import matplotlib.pyplot as plt\n",
    "import seaborn as sns\n",
    "from sklearn.model_selection import train_test_split\n",
    "from sklearn.neighbors import KNeighborsClassifier\n",
    "from sklearn import metrics\n",
    "from sklearn.model_selection import cross_val_score\n",
    "from sklearn.svm import SVC\n",
    "from sklearn.metrics import classification_report\n",
    "from sklearn.linear_model import LogisticRegression\n",
    "from sklearn.naive_bayes import GaussianNB\n",
    "from sklearn.tree import DecisionTreeClassifier\n",
    "from sklearn.ensemble import RandomForestClassifier\n",
    "from sklearn.metrics import classification_report, confusion_matrix\n",
    "from sklearn.model_selection import GridSearchCV\n",
    "import itertools \n",
    "from sklearn.feature_extraction.text import CountVectorizer\n",
    "from sklearn.feature_extraction.text import HashingVectorizer, TfidfVectorizer\n",
    "from sklearn.pipeline import make_pipeline\n",
    "from sklearn.metrics import accuracy_score\n",
    "% matplotlib inline\n",
    "from sklearn.feature_extraction.text import TfidfVectorizer\n",
    "from sklearn.feature_extraction.text import ENGLISH_STOP_WORDS\n",
    "from nltk.corpus import stopwords\n",
    "import gensim\n",
    "from sklearn.datasets import fetch_20newsgroups\n",
    "from gensim.utils import simple_preprocess\n",
    "from gensim.parsing.preprocessing import STOPWORDS\n",
    "from nltk.stem import WordNetLemmatizer, SnowballStemmer\n",
    "from nltk.stem.snowball import SnowballStemmer\n",
    "from nltk.stem.porter import *\n",
    "import numpy as np\n",
    "from sklearn.externals.six import StringIO  \n",
    "from IPython.display import Image  \n",
    "from sklearn.tree import export_graphviz\n",
    "import pydotplus\n",
    "from sklearn.metrics import classification_report\n",
    "from sklearn.utils.multiclass import unique_labels\n",
    "np.random.seed(400)\n",
    "import pyLDAvis.gensim\n",
    "from textblob import TextBlob, Word\n",
    "pd.set_option('display.max_rows', 2000)\n",
    "import datetime as pydt\n",
    "import warnings\n",
    "warnings.filterwarnings(\"ignore\")"
   ]
  },
  {
   "cell_type": "markdown",
   "metadata": {},
   "source": [
    "# Web scraping"
   ]
  },
  {
   "cell_type": "markdown",
   "metadata": {},
   "source": [
    "Let's go to 'seek.com' scrape job advertisements related to 'Data Analyst' or 'Data Scientist' in Sydney and Melbourne.\n",
    "\n",
    " Info to scrape:\n",
    "- job title\n",
    "- company \n",
    "- rating \n",
    "- date\n",
    "- city\n",
    "- suburb\n",
    "- salary\n",
    "- work type\n",
    "- industry\n",
    "- subindustry\n",
    "- job description\n"
   ]
  },
  {
   "cell_type": "code",
   "execution_count": 30,
   "metadata": {
    "scrolled": true
   },
   "outputs": [],
   "source": [
    "#scrape all \"DATA SCIENTIST\" in Sydney advertisements\n",
    "df_datasci_syd = pd.DataFrame()\n",
    "data = []\n",
    "basic_url = 'https://www.seek.com.au/DATA-SCIENTIST-jobs/in-All-Sydney-NSW?page='\n",
    "for i in range(1, 10):\n",
    "    website = basic_url + str(i)\n",
    "    res = requests.get(website)\n",
    "    soup = BeautifulSoup(res.content, 'lxml')\n",
    "\n",
    "    for a_tag in soup.find_all('a', {\"class\":\"_2iNL7wI\"}):\n",
    "        url_part_1 = 'https://www.seek.com.au'\n",
    "        url_part_2 = a_tag.get('href')\n",
    "        url = str(url_part_1) + str(url_part_2)\n",
    "        res = requests.get(url)\n",
    "        soup = BeautifulSoup(res.content, 'lxml')\n",
    "    \n",
    "        row = {}\n",
    "        row['Title'] =  soup.find('span', {\"class\":\"_3FrNV7v _12_uzrS E6m4BZb\"}).text\n",
    "        \n",
    "        if soup.find('span', {\"class\":\"_3FrNV7v _2QG7TNq E6m4BZb\"}) is None:\n",
    "            company = 'NA'\n",
    "        else:\n",
    "            company = soup.find('span', {\"class\":\"_3FrNV7v _2QG7TNq E6m4BZb\"}).text\n",
    "        row['Company'] = company\n",
    "        \n",
    "        if soup.find('span', {\"class\":\"_1erK2ob\"}) is None:\n",
    "            rating = 'NA'\n",
    "        else:\n",
    "            rating = soup.find('span', {\"class\":\"_1erK2ob\"}).text\n",
    "        row['Rating'] = rating\n",
    "        \n",
    "        row['Date'] = soup.find_all('span', {\"class\":\"lwHBT6d\"})[1].text\n",
    "        row['Location'] = soup.find_all('strong', {\"class\":\"lwHBT6d\"})[1].text\n",
    "        row['Sublocation'] = soup.find('span', {\"class\":\"eBOHjGN\"}).text\n",
    "        row['Salary'] = soup.find_all('span', {\"class\":\"lwHBT6d\"})[2].text\n",
    "        row['Work type'] = soup.find_all('span', {\"class\":\"lwHBT6d\"})[-1].text\n",
    "        row['Industry'] = soup.find_all('strong', {\"class\":\"lwHBT6d\"})[-1].text\n",
    "        row['Subindustry'] = soup.find_all('span', {\"class\":\"eBOHjGN\"})[1].text\n",
    "        row['Description'] = soup.find('div', {\"data-automation\":\"mobileTemplate\"}).text\n",
    "        data.append(row)\n",
    "    \n",
    "\n",
    "df_datasci_syd = pd.DataFrame(data)"
   ]
  },
  {
   "cell_type": "code",
   "execution_count": 34,
   "metadata": {},
   "outputs": [],
   "source": [
    "#scrape all \"DATA ANALYST\" in Sydney advertisements\n",
    "df_data_anal_syd = pd.DataFrame()\n",
    "data = []\n",
    "basic_url = 'https://www.seek.com.au/DATA-ANALYST-jobs/in-All-Sydney-NSW?page='\n",
    "for i in range(1, 201):\n",
    "    website = basic_url + str(i)\n",
    "    res = requests.get(website)\n",
    "    soup = BeautifulSoup(res.content, 'lxml')\n",
    "\n",
    "    for a_tag in soup.find_all('a', {\"class\":\"_2iNL7wI\"}):\n",
    "        url_part_1 = 'https://www.seek.com.au'\n",
    "        url_part_2 = a_tag.get('href')\n",
    "        url = str(url_part_1) + str(url_part_2)\n",
    "        res = requests.get(url)\n",
    "        soup = BeautifulSoup(res.content, 'lxml')\n",
    "    \n",
    "        row = {}\n",
    "        row['Title'] =  soup.find('span', {\"class\":\"_3FrNV7v _12_uzrS E6m4BZb\"}).text\n",
    "        \n",
    "        if soup.find('span', {\"class\":\"_3FrNV7v _2QG7TNq E6m4BZb\"}) is None:\n",
    "            company = 'NA'\n",
    "        else:\n",
    "            company = soup.find('span', {\"class\":\"_3FrNV7v _2QG7TNq E6m4BZb\"}).text\n",
    "        row['Company'] = company\n",
    "        \n",
    "        if soup.find('span', {\"class\":\"_1erK2ob\"}) is None:\n",
    "            rating = 'NA'\n",
    "        else:\n",
    "            rating = soup.find('span', {\"class\":\"_1erK2ob\"}).text\n",
    "        row['Rating'] = rating\n",
    "        \n",
    "        row['Date'] = soup.find_all('span', {\"class\":\"lwHBT6d\"})[1].text\n",
    "        row['Location'] = soup.find_all('strong', {\"class\":\"lwHBT6d\"})[1].text\n",
    "        row['Sublocation'] = soup.find('span', {\"class\":\"eBOHjGN\"}).text\n",
    "        row['Salary'] = soup.find_all('span', {\"class\":\"lwHBT6d\"})[2].text\n",
    "        row['Work type'] = soup.find_all('span', {\"class\":\"lwHBT6d\"})[-1].text\n",
    "        row['Industry'] = soup.find_all('strong', {\"class\":\"lwHBT6d\"})[-1].text\n",
    "        row['Subindustry'] = soup.find_all('span', {\"class\":\"eBOHjGN\"})[1].text\n",
    "        row['Description'] = soup.find('div', {\"data-automation\":\"mobileTemplate\"}).text\n",
    "        data.append(row)\n",
    "    \n",
    "\n",
    "df_data_anal_syd = pd.DataFrame(data)"
   ]
  },
  {
   "cell_type": "code",
   "execution_count": 37,
   "metadata": {},
   "outputs": [],
   "source": [
    "#scrape all \"DATA SCIENTIST\" in Melbourne advertisements\n",
    "df_datasci_mel = pd.DataFrame()\n",
    "data = []\n",
    "basic_url = 'https://www.seek.com.au/DATA-SCIENTIST-jobs/in-All-Melbourne-VIC?page='\n",
    "for i in range(1, 6):\n",
    "    website = basic_url + str(i)\n",
    "    res = requests.get(website)\n",
    "    soup = BeautifulSoup(res.content, 'lxml')\n",
    "\n",
    "    for a_tag in soup.find_all('a', {\"class\":\"_2iNL7wI\"}):\n",
    "        url_part_1 = 'https://www.seek.com.au'\n",
    "        url_part_2 = a_tag.get('href')\n",
    "        url = str(url_part_1) + str(url_part_2)\n",
    "        res = requests.get(url)\n",
    "        soup = BeautifulSoup(res.content, 'lxml')\n",
    "    \n",
    "        row = {}\n",
    "        row['Title'] =  soup.find('span', {\"class\":\"_3FrNV7v _12_uzrS E6m4BZb\"}).text\n",
    "        \n",
    "        if soup.find('span', {\"class\":\"_3FrNV7v _2QG7TNq E6m4BZb\"}) is None:\n",
    "            company = 'NA'\n",
    "        else:\n",
    "            company = soup.find('span', {\"class\":\"_3FrNV7v _2QG7TNq E6m4BZb\"}).text\n",
    "        row['Company'] = company\n",
    "        \n",
    "        if soup.find('span', {\"class\":\"_1erK2ob\"}) is None:\n",
    "            rating = 'NA'\n",
    "        else:\n",
    "            rating = soup.find('span', {\"class\":\"_1erK2ob\"}).text\n",
    "        row['Rating'] = rating\n",
    "        \n",
    "        row['Date'] = soup.find_all('span', {\"class\":\"lwHBT6d\"})[1].text\n",
    "        row['Location'] = soup.find_all('strong', {\"class\":\"lwHBT6d\"})[1].text\n",
    "        row['Sublocation'] = soup.find('span', {\"class\":\"eBOHjGN\"}).text\n",
    "        row['Salary'] = soup.find_all('span', {\"class\":\"lwHBT6d\"})[2].text\n",
    "        row['Work type'] = soup.find_all('span', {\"class\":\"lwHBT6d\"})[-1].text\n",
    "        row['Industry'] = soup.find_all('strong', {\"class\":\"lwHBT6d\"})[-1].text\n",
    "        row['Subindustry'] = soup.find_all('span', {\"class\":\"eBOHjGN\"})[1].text\n",
    "        row['Description'] = soup.find('div', {\"data-automation\":\"mobileTemplate\"}).text\n",
    "        data.append(row)\n",
    "    \n",
    "\n",
    "df_datasci_mel = pd.DataFrame(data)"
   ]
  },
  {
   "cell_type": "code",
   "execution_count": 51,
   "metadata": {},
   "outputs": [],
   "source": [
    "#scrape all \"DATA ANALYST\" in Melbourne advertisements\n",
    "df_data_anal_mel = pd.DataFrame()\n",
    "data = []\n",
    "basic_url = 'https://www.seek.com.au/DATA-ANALYST-jobs/in-All-Melbourne-VIC?page='\n",
    "for i in range(1, 168):\n",
    "    website = basic_url + str(i)\n",
    "    res = requests.get(website)\n",
    "    soup = BeautifulSoup(res.content, 'lxml')\n",
    "\n",
    "    for a_tag in soup.find_all('a', {\"class\":\"_2iNL7wI\"}):\n",
    "        url_part_1 = 'https://www.seek.com.au'\n",
    "        url_part_2 = a_tag.get('href')\n",
    "        url = str(url_part_1) + str(url_part_2)\n",
    "        res = requests.get(url)\n",
    "        soup = BeautifulSoup(res.content, 'lxml')\n",
    "    \n",
    "        row = {}\n",
    "        \n",
    "        if soup.find('span', {\"class\":\"_3FrNV7v _12_uzrS E6m4BZb\"}) is None:\n",
    "            title = 'NA'\n",
    "        else:\n",
    "            title = soup.find('span', {\"class\":\"_3FrNV7v _12_uzrS E6m4BZb\"}).text\n",
    "        row['Title'] =  title\n",
    "        \n",
    "        \n",
    "        if soup.find('span', {\"class\":\"_3FrNV7v _2QG7TNq E6m4BZb\"}) is None:\n",
    "            company = 'NA'\n",
    "        else:\n",
    "            company = soup.find('span', {\"class\":\"_3FrNV7v _2QG7TNq E6m4BZb\"}).text\n",
    "        row['Company'] = company\n",
    "        \n",
    "        \n",
    "        if soup.find('span', {\"class\":\"_1erK2ob\"}) is None:\n",
    "            rating = 'NA'\n",
    "        else:\n",
    "            rating = soup.find('span', {\"class\":\"_1erK2ob\"}).text\n",
    "        row['Rating'] = rating    \n",
    "        \n",
    "        \n",
    "        if soup.find_all('strong', {\"class\":\"lwHBT6d\"}) is None:\n",
    "            date = 'NA'\n",
    "        else:\n",
    "            date = soup.find_all('span', {\"class\":\"lwHBT6d\"})[1].text\n",
    "        row['Date'] = date\n",
    "        \n",
    "        \n",
    "        row['Location'] = soup.find_all('strong', {\"class\":\"lwHBT6d\"})[1].text\n",
    "        row['Sublocation'] = soup.find('span', {\"class\":\"eBOHjGN\"}).text\n",
    "        row['Salary'] = soup.find_all('span', {\"class\":\"lwHBT6d\"})[2].text\n",
    "        row['Work type'] = soup.find_all('span', {\"class\":\"lwHBT6d\"})[-1].text\n",
    "        row['Industry'] = soup.find_all('strong', {\"class\":\"lwHBT6d\"})[-1].text\n",
    "        row['Subindustry'] = soup.find_all('span', {\"class\":\"eBOHjGN\"})[1].text\n",
    "        row['Description'] = soup.find('div', {\"data-automation\":\"mobileTemplate\"}).text\n",
    "        data.append(row)\n",
    "    \n",
    "\n",
    "df_data_anal_mel = pd.DataFrame(data)"
   ]
  },
  {
   "cell_type": "code",
   "execution_count": 1723,
   "metadata": {},
   "outputs": [],
   "source": [
    "# add a column for the search term\n",
    "df_datasci_syd['Search term'] = 'Data Scientist'\n",
    "df_data_anal_syd['Search term'] = 'Data Analyst'\n",
    "df_datasci_mel['Search term'] = 'Data Scientist'\n",
    "df_data_anal_mel['Search term'] = 'Data Analyst'"
   ]
  },
  {
   "cell_type": "code",
   "execution_count": 1730,
   "metadata": {},
   "outputs": [
    {
     "name": "stdout",
     "output_type": "stream",
     "text": [
      "Data science in Sydney:  (180, 12)\n",
      "Data analysis in Sydney:  (4004, 12)\n",
      "Data science in Melbourne:  (103, 12)\n",
      "Data analysis in Melbourne:  (3210, 12)\n"
     ]
    }
   ],
   "source": [
    "# investigate shapes of scraped info:\n",
    "print('Data science in Sydney: ',df_datasci_syd.shape)\n",
    "print('Data analysis in Sydney: ',df_data_anal_syd.shape)\n",
    "print('Data science in Melbourne: ',df_datasci_mel.shape)\n",
    "print('Data analysis in Melbourne: ',df_data_anal_mel.shape)"
   ]
  },
  {
   "cell_type": "code",
   "execution_count": 1989,
   "metadata": {},
   "outputs": [],
   "source": [
    "# concatenate dataframes\n",
    "df = pd.concat([df_data_anal_syd, df_datasci_syd, df_data_anal_mel, df_datasci_mel])"
   ]
  },
  {
   "cell_type": "code",
   "execution_count": 1997,
   "metadata": {},
   "outputs": [],
   "source": [
    "# drop duplicate rows\n",
    "df.drop_duplicates(subset =['Company', 'Description', 'Location', 'Salary', 'Sublocation', 'Title', 'Work type'], \n",
    "                   inplace=True) "
   ]
  },
  {
   "cell_type": "code",
   "execution_count": 1998,
   "metadata": {},
   "outputs": [
    {
     "data": {
      "text/plain": [
       "(5254, 12)"
      ]
     },
     "execution_count": 1998,
     "metadata": {},
     "output_type": "execute_result"
    }
   ],
   "source": [
    "df.shape"
   ]
  },
  {
   "cell_type": "markdown",
   "metadata": {},
   "source": [
    "2243 duplicates were dropped!"
   ]
  },
  {
   "cell_type": "code",
   "execution_count": 1990,
   "metadata": {},
   "outputs": [],
   "source": [
    "# reset index\n",
    "df.reset_index(drop=True, inplace=True)"
   ]
  },
  {
   "cell_type": "markdown",
   "metadata": {},
   "source": [
    "# Cleaning"
   ]
  },
  {
   "cell_type": "code",
   "execution_count": 10,
   "metadata": {},
   "outputs": [
    {
     "data": {
      "text/html": [
       "<div>\n",
       "<style scoped>\n",
       "    .dataframe tbody tr th:only-of-type {\n",
       "        vertical-align: middle;\n",
       "    }\n",
       "\n",
       "    .dataframe tbody tr th {\n",
       "        vertical-align: top;\n",
       "    }\n",
       "\n",
       "    .dataframe thead th {\n",
       "        text-align: right;\n",
       "    }\n",
       "</style>\n",
       "<table border=\"1\" class=\"dataframe\">\n",
       "  <thead>\n",
       "    <tr style=\"text-align: right;\">\n",
       "      <th></th>\n",
       "      <th>Location</th>\n",
       "      <th>Title</th>\n",
       "      <th>Work type</th>\n",
       "      <th>Industry</th>\n",
       "      <th>Salary</th>\n",
       "    </tr>\n",
       "  </thead>\n",
       "  <tbody>\n",
       "    <tr>\n",
       "      <th>0</th>\n",
       "      <td>Sydney</td>\n",
       "      <td>Data Analyst (Digital)</td>\n",
       "      <td>Contract/Temp</td>\n",
       "      <td>Information &amp; Communication Technology</td>\n",
       "      <td>$60,000 - $70,000 plus Super</td>\n",
       "    </tr>\n",
       "    <tr>\n",
       "      <th>1</th>\n",
       "      <td>Sydney</td>\n",
       "      <td>Junior Data and Reporting Analyst</td>\n",
       "      <td>Full Time</td>\n",
       "      <td>Information &amp; Communication Technology</td>\n",
       "      <td>$60k - $66k p.a.</td>\n",
       "    </tr>\n",
       "    <tr>\n",
       "      <th>2</th>\n",
       "      <td>Sydney</td>\n",
       "      <td>CRM Data Analyst</td>\n",
       "      <td>Contract/Temp</td>\n",
       "      <td>Information &amp; Communication Technology</td>\n",
       "      <td>NaN</td>\n",
       "    </tr>\n",
       "    <tr>\n",
       "      <th>3</th>\n",
       "      <td>Sydney</td>\n",
       "      <td>Junior Data Analyst</td>\n",
       "      <td>Full Time</td>\n",
       "      <td>Real Estate &amp; Property</td>\n",
       "      <td>NaN</td>\n",
       "    </tr>\n",
       "    <tr>\n",
       "      <th>4</th>\n",
       "      <td>Sydney</td>\n",
       "      <td>Data Analyst</td>\n",
       "      <td>Contract/Temp</td>\n",
       "      <td>Information &amp; Communication Technology</td>\n",
       "      <td>$550 - $600.00 per day</td>\n",
       "    </tr>\n",
       "  </tbody>\n",
       "</table>\n",
       "</div>"
      ],
      "text/plain": [
       "  Location                              Title      Work type  \\\n",
       "0   Sydney             Data Analyst (Digital)  Contract/Temp   \n",
       "1   Sydney  Junior Data and Reporting Analyst      Full Time   \n",
       "2   Sydney                   CRM Data Analyst  Contract/Temp   \n",
       "3   Sydney                Junior Data Analyst      Full Time   \n",
       "4   Sydney                       Data Analyst  Contract/Temp   \n",
       "\n",
       "                                 Industry                        Salary  \n",
       "0  Information & Communication Technology  $60,000 - $70,000 plus Super  \n",
       "1  Information & Communication Technology              $60k - $66k p.a.  \n",
       "2  Information & Communication Technology                           NaN  \n",
       "3                  Real Estate & Property                           NaN  \n",
       "4  Information & Communication Technology        $550 - $600.00 per day  "
      ]
     },
     "execution_count": 10,
     "metadata": {},
     "output_type": "execute_result"
    }
   ],
   "source": [
    "# let's just focus on the interesting columns\n",
    "df = pd.read_csv('scraped_ads.csv')[['Location', 'Title', 'Work type', 'Industry', 'Salary']]\n",
    "\n",
    "# take a peek at the dataframe\n",
    "df.head()"
   ]
  },
  {
   "cell_type": "markdown",
   "metadata": {},
   "source": [
    "## Cleaning 'Salary'"
   ]
  },
  {
   "cell_type": "markdown",
   "metadata": {},
   "source": [
    "The salary column is very messy!! Some values are non-numerical, some values are ambiguous, some values contain a range, etc!\n",
    "\n",
    "Plan of attack:\n",
    "1. Isolate numerical salary info (i.e. reject ambiguous salary info like \"competitive package\")\n",
    "2. Classify salary info as 'yearly', 'weekly, 'daily' or 'hourly.\n",
    "3. Extract average salary from 'yearly' pay info\n",
    "4. Extract average salary from 'weekly' pay info\n",
    "5. Extract average salary from 'daily' pay info\n",
    "6. Extract average salary from 'hourly' pay info\n",
    "7. Combine all of this information into a 'clean salary' column\n",
    "\n",
    "\n",
    "Let's go!"
   ]
  },
  {
   "cell_type": "markdown",
   "metadata": {},
   "source": [
    "### Isolating numerical salary info"
   ]
  },
  {
   "cell_type": "code",
   "execution_count": 1884,
   "metadata": {},
   "outputs": [],
   "source": [
    "# create a new salary column from which we'll work on\n",
    "df['Salary_2'] = df['Salary']"
   ]
  },
  {
   "cell_type": "code",
   "execution_count": 1885,
   "metadata": {},
   "outputs": [],
   "source": [
    "# create a function that keeps numerical info and converts non-numerical info into 'NA'\n",
    "def keep_numerical(salary_info):\n",
    "    if salary_info == 'Lucrative Perm Role. ASX top 50 Client. Sydney CBD':\n",
    "        return 'NA'\n",
    "    elif salary_info == 'Please call Adrian Zanatta at u&u on 02 8245 7913':\n",
    "        return 'NA'\n",
    "    elif salary_info == 'Call Brittney Nielsen on 9270 2617':\n",
    "        return 'NA'\n",
    "    elif salary_info == 'Pro rata (0.5 FTE)':\n",
    "        return 'NA'\n",
    "    elif salary_info == 'Contact Sherri Hodson on 0402 618 969':\n",
    "        return 'NA'\n",
    "    elif salary_info == 'Attractive Salary + 10% Superannuation ':\n",
    "        return 'NA'\n",
    "    elif salary_info == 'Up to $0.00 p.a':\n",
    "        return 'NA'\n",
    "    elif salary_info == 'Generous base salary + 20% bonus':\n",
    "        return 'NA'\n",
    "    elif salary_info == '0':\n",
    "        return 'NA'\n",
    "    elif salary_info == 'Up to $0.00 p.a.':\n",
    "        return 'NA'\n",
    "    elif salary_info == 'Attractive Salary + 10% Superannuation':\n",
    "        return 'NA'\n",
    "    elif salary_info == 'Up to 10% discounts across the Group. ':\n",
    "        return 'NA'\n",
    "    elif salary_info == 'BASE + INCENTIVE TO 80% + SHARES + TRAVEL':\n",
    "        return 'NA'\n",
    "    elif (str(0) or str(1) or str(2) or str(3) or str(4) or str(5) or str(6) or str(7) or str(8) or str(9)) in salary_info:\n",
    "        return salary_info\n",
    "    else:\n",
    "        return 'NA'\n",
    "    \n",
    "# note to self: this code could be improved by using regular expressions\n"
   ]
  },
  {
   "cell_type": "code",
   "execution_count": 1886,
   "metadata": {},
   "outputs": [],
   "source": [
    "# apply this function to 'Salary_2'\n",
    "df['Salary_2'] = df['Salary_2'].apply(keep_numerical)"
   ]
  },
  {
   "cell_type": "markdown",
   "metadata": {},
   "source": [
    "### Classifying salary frequency"
   ]
  },
  {
   "cell_type": "code",
   "execution_count": 1888,
   "metadata": {},
   "outputs": [],
   "source": [
    "# create a function that determines if pay info is given on an hourly, daily, weekly, or yearly basis\n",
    "def pay_info(salary_info):\n",
    "    if salary_info == 'NA':\n",
    "        return 'NA'\n",
    "\n",
    "    if 'per day' in salary_info.lower():\n",
    "        return 'daily'\n",
    "    if 'p.d.' in salary_info.lower():\n",
    "        return 'daily'\n",
    "    if 'pd' in salary_info.lower():\n",
    "        return 'daily'\n",
    "    if 'day' in salary_info.lower():\n",
    "        return 'daily'\n",
    "    if 'p/d' in salary_info.lower():\n",
    "        return 'daily'\n",
    "    if 'daily' in salary_info.lower():\n",
    "        return 'daily'\n",
    "    if '700− 1k p.d. + competitive' in salary_info.lower():\n",
    "        return 'daily'  \n",
    "    if salary_info == '$700 - $1000 per day':\n",
    "        return 'daily'   \n",
    "\n",
    "    \n",
    "    if 'p.w.' in salary_info.lower():\n",
    "        return 'weekly'\n",
    "    \n",
    "    \n",
    "    if '0k' in salary_info.lower():\n",
    "        return 'yearly'\n",
    "    if '000' in salary_info:\n",
    "        return 'yearly'\n",
    "    if 'pa' in salary_info.lower():\n",
    "        return 'yearly'\n",
    "    if 'p.a.' in salary_info.lower():\n",
    "        return 'yearly'\n",
    "    if 'annum' in salary_info.lower():\n",
    "        return 'yearly'\n",
    "    if bool(re.search('[0-9]{2}[-][0-9]{2}[\\s][+][\\s]', salary_info)):\n",
    "        return 'yearly'    \n",
    "    if salary_info == '$50 - $75 + SUPER':\n",
    "        return 'yearly'\n",
    "\n",
    "\n",
    "    if 'p.h.' in salary_info.lower():\n",
    "        return 'hourly'\n",
    "    if 'hour' in salary_info.lower():\n",
    "        return 'hourly'\n",
    "    if '0ph ' in salary_info.lower():\n",
    "        return 'hourly'\n",
    "    if ' ph ' in salary_info.lower():\n",
    "        return 'hourly'\n",
    "    if 'p/h' in salary_info.lower():\n",
    "        return 'hourly'\n",
    "    if '/hr' in salary_info.lower():\n",
    "        return 'hourly'\n",
    "    if ' ph' in salary_info.lower():\n",
    "        return 'hourly'\n",
    "  \n",
    "    else:\n",
    "        return 'daily'\n",
    "\n"
   ]
  },
  {
   "cell_type": "code",
   "execution_count": 1889,
   "metadata": {},
   "outputs": [],
   "source": [
    "# apply this function to salary\n",
    "df['Pay Info'] = df['Salary_2'].apply(pay_info)"
   ]
  },
  {
   "cell_type": "markdown",
   "metadata": {},
   "source": [
    "### Extracting average salary from 'yearly' pay info"
   ]
  },
  {
   "cell_type": "code",
   "execution_count": 1891,
   "metadata": {},
   "outputs": [],
   "source": [
    "# create a column for pay information that is given on a yearly basis\n",
    "df['yearly rate'] = np.where(df['Pay Info'] == 'yearly', df['Salary'], '0')"
   ]
  },
  {
   "cell_type": "code",
   "execution_count": 1892,
   "metadata": {},
   "outputs": [],
   "source": [
    "# create a function to extract the minimum salary\n",
    "def yearly_rate_min(rate):\n",
    "    if '-' in rate:\n",
    "        minimum = re.sub(\"[^0-9]\", \"\", rate.split('-')[0])\n",
    "    else:\n",
    "        minimum = re.sub(\"[^0-9]\", \"\", rate)\n",
    "    return minimum"
   ]
  },
  {
   "cell_type": "code",
   "execution_count": 1893,
   "metadata": {},
   "outputs": [],
   "source": [
    "# create a function to extract the maximum salary\n",
    "def yearly_rate_max(rate):\n",
    "    if rate == 'Up to $65,000 + Super - negotiable':\n",
    "        maximum = '65000'    \n",
    "    elif '-' in rate:\n",
    "        maximum = re.sub(\"[^0-9]\", \"\", rate.split('-')[1])\n",
    "    else:\n",
    "        maximum = re.sub(\"[^0-9]\", \"\", rate)\n",
    "    return maximum"
   ]
  },
  {
   "cell_type": "code",
   "execution_count": 1894,
   "metadata": {},
   "outputs": [],
   "source": [
    "# apply the above formulas to create a salary max and min column, converting to float to enable calculations later on\n",
    "df['yearly min'] = df['yearly rate'].apply(yearly_rate_min)\n",
    "df['yearly min'] = df['yearly min'].astype(float)\n",
    "\n",
    "df['yearly max'] = df['yearly rate'].apply(yearly_rate_max)\n",
    "df['yearly max'] = df['yearly max'].astype(float)"
   ]
  },
  {
   "cell_type": "code",
   "execution_count": 1896,
   "metadata": {},
   "outputs": [],
   "source": [
    "# create a function that corrects the number of zeroes given in the salary\n",
    "def correct_zeroes(salary_info):\n",
    "    if salary_info < 400:\n",
    "        salary = salary_info * 1000      \n",
    "    elif salary_info > 1000000:\n",
    "        salary = salary_info / 100\n",
    "    else:\n",
    "        salary = salary_info\n",
    "    return salary"
   ]
  },
  {
   "cell_type": "code",
   "execution_count": 1897,
   "metadata": {},
   "outputs": [],
   "source": [
    "# correct the salar columns using this function\n",
    "df['yearly min'] = df['yearly min'].apply(correct_zeroes)\n",
    "df['yearly max'] = df['yearly max'].apply(correct_zeroes)\n",
    "\n",
    "#now, create a column for average salary\n",
    "df['yearly average'] = (df['yearly max'] + df['yearly min']) /2"
   ]
  },
  {
   "cell_type": "markdown",
   "metadata": {},
   "source": [
    "Much better! Now salary information in row 2 is correct.\n",
    "\n",
    "\n",
    "However, some of the more complex salary strings slipped through the cracks of our function! All we can do is correct this manually :("
   ]
  },
  {
   "cell_type": "code",
   "execution_count": 1899,
   "metadata": {},
   "outputs": [],
   "source": [
    "# by scrolling through the dataframe, I made the following corrections. \n",
    "df.loc[2241, 'yearly average'] = 500000\n",
    "df.loc[5013, 'yearly average'] = 70000\n",
    "df.loc[4265, 'yearly average'] = 67500\n",
    "df.loc[1412, 'yearly average'] = 80000\n",
    "df.loc[843, 'yearly average'] = 120000\n",
    "df.loc[4265, 'yearly average'] = 67500\n",
    "df.loc[2045, 'yearly average'] = 25.5\n",
    "df.loc[3507, 'yearly average'] = 52500\n",
    "df.loc[159, 'yearly average'] = 600\n",
    "df.loc[2045, 'yearly average'] = 25.5\n",
    "df.loc[4321, 'yearly average'] = 90000\n",
    "df.loc[2944, 'yearly average'] = 100000\n",
    "df.loc[3459, 'yearly average'] = 77500\n",
    "df.loc[2673, 'yearly average'] = 95000\n",
    "df.loc[2961, 'yearly average'] = 116000\n",
    "df.loc[2960, 'yearly average'] = 110000\n",
    "df.loc[1586, 'yearly average'] = 93000\n",
    "df.loc[2258, 'yearly average'] = 105000\n",
    "df.loc[3461, 'yearly average'] = 105000\n",
    "df.loc[2144, 'yearly average'] = 110500\n",
    "df.loc[4059, 'yearly average'] = 130000\n",
    "df.loc[1122, 'yearly average'] = 120000\n",
    "df.loc[4406, 'yearly average'] = 350\n",
    "df.loc[2038, 'yearly average'] = 210000\n",
    "df.loc[5169, 'yearly average'] = 67500\n",
    "df.loc[5143, 'yearly average'] = 67500\n",
    "df.loc[1700, 'yearly average'] = 72446\n",
    "df.loc[2112, 'yearly average'] = 85000\n",
    "df.loc[4044, 'yearly average'] = 80000\n",
    "df.loc[1268, 'yearly average'] = 72500\n",
    "df.loc[475, 'yearly average'] = 75000\n",
    "df.loc[4674, 'yearly average'] = 85000\n",
    "df.loc[3925, 'yearly average'] = 85000\n",
    "df.loc[983, 'yearly average'] = 85000\n",
    "df.loc[1135, 'yearly average'] = 90000\n",
    "df.loc[1135, 'yearly average'] = 90000"
   ]
  },
  {
   "cell_type": "markdown",
   "metadata": {},
   "source": [
    "### Extracting average salary from 'weekly' pay info"
   ]
  },
  {
   "cell_type": "code",
   "execution_count": 1901,
   "metadata": {},
   "outputs": [],
   "source": [
    "# create a column for pay information that is given on a weekly basis\n",
    "df['weekly rate'] = np.where(df['Pay Info'] == 'weekly', df['Salary'], '0')"
   ]
  },
  {
   "cell_type": "markdown",
   "metadata": {},
   "source": [
    "Luckily, there are only 4 entries that give pay information on a per week basis. "
   ]
  },
  {
   "cell_type": "code",
   "execution_count": 1907,
   "metadata": {},
   "outputs": [],
   "source": [
    "# Let's manually convert this to average salary, by finding the average weekly pay and then \n",
    "# multiplying by 48 (average number of work weeks in a year)\n",
    "df['weekly to yearly'] = 0\n",
    "df.loc[494, 'weekly to yearly'] = 26160\n",
    "df.loc[861, 'weekly to yearly'] = 38400\n",
    "df.loc[934, 'weekly to yearly'] = 36000\n",
    "df.loc[1748, 'weekly to yearly'] = 38400"
   ]
  },
  {
   "cell_type": "markdown",
   "metadata": {},
   "source": [
    "### Extracting average salary from 'daily' pay info"
   ]
  },
  {
   "cell_type": "code",
   "execution_count": 1914,
   "metadata": {},
   "outputs": [],
   "source": [
    "# create a column for pay information that is given on a daily basis\n",
    "df['daily rate'] = np.where(df['Pay Info'] == 'daily', df['Salary'], '0')"
   ]
  },
  {
   "cell_type": "code",
   "execution_count": 1915,
   "metadata": {},
   "outputs": [],
   "source": [
    "#create functions that extract the minimum and maximum pay\n",
    "def daily_rate_min(rate):\n",
    "    if '-' in rate:\n",
    "        minimum = re.sub(\"[^0-9]\", \"\", rate.split('-')[0])\n",
    "    else:\n",
    "        minimum = re.sub(\"[^0-9]\", \"\", rate)\n",
    "    return minimum\n",
    "\n",
    "def daily_rate_max(rate):   \n",
    "    if '-' in rate:\n",
    "        maximum = re.sub(\"[^0-9]\", \"\", rate.split('-')[1])\n",
    "    else:\n",
    "        maximum = re.sub(\"[^0-9]\", \"\", rate)\n",
    "    return maximum"
   ]
  },
  {
   "cell_type": "code",
   "execution_count": 1916,
   "metadata": {},
   "outputs": [],
   "source": [
    "# apply the above formulas to create max and min columns\n",
    "df['daily rate min'] = df['daily rate'].apply(daily_rate_min)\n",
    "df['daily rate max'] = df['daily rate'].apply(daily_rate_max)"
   ]
  },
  {
   "cell_type": "code",
   "execution_count": 1918,
   "metadata": {},
   "outputs": [],
   "source": [
    "# the function didn't work for the following rows, so we'll have to manually code\n",
    "df.loc[1697, 'daily rate max'] = 800\n",
    "df.loc[862, 'daily rate min'] = 750"
   ]
  },
  {
   "cell_type": "code",
   "execution_count": 1919,
   "metadata": {},
   "outputs": [],
   "source": [
    "#convert columns to float to enable calculations later on\n",
    "df['daily rate min'] = df['daily rate min'].astype(float)\n",
    "df['daily rate max'] = df['daily rate max'].astype(float)"
   ]
  },
  {
   "cell_type": "code",
   "execution_count": 1921,
   "metadata": {},
   "outputs": [],
   "source": [
    "# Some of the values were extracted incorrectly, as can be seen in later rows of the dataframe. \n",
    "# Let's correct the amount of zeroes using a function\n",
    "def correct_zeroes_daily(daily_info):\n",
    "    if daily_info > 2000:\n",
    "        daily_info = daily_info / 100     \n",
    "    else:\n",
    "        daily_info = daily_info\n",
    "    return daily_info"
   ]
  },
  {
   "cell_type": "code",
   "execution_count": 1922,
   "metadata": {},
   "outputs": [],
   "source": [
    "# apply corrections\n",
    "df['daily rate min'] = df['daily rate min'].apply(correct_zeroes_daily)\n",
    "df['daily rate max'] = df['daily rate max'].apply(correct_zeroes_daily)"
   ]
  },
  {
   "cell_type": "code",
   "execution_count": 1923,
   "metadata": {},
   "outputs": [],
   "source": [
    "# create a column for average daily pay, converting to float for calculations later on\n",
    "df['daily rate average'] = (df['daily rate min'] + df['daily rate max'])/2\n",
    "df['daily rate average'] = df['daily rate average'].astype(float)"
   ]
  },
  {
   "cell_type": "code",
   "execution_count": 1924,
   "metadata": {},
   "outputs": [],
   "source": [
    "# the function didn't work for some of the entries, so we'll need to manual code again:\n",
    "df.loc[524, 'daily rate average'] = 600\n",
    "df.loc[590, 'daily rate average'] = 650\n",
    "df.loc[4103, 'daily rate average'] = 850\n",
    "df.loc[82, 'daily rate average'] = 850\n",
    "df.loc[3671, 'daily rate average'] = 900\n",
    "df.loc[1095, 'daily rate average'] = 950\n",
    "df.loc[1881, 'daily rate average'] = 1050\n",
    "df.loc[29, 'daily rate average'] = 325\n",
    "df.loc[3418, 'daily rate average'] = 450\n",
    "df.loc[747, 'daily rate average'] = 775\n",
    "df.loc[3170, 'daily rate average'] = 675\n",
    "df.loc[29, 'daily rate average'] = 325"
   ]
  },
  {
   "cell_type": "code",
   "execution_count": 1925,
   "metadata": {},
   "outputs": [],
   "source": [
    "# convert average daily pay to average yearly pay, by multiplying by 240 (5 days * 48 months)\n",
    "df['daily to salary'] = df['daily rate average'] * 240"
   ]
  },
  {
   "cell_type": "markdown",
   "metadata": {},
   "source": [
    "### Extracting average salary from 'hourly' pay info"
   ]
  },
  {
   "cell_type": "code",
   "execution_count": 1928,
   "metadata": {},
   "outputs": [],
   "source": [
    "# create a column for pay information that is given on an hourly basis\n",
    "df['hourly rate'] = np.where(df['Pay Info'] == 'hourly', df['Salary'], '0')"
   ]
  },
  {
   "cell_type": "code",
   "execution_count": 1931,
   "metadata": {},
   "outputs": [],
   "source": [
    "#create functions that extract the minimum and maximum pay\n",
    "def hourly_rate_min(rate):\n",
    "    if '-' in rate:\n",
    "        minimum = re.sub(\"[^0-9]\", \"\", rate.split('-')[0])\n",
    "    else:\n",
    "        minimum = re.sub(\"[^0-9]\", \"\", rate)\n",
    "    return minimum\n",
    "\n",
    "def hourly_rate_max(rate):   \n",
    "    if '-' in rate:\n",
    "        maximum = re.sub(\"[^0-9]\", \"\", rate.split('-')[1])\n",
    "    else:\n",
    "        maximum = re.sub(\"[^0-9]\", \"\", rate)\n",
    "    return maximum"
   ]
  },
  {
   "cell_type": "code",
   "execution_count": 1932,
   "metadata": {},
   "outputs": [],
   "source": [
    "# apply the above formulas to create max and min columns, converting to float for calculations later on\n",
    "df['hourly rate max'] = df['hourly rate'].apply(hourly_rate_max)\n",
    "df['hourly rate min'] = df['hourly rate'].apply(hourly_rate_min)\n",
    "\n",
    "df['hourly rate min'] = df['hourly rate min'].astype(float)\n",
    "df['hourly rate max'] = df['hourly rate max'].astype(float)"
   ]
  },
  {
   "cell_type": "code",
   "execution_count": 1934,
   "metadata": {},
   "outputs": [],
   "source": [
    "# Some of the values were extracted incorrectly, as can be seen in later rows of the dataframe. \n",
    "# Let's correct the amount of zeroes using a function\n",
    "def correct_zeroes_hourly(daily_info):\n",
    "    if daily_info > 1000:\n",
    "        daily_info = daily_info / 100     \n",
    "    else:\n",
    "        daily_info = daily_info\n",
    "    return daily_info"
   ]
  },
  {
   "cell_type": "code",
   "execution_count": 1935,
   "metadata": {},
   "outputs": [],
   "source": [
    "# apply corrections\n",
    "df['hourly rate min'] = df['hourly rate min'].apply(correct_zeroes_hourly)\n",
    "df['hourly rate max'] = df['hourly rate max'].apply(correct_zeroes_hourly)\n",
    "\n",
    "# create a column for average hourly pay\n",
    "df['hourly rate average'] = (df['hourly rate min'] + df['hourly rate max'])/2\n",
    "df['hourly rate average'] = df['hourly rate average'].astype(int)"
   ]
  },
  {
   "cell_type": "code",
   "execution_count": 1937,
   "metadata": {},
   "outputs": [],
   "source": [
    "# the function didn't work for the following row, so we'll have to manually code\n",
    "df.loc[3363, 'hourly rate average'] = 75"
   ]
  },
  {
   "cell_type": "code",
   "execution_count": 1940,
   "metadata": {},
   "outputs": [],
   "source": [
    "# create a column for average hourly pay, converting to float for calculations later on\n",
    "df['hourly to salary'] = df['hourly rate average'] * 8 * 5 * 48\n",
    "df['hourly to salary'] = df['hourly to salary'].astype(int)"
   ]
  },
  {
   "cell_type": "markdown",
   "metadata": {},
   "source": [
    "### Combining clean salary info"
   ]
  },
  {
   "cell_type": "code",
   "execution_count": 1941,
   "metadata": {},
   "outputs": [],
   "source": [
    "df['clean salary'] = df['yearly average'] + df['weekly to yearly'] + df['daily to salary'] + df['hourly to salary']\n",
    "df['clean salary'] = df['clean salary'] .astype(int)"
   ]
  },
  {
   "cell_type": "markdown",
   "metadata": {},
   "source": [
    "There are still some miscalculations after using our functions and cleaning. Let's do a final manual code clean up!"
   ]
  },
  {
   "cell_type": "code",
   "execution_count": 1943,
   "metadata": {},
   "outputs": [],
   "source": [
    "df.loc[1862, 'clean salary'] = 100800\n",
    "df.loc[1862, 'Pay period'] = 'hourly'\n",
    "df.loc[159, 'clean salary'] = 144000\n",
    "df.loc[159, 'Pay period'] = 'daily'\n",
    "df.loc[1205, 'clean salary'] = 108000\n",
    "df.loc[1205, 'Pay period'] = 'daily'\n",
    "df.loc[4406, 'clean salary'] = 84000 \n",
    "df.loc[4406, 'Pay period'] = 'daily'\n",
    "df.loc[2560, 'clean salary'] = 204000\n",
    "df.loc[2560, 'Pay period'] = 'daily'\n",
    "df.loc[1332, 'clean salary'] = 198600\n",
    "df.loc[1332, 'Pay period'] = 'daily'\n",
    "df.loc[2492, 'clean salary'] = 198000\n",
    "df.loc[2492, 'Pay period'] = 'daily'\n",
    "df.loc[3528, 'clean salary'] = 168000\n",
    "df.loc[3528, 'Pay period'] = 'daily'\n",
    "df.loc[632, 'clean salary'] = 168000\n",
    "df.loc[632, 'Pay period'] = 'daily'\n",
    "df.loc[478, 'clean salary'] = 240000\n",
    "df.loc[478, 'Pay period'] = 'daily'\n",
    "df.loc[4404, 'clean salary'] = 204000\n",
    "df.loc[2377, 'clean salary'] = 62500\n",
    "df.loc[2377, 'Pay period'] = 'yearly'\n",
    "df.loc[2303, 'clean salary'] = 62500\n",
    "df.loc[2303, 'Pay period'] = 'yearly'\n",
    "df.loc[1061, 'clean salary'] = 52500\n",
    "df.loc[1061, 'Pay period'] = 'yearly'\n",
    "df.loc[691, 'clean salary'] = 114000\n",
    "df.loc[691, 'Pay period'] = 'yearly'\n",
    "df.loc[470, 'clean salary'] = 105000\n",
    "df.loc[470, 'Pay period'] = 'yearly'\n",
    "df.loc[2675, 'clean salary'] = 100000\n",
    "df.loc[2675, 'Pay period'] = 'yearly'\n",
    "df.loc[532, 'clean salary'] = 100000\n",
    "df.loc[532, 'Pay period'] = 'yearly'\n",
    "df.loc[2561, 'clean salary'] = 118728.50\n",
    "df.loc[2561, 'Pay period'] = 'yearly'\n",
    "df.loc[4028, 'clean salary'] = 87116.50\n",
    "df.loc[4028, 'Pay period'] = 'yearly'\n",
    "df.loc[631, 'clean salary'] = 142040.50\n",
    "df.loc[3868, 'clean salary'] = 117250.50\n",
    "df.loc[5245, 'clean salary'] = 117250.50\n",
    "df.loc[3035, 'clean salary'] = 88270\n",
    "df.loc[35, 'clean salary'] = 88270\n",
    "df.loc[709, 'clean salary'] = 97162\n",
    "df.loc[1272, 'clean salary'] = 96960\n",
    "df.loc[5253, 'clean salary'] = 96808\n",
    "df.loc[4905, 'clean salary'] = 68506\n",
    "df.loc[1980, 'clean salary'] = 114508\n",
    "df.loc[1461, 'clean salary'] = 97441\n",
    "df.loc[831, 'clean salary'] = 88174.50\n",
    "df.loc[2997, 'clean salary'] = 76777.50\n",
    "df.loc[3363, 'clean salary'] = 144000\n",
    "df.loc[3670, 'Pay period'] = 'yearly'\n",
    "df.loc[3670, 'clean salary'] = 91918.50\n",
    "df.loc[2912, 'Pay period'] = 'yearly'\n",
    "df.loc[2912, 'clean salary'] = 83319.50\n",
    "df.loc[1980, 'Pay period'] = 'yearly'\n",
    "df.loc[1461, 'Pay period'] = 'yearly'\n",
    "df.loc[709, 'Pay period'] = 'yearly'\n",
    "df.loc[5253, 'Pay period'] = 'yearly'\n",
    "df.loc[35, 'Pay period'] = 'yearly'\n",
    "df.loc[3035, 'Pay period'] = 'yearly'\n",
    "df.loc[831, 'Pay period'] = 'yearly'\n",
    "df.loc[2997, 'Pay period'] = 'yearly'\n",
    "df.loc[456, 'Pay period'] = 'yearly'\n",
    "df.loc[456, 'clean salary'] = 165000\n",
    "df.loc[932, 'Pay period'] = 'yearly'\n",
    "df.loc[932, 'clean salary'] = 165000\n",
    "df.loc[3633, 'Pay period'] = 'yearly'\n",
    "df.loc[3633, 'clean salary'] = 90000\n",
    "df.loc[1352, 'Pay period'] = 'daily'\n",
    "df.loc[1352, 'clean salary'] = 180000\n",
    "df.loc[1427, 'Pay period'] = 'yearly'\n",
    "df.loc[1427, 'clean salary'] = 85000\n",
    "df.loc[3563, 'Pay period'] = 'yearly'\n",
    "df.loc[3563, 'clean salary'] = 197117.50\n",
    "df.loc[3370, 'Pay period'] = 'daily'\n",
    "df.loc[3370, 'clean salary'] = 13200\n",
    "df.loc[3375, 'Pay period'] = 'hourly'\n",
    "df.loc[3375, 'clean salary'] = 115200\n",
    "df.loc[3382, 'Pay period'] = 'yearly'\n",
    "df.loc[3382, 'clean salary'] = 90000\n",
    "df.loc[1542, 'Pay period'] = 'hourly'\n",
    "df.loc[1542, 'clean salary'] = 98880\n",
    "df.loc[3613, 'Pay period'] = 'yearly'\n",
    "df.loc[3613, 'clean salary'] = 115000\n",
    "df.loc[3409, 'Pay period'] = 'yearly'\n",
    "df.loc[3409, 'clean salary'] = 107117.50\n",
    "df.loc[3393, 'Pay period'] = 'yearly'\n",
    "df.loc[3393, 'clean salary'] = 118112.50\n",
    "df.loc[1657, 'Pay period'] = 'hourly'\n",
    "df.loc[1657, 'clean salary'] = 960000\n",
    "df.loc[3354, 'Pay period'] = 'hourly'\n",
    "df.loc[3354, 'clean salary'] = 144000\n",
    "df.loc[1650, 'Pay period'] = 'daily'\n",
    "df.loc[1650, 'clean salary'] = 57360\n",
    "df.loc[3464, 'Pay period'] = 'yearly'\n",
    "df.loc[3464, 'clean salary'] = 108500\n",
    "df.loc[1578, 'Pay period'] = 'yearly'\n",
    "df.loc[1578, 'clean salary'] = 305327.5\n",
    "df.loc[1568, 'Pay period'] = 'hourly'\n",
    "df.loc[1568, 'clean salary'] = 86400\n",
    "df.loc[1555, 'Pay period'] = 'yearly'\n",
    "df.loc[1555, 'clean salary'] = 130000\n",
    "df.loc[3412, 'Pay period'] = 'yearly'\n",
    "df.loc[3412, 'clean salary'] = 56000\n",
    "df.loc[1056, 'Pay period'] = 'yearly'\n",
    "df.loc[1056, 'clean salary'] = 75000\n",
    "df.loc[981, 'Pay period'] = 'yearly'\n",
    "df.loc[981, 'clean salary'] = 135000\n",
    "df.loc[1051, 'Pay period'] = 'hourly'\n",
    "df.loc[1051, 'clean salary'] = 158400\n",
    "df.loc[1044, 'Pay period'] = 'hourly'\n",
    "df.loc[1044, 'clean salary'] = 55680\n",
    "df.loc[1038, 'Pay period'] = 'yearly'\n",
    "df.loc[1038, 'clean salary'] = 154779\n",
    "df.loc[4023, 'Pay period'] = 'yearly'\n",
    "df.loc[4023, 'clean salary'] = 56500\n",
    "df.loc[951, 'Pay period'] = 'hourly'\n",
    "df.loc[951, 'clean salary'] = 86400\n",
    "df.loc[4031, 'Pay period'] = 'yearly'\n",
    "df.loc[4031, 'clean salary'] = 86479\n",
    "df.loc[4034, 'Pay period'] = 'yearly'\n",
    "df.loc[4034, 'clean salary'] = 154000\n",
    "df.loc[4048, 'Pay period'] = 'yearly'\n",
    "df.loc[4048, 'clean salary'] = 55000\n",
    "df.loc[1338, 'Pay period'] = 'yearly'\n",
    "df.loc[1338, 'clean salary'] = 51000\n",
    "df.loc[3731, 'Pay period'] = 'yearly'\n",
    "df.loc[3731, 'clean salary'] = 60000\n",
    "df.loc[1280, 'Pay period'] = 'yearly'\n",
    "df.loc[1280, 'clean salary'] = 65000\n",
    "df.loc[3756, 'Pay period'] = 'yearly'\n",
    "df.loc[3756, 'clean salary'] = 55000\n",
    "df.loc[965, 'Pay period'] = 'yearly'\n",
    "df.loc[965, 'clean salary'] = 80000\n",
    "df.loc[1224, 'Pay period'] = 'yearly'\n",
    "df.loc[1224, 'clean salary'] = 75000\n",
    "df.loc[1219, 'Pay period'] = 'hourly'\n",
    "df.loc[1219, 'clean salary'] = 86400\n",
    "df.loc[3822, 'Pay period'] = 'hourly'\n",
    "df.loc[3822, 'clean salary'] = 80000\n",
    "df.loc[3838, 'Pay period'] = 'hourly'\n",
    "df.loc[3838, 'clean salary'] = 80000\n",
    "df.loc[1252, 'Pay period'] = 'yearly'\n",
    "df.loc[1252, 'clean salary'] = 130000\n",
    "df.loc[2832, 'Pay period'] = 'yearly'\n",
    "df.loc[2832, 'clean salary'] = 122000\n",
    "df.loc[2857, 'Pay period'] = 'yearly'\n",
    "df.loc[2857, 'clean salary'] = 125000\n",
    "df.loc[2190, 'Pay period'] = 'yearly'\n",
    "df.loc[2190, 'clean salary'] = 122000\n",
    "df.loc[2189, 'Pay period'] = 'yearly'\n",
    "df.loc[2189, 'clean salary'] = 122000\n",
    "df.loc[1680, 'Pay period'] = 'yearly'\n",
    "df.loc[1680, 'clean salary'] = 154500\n",
    "df.loc[2947, 'Pay period'] = 'yearly'\n",
    "df.loc[2947, 'clean salary'] = 65000\n",
    "df.loc[2948, 'Pay period'] = 'yearly'\n",
    "df.loc[2948, 'clean salary'] = 65000\n",
    "df.loc[2109, 'Pay period'] = 'hourly'\n",
    "df.loc[2109, 'clean salary'] = 63360\n",
    "df.loc[2814, 'Pay period'] = 'yearly'\n",
    "df.loc[2814, 'clean salary'] = 124320\n",
    "df.loc[2228, 'Pay period'] = 'hourly'\n",
    "df.loc[2228, 'clean salary'] = 192000\n",
    "df.loc[2482, 'Pay period'] = 'hourly'\n",
    "df.loc[2482, 'clean salary'] = 67200\n",
    "df.loc[2797, 'Pay period'] = 'yearly'\n",
    "df.loc[2797, 'clean salary'] = 106000\n",
    "df.loc[2169, 'Pay period'] = 'yearly'\n",
    "df.loc[2169, 'clean salary'] = 145000\n",
    "df.loc[2919, 'Pay period'] = 'yearly'\n",
    "df.loc[2919, 'clean salary'] = 85000\n",
    "df.loc[2133, 'Pay period'] = 'yearly'\n",
    "df.loc[2133, 'clean salary'] = 11000\n",
    "df.loc[2685, 'Pay period'] = 'yearly'\n",
    "df.loc[2685, 'clean salary'] = 115200\n",
    "df.loc[2286, 'Pay period'] = 'yearly'\n",
    "df.loc[2286, 'clean salary'] = 124965\n",
    "df.loc[2773, 'Pay period'] = 'hourly'\n",
    "df.loc[2773, 'clean salary'] = 90240\n",
    "df.loc[2534, 'Pay period'] = 'yearly'\n",
    "df.loc[2534, 'clean salary'] = 80000\n",
    "df.loc[2608, 'Pay period'] = 'yearly'\n",
    "df.loc[2608, 'clean salary'] = 124000\n",
    "df.loc[2998, 'Pay period'] = 'yearly'\n",
    "df.loc[2998, 'clean salary'] = 123000\n",
    "df.loc[3256, 'Pay period'] = 'yearly'\n",
    "df.loc[3256, 'clean salary'] = 72000\n",
    "df.loc[1797, 'Pay period'] = 'hourly'\n",
    "df.loc[1797, 'clean salary'] = 72960\n",
    "df.loc[1694, 'Pay period'] = 'hourly'\n",
    "df.loc[1694, 'clean salary'] = 64320\n",
    "df.loc[1849, 'Pay period'] = 'yearly'\n",
    "df.loc[1849, 'clean salary'] = 92500\n",
    "df.loc[1940, 'Pay period'] = 'hourly'\n",
    "df.loc[1940, 'clean salary'] = 59520\n",
    "df.loc[1987, 'Pay period'] = 'hourly'\n",
    "df.loc[1987, 'clean salary'] = 76800\n",
    "df.loc[1923, 'Pay period'] = 'yearly'\n",
    "df.loc[1923, 'clean salary'] = 65000\n",
    "df.loc[2055, 'Pay period'] = 'hourly'\n",
    "df.loc[2055, 'clean salary'] = 53760\n",
    "df.loc[2992, 'Pay period'] = 'hourly'\n",
    "df.loc[2992, 'clean salary'] = 74333\n",
    "df.loc[75, 'Pay period'] = 'hourly'\n",
    "df.loc[75, 'clean salary'] = 99840\n",
    "df.loc[5138, 'Pay period'] = 'yearly'\n",
    "df.loc[5138, 'clean salary'] = 89251\n",
    "df.loc[4656, 'Pay period'] = 'yearly'\n",
    "df.loc[4656, 'clean salary'] = 145000\n",
    "df.loc[2538, 'Pay period'] = 'yearly'\n",
    "df.loc[2538, 'clean salary'] = 59500\n",
    "df.loc[918, 'Pay period'] = 'hourly'\n",
    "df.loc[918, 'clean salary'] = 95040\n",
    "df.loc[4627, 'Pay period'] = 'yearly'\n",
    "df.loc[4627, 'clean salary'] = 55000\n",
    "df.loc[371, 'Pay period'] = 'yearly'\n",
    "df.loc[371, 'clean salary'] = 96367.89\n",
    "df.loc[5137, 'Pay period'] = 'yearly'\n",
    "df.loc[5137, 'clean salary'] = 118000\n",
    "df.loc[386, 'Pay period'] = 'yearly'\n",
    "df.loc[386, 'clean salary'] = 123000\n",
    "df.loc[372, 'Pay period'] = 'hourly'\n",
    "df.loc[372, 'clean salary'] = 153600\n",
    "df.loc[4555, 'Pay period'] = 'hourly'\n",
    "df.loc[4555, 'clean salary'] = 92160\n",
    "df.loc[361, 'Pay period'] = 'yearly'\n",
    "df.loc[361, 'clean salary'] = 131000\n",
    "df.loc[510, 'Pay period'] = 'hourly'\n",
    "df.loc[510, 'clean salary'] = 96000\n",
    "df.loc[4497, 'Pay period'] = 'yearly'\n",
    "df.loc[4497, 'clean salary'] = 55000\n",
    "df.loc[4518, 'Pay period'] = 'yearly'\n",
    "df.loc[4518, 'clean salary'] = 89251\n",
    "df.loc[4866, 'Pay period'] = 'yearly'\n",
    "df.loc[4866, 'clean salary'] = 70000\n",
    "df.loc[4774, 'Pay period'] = 'hourly'\n",
    "df.loc[4774, 'clean salary'] = 54720\n",
    "df.loc[4980, 'Pay period'] = 'yearly'\n",
    "df.loc[4980, 'clean salary'] = 89251\n",
    "df.loc[115, 'Pay period'] = 'yearly'\n",
    "df.loc[115, 'clean salary'] = 80000\n",
    "df.loc[4763, 'Pay period'] = 'yearly'\n",
    "df.loc[4763, 'clean salary'] = 145000\n",
    "df.loc[4252, 'Pay period'] = 'yearly'\n",
    "df.loc[4252, 'clean salary'] = 120000\n",
    "df.loc[4852, 'Pay period'] = 'yearly'\n",
    "df.loc[4852, 'clean salary'] = 60000\n",
    "df.loc[4846, 'Pay period'] = 'hourly'\n",
    "df.loc[4846, 'clean salary'] = 51840\n",
    "df.loc[77, 'Pay period'] = 'hourly'\n",
    "df.loc[77, 'clean salary'] = 144000\n",
    "df.loc[296, 'Pay period'] = 'daily'\n",
    "df.loc[296, 'clean salary'] = 210240\n",
    "df.loc[905, 'Pay period'] = 'yearly'\n",
    "df.loc[905, 'clean salary'] = 140000\n",
    "df.loc[682, 'Pay period'] = 'yearly'\n",
    "df.loc[682, 'clean salary'] = 118000\n",
    "df.loc[4301, 'Pay period'] = 'yearly'\n",
    "df.loc[4301, 'clean salary'] = 91000\n",
    "df.loc[692, 'Pay period'] = 'yearly'\n",
    "df.loc[692, 'clean salary'] = 104000\n",
    "df.loc[828, 'Pay period'] = 'yearly'\n",
    "df.loc[828, 'clean salary'] = 85000\n",
    "df.loc[4144, 'Pay period'] = 'hourly'\n",
    "df.loc[4144, 'clean salary'] = 50880\n",
    "df.loc[877, 'Pay period'] = 'daily'\n",
    "df.loc[877, 'clean salary'] = 67920\n",
    "df.loc[4165, 'Pay period'] = 'hourly'\n",
    "df.loc[4165, 'clean salary'] = 57600\n",
    "df.loc[875, 'Pay period'] = 'daily'\n",
    "df.loc[875, 'clean salary'] = 197040\n",
    "df.loc[853, 'Pay period'] = 'daily'\n",
    "df.loc[853, 'clean salary'] = 156720\n",
    "df.loc[4356, 'Pay period'] = 'yearly'\n",
    "df.loc[4356, 'clean salary'] = 76588\n",
    "df.loc[4388, 'Pay period'] = 'hourly'\n",
    "df.loc[4388, 'clean salary'] = 52800\n",
    "df.loc[624, 'Pay period'] = 'yearly'\n",
    "df.loc[624, 'clean salary'] = 134742\n",
    "df.loc[4361, 'Pay period'] = 'yearly'\n",
    "df.loc[4361, 'clean salary'] = 135000\n",
    "df.loc[659, 'Pay period'] = 'hourly'\n",
    "df.loc[659, 'clean salary'] = 124800\n",
    "df.loc[4139, 'Pay period'] = 'yearly'\n",
    "df.loc[4139, 'clean salary'] = 59065.60\n",
    "df.loc[2133, 'Pay period'] = 'yearly'\n",
    "df.loc[2133, 'clean salary'] = 110000\n",
    "df.loc[1657, 'clean salary'] = 96000\n"
   ]
  },
  {
   "cell_type": "markdown",
   "metadata": {},
   "source": [
    "Thank god that's over!\n",
    "\n",
    "Let's explore strange salary information"
   ]
  },
  {
   "cell_type": "code",
   "execution_count": 1951,
   "metadata": {},
   "outputs": [
    {
     "name": "stdout",
     "output_type": "stream",
     "text": [
      "$25.00 - $26 p.a. + Super \n",
      "Up to $0.00 p.a. + Open to discuss\n",
      "$45 - $55 p.d. + plus super \n"
     ]
    }
   ],
   "source": [
    "print(df.iloc[2045]['Salary'])\n",
    "print(df.iloc[2366]['Salary'])\n",
    "print(df.iloc[3370]['Salary'])"
   ]
  },
  {
   "cell_type": "code",
   "execution_count": 1952,
   "metadata": {},
   "outputs": [],
   "source": [
    "# Let's exclude these rows from our salary calculations\n",
    "for i in [2045, 3370, 2366]:\n",
    "    df.loc[i, 'Pay period'] = 'NA'\n",
    "    df.loc[i, 'clean salary'] = 0"
   ]
  },
  {
   "cell_type": "code",
   "execution_count": 1988,
   "metadata": {},
   "outputs": [],
   "source": [
    "# export dataframe to 'csv' for safe-keeping\n",
    "df.to_csv('scraped_ads')"
   ]
  },
  {
   "cell_type": "markdown",
   "metadata": {},
   "source": [
    "## Cleaning 'Job Title'"
   ]
  },
  {
   "cell_type": "code",
   "execution_count": 260,
   "metadata": {},
   "outputs": [
    {
     "name": "stdout",
     "output_type": "stream",
     "text": [
      "Company 1993\n",
      "Title 4137\n",
      "Work type 4\n",
      "Industry 29\n"
     ]
    }
   ],
   "source": [
    "for column in ['Company', 'Title', 'Work type', 'Industry']:\n",
    "    print(column, df[column].nunique())"
   ]
  },
  {
   "cell_type": "markdown",
   "metadata": {},
   "source": [
    "There are 4137 unique job titles! This is way too many! Let's condense this number down to ~10, and reject any irrelevant jobs!\n",
    "\n",
    "Note: I should have done this before cleaning the salary column. Unfortunately I cleaned many salaries that we won't end up using! :( "
   ]
  },
  {
   "cell_type": "code",
   "execution_count": 261,
   "metadata": {},
   "outputs": [],
   "source": [
    "# Remove unnecessary white space and convert to title case:\n",
    "\n",
    "def clean_job_title(title):\n",
    "    if title[-1] == \" \":\n",
    "        return title[:-1].title()\n",
    "    else:\n",
    "        return title.title()"
   ]
  },
  {
   "cell_type": "code",
   "execution_count": 262,
   "metadata": {},
   "outputs": [],
   "source": [
    "df['Title'] = df['Title'].apply(clean_job_title)"
   ]
  },
  {
   "cell_type": "code",
   "execution_count": 264,
   "metadata": {},
   "outputs": [
    {
     "data": {
      "text/plain": [
       "462"
      ]
     },
     "execution_count": 264,
     "metadata": {},
     "output_type": "execute_result"
    }
   ],
   "source": [
    "#Let's reject jobs that don't contain 'Data' or 'Business Analyst' in the title\n",
    "\n",
    "relevant_jobs = []\n",
    "irrelevant_jobs = []\n",
    "for title in list(df['Title'].value_counts().index):\n",
    "    if 'Data' in title:\n",
    "        relevant_jobs.append(title)\n",
    "    elif 'Business Analyst' == title:\n",
    "        relevant_jobs.append(title)\n",
    "    else:\n",
    "        irrelevant_jobs.append(title)\n",
    "len(relevant_jobs)"
   ]
  },
  {
   "cell_type": "code",
   "execution_count": 265,
   "metadata": {},
   "outputs": [],
   "source": [
    "df = df[df['Title'].isin(relevant_jobs)]"
   ]
  },
  {
   "cell_type": "code",
   "execution_count": 266,
   "metadata": {},
   "outputs": [
    {
     "data": {
      "text/plain": [
       "(720, 10)"
      ]
     },
     "execution_count": 266,
     "metadata": {},
     "output_type": "execute_result"
    }
   ],
   "source": [
    "df.shape"
   ]
  },
  {
   "cell_type": "markdown",
   "metadata": {},
   "source": [
    "Wow! This massively reduced the amount of rows! Let see our top job titles"
   ]
  },
  {
   "cell_type": "code",
   "execution_count": 267,
   "metadata": {},
   "outputs": [
    {
     "data": {
      "text/plain": [
       "Business Analyst                                                        90\n",
       "Data Analyst                                                            50\n",
       "Data Scientist                                                          31\n",
       "Data Engineer                                                           16\n",
       "Senior Data Analyst                                                     13\n",
       "Senior Data Scientist                                                   11\n",
       "Big Data Engineer                                                        9\n",
       "Master Data Analyst                                                      4\n",
       "Senior Data Engineer                                                     4\n",
       "Data Modeller                                                            4\n",
       "Junior Data Analyst                                                      4\n",
       "Data Architect                                                           3\n",
       "Data Engineer - Aws                                                      3\n",
       "Technical Lead - Data Governance / Information Architecture              2\n",
       "Data Scientist/Data Analyst                                              2\n",
       "Enterprise Data Architect - Strategy, Roadmap, Projects And Programs     2\n",
       "Senior Data & Insights Analyst                                           2\n",
       "Senior Sap Data Services Consultant - New Zealand                        2\n",
       "Data Analyst/Campaign Developer                                          2\n",
       "Data Specialist                                                          2\n",
       "Name: Title, dtype: int64"
      ]
     },
     "execution_count": 267,
     "metadata": {},
     "output_type": "execute_result"
    }
   ],
   "source": [
    "df['Title'].value_counts().head(20)"
   ]
  },
  {
   "cell_type": "markdown",
   "metadata": {},
   "source": [
    "Let's group these job titles into the following categories:\n",
    "- Data Analyst\n",
    "- Junior Data Analyst\n",
    "- Senior Data Analyst\n",
    "- Data Scientist\n",
    "- Data Engineer\n",
    "- Business Analyst\n",
    "- Manager with Data\n",
    "- Developer with Data\n",
    "- Consultant with Data\n",
    "- Data Administrator\n",
    "- Data Modelling Job\n",
    "- Data Migration Job\n",
    "- Data Architect"
   ]
  },
  {
   "cell_type": "code",
   "execution_count": 268,
   "metadata": {
    "scrolled": false
   },
   "outputs": [],
   "source": [
    "# any job title that contains 'Analyst' or 'Analytics' will be classified as 'Data Analyst'\n",
    "analyst_jobs = []\n",
    "for title in relevant_jobs:\n",
    "    if 'Analyst' in title:\n",
    "        analyst_jobs.append(title)\n",
    "    elif 'Analytics' in title:\n",
    "        analyst_jobs.append(title)\n",
    "\n",
    "# any job title that contains 'Engineer' will be classified as 'Data Engineer'       \n",
    "engineer_jobs = []\n",
    "for title in relevant_jobs:\n",
    "    if 'Engineer' in title:\n",
    "        engineer_jobs.append(title)\n",
    "\n",
    "# any job title that contains 'Scientist' or 'Science' will be classified as 'Data Scientist' \n",
    "scientist_jobs = []\n",
    "for title in relevant_jobs:\n",
    "    if 'Scientist' in title:\n",
    "        scientist_jobs.append(title)\n",
    "    elif 'Science' in title:\n",
    "        scientist_jobs.append(title)\n",
    "\n",
    "# any job title that contains 'Manager' or 'Management' will be classified as 'Manager with Data' \n",
    "manager_jobs = []\n",
    "for title in relevant_jobs:\n",
    "    if 'Manager' in title:\n",
    "        manager_jobs.append(title)\n",
    "    if 'Management' in title:\n",
    "        manager_jobs.append(title)\n",
    "\n",
    "# any job title that contains 'Consultant' will be classified as 'Consultant with Data' \n",
    "consultant_jobs = []\n",
    "for title in relevant_jobs:\n",
    "    if 'Consultant' in title:\n",
    "        consultant_jobs.append(title)\n",
    "\n",
    "# any job title that contains 'Migration' will be classified as 'Data Migration Job' \n",
    "migration_jobs = []\n",
    "for title in relevant_jobs:\n",
    "    if 'Migration' in title:\n",
    "        migration_jobs.append(title)\n",
    "\n",
    "# any job title that == 'Business Analyst' will be classified as 'Business Analyst' \n",
    "business_analyst_jobs = []\n",
    "for title in relevant_jobs:\n",
    "    if title == 'Business Analyst':\n",
    "        business_analyst_jobs.append(title)\n",
    " \n",
    "#\n",
    "# any job title tha contains 'Administration', 'Administrator', 'Admin' or 'Entry' \n",
    "# will be classified as 'Data Administrator' \n",
    "administration_jobs = []\n",
    "for title in relevant_jobs:\n",
    "    if 'Administration' in title:\n",
    "        administration_jobs.append(title)\n",
    "    elif 'Administrator' in title:\n",
    "        administration_jobs.append(title)\n",
    "    elif 'Admin' in title:\n",
    "        administration_jobs.append(title)\n",
    "    elif 'Entry' in title:\n",
    "        administration_jobs.append(title)\n",
    "\n",
    "# any job title that contains 'Architect' will be classified as 'Data Architect'\n",
    "architect_jobs = []\n",
    "for title in relevant_jobs:\n",
    "    if 'Architect' in title:\n",
    "        architect_jobs.append(title)\n",
    "\n",
    "# any job title that contains 'Development' or 'Developer' will be classified as 'Developer with Data'\n",
    "development_jobs = []\n",
    "for title in relevant_jobs:\n",
    "    if 'Development' in title:\n",
    "        development_jobs.append(title)\n",
    "    elif 'Developer' in title:\n",
    "        development_jobs.append(title)\n",
    "\n",
    "# any job title that contains 'Model' or 'Modelling' will be classified as 'Data Modelling Job'\n",
    "modelling_jobs = []\n",
    "for title in relevant_jobs:\n",
    "    if 'Model' in title:\n",
    "        modelling_jobs.append(title)\n",
    "    elif 'Modelling' in title:\n",
    "        modelling_jobs.append(title)\n",
    "        \n",
    "#  \n",
    "# any job title that contains 'Analyst' and 'Senior' will be classified as 'Senior Data Analyst'\n",
    "senior_analyst_jobs = []\n",
    "for title in relevant_jobs:\n",
    "    if ('Analyst' in title) & ('Senior' in title):\n",
    "        senior_analyst_jobs.append(title)\n",
    "        \n",
    "# any job title that contains 'Analyst' and 'Junior' will be classified as 'Senior Data Analyst'\n",
    "junior_analyst_jobs = []\n",
    "for title in relevant_jobs:\n",
    "    if ('Analyst' in title) & ('Junior' in title):\n",
    "        junior_analyst_jobs.append(title)"
   ]
  },
  {
   "cell_type": "code",
   "execution_count": 269,
   "metadata": {},
   "outputs": [],
   "source": [
    "#classify each of the job titles according to these lists\n",
    "clean_jobs = []\n",
    "for job in list(df['Title']):    \n",
    "        if job in administration_jobs:\n",
    "            clean_jobs.append('Data Administrator')\n",
    "        elif job in modelling_jobs:\n",
    "            clean_jobs.append('Data Modelling Job')              \n",
    "        elif job in architect_jobs:\n",
    "            clean_jobs.append('Data Architect')\n",
    "        elif job in development_jobs:\n",
    "            clean_jobs.append('Developer Job Using Data')\n",
    "        elif job in migration_jobs:\n",
    "            clean_jobs.append('Data Migration Job')\n",
    "        elif job in consultant_jobs:\n",
    "            clean_jobs.append('Consultant Involving Data')            \n",
    "        elif job in manager_jobs:\n",
    "            clean_jobs.append('Manager Involving Data')         \n",
    "        elif job in scientist_jobs:\n",
    "            clean_jobs.append('Data Scientist')    \n",
    "        elif job in engineer_jobs:\n",
    "            clean_jobs.append('Data Engineer') \n",
    "        elif job in manager_jobs:\n",
    "            clean_jobs.append('Data Manager')\n",
    "        elif job in business_analyst_jobs:\n",
    "            clean_jobs.append('Business Analyst')\n",
    "        elif job in junior_analyst_jobs:\n",
    "            clean_jobs.append('Junior Data Analyst')           \n",
    "        elif job in senior_analyst_jobs:\n",
    "            clean_jobs.append('Senior Data Analyst')\n",
    "        elif job in analyst_jobs:\n",
    "            clean_jobs.append('Data Analyst')\n",
    "        else:\n",
    "            clean_jobs.append('Unknown')\n",
    "\n",
    "df['Clean Job Title'] = clean_jobs"
   ]
  },
  {
   "cell_type": "code",
   "execution_count": 270,
   "metadata": {},
   "outputs": [
    {
     "data": {
      "text/plain": [
       "Data Analyst                 176\n",
       "Business Analyst              90\n",
       "Data Scientist                89\n",
       "Data Engineer                 71\n",
       "Manager Involving Data        55\n",
       "Unknown                       54\n",
       "Developer Job Using Data      37\n",
       "Consultant Involving Data     35\n",
       "Senior Data Analyst           33\n",
       "Data Administrator            23\n",
       "Data Modelling Job            19\n",
       "Data Migration Job            18\n",
       "Data Architect                14\n",
       "Junior Data Analyst            6\n",
       "Name: Clean Job Title, dtype: int64"
      ]
     },
     "execution_count": 270,
     "metadata": {},
     "output_type": "execute_result"
    }
   ],
   "source": [
    "# inspect our new top jobs\n",
    "df['Clean Job Title'].value_counts()"
   ]
  },
  {
   "cell_type": "code",
   "execution_count": 271,
   "metadata": {},
   "outputs": [],
   "source": [
    "#drop the rows where the job title is 'Unknown', as these jobs are probably irrelevant to our project\n",
    "df = df[df['Clean Job Title'] != 'Unknown']"
   ]
  },
  {
   "cell_type": "code",
   "execution_count": 272,
   "metadata": {},
   "outputs": [
    {
     "data": {
      "text/plain": [
       "(666, 11)"
      ]
     },
     "execution_count": 272,
     "metadata": {},
     "output_type": "execute_result"
    }
   ],
   "source": [
    "df.shape"
   ]
  },
  {
   "cell_type": "markdown",
   "metadata": {},
   "source": [
    "## Cleaning 'Work type'"
   ]
  },
  {
   "cell_type": "code",
   "execution_count": 276,
   "metadata": {},
   "outputs": [],
   "source": [
    "# condense non-full time jobs to 'Contract/Temp'\n",
    "df['Work type'] = df['Work type'].map(lambda x: 'Contract/Temp' if x != 'Full Time' else x)"
   ]
  },
  {
   "cell_type": "code",
   "execution_count": 1882,
   "metadata": {},
   "outputs": [],
   "source": [
    "# let's put the columns in a more logical order\n",
    "df = df[['Date', 'Location', 'Company', 'Title', 'Work type', 'Description','Industry','Salary','Rating', \n",
    "         'Number of reviews', 'Sublocation', 'Subindustry']]\n"
   ]
  },
  {
   "cell_type": "markdown",
   "metadata": {},
   "source": [
    "# Predicting Salary"
   ]
  },
  {
   "cell_type": "code",
   "execution_count": 16,
   "metadata": {},
   "outputs": [
    {
     "data": {
      "text/html": [
       "<div>\n",
       "<style scoped>\n",
       "    .dataframe tbody tr th:only-of-type {\n",
       "        vertical-align: middle;\n",
       "    }\n",
       "\n",
       "    .dataframe tbody tr th {\n",
       "        vertical-align: top;\n",
       "    }\n",
       "\n",
       "    .dataframe thead th {\n",
       "        text-align: right;\n",
       "    }\n",
       "</style>\n",
       "<table border=\"1\" class=\"dataframe\">\n",
       "  <thead>\n",
       "    <tr style=\"text-align: right;\">\n",
       "      <th></th>\n",
       "      <th>Location</th>\n",
       "      <th>Clean Job Title</th>\n",
       "      <th>Work type</th>\n",
       "      <th>Description</th>\n",
       "      <th>Industry</th>\n",
       "      <th>clean salary</th>\n",
       "    </tr>\n",
       "  </thead>\n",
       "  <tbody>\n",
       "    <tr>\n",
       "      <th>0</th>\n",
       "      <td>Sydney</td>\n",
       "      <td>Data Analyst</td>\n",
       "      <td>Contract/Temp</td>\n",
       "      <td>About Us Seventh Street Ventures is an entrepr...</td>\n",
       "      <td>Information &amp; Communication Technology</td>\n",
       "      <td>65000.0</td>\n",
       "    </tr>\n",
       "    <tr>\n",
       "      <th>1</th>\n",
       "      <td>Sydney</td>\n",
       "      <td>Junior Data Analyst</td>\n",
       "      <td>Full Time</td>\n",
       "      <td>Are you an up and coming Data/ Reporting Analy...</td>\n",
       "      <td>Information &amp; Communication Technology</td>\n",
       "      <td>63000.0</td>\n",
       "    </tr>\n",
       "  </tbody>\n",
       "</table>\n",
       "</div>"
      ],
      "text/plain": [
       "  Location      Clean Job Title      Work type  \\\n",
       "0   Sydney         Data Analyst  Contract/Temp   \n",
       "1   Sydney  Junior Data Analyst      Full Time   \n",
       "\n",
       "                                         Description  \\\n",
       "0  About Us Seventh Street Ventures is an entrepr...   \n",
       "1  Are you an up and coming Data/ Reporting Analy...   \n",
       "\n",
       "                                 Industry  clean salary  \n",
       "0  Information & Communication Technology       65000.0  \n",
       "1  Information & Communication Technology       63000.0  "
      ]
     },
     "execution_count": 16,
     "metadata": {},
     "output_type": "execute_result"
    }
   ],
   "source": [
    "df.head(2)"
   ]
  },
  {
   "cell_type": "markdown",
   "metadata": {},
   "source": [
    "## EDA: Univariate"
   ]
  },
  {
   "cell_type": "code",
   "execution_count": 19,
   "metadata": {},
   "outputs": [
    {
     "data": {
      "image/png": "[encoded data removed]",
      "text/plain": [
       "<Figure size 720x216 with 1 Axes>"
      ]
     },
     "metadata": {
      "needs_background": "light"
     },
     "output_type": "display_data"
    }
   ],
   "source": [
    "newyorkTimezone = df['Location'].value_counts(normalize=True).head()*100\n",
    "plt.figure(figsize=(10, 3))\n",
    "sns.barplot(y = newyorkTimezone.index, x = newyorkTimezone.values, alpha=0.8)\n",
    "plt.title('Location', fontsize=20)\n",
    "plt.ylabel('', fontsize=10)\n",
    "plt.yticks(fontsize=20)\n",
    "plt.xlabel('Percentage of all results', fontsize=20)\n",
    "plt.xticks(fontsize=15)\n",
    "plt.show()"
   ]
  },
  {
   "cell_type": "code",
   "execution_count": 20,
   "metadata": {},
   "outputs": [
    {
     "data": {
      "image/png": "[encoded data removed]",
      "text/plain": [
       "<Figure size 1440x432 with 1 Axes>"
      ]
     },
     "metadata": {
      "needs_background": "light"
     },
     "output_type": "display_data"
    }
   ],
   "source": [
    "newyorkTimezone = df['Clean Job Title'].value_counts(normalize=True)*100\n",
    "plt.figure(figsize=(20, 6))\n",
    "sns.barplot(y = newyorkTimezone.index, x = newyorkTimezone.values, alpha=0.8)\n",
    "plt.title('Job Titles', fontsize=20)\n",
    "plt.ylabel('', fontsize=10)\n",
    "plt.yticks(fontsize=20)\n",
    "plt.xlabel('Percentage of all results', fontsize=20)\n",
    "plt.xticks(fontsize=15)\n",
    "plt.show()"
   ]
  },
  {
   "cell_type": "code",
   "execution_count": 22,
   "metadata": {},
   "outputs": [
    {
     "data": {
      "image/png": "[encoded data removed]",
      "text/plain": [
       "<Figure size 720x216 with 1 Axes>"
      ]
     },
     "metadata": {
      "needs_background": "light"
     },
     "output_type": "display_data"
    }
   ],
   "source": [
    "newyorkTimezone = df['Work type'].value_counts(normalize=True).head()*100\n",
    "plt.figure(figsize=(10, 3))\n",
    "sns.barplot(y = newyorkTimezone.index, x = newyorkTimezone.values, alpha=0.8)\n",
    "plt.title('Work type', fontsize=20)\n",
    "plt.ylabel('', fontsize=10)\n",
    "plt.yticks(fontsize=20)\n",
    "plt.xlabel('Percentage of all results', fontsize=20)\n",
    "plt.xticks(fontsize=15)\n",
    "plt.show()"
   ]
  },
  {
   "cell_type": "code",
   "execution_count": 23,
   "metadata": {},
   "outputs": [
    {
     "data": {
      "image/png": "[encoded data removed]",
      "text/plain": [
       "<Figure size 1440x432 with 1 Axes>"
      ]
     },
     "metadata": {
      "needs_background": "light"
     },
     "output_type": "display_data"
    }
   ],
   "source": [
    "newyorkTimezone = df['Industry'].value_counts(normalize=True).head()*100\n",
    "plt.figure(figsize=(20, 6))\n",
    "sns.barplot(y = newyorkTimezone.index, x = newyorkTimezone.values, alpha=0.8)\n",
    "plt.title('Industry', fontsize=20)\n",
    "plt.ylabel('', fontsize=10)\n",
    "plt.yticks(fontsize=20)\n",
    "plt.xlabel('Percentage of all results', fontsize=20)\n",
    "plt.xticks(fontsize=15)\n",
    "plt.show()"
   ]
  },
  {
   "cell_type": "code",
   "execution_count": 1014,
   "metadata": {},
   "outputs": [
    {
     "data": {
      "image/png": "[encoded data removed]",
      "text/plain": [
       "<Figure size 576x432 with 1 Axes>"
      ]
     },
     "metadata": {
      "needs_background": "light"
     },
     "output_type": "display_data"
    }
   ],
   "source": [
    "#newyorkTimezone = df.groupby('Work type')['clean salary'].median()\n",
    "plt.figure(figsize=(8, 6))\n",
    "sns.distplot(df['clean salary'],kde=False,bins=14,color='b')\n",
    "plt.title(\"Salary Distribution\", fontsize=22)\n",
    "plt.ylabel('Frequency', fontsize=22)\n",
    "plt.xlabel('', fontsize=3)\n",
    "plt.yticks(fontsize=20)\n",
    "plt.xticks([50000, 100000, 150000, 200000, 250000, 300000, 350000],['50K', '100K', '150K', '200K', '250K', '300K', '350K'], fontsize=15)\n",
    "plt.show()"
   ]
  },
  {
   "cell_type": "markdown",
   "metadata": {},
   "source": [
    "## EDA: Multivariate"
   ]
  },
  {
   "cell_type": "code",
   "execution_count": 25,
   "metadata": {},
   "outputs": [
    {
     "data": {
      "image/png": "[encoded data removed]",
      "text/plain": [
       "<Figure size 288x288 with 1 Axes>"
      ]
     },
     "metadata": {
      "needs_background": "light"
     },
     "output_type": "display_data"
    }
   ],
   "source": [
    "newyorkTimezone = df.groupby('Location')['clean salary'].median()\n",
    "plt.figure(figsize=(4, 4))\n",
    "sns.barplot(newyorkTimezone.index, newyorkTimezone.values, alpha=0.8)\n",
    "plt.title(\"Median Salary\", fontsize=22)\n",
    "plt.ylabel('Salary', fontsize=20)\n",
    "plt.xlabel('', fontsize=20)\n",
    "plt.xticks(fontsize=20)\n",
    "plt.yticks([20000, 40000, 60000, 80000, 100000, 120000, 140000],['20K', '40K', '60K', '80K', '100K', '120K', '140K'], fontsize=15)\n",
    "plt.show()"
   ]
  },
  {
   "cell_type": "code",
   "execution_count": 402,
   "metadata": {},
   "outputs": [
    {
     "data": {
      "image/png": "[encoded data removed]",
      "text/plain": [
       "<Figure size 576x576 with 1 Axes>"
      ]
     },
     "metadata": {
      "needs_background": "light"
     },
     "output_type": "display_data"
    }
   ],
   "source": [
    "newyorkTimezone = df.groupby('Clean Job Title')['clean salary'].median().sort_values(ascending=False)\n",
    "plt.figure(figsize=(8, 8))\n",
    "sns.barplot(y=newyorkTimezone.index, x=newyorkTimezone.values, alpha=0.8)\n",
    "plt.title(\"Median Salary\", fontsize=22)\n",
    "plt.ylabel('', fontsize=20)\n",
    "plt.xlabel('', fontsize=20)\n",
    "plt.yticks(fontsize=15)\n",
    "plt.xticks([20000, 40000, 60000, 80000, 100000, 120000, 140000, 160000, 180000],['20K', '40K', '60K', '80K', '100K', '120K', '140K', '160K', '180K'], fontsize=15)\n",
    "plt.show()"
   ]
  },
  {
   "cell_type": "code",
   "execution_count": 26,
   "metadata": {},
   "outputs": [
    {
     "data": {
      "image/png": "[encoded data removed]",
      "text/plain": [
       "<Figure size 288x288 with 1 Axes>"
      ]
     },
     "metadata": {
      "needs_background": "light"
     },
     "output_type": "display_data"
    }
   ],
   "source": [
    "newyorkTimezone = df.groupby('Work type')['clean salary'].median()\n",
    "plt.figure(figsize=(4, 4))\n",
    "sns.barplot(newyorkTimezone.index, newyorkTimezone.values, alpha=0.8)\n",
    "plt.title(\"Median Salary\", fontsize=22)\n",
    "plt.ylabel('Salary', fontsize=20)\n",
    "plt.xlabel('', fontsize=3)\n",
    "plt.xticks(fontsize=20)\n",
    "plt.yticks([20000, 40000, 60000, 80000, 100000, 120000, 140000, 160000],['20K', '40K', '60K', '80K', '100K', '120K', '140K', '160K'], fontsize=15)\n",
    "plt.show()"
   ]
  },
  {
   "cell_type": "markdown",
   "metadata": {},
   "source": [
    "## Preprocessing"
   ]
  },
  {
   "cell_type": "markdown",
   "metadata": {},
   "source": [
    "### Imputing salaries"
   ]
  },
  {
   "cell_type": "markdown",
   "metadata": {},
   "source": [
    "Based on what columns should we impute our salaries? \n",
    "\n",
    "Let's see how median salary changes for different groupby operations!"
   ]
  },
  {
   "cell_type": "code",
   "execution_count": 274,
   "metadata": {},
   "outputs": [
    {
     "name": "stdout",
     "output_type": "stream",
     "text": [
      "Location\n",
      "Melbourne    144000.0\n",
      "Sydney       134871.0\n",
      "Name: clean salary, dtype: float64\n",
      "-----------------------------------------\n",
      "Clean Job Title\n",
      "Data Architect               180000.0\n",
      "Business Analyst             170400.0\n",
      "Data Migration Job           165000.0\n",
      "Data Scientist               156000.0\n",
      "Data Modelling Job           140400.0\n",
      "Consultant Involving Data    140000.0\n",
      "Data Analyst                 131000.0\n",
      "Data Engineer                130000.0\n",
      "Manager Involving Data       127371.0\n",
      "Developer Job Using Data     125095.0\n",
      "Senior Data Analyst          125000.0\n",
      "Junior Data Analyst           67200.0\n",
      "Data Administrator            57500.0\n",
      "Name: clean salary, dtype: float64\n",
      "-----------------------------------------\n",
      "Work type\n",
      "Contract/Temp      168000.0\n",
      "Full Time          125000.0\n",
      "Part Time           61440.0\n",
      "Casual/Vacation         NaN\n",
      "Name: clean salary, dtype: float64\n",
      "-----------------------------------------\n",
      "Industry\n",
      "Hospitality & Tourism                     192000.0\n",
      "Banking & Financial Services              160000.0\n",
      "Information & Communication Technology    144000.0\n",
      "Consulting & Strategy                     138000.0\n",
      "Science & Technology                      135000.0\n",
      "Education & Training                      130944.0\n",
      "Construction                              129250.0\n",
      "Sales                                     112595.0\n",
      "Marketing & Communications                105000.0\n",
      "Accounting                                103200.0\n",
      "Advertising, Arts & Media                 100000.0\n",
      "Government & Defence                       88270.0\n",
      "Real Estate & Property                     65000.0\n",
      "Manufacturing, Transport & Logistics       61440.0\n",
      "Administration & Office Support            53760.0\n",
      "Call Centre & Customer Service                 NaN\n",
      "Engineering                                    NaN\n",
      "Healthcare & Medical                           NaN\n",
      "Human Resources & Recruitment                  NaN\n",
      "Insurance & Superannuation                     NaN\n",
      "Mining, Resources & Energy                     NaN\n",
      "Retail & Consumer Products                     NaN\n",
      "Trades & Services                              NaN\n",
      "Name: clean salary, dtype: float64\n",
      "-----------------------------------------\n"
     ]
    }
   ],
   "source": [
    "for column in ['Location', 'Clean Job Title', 'Work type', 'Industry']:\n",
    "    print(df.groupby(column)['clean salary'].median().sort_values(ascending=False))\n",
    "    print('-----------------------------------------')"
   ]
  },
  {
   "cell_type": "markdown",
   "metadata": {},
   "source": [
    "Conclusions:\n",
    "- Median salary doesn't change much between Sydney and Melbourne, so let's NOT consider location for our imputations!\n",
    "- Median salary varies significantly for different job titles, so let's consider it for our imputations!\n",
    "- Median salary varies significantly for different work types, so let's consider it for out imputations!\n",
    "- Industry exhibits high class imbalance, so let's NOT consider it for our imputations!"
   ]
  },
  {
   "cell_type": "code",
   "execution_count": 277,
   "metadata": {},
   "outputs": [
    {
     "data": {
      "text/html": [
       "<div>\n",
       "<style scoped>\n",
       "    .dataframe tbody tr th:only-of-type {\n",
       "        vertical-align: middle;\n",
       "    }\n",
       "\n",
       "    .dataframe tbody tr th {\n",
       "        vertical-align: top;\n",
       "    }\n",
       "\n",
       "    .dataframe thead th {\n",
       "        text-align: right;\n",
       "    }\n",
       "</style>\n",
       "<table border=\"1\" class=\"dataframe\">\n",
       "  <thead>\n",
       "    <tr style=\"text-align: right;\">\n",
       "      <th></th>\n",
       "      <th>Contract/Temp</th>\n",
       "      <th>Full Time</th>\n",
       "    </tr>\n",
       "    <tr>\n",
       "      <th>Clean Job Title</th>\n",
       "      <th></th>\n",
       "      <th></th>\n",
       "    </tr>\n",
       "  </thead>\n",
       "  <tbody>\n",
       "    <tr>\n",
       "      <th>Data Architect</th>\n",
       "      <td>189000.0</td>\n",
       "      <td>180000.0</td>\n",
       "    </tr>\n",
       "    <tr>\n",
       "      <th>Data Scientist</th>\n",
       "      <td>174000.0</td>\n",
       "      <td>150000.0</td>\n",
       "    </tr>\n",
       "    <tr>\n",
       "      <th>Data Migration Job</th>\n",
       "      <td>174000.0</td>\n",
       "      <td>144000.0</td>\n",
       "    </tr>\n",
       "    <tr>\n",
       "      <th>Consultant Involving Data</th>\n",
       "      <td>183000.0</td>\n",
       "      <td>140000.0</td>\n",
       "    </tr>\n",
       "    <tr>\n",
       "      <th>Data Engineer</th>\n",
       "      <td>138000.0</td>\n",
       "      <td>130000.0</td>\n",
       "    </tr>\n",
       "    <tr>\n",
       "      <th>Senior Data Analyst</th>\n",
       "      <td>199200.0</td>\n",
       "      <td>121250.0</td>\n",
       "    </tr>\n",
       "    <tr>\n",
       "      <th>Manager Involving Data</th>\n",
       "      <td>216000.0</td>\n",
       "      <td>120000.0</td>\n",
       "    </tr>\n",
       "    <tr>\n",
       "      <th>Developer Job Using Data</th>\n",
       "      <td>144000.0</td>\n",
       "      <td>117647.5</td>\n",
       "    </tr>\n",
       "    <tr>\n",
       "      <th>Data Modelling Job</th>\n",
       "      <td>165000.0</td>\n",
       "      <td>107500.0</td>\n",
       "    </tr>\n",
       "    <tr>\n",
       "      <th>Business Analyst</th>\n",
       "      <td>177600.0</td>\n",
       "      <td>105000.0</td>\n",
       "    </tr>\n",
       "    <tr>\n",
       "      <th>Data Analyst</th>\n",
       "      <td>144000.0</td>\n",
       "      <td>105000.0</td>\n",
       "    </tr>\n",
       "    <tr>\n",
       "      <th>Junior Data Analyst</th>\n",
       "      <td>72600.0</td>\n",
       "      <td>63000.0</td>\n",
       "    </tr>\n",
       "    <tr>\n",
       "      <th>Data Administrator</th>\n",
       "      <td>61440.0</td>\n",
       "      <td>55000.0</td>\n",
       "    </tr>\n",
       "  </tbody>\n",
       "</table>\n",
       "</div>"
      ],
      "text/plain": [
       "                           Contract/Temp  Full Time\n",
       "Clean Job Title                                    \n",
       "Data Architect                  189000.0   180000.0\n",
       "Data Scientist                  174000.0   150000.0\n",
       "Data Migration Job              174000.0   144000.0\n",
       "Consultant Involving Data       183000.0   140000.0\n",
       "Data Engineer                   138000.0   130000.0\n",
       "Senior Data Analyst             199200.0   121250.0\n",
       "Manager Involving Data          216000.0   120000.0\n",
       "Developer Job Using Data        144000.0   117647.5\n",
       "Data Modelling Job              165000.0   107500.0\n",
       "Business Analyst                177600.0   105000.0\n",
       "Data Analyst                    144000.0   105000.0\n",
       "Junior Data Analyst              72600.0    63000.0\n",
       "Data Administrator               61440.0    55000.0"
      ]
     },
     "execution_count": 277,
     "metadata": {},
     "output_type": "execute_result"
    }
   ],
   "source": [
    "imputations = df.pivot_table(index='Clean Job Title',columns='Work type',aggfunc=np.median)\n",
    "imputations.columns = imputations.columns.droplevel()\n",
    "imputations.columns.name = None\n",
    "imputations.sort_values(by = 'Full Time', ascending=False)"
   ]
  },
  {
   "cell_type": "code",
   "execution_count": 309,
   "metadata": {},
   "outputs": [],
   "source": [
    "#let's make imputations based on the above pivot table:\n",
    "for i in range(0, 666):\n",
    "    if df.loc[i]['clean salary'] > 0:\n",
    "        None\n",
    "    else:\n",
    "        job_title = df.iloc[i]['Clean Job Title']\n",
    "        work_type = df.iloc[i]['Work type']\n",
    "        df.loc[i,'clean salary'] = imputations.loc[job_title, work_type]"
   ]
  },
  {
   "cell_type": "code",
   "execution_count": 307,
   "metadata": {},
   "outputs": [],
   "source": [
    "df2.reset_index(drop=True, inplace=True)"
   ]
  },
  {
   "cell_type": "code",
   "execution_count": 314,
   "metadata": {},
   "outputs": [],
   "source": [
    "df.to_csv('cleanest_salary.csv')"
   ]
  },
  {
   "cell_type": "code",
   "execution_count": 11,
   "metadata": {},
   "outputs": [],
   "source": [
    "df = pd.read_csv('cleanest_salary.csv').drop(columns = 'Unnamed: 0')"
   ]
  },
  {
   "cell_type": "markdown",
   "metadata": {},
   "source": [
    "### Prepare predictor and target matrices"
   ]
  },
  {
   "cell_type": "markdown",
   "metadata": {},
   "source": [
    "Create target: 'salary class'"
   ]
  },
  {
   "cell_type": "code",
   "execution_count": 471,
   "metadata": {},
   "outputs": [
    {
     "name": "stdout",
     "output_type": "stream",
     "text": [
      "0th percentile:  38400.0\n",
      "20th percentile:  105000.0\n",
      "40th percentile:  130000.0\n",
      "60th percentile:  144000.0\n",
      "80th percentile:  174000.0\n",
      "100th percentile:  360000.0\n"
     ]
    }
   ],
   "source": [
    "#Let's divide the salaries into quintiles and create a multiclass classification problem!\n",
    "\n",
    "print('0th percentile: ', df['clean salary'].quantile(0))\n",
    "print('20th percentile: ', df['clean salary'].quantile(0.2))\n",
    "print('40th percentile: ', df['clean salary'].quantile(0.4))\n",
    "print('60th percentile: ', df['clean salary'].quantile(0.6))\n",
    "print('80th percentile: ', df['clean salary'].quantile(0.8))\n",
    "print('100th percentile: ', df['clean salary'].quantile(1))"
   ]
  },
  {
   "cell_type": "code",
   "execution_count": 1313,
   "metadata": {},
   "outputs": [],
   "source": [
    "def salary_class(salary):\n",
    "    if salary <= df['clean salary'].quantile(0.2):\n",
    "        return 'Low'\n",
    "    elif salary <= df['clean salary'].quantile(0.4):\n",
    "        return 'Low/Medium'\n",
    "    elif salary <= df['clean salary'].quantile(0.6):\n",
    "        return 'Medium'\n",
    "    elif salary <= df['clean salary'].quantile(0.8):\n",
    "        return 'Medium/High'\n",
    "    elif salary <= df['clean salary'].quantile(1):\n",
    "        return 'High'"
   ]
  },
  {
   "cell_type": "code",
   "execution_count": 1314,
   "metadata": {
    "scrolled": true
   },
   "outputs": [],
   "source": [
    "df['salary class'] = df['clean salary'].apply(salary_class)\n",
    "y = df['salary class']"
   ]
  },
  {
   "cell_type": "markdown",
   "metadata": {},
   "source": [
    "Create predictor matrix"
   ]
  },
  {
   "cell_type": "code",
   "execution_count": 28,
   "metadata": {},
   "outputs": [],
   "source": [
    "# dummify the columns of interest: Location, Work type, Clean Job Title and Industry\n",
    "loc_dummies = pd.get_dummies(df['Location'], drop_first=True)\n",
    "type_dummies = pd.get_dummies(df['Work type'], drop_first=True)\n",
    "title_dummies = pd.get_dummies(df['Clean Job Title'], drop_first=True)\n",
    "industry_dummies = pd.get_dummies(df['Industry'], drop_first=True)\n",
    "\n",
    "X = pd.concat([loc_dummies, type_dummies, title_dummies, industry_dummies ], axis=1)"
   ]
  },
  {
   "cell_type": "code",
   "execution_count": 1341,
   "metadata": {},
   "outputs": [
    {
     "data": {
      "text/plain": [
       "['Junior Data Analyst',\n",
       " 'Advertising, Arts & Media',\n",
       " 'Call Centre & Customer Service',\n",
       " 'Construction',\n",
       " 'Education & Training',\n",
       " 'Engineering',\n",
       " 'Government & Defence',\n",
       " 'Healthcare & Medical',\n",
       " 'Hospitality & Tourism',\n",
       " 'Human Resources & Recruitment',\n",
       " 'Insurance & Superannuation',\n",
       " 'Manufacturing, Transport & Logistics',\n",
       " 'Mining, Resources & Energy',\n",
       " 'Real Estate & Property',\n",
       " 'Retail & Consumer Products',\n",
       " 'Trades & Services']"
      ]
     },
     "execution_count": 1341,
     "metadata": {},
     "output_type": "execute_result"
    }
   ],
   "source": [
    "# find columns with low variance!\n",
    "low_var_columns = []\n",
    "for column in list(X.columns):\n",
    "    if np.max(X[column].value_counts(normalize=True)) > 0.99:\n",
    "        low_var_columns.append(column)\n",
    "low_var_columns"
   ]
  },
  {
   "cell_type": "code",
   "execution_count": 1342,
   "metadata": {},
   "outputs": [],
   "source": [
    "# drop low variance columns from X\n",
    "X.drop(columns = low_var_columns, inplace=True)"
   ]
  },
  {
   "cell_type": "code",
   "execution_count": 29,
   "metadata": {},
   "outputs": [
    {
     "data": {
      "text/html": [
       "<div>\n",
       "<style scoped>\n",
       "    .dataframe tbody tr th:only-of-type {\n",
       "        vertical-align: middle;\n",
       "    }\n",
       "\n",
       "    .dataframe tbody tr th {\n",
       "        vertical-align: top;\n",
       "    }\n",
       "\n",
       "    .dataframe thead th {\n",
       "        text-align: right;\n",
       "    }\n",
       "</style>\n",
       "<table border=\"1\" class=\"dataframe\">\n",
       "  <thead>\n",
       "    <tr style=\"text-align: right;\">\n",
       "      <th></th>\n",
       "      <th>Sydney</th>\n",
       "      <th>Full Time</th>\n",
       "      <th>Consultant Involving Data</th>\n",
       "      <th>Data Administrator</th>\n",
       "      <th>Data Analyst</th>\n",
       "      <th>Data Architect</th>\n",
       "      <th>Data Engineer</th>\n",
       "      <th>Data Migration Job</th>\n",
       "      <th>Data Modelling Job</th>\n",
       "      <th>Data Scientist</th>\n",
       "      <th>...</th>\n",
       "      <th>Information &amp; Communication Technology</th>\n",
       "      <th>Insurance &amp; Superannuation</th>\n",
       "      <th>Manufacturing, Transport &amp; Logistics</th>\n",
       "      <th>Marketing &amp; Communications</th>\n",
       "      <th>Mining, Resources &amp; Energy</th>\n",
       "      <th>Real Estate &amp; Property</th>\n",
       "      <th>Retail &amp; Consumer Products</th>\n",
       "      <th>Sales</th>\n",
       "      <th>Science &amp; Technology</th>\n",
       "      <th>Trades &amp; Services</th>\n",
       "    </tr>\n",
       "  </thead>\n",
       "  <tbody>\n",
       "    <tr>\n",
       "      <th>0</th>\n",
       "      <td>1</td>\n",
       "      <td>0</td>\n",
       "      <td>0</td>\n",
       "      <td>0</td>\n",
       "      <td>1</td>\n",
       "      <td>0</td>\n",
       "      <td>0</td>\n",
       "      <td>0</td>\n",
       "      <td>0</td>\n",
       "      <td>0</td>\n",
       "      <td>...</td>\n",
       "      <td>1</td>\n",
       "      <td>0</td>\n",
       "      <td>0</td>\n",
       "      <td>0</td>\n",
       "      <td>0</td>\n",
       "      <td>0</td>\n",
       "      <td>0</td>\n",
       "      <td>0</td>\n",
       "      <td>0</td>\n",
       "      <td>0</td>\n",
       "    </tr>\n",
       "    <tr>\n",
       "      <th>1</th>\n",
       "      <td>1</td>\n",
       "      <td>1</td>\n",
       "      <td>0</td>\n",
       "      <td>0</td>\n",
       "      <td>0</td>\n",
       "      <td>0</td>\n",
       "      <td>0</td>\n",
       "      <td>0</td>\n",
       "      <td>0</td>\n",
       "      <td>0</td>\n",
       "      <td>...</td>\n",
       "      <td>1</td>\n",
       "      <td>0</td>\n",
       "      <td>0</td>\n",
       "      <td>0</td>\n",
       "      <td>0</td>\n",
       "      <td>0</td>\n",
       "      <td>0</td>\n",
       "      <td>0</td>\n",
       "      <td>0</td>\n",
       "      <td>0</td>\n",
       "    </tr>\n",
       "    <tr>\n",
       "      <th>2</th>\n",
       "      <td>1</td>\n",
       "      <td>0</td>\n",
       "      <td>0</td>\n",
       "      <td>0</td>\n",
       "      <td>1</td>\n",
       "      <td>0</td>\n",
       "      <td>0</td>\n",
       "      <td>0</td>\n",
       "      <td>0</td>\n",
       "      <td>0</td>\n",
       "      <td>...</td>\n",
       "      <td>1</td>\n",
       "      <td>0</td>\n",
       "      <td>0</td>\n",
       "      <td>0</td>\n",
       "      <td>0</td>\n",
       "      <td>0</td>\n",
       "      <td>0</td>\n",
       "      <td>0</td>\n",
       "      <td>0</td>\n",
       "      <td>0</td>\n",
       "    </tr>\n",
       "    <tr>\n",
       "      <th>3</th>\n",
       "      <td>1</td>\n",
       "      <td>1</td>\n",
       "      <td>0</td>\n",
       "      <td>0</td>\n",
       "      <td>0</td>\n",
       "      <td>0</td>\n",
       "      <td>0</td>\n",
       "      <td>0</td>\n",
       "      <td>0</td>\n",
       "      <td>0</td>\n",
       "      <td>...</td>\n",
       "      <td>0</td>\n",
       "      <td>0</td>\n",
       "      <td>0</td>\n",
       "      <td>0</td>\n",
       "      <td>0</td>\n",
       "      <td>1</td>\n",
       "      <td>0</td>\n",
       "      <td>0</td>\n",
       "      <td>0</td>\n",
       "      <td>0</td>\n",
       "    </tr>\n",
       "    <tr>\n",
       "      <th>4</th>\n",
       "      <td>1</td>\n",
       "      <td>0</td>\n",
       "      <td>0</td>\n",
       "      <td>0</td>\n",
       "      <td>1</td>\n",
       "      <td>0</td>\n",
       "      <td>0</td>\n",
       "      <td>0</td>\n",
       "      <td>0</td>\n",
       "      <td>0</td>\n",
       "      <td>...</td>\n",
       "      <td>1</td>\n",
       "      <td>0</td>\n",
       "      <td>0</td>\n",
       "      <td>0</td>\n",
       "      <td>0</td>\n",
       "      <td>0</td>\n",
       "      <td>0</td>\n",
       "      <td>0</td>\n",
       "      <td>0</td>\n",
       "      <td>0</td>\n",
       "    </tr>\n",
       "  </tbody>\n",
       "</table>\n",
       "<p>5 rows × 36 columns</p>\n",
       "</div>"
      ],
      "text/plain": [
       "   Sydney  Full Time  Consultant Involving Data  Data Administrator  \\\n",
       "0       1          0                          0                   0   \n",
       "1       1          1                          0                   0   \n",
       "2       1          0                          0                   0   \n",
       "3       1          1                          0                   0   \n",
       "4       1          0                          0                   0   \n",
       "\n",
       "   Data Analyst  Data Architect  Data Engineer  Data Migration Job  \\\n",
       "0             1               0              0                   0   \n",
       "1             0               0              0                   0   \n",
       "2             1               0              0                   0   \n",
       "3             0               0              0                   0   \n",
       "4             1               0              0                   0   \n",
       "\n",
       "   Data Modelling Job  Data Scientist        ...          \\\n",
       "0                   0               0        ...           \n",
       "1                   0               0        ...           \n",
       "2                   0               0        ...           \n",
       "3                   0               0        ...           \n",
       "4                   0               0        ...           \n",
       "\n",
       "   Information & Communication Technology  Insurance & Superannuation  \\\n",
       "0                                       1                           0   \n",
       "1                                       1                           0   \n",
       "2                                       1                           0   \n",
       "3                                       0                           0   \n",
       "4                                       1                           0   \n",
       "\n",
       "   Manufacturing, Transport & Logistics  Marketing & Communications  \\\n",
       "0                                     0                           0   \n",
       "1                                     0                           0   \n",
       "2                                     0                           0   \n",
       "3                                     0                           0   \n",
       "4                                     0                           0   \n",
       "\n",
       "   Mining, Resources & Energy  Real Estate & Property  \\\n",
       "0                           0                       0   \n",
       "1                           0                       0   \n",
       "2                           0                       0   \n",
       "3                           0                       1   \n",
       "4                           0                       0   \n",
       "\n",
       "   Retail & Consumer Products  Sales  Science & Technology  Trades & Services  \n",
       "0                           0      0                     0                  0  \n",
       "1                           0      0                     0                  0  \n",
       "2                           0      0                     0                  0  \n",
       "3                           0      0                     0                  0  \n",
       "4                           0      0                     0                  0  \n",
       "\n",
       "[5 rows x 36 columns]"
      ]
     },
     "execution_count": 29,
     "metadata": {},
     "output_type": "execute_result"
    }
   ],
   "source": [
    "X.head()"
   ]
  },
  {
   "cell_type": "code",
   "execution_count": 1346,
   "metadata": {},
   "outputs": [],
   "source": [
    "X_train, X_test, y_train, y_test = train_test_split(X, y, test_size=0.2, random_state=42)"
   ]
  },
  {
   "cell_type": "code",
   "execution_count": 1347,
   "metadata": {},
   "outputs": [
    {
     "name": "stdout",
     "output_type": "stream",
     "text": [
      "(532, 20)\n",
      "(134, 20)\n",
      "(532,)\n",
      "(134,)\n"
     ]
    }
   ],
   "source": [
    "print(X_train.shape)\n",
    "print(X_test.shape)\n",
    "print(y_train.shape)\n",
    "print(y_test.shape)"
   ]
  },
  {
   "cell_type": "markdown",
   "metadata": {},
   "source": [
    "## Modelling"
   ]
  },
  {
   "cell_type": "code",
   "execution_count": 1345,
   "metadata": {},
   "outputs": [
    {
     "data": {
      "text/plain": [
       "Low            26.4\n",
       "Medium         20.9\n",
       "Low/Medium     20.0\n",
       "High           16.4\n",
       "Medium/High    16.4\n",
       "Name: salary class, dtype: float64"
      ]
     },
     "execution_count": 1345,
     "metadata": {},
     "output_type": "execute_result"
    }
   ],
   "source": [
    "np.round(y.value_counts(normalize=True)*100, 1)"
   ]
  },
  {
   "cell_type": "markdown",
   "metadata": {},
   "source": [
    "The baseline accuracy 26.4%\n",
    "\n",
    "Let's try the following 6 models: \n",
    "- KNN\n",
    "- SVM\n",
    "- Logistic Regression\n",
    "- Naive Bayes\n",
    "- Decision Tree\n",
    "- Random Forest"
   ]
  },
  {
   "cell_type": "code",
   "execution_count": 1348,
   "metadata": {},
   "outputs": [
    {
     "name": "stderr",
     "output_type": "stream",
     "text": [
      "/Users/Tazman/anaconda3/lib/python3.7/site-packages/sklearn/model_selection/_search.py:841: DeprecationWarning: The default of the `iid` parameter will change from True to False in version 0.22 and will be removed in 0.24. This will change numeric results when test-set sizes are unequal.\n",
      "  DeprecationWarning)\n"
     ]
    },
    {
     "data": {
      "text/plain": [
       "GridSearchCV(cv=3, error_score='raise-deprecating',\n",
       "       estimator=KNeighborsClassifier(algorithm='auto', leaf_size=30, metric='minkowski',\n",
       "           metric_params=None, n_jobs=None, n_neighbors=5, p=2,\n",
       "           weights='uniform'),\n",
       "       fit_params=None, iid='warn', n_jobs=None,\n",
       "       param_grid={'n_neighbors': [1, 2, 3, 4, 5, 6, 7, 8, 9, 10, 11, 12, 13, 14, 15, 16, 17, 18, 19, 20, 21, 22, 23, 24, 25, 26, 27, 28, 29, 30, 31, 32, 33, 34, 35, 36, 37, 38, 39, 40, 41, 42, 43, 44, 45, 46, 47, 48, 49, 50, 51, 52, 53, 54, 55, 56, 57, 58, 59, 60, 61, 62, 63, 64, 65, 66, 67, 68, 69, 70, 71, 72, 73, 74, 75, 76, 77, 78, 79, 80, 81, 82, 83, 84, 85, 86, 87, 88, 89, 90, 91, 92, 93, 94, 95, 96, 97, 98, 99], 'weights': ['distance', 'uniform']},\n",
       "       pre_dispatch='2*n_jobs', refit=True, return_train_score='warn',\n",
       "       scoring=None, verbose=0)"
      ]
     },
     "execution_count": 1348,
     "metadata": {},
     "output_type": "execute_result"
    }
   ],
   "source": [
    "knn = KNeighborsClassifier()\n",
    "\n",
    "knn_params = {\n",
    "    'n_neighbors':list(range(1,100)),\n",
    "    'weights':['distance','uniform']\n",
    "}\n",
    "knn_gs = GridSearchCV(knn, knn_params, cv=3)\n",
    "knn_gs.fit(X_train, y_train)"
   ]
  },
  {
   "cell_type": "code",
   "execution_count": 1349,
   "metadata": {},
   "outputs": [
    {
     "name": "stdout",
     "output_type": "stream",
     "text": [
      "{'n_neighbors': 8, 'weights': 'distance'}\n",
      "0.7857142857142857\n"
     ]
    }
   ],
   "source": [
    "knn_best = knn_gs.best_estimator_\n",
    "print(knn_gs.best_params_)\n",
    "print(knn_gs.best_score_)"
   ]
  },
  {
   "cell_type": "code",
   "execution_count": 1366,
   "metadata": {},
   "outputs": [
    {
     "name": "stdout",
     "output_type": "stream",
     "text": [
      "Fitting 3 folds for each of 400 candidates, totalling 1200 fits\n"
     ]
    },
    {
     "name": "stderr",
     "output_type": "stream",
     "text": [
      "[Parallel(n_jobs=1)]: Using backend SequentialBackend with 1 concurrent workers.\n",
      "[Parallel(n_jobs=1)]: Done 1200 out of 1200 | elapsed:   20.7s finished\n",
      "/Users/Tazman/anaconda3/lib/python3.7/site-packages/sklearn/model_selection/_search.py:841: DeprecationWarning: The default of the `iid` parameter will change from True to False in version 0.22 and will be removed in 0.24. This will change numeric results when test-set sizes are unequal.\n",
      "  DeprecationWarning)\n"
     ]
    },
    {
     "data": {
      "text/plain": [
       "GridSearchCV(cv=3, error_score='raise-deprecating',\n",
       "       estimator=SVC(C=1.0, cache_size=200, class_weight=None, coef0=0.0,\n",
       "  decision_function_shape='ovr', degree=3, gamma='auto_deprecated',\n",
       "  kernel='rbf', max_iter=-1, probability=False, random_state=None,\n",
       "  shrinking=True, tol=0.001, verbose=False),\n",
       "       fit_params=None, iid='warn', n_jobs=None,\n",
       "       param_grid={'C': array([1.00000e-03, 3.59381e-03, 1.29155e-02, 4.64159e-02, 1.66810e-01,\n",
       "       5.99484e-01, 2.15443e+00, 7.74264e+00, 2.78256e+01, 1.00000e+02]), 'gamma': array([1.00000e-05, 5.99484e-05, 3.59381e-04, 2.15443e-03, 1.29155e-02,\n",
       "       7.74264e-02, 4.64159e-01, 2.78256e+00, 1.66810e+01, 1.00000e+02]), 'kernel': ['linear', 'rbf', 'poly', 'sigmoid']},\n",
       "       pre_dispatch='2*n_jobs', refit=True, return_train_score='warn',\n",
       "       scoring=None, verbose=1)"
      ]
     },
     "execution_count": 1366,
     "metadata": {},
     "output_type": "execute_result"
    }
   ],
   "source": [
    "svc_params = {\n",
    "    'C':np.logspace(-3, 2, 10),\n",
    "    'gamma':np.logspace(-5, 2, 10),\n",
    "    'kernel':['linear','rbf', 'poly', 'sigmoid']\n",
    "}\n",
    "\n",
    "\n",
    "svc_gs = GridSearchCV(SVC(), svc_params, cv=3, verbose=1)\n",
    "svc_gs.fit(X_train, y_train)"
   ]
  },
  {
   "cell_type": "code",
   "execution_count": 1367,
   "metadata": {},
   "outputs": [
    {
     "name": "stdout",
     "output_type": "stream",
     "text": [
      "{'C': 100.0, 'gamma': 0.0774263682681127, 'kernel': 'sigmoid'}\n",
      "0.849624060150376\n"
     ]
    }
   ],
   "source": [
    "best_svc = svc_gs.best_estimator_\n",
    "print(svc_gs.best_params_)\n",
    "print(svc_gs.best_score_)"
   ]
  },
  {
   "cell_type": "code",
   "execution_count": 1353,
   "metadata": {},
   "outputs": [
    {
     "name": "stdout",
     "output_type": "stream",
     "text": [
      "Fitting 3 folds for each of 80 candidates, totalling 240 fits\n"
     ]
    },
    {
     "name": "stderr",
     "output_type": "stream",
     "text": [
      "[Parallel(n_jobs=1)]: Using backend SequentialBackend with 1 concurrent workers.\n",
      "/Users/Tazman/anaconda3/lib/python3.7/site-packages/sklearn/linear_model/logistic.py:460: FutureWarning: Default multi_class will be changed to 'auto' in 0.22. Specify the multi_class option to silence this warning.\n",
      "  \"this warning.\", FutureWarning)\n",
      "/Users/Tazman/anaconda3/lib/python3.7/site-packages/sklearn/linear_model/logistic.py:460: FutureWarning: Default multi_class will be changed to 'auto' in 0.22. Specify the multi_class option to silence this warning.\n",
      "  \"this warning.\", FutureWarning)\n",
      "/Users/Tazman/anaconda3/lib/python3.7/site-packages/sklearn/linear_model/logistic.py:460: FutureWarning: Default multi_class will be changed to 'auto' in 0.22. Specify the multi_class option to silence this warning.\n",
      "  \"this warning.\", FutureWarning)\n",
      "/Users/Tazman/anaconda3/lib/python3.7/site-packages/sklearn/linear_model/logistic.py:460: FutureWarning: Default multi_class will be changed to 'auto' in 0.22. Specify the multi_class option to silence this warning.\n",
      "  \"this warning.\", FutureWarning)\n",
      "/Users/Tazman/anaconda3/lib/python3.7/site-packages/sklearn/linear_model/logistic.py:460: FutureWarning: Default multi_class will be changed to 'auto' in 0.22. Specify the multi_class option to silence this warning.\n",
      "  \"this warning.\", FutureWarning)\n",
      "/Users/Tazman/anaconda3/lib/python3.7/site-packages/sklearn/linear_model/logistic.py:460: FutureWarning: Default multi_class will be changed to 'auto' in 0.22. Specify the multi_class option to silence this warning.\n",
      "  \"this warning.\", FutureWarning)\n",
      "/Users/Tazman/anaconda3/lib/python3.7/site-packages/sklearn/linear_model/logistic.py:460: FutureWarning: Default multi_class will be changed to 'auto' in 0.22. Specify the multi_class option to silence this warning.\n",
      "  \"this warning.\", FutureWarning)\n",
      "/Users/Tazman/anaconda3/lib/python3.7/site-packages/sklearn/linear_model/logistic.py:460: FutureWarning: Default multi_class will be changed to 'auto' in 0.22. Specify the multi_class option to silence this warning.\n",
      "  \"this warning.\", FutureWarning)\n",
      "/Users/Tazman/anaconda3/lib/python3.7/site-packages/sklearn/linear_model/logistic.py:460: FutureWarning: Default multi_class will be changed to 'auto' in 0.22. Specify the multi_class option to silence this warning.\n",
      "  \"this warning.\", FutureWarning)\n",
      "/Users/Tazman/anaconda3/lib/python3.7/site-packages/sklearn/linear_model/logistic.py:460: FutureWarning: Default multi_class will be changed to 'auto' in 0.22. Specify the multi_class option to silence this warning.\n",
      "  \"this warning.\", FutureWarning)\n",
      "/Users/Tazman/anaconda3/lib/python3.7/site-packages/sklearn/linear_model/logistic.py:460: FutureWarning: Default multi_class will be changed to 'auto' in 0.22. Specify the multi_class option to silence this warning.\n",
      "  \"this warning.\", FutureWarning)\n",
      "/Users/Tazman/anaconda3/lib/python3.7/site-packages/sklearn/linear_model/logistic.py:460: FutureWarning: Default multi_class will be changed to 'auto' in 0.22. Specify the multi_class option to silence this warning.\n",
      "  \"this warning.\", FutureWarning)\n",
      "/Users/Tazman/anaconda3/lib/python3.7/site-packages/sklearn/linear_model/logistic.py:460: FutureWarning: Default multi_class will be changed to 'auto' in 0.22. Specify the multi_class option to silence this warning.\n",
      "  \"this warning.\", FutureWarning)\n",
      "/Users/Tazman/anaconda3/lib/python3.7/site-packages/sklearn/linear_model/logistic.py:460: FutureWarning: Default multi_class will be changed to 'auto' in 0.22. Specify the multi_class option to silence this warning.\n",
      "  \"this warning.\", FutureWarning)\n",
      "/Users/Tazman/anaconda3/lib/python3.7/site-packages/sklearn/linear_model/logistic.py:460: FutureWarning: Default multi_class will be changed to 'auto' in 0.22. Specify the multi_class option to silence this warning.\n",
      "  \"this warning.\", FutureWarning)\n",
      "/Users/Tazman/anaconda3/lib/python3.7/site-packages/sklearn/linear_model/logistic.py:460: FutureWarning: Default multi_class will be changed to 'auto' in 0.22. Specify the multi_class option to silence this warning.\n",
      "  \"this warning.\", FutureWarning)\n",
      "/Users/Tazman/anaconda3/lib/python3.7/site-packages/sklearn/linear_model/logistic.py:460: FutureWarning: Default multi_class will be changed to 'auto' in 0.22. Specify the multi_class option to silence this warning.\n",
      "  \"this warning.\", FutureWarning)\n",
      "/Users/Tazman/anaconda3/lib/python3.7/site-packages/sklearn/linear_model/logistic.py:460: FutureWarning: Default multi_class will be changed to 'auto' in 0.22. Specify the multi_class option to silence this warning.\n",
      "  \"this warning.\", FutureWarning)\n",
      "/Users/Tazman/anaconda3/lib/python3.7/site-packages/sklearn/linear_model/logistic.py:460: FutureWarning: Default multi_class will be changed to 'auto' in 0.22. Specify the multi_class option to silence this warning.\n",
      "  \"this warning.\", FutureWarning)\n",
      "/Users/Tazman/anaconda3/lib/python3.7/site-packages/sklearn/linear_model/logistic.py:460: FutureWarning: Default multi_class will be changed to 'auto' in 0.22. Specify the multi_class option to silence this warning.\n",
      "  \"this warning.\", FutureWarning)\n",
      "/Users/Tazman/anaconda3/lib/python3.7/site-packages/sklearn/linear_model/logistic.py:460: FutureWarning: Default multi_class will be changed to 'auto' in 0.22. Specify the multi_class option to silence this warning.\n",
      "  \"this warning.\", FutureWarning)\n",
      "/Users/Tazman/anaconda3/lib/python3.7/site-packages/sklearn/linear_model/logistic.py:460: FutureWarning: Default multi_class will be changed to 'auto' in 0.22. Specify the multi_class option to silence this warning.\n",
      "  \"this warning.\", FutureWarning)\n",
      "/Users/Tazman/anaconda3/lib/python3.7/site-packages/sklearn/linear_model/logistic.py:460: FutureWarning: Default multi_class will be changed to 'auto' in 0.22. Specify the multi_class option to silence this warning.\n",
      "  \"this warning.\", FutureWarning)\n",
      "/Users/Tazman/anaconda3/lib/python3.7/site-packages/sklearn/linear_model/logistic.py:460: FutureWarning: Default multi_class will be changed to 'auto' in 0.22. Specify the multi_class option to silence this warning.\n",
      "  \"this warning.\", FutureWarning)\n",
      "/Users/Tazman/anaconda3/lib/python3.7/site-packages/sklearn/linear_model/logistic.py:460: FutureWarning: Default multi_class will be changed to 'auto' in 0.22. Specify the multi_class option to silence this warning.\n",
      "  \"this warning.\", FutureWarning)\n",
      "/Users/Tazman/anaconda3/lib/python3.7/site-packages/sklearn/linear_model/logistic.py:460: FutureWarning: Default multi_class will be changed to 'auto' in 0.22. Specify the multi_class option to silence this warning.\n",
      "  \"this warning.\", FutureWarning)\n",
      "/Users/Tazman/anaconda3/lib/python3.7/site-packages/sklearn/linear_model/logistic.py:460: FutureWarning: Default multi_class will be changed to 'auto' in 0.22. Specify the multi_class option to silence this warning.\n",
      "  \"this warning.\", FutureWarning)\n",
      "/Users/Tazman/anaconda3/lib/python3.7/site-packages/sklearn/linear_model/logistic.py:460: FutureWarning: Default multi_class will be changed to 'auto' in 0.22. Specify the multi_class option to silence this warning.\n",
      "  \"this warning.\", FutureWarning)\n",
      "/Users/Tazman/anaconda3/lib/python3.7/site-packages/sklearn/linear_model/logistic.py:460: FutureWarning: Default multi_class will be changed to 'auto' in 0.22. Specify the multi_class option to silence this warning.\n",
      "  \"this warning.\", FutureWarning)\n",
      "/Users/Tazman/anaconda3/lib/python3.7/site-packages/sklearn/linear_model/logistic.py:460: FutureWarning: Default multi_class will be changed to 'auto' in 0.22. Specify the multi_class option to silence this warning.\n",
      "  \"this warning.\", FutureWarning)\n",
      "/Users/Tazman/anaconda3/lib/python3.7/site-packages/sklearn/linear_model/logistic.py:460: FutureWarning: Default multi_class will be changed to 'auto' in 0.22. Specify the multi_class option to silence this warning.\n",
      "  \"this warning.\", FutureWarning)\n",
      "/Users/Tazman/anaconda3/lib/python3.7/site-packages/sklearn/linear_model/logistic.py:460: FutureWarning: Default multi_class will be changed to 'auto' in 0.22. Specify the multi_class option to silence this warning.\n",
      "  \"this warning.\", FutureWarning)\n",
      "/Users/Tazman/anaconda3/lib/python3.7/site-packages/sklearn/linear_model/logistic.py:460: FutureWarning: Default multi_class will be changed to 'auto' in 0.22. Specify the multi_class option to silence this warning.\n",
      "  \"this warning.\", FutureWarning)\n",
      "/Users/Tazman/anaconda3/lib/python3.7/site-packages/sklearn/linear_model/logistic.py:460: FutureWarning: Default multi_class will be changed to 'auto' in 0.22. Specify the multi_class option to silence this warning.\n",
      "  \"this warning.\", FutureWarning)\n",
      "/Users/Tazman/anaconda3/lib/python3.7/site-packages/sklearn/linear_model/logistic.py:460: FutureWarning: Default multi_class will be changed to 'auto' in 0.22. Specify the multi_class option to silence this warning.\n",
      "  \"this warning.\", FutureWarning)\n",
      "/Users/Tazman/anaconda3/lib/python3.7/site-packages/sklearn/linear_model/logistic.py:460: FutureWarning: Default multi_class will be changed to 'auto' in 0.22. Specify the multi_class option to silence this warning.\n",
      "  \"this warning.\", FutureWarning)\n",
      "/Users/Tazman/anaconda3/lib/python3.7/site-packages/sklearn/linear_model/logistic.py:460: FutureWarning: Default multi_class will be changed to 'auto' in 0.22. Specify the multi_class option to silence this warning.\n",
      "  \"this warning.\", FutureWarning)\n"
     ]
    },
    {
     "name": "stderr",
     "output_type": "stream",
     "text": [
      "/Users/Tazman/anaconda3/lib/python3.7/site-packages/sklearn/linear_model/logistic.py:460: FutureWarning: Default multi_class will be changed to 'auto' in 0.22. Specify the multi_class option to silence this warning.\n",
      "  \"this warning.\", FutureWarning)\n",
      "/Users/Tazman/anaconda3/lib/python3.7/site-packages/sklearn/linear_model/logistic.py:460: FutureWarning: Default multi_class will be changed to 'auto' in 0.22. Specify the multi_class option to silence this warning.\n",
      "  \"this warning.\", FutureWarning)\n",
      "/Users/Tazman/anaconda3/lib/python3.7/site-packages/sklearn/linear_model/logistic.py:460: FutureWarning: Default multi_class will be changed to 'auto' in 0.22. Specify the multi_class option to silence this warning.\n",
      "  \"this warning.\", FutureWarning)\n",
      "/Users/Tazman/anaconda3/lib/python3.7/site-packages/sklearn/linear_model/logistic.py:460: FutureWarning: Default multi_class will be changed to 'auto' in 0.22. Specify the multi_class option to silence this warning.\n",
      "  \"this warning.\", FutureWarning)\n",
      "/Users/Tazman/anaconda3/lib/python3.7/site-packages/sklearn/linear_model/logistic.py:460: FutureWarning: Default multi_class will be changed to 'auto' in 0.22. Specify the multi_class option to silence this warning.\n",
      "  \"this warning.\", FutureWarning)\n",
      "/Users/Tazman/anaconda3/lib/python3.7/site-packages/sklearn/linear_model/logistic.py:460: FutureWarning: Default multi_class will be changed to 'auto' in 0.22. Specify the multi_class option to silence this warning.\n",
      "  \"this warning.\", FutureWarning)\n",
      "/Users/Tazman/anaconda3/lib/python3.7/site-packages/sklearn/linear_model/logistic.py:460: FutureWarning: Default multi_class will be changed to 'auto' in 0.22. Specify the multi_class option to silence this warning.\n",
      "  \"this warning.\", FutureWarning)\n",
      "/Users/Tazman/anaconda3/lib/python3.7/site-packages/sklearn/linear_model/logistic.py:460: FutureWarning: Default multi_class will be changed to 'auto' in 0.22. Specify the multi_class option to silence this warning.\n",
      "  \"this warning.\", FutureWarning)\n",
      "/Users/Tazman/anaconda3/lib/python3.7/site-packages/sklearn/linear_model/logistic.py:460: FutureWarning: Default multi_class will be changed to 'auto' in 0.22. Specify the multi_class option to silence this warning.\n",
      "  \"this warning.\", FutureWarning)\n",
      "/Users/Tazman/anaconda3/lib/python3.7/site-packages/sklearn/linear_model/logistic.py:460: FutureWarning: Default multi_class will be changed to 'auto' in 0.22. Specify the multi_class option to silence this warning.\n",
      "  \"this warning.\", FutureWarning)\n",
      "/Users/Tazman/anaconda3/lib/python3.7/site-packages/sklearn/linear_model/logistic.py:460: FutureWarning: Default multi_class will be changed to 'auto' in 0.22. Specify the multi_class option to silence this warning.\n",
      "  \"this warning.\", FutureWarning)\n",
      "/Users/Tazman/anaconda3/lib/python3.7/site-packages/sklearn/linear_model/logistic.py:460: FutureWarning: Default multi_class will be changed to 'auto' in 0.22. Specify the multi_class option to silence this warning.\n",
      "  \"this warning.\", FutureWarning)\n",
      "/Users/Tazman/anaconda3/lib/python3.7/site-packages/sklearn/linear_model/logistic.py:460: FutureWarning: Default multi_class will be changed to 'auto' in 0.22. Specify the multi_class option to silence this warning.\n",
      "  \"this warning.\", FutureWarning)\n",
      "/Users/Tazman/anaconda3/lib/python3.7/site-packages/sklearn/linear_model/logistic.py:460: FutureWarning: Default multi_class will be changed to 'auto' in 0.22. Specify the multi_class option to silence this warning.\n",
      "  \"this warning.\", FutureWarning)\n",
      "/Users/Tazman/anaconda3/lib/python3.7/site-packages/sklearn/linear_model/logistic.py:460: FutureWarning: Default multi_class will be changed to 'auto' in 0.22. Specify the multi_class option to silence this warning.\n",
      "  \"this warning.\", FutureWarning)\n",
      "/Users/Tazman/anaconda3/lib/python3.7/site-packages/sklearn/linear_model/logistic.py:460: FutureWarning: Default multi_class will be changed to 'auto' in 0.22. Specify the multi_class option to silence this warning.\n",
      "  \"this warning.\", FutureWarning)\n",
      "/Users/Tazman/anaconda3/lib/python3.7/site-packages/sklearn/linear_model/logistic.py:460: FutureWarning: Default multi_class will be changed to 'auto' in 0.22. Specify the multi_class option to silence this warning.\n",
      "  \"this warning.\", FutureWarning)\n",
      "/Users/Tazman/anaconda3/lib/python3.7/site-packages/sklearn/linear_model/logistic.py:460: FutureWarning: Default multi_class will be changed to 'auto' in 0.22. Specify the multi_class option to silence this warning.\n",
      "  \"this warning.\", FutureWarning)\n",
      "/Users/Tazman/anaconda3/lib/python3.7/site-packages/sklearn/linear_model/logistic.py:460: FutureWarning: Default multi_class will be changed to 'auto' in 0.22. Specify the multi_class option to silence this warning.\n",
      "  \"this warning.\", FutureWarning)\n",
      "/Users/Tazman/anaconda3/lib/python3.7/site-packages/sklearn/linear_model/logistic.py:460: FutureWarning: Default multi_class will be changed to 'auto' in 0.22. Specify the multi_class option to silence this warning.\n",
      "  \"this warning.\", FutureWarning)\n",
      "/Users/Tazman/anaconda3/lib/python3.7/site-packages/sklearn/linear_model/logistic.py:460: FutureWarning: Default multi_class will be changed to 'auto' in 0.22. Specify the multi_class option to silence this warning.\n",
      "  \"this warning.\", FutureWarning)\n",
      "/Users/Tazman/anaconda3/lib/python3.7/site-packages/sklearn/linear_model/logistic.py:460: FutureWarning: Default multi_class will be changed to 'auto' in 0.22. Specify the multi_class option to silence this warning.\n",
      "  \"this warning.\", FutureWarning)\n",
      "/Users/Tazman/anaconda3/lib/python3.7/site-packages/sklearn/linear_model/logistic.py:460: FutureWarning: Default multi_class will be changed to 'auto' in 0.22. Specify the multi_class option to silence this warning.\n",
      "  \"this warning.\", FutureWarning)\n",
      "/Users/Tazman/anaconda3/lib/python3.7/site-packages/sklearn/linear_model/logistic.py:460: FutureWarning: Default multi_class will be changed to 'auto' in 0.22. Specify the multi_class option to silence this warning.\n",
      "  \"this warning.\", FutureWarning)\n",
      "/Users/Tazman/anaconda3/lib/python3.7/site-packages/sklearn/linear_model/logistic.py:460: FutureWarning: Default multi_class will be changed to 'auto' in 0.22. Specify the multi_class option to silence this warning.\n",
      "  \"this warning.\", FutureWarning)\n",
      "/Users/Tazman/anaconda3/lib/python3.7/site-packages/sklearn/linear_model/logistic.py:460: FutureWarning: Default multi_class will be changed to 'auto' in 0.22. Specify the multi_class option to silence this warning.\n",
      "  \"this warning.\", FutureWarning)\n",
      "/Users/Tazman/anaconda3/lib/python3.7/site-packages/sklearn/linear_model/logistic.py:460: FutureWarning: Default multi_class will be changed to 'auto' in 0.22. Specify the multi_class option to silence this warning.\n",
      "  \"this warning.\", FutureWarning)\n",
      "/Users/Tazman/anaconda3/lib/python3.7/site-packages/sklearn/linear_model/logistic.py:460: FutureWarning: Default multi_class will be changed to 'auto' in 0.22. Specify the multi_class option to silence this warning.\n",
      "  \"this warning.\", FutureWarning)\n",
      "/Users/Tazman/anaconda3/lib/python3.7/site-packages/sklearn/linear_model/logistic.py:460: FutureWarning: Default multi_class will be changed to 'auto' in 0.22. Specify the multi_class option to silence this warning.\n",
      "  \"this warning.\", FutureWarning)\n",
      "/Users/Tazman/anaconda3/lib/python3.7/site-packages/sklearn/linear_model/logistic.py:460: FutureWarning: Default multi_class will be changed to 'auto' in 0.22. Specify the multi_class option to silence this warning.\n",
      "  \"this warning.\", FutureWarning)\n",
      "/Users/Tazman/anaconda3/lib/python3.7/site-packages/sklearn/linear_model/logistic.py:460: FutureWarning: Default multi_class will be changed to 'auto' in 0.22. Specify the multi_class option to silence this warning.\n",
      "  \"this warning.\", FutureWarning)\n",
      "/Users/Tazman/anaconda3/lib/python3.7/site-packages/sklearn/linear_model/logistic.py:460: FutureWarning: Default multi_class will be changed to 'auto' in 0.22. Specify the multi_class option to silence this warning.\n",
      "  \"this warning.\", FutureWarning)\n",
      "/Users/Tazman/anaconda3/lib/python3.7/site-packages/sklearn/linear_model/logistic.py:460: FutureWarning: Default multi_class will be changed to 'auto' in 0.22. Specify the multi_class option to silence this warning.\n",
      "  \"this warning.\", FutureWarning)\n",
      "/Users/Tazman/anaconda3/lib/python3.7/site-packages/sklearn/linear_model/logistic.py:460: FutureWarning: Default multi_class will be changed to 'auto' in 0.22. Specify the multi_class option to silence this warning.\n",
      "  \"this warning.\", FutureWarning)\n",
      "/Users/Tazman/anaconda3/lib/python3.7/site-packages/sklearn/linear_model/logistic.py:460: FutureWarning: Default multi_class will be changed to 'auto' in 0.22. Specify the multi_class option to silence this warning.\n",
      "  \"this warning.\", FutureWarning)\n",
      "/Users/Tazman/anaconda3/lib/python3.7/site-packages/sklearn/linear_model/logistic.py:460: FutureWarning: Default multi_class will be changed to 'auto' in 0.22. Specify the multi_class option to silence this warning.\n",
      "  \"this warning.\", FutureWarning)\n",
      "/Users/Tazman/anaconda3/lib/python3.7/site-packages/sklearn/linear_model/logistic.py:460: FutureWarning: Default multi_class will be changed to 'auto' in 0.22. Specify the multi_class option to silence this warning.\n",
      "  \"this warning.\", FutureWarning)\n",
      "/Users/Tazman/anaconda3/lib/python3.7/site-packages/sklearn/linear_model/logistic.py:460: FutureWarning: Default multi_class will be changed to 'auto' in 0.22. Specify the multi_class option to silence this warning.\n",
      "  \"this warning.\", FutureWarning)\n",
      "/Users/Tazman/anaconda3/lib/python3.7/site-packages/sklearn/linear_model/logistic.py:460: FutureWarning: Default multi_class will be changed to 'auto' in 0.22. Specify the multi_class option to silence this warning.\n",
      "  \"this warning.\", FutureWarning)\n",
      "/Users/Tazman/anaconda3/lib/python3.7/site-packages/sklearn/linear_model/logistic.py:460: FutureWarning: Default multi_class will be changed to 'auto' in 0.22. Specify the multi_class option to silence this warning.\n",
      "  \"this warning.\", FutureWarning)\n",
      "/Users/Tazman/anaconda3/lib/python3.7/site-packages/sklearn/linear_model/logistic.py:460: FutureWarning: Default multi_class will be changed to 'auto' in 0.22. Specify the multi_class option to silence this warning.\n",
      "  \"this warning.\", FutureWarning)\n",
      "/Users/Tazman/anaconda3/lib/python3.7/site-packages/sklearn/linear_model/logistic.py:460: FutureWarning: Default multi_class will be changed to 'auto' in 0.22. Specify the multi_class option to silence this warning.\n",
      "  \"this warning.\", FutureWarning)\n",
      "/Users/Tazman/anaconda3/lib/python3.7/site-packages/sklearn/linear_model/logistic.py:460: FutureWarning: Default multi_class will be changed to 'auto' in 0.22. Specify the multi_class option to silence this warning.\n",
      "  \"this warning.\", FutureWarning)\n",
      "/Users/Tazman/anaconda3/lib/python3.7/site-packages/sklearn/linear_model/logistic.py:460: FutureWarning: Default multi_class will be changed to 'auto' in 0.22. Specify the multi_class option to silence this warning.\n",
      "  \"this warning.\", FutureWarning)\n",
      "/Users/Tazman/anaconda3/lib/python3.7/site-packages/sklearn/linear_model/logistic.py:460: FutureWarning: Default multi_class will be changed to 'auto' in 0.22. Specify the multi_class option to silence this warning.\n",
      "  \"this warning.\", FutureWarning)\n",
      "/Users/Tazman/anaconda3/lib/python3.7/site-packages/sklearn/linear_model/logistic.py:460: FutureWarning: Default multi_class will be changed to 'auto' in 0.22. Specify the multi_class option to silence this warning.\n",
      "  \"this warning.\", FutureWarning)\n",
      "/Users/Tazman/anaconda3/lib/python3.7/site-packages/sklearn/linear_model/logistic.py:460: FutureWarning: Default multi_class will be changed to 'auto' in 0.22. Specify the multi_class option to silence this warning.\n",
      "  \"this warning.\", FutureWarning)\n",
      "/Users/Tazman/anaconda3/lib/python3.7/site-packages/sklearn/linear_model/logistic.py:460: FutureWarning: Default multi_class will be changed to 'auto' in 0.22. Specify the multi_class option to silence this warning.\n",
      "  \"this warning.\", FutureWarning)\n",
      "/Users/Tazman/anaconda3/lib/python3.7/site-packages/sklearn/linear_model/logistic.py:460: FutureWarning: Default multi_class will be changed to 'auto' in 0.22. Specify the multi_class option to silence this warning.\n",
      "  \"this warning.\", FutureWarning)\n"
     ]
    },
    {
     "name": "stderr",
     "output_type": "stream",
     "text": [
      "/Users/Tazman/anaconda3/lib/python3.7/site-packages/sklearn/linear_model/logistic.py:460: FutureWarning: Default multi_class will be changed to 'auto' in 0.22. Specify the multi_class option to silence this warning.\n",
      "  \"this warning.\", FutureWarning)\n",
      "/Users/Tazman/anaconda3/lib/python3.7/site-packages/sklearn/linear_model/logistic.py:460: FutureWarning: Default multi_class will be changed to 'auto' in 0.22. Specify the multi_class option to silence this warning.\n",
      "  \"this warning.\", FutureWarning)\n",
      "/Users/Tazman/anaconda3/lib/python3.7/site-packages/sklearn/linear_model/logistic.py:460: FutureWarning: Default multi_class will be changed to 'auto' in 0.22. Specify the multi_class option to silence this warning.\n",
      "  \"this warning.\", FutureWarning)\n",
      "/Users/Tazman/anaconda3/lib/python3.7/site-packages/sklearn/linear_model/logistic.py:460: FutureWarning: Default multi_class will be changed to 'auto' in 0.22. Specify the multi_class option to silence this warning.\n",
      "  \"this warning.\", FutureWarning)\n",
      "/Users/Tazman/anaconda3/lib/python3.7/site-packages/sklearn/linear_model/logistic.py:460: FutureWarning: Default multi_class will be changed to 'auto' in 0.22. Specify the multi_class option to silence this warning.\n",
      "  \"this warning.\", FutureWarning)\n",
      "/Users/Tazman/anaconda3/lib/python3.7/site-packages/sklearn/linear_model/logistic.py:460: FutureWarning: Default multi_class will be changed to 'auto' in 0.22. Specify the multi_class option to silence this warning.\n",
      "  \"this warning.\", FutureWarning)\n",
      "/Users/Tazman/anaconda3/lib/python3.7/site-packages/sklearn/linear_model/logistic.py:460: FutureWarning: Default multi_class will be changed to 'auto' in 0.22. Specify the multi_class option to silence this warning.\n",
      "  \"this warning.\", FutureWarning)\n",
      "/Users/Tazman/anaconda3/lib/python3.7/site-packages/sklearn/linear_model/logistic.py:460: FutureWarning: Default multi_class will be changed to 'auto' in 0.22. Specify the multi_class option to silence this warning.\n",
      "  \"this warning.\", FutureWarning)\n",
      "/Users/Tazman/anaconda3/lib/python3.7/site-packages/sklearn/linear_model/logistic.py:460: FutureWarning: Default multi_class will be changed to 'auto' in 0.22. Specify the multi_class option to silence this warning.\n",
      "  \"this warning.\", FutureWarning)\n",
      "/Users/Tazman/anaconda3/lib/python3.7/site-packages/sklearn/linear_model/logistic.py:460: FutureWarning: Default multi_class will be changed to 'auto' in 0.22. Specify the multi_class option to silence this warning.\n",
      "  \"this warning.\", FutureWarning)\n",
      "/Users/Tazman/anaconda3/lib/python3.7/site-packages/sklearn/linear_model/logistic.py:460: FutureWarning: Default multi_class will be changed to 'auto' in 0.22. Specify the multi_class option to silence this warning.\n",
      "  \"this warning.\", FutureWarning)\n",
      "/Users/Tazman/anaconda3/lib/python3.7/site-packages/sklearn/linear_model/logistic.py:460: FutureWarning: Default multi_class will be changed to 'auto' in 0.22. Specify the multi_class option to silence this warning.\n",
      "  \"this warning.\", FutureWarning)\n",
      "/Users/Tazman/anaconda3/lib/python3.7/site-packages/sklearn/linear_model/logistic.py:460: FutureWarning: Default multi_class will be changed to 'auto' in 0.22. Specify the multi_class option to silence this warning.\n",
      "  \"this warning.\", FutureWarning)\n",
      "/Users/Tazman/anaconda3/lib/python3.7/site-packages/sklearn/linear_model/logistic.py:460: FutureWarning: Default multi_class will be changed to 'auto' in 0.22. Specify the multi_class option to silence this warning.\n",
      "  \"this warning.\", FutureWarning)\n",
      "/Users/Tazman/anaconda3/lib/python3.7/site-packages/sklearn/linear_model/logistic.py:460: FutureWarning: Default multi_class will be changed to 'auto' in 0.22. Specify the multi_class option to silence this warning.\n",
      "  \"this warning.\", FutureWarning)\n",
      "/Users/Tazman/anaconda3/lib/python3.7/site-packages/sklearn/linear_model/logistic.py:460: FutureWarning: Default multi_class will be changed to 'auto' in 0.22. Specify the multi_class option to silence this warning.\n",
      "  \"this warning.\", FutureWarning)\n",
      "/Users/Tazman/anaconda3/lib/python3.7/site-packages/sklearn/linear_model/logistic.py:460: FutureWarning: Default multi_class will be changed to 'auto' in 0.22. Specify the multi_class option to silence this warning.\n",
      "  \"this warning.\", FutureWarning)\n",
      "/Users/Tazman/anaconda3/lib/python3.7/site-packages/sklearn/linear_model/logistic.py:460: FutureWarning: Default multi_class will be changed to 'auto' in 0.22. Specify the multi_class option to silence this warning.\n",
      "  \"this warning.\", FutureWarning)\n",
      "/Users/Tazman/anaconda3/lib/python3.7/site-packages/sklearn/linear_model/logistic.py:460: FutureWarning: Default multi_class will be changed to 'auto' in 0.22. Specify the multi_class option to silence this warning.\n",
      "  \"this warning.\", FutureWarning)\n",
      "/Users/Tazman/anaconda3/lib/python3.7/site-packages/sklearn/linear_model/logistic.py:460: FutureWarning: Default multi_class will be changed to 'auto' in 0.22. Specify the multi_class option to silence this warning.\n",
      "  \"this warning.\", FutureWarning)\n",
      "/Users/Tazman/anaconda3/lib/python3.7/site-packages/sklearn/linear_model/logistic.py:460: FutureWarning: Default multi_class will be changed to 'auto' in 0.22. Specify the multi_class option to silence this warning.\n",
      "  \"this warning.\", FutureWarning)\n",
      "/Users/Tazman/anaconda3/lib/python3.7/site-packages/sklearn/linear_model/logistic.py:460: FutureWarning: Default multi_class will be changed to 'auto' in 0.22. Specify the multi_class option to silence this warning.\n",
      "  \"this warning.\", FutureWarning)\n",
      "/Users/Tazman/anaconda3/lib/python3.7/site-packages/sklearn/linear_model/logistic.py:460: FutureWarning: Default multi_class will be changed to 'auto' in 0.22. Specify the multi_class option to silence this warning.\n",
      "  \"this warning.\", FutureWarning)\n",
      "/Users/Tazman/anaconda3/lib/python3.7/site-packages/sklearn/linear_model/logistic.py:460: FutureWarning: Default multi_class will be changed to 'auto' in 0.22. Specify the multi_class option to silence this warning.\n",
      "  \"this warning.\", FutureWarning)\n",
      "/Users/Tazman/anaconda3/lib/python3.7/site-packages/sklearn/linear_model/logistic.py:460: FutureWarning: Default multi_class will be changed to 'auto' in 0.22. Specify the multi_class option to silence this warning.\n",
      "  \"this warning.\", FutureWarning)\n",
      "/Users/Tazman/anaconda3/lib/python3.7/site-packages/sklearn/linear_model/logistic.py:460: FutureWarning: Default multi_class will be changed to 'auto' in 0.22. Specify the multi_class option to silence this warning.\n",
      "  \"this warning.\", FutureWarning)\n",
      "/Users/Tazman/anaconda3/lib/python3.7/site-packages/sklearn/linear_model/logistic.py:460: FutureWarning: Default multi_class will be changed to 'auto' in 0.22. Specify the multi_class option to silence this warning.\n",
      "  \"this warning.\", FutureWarning)\n",
      "/Users/Tazman/anaconda3/lib/python3.7/site-packages/sklearn/linear_model/logistic.py:460: FutureWarning: Default multi_class will be changed to 'auto' in 0.22. Specify the multi_class option to silence this warning.\n",
      "  \"this warning.\", FutureWarning)\n",
      "/Users/Tazman/anaconda3/lib/python3.7/site-packages/sklearn/linear_model/logistic.py:460: FutureWarning: Default multi_class will be changed to 'auto' in 0.22. Specify the multi_class option to silence this warning.\n",
      "  \"this warning.\", FutureWarning)\n",
      "/Users/Tazman/anaconda3/lib/python3.7/site-packages/sklearn/linear_model/logistic.py:460: FutureWarning: Default multi_class will be changed to 'auto' in 0.22. Specify the multi_class option to silence this warning.\n",
      "  \"this warning.\", FutureWarning)\n",
      "/Users/Tazman/anaconda3/lib/python3.7/site-packages/sklearn/linear_model/logistic.py:460: FutureWarning: Default multi_class will be changed to 'auto' in 0.22. Specify the multi_class option to silence this warning.\n",
      "  \"this warning.\", FutureWarning)\n",
      "/Users/Tazman/anaconda3/lib/python3.7/site-packages/sklearn/linear_model/logistic.py:460: FutureWarning: Default multi_class will be changed to 'auto' in 0.22. Specify the multi_class option to silence this warning.\n",
      "  \"this warning.\", FutureWarning)\n",
      "/Users/Tazman/anaconda3/lib/python3.7/site-packages/sklearn/linear_model/logistic.py:460: FutureWarning: Default multi_class will be changed to 'auto' in 0.22. Specify the multi_class option to silence this warning.\n",
      "  \"this warning.\", FutureWarning)\n",
      "/Users/Tazman/anaconda3/lib/python3.7/site-packages/sklearn/linear_model/logistic.py:460: FutureWarning: Default multi_class will be changed to 'auto' in 0.22. Specify the multi_class option to silence this warning.\n",
      "  \"this warning.\", FutureWarning)\n",
      "/Users/Tazman/anaconda3/lib/python3.7/site-packages/sklearn/linear_model/logistic.py:460: FutureWarning: Default multi_class will be changed to 'auto' in 0.22. Specify the multi_class option to silence this warning.\n",
      "  \"this warning.\", FutureWarning)\n",
      "/Users/Tazman/anaconda3/lib/python3.7/site-packages/sklearn/linear_model/logistic.py:460: FutureWarning: Default multi_class will be changed to 'auto' in 0.22. Specify the multi_class option to silence this warning.\n",
      "  \"this warning.\", FutureWarning)\n",
      "/Users/Tazman/anaconda3/lib/python3.7/site-packages/sklearn/linear_model/logistic.py:460: FutureWarning: Default multi_class will be changed to 'auto' in 0.22. Specify the multi_class option to silence this warning.\n",
      "  \"this warning.\", FutureWarning)\n",
      "/Users/Tazman/anaconda3/lib/python3.7/site-packages/sklearn/linear_model/logistic.py:460: FutureWarning: Default multi_class will be changed to 'auto' in 0.22. Specify the multi_class option to silence this warning.\n",
      "  \"this warning.\", FutureWarning)\n",
      "/Users/Tazman/anaconda3/lib/python3.7/site-packages/sklearn/linear_model/logistic.py:460: FutureWarning: Default multi_class will be changed to 'auto' in 0.22. Specify the multi_class option to silence this warning.\n",
      "  \"this warning.\", FutureWarning)\n",
      "/Users/Tazman/anaconda3/lib/python3.7/site-packages/sklearn/linear_model/logistic.py:460: FutureWarning: Default multi_class will be changed to 'auto' in 0.22. Specify the multi_class option to silence this warning.\n",
      "  \"this warning.\", FutureWarning)\n",
      "/Users/Tazman/anaconda3/lib/python3.7/site-packages/sklearn/linear_model/logistic.py:460: FutureWarning: Default multi_class will be changed to 'auto' in 0.22. Specify the multi_class option to silence this warning.\n",
      "  \"this warning.\", FutureWarning)\n",
      "/Users/Tazman/anaconda3/lib/python3.7/site-packages/sklearn/linear_model/logistic.py:460: FutureWarning: Default multi_class will be changed to 'auto' in 0.22. Specify the multi_class option to silence this warning.\n",
      "  \"this warning.\", FutureWarning)\n",
      "/Users/Tazman/anaconda3/lib/python3.7/site-packages/sklearn/linear_model/logistic.py:460: FutureWarning: Default multi_class will be changed to 'auto' in 0.22. Specify the multi_class option to silence this warning.\n",
      "  \"this warning.\", FutureWarning)\n",
      "/Users/Tazman/anaconda3/lib/python3.7/site-packages/sklearn/linear_model/logistic.py:460: FutureWarning: Default multi_class will be changed to 'auto' in 0.22. Specify the multi_class option to silence this warning.\n",
      "  \"this warning.\", FutureWarning)\n",
      "/Users/Tazman/anaconda3/lib/python3.7/site-packages/sklearn/linear_model/logistic.py:460: FutureWarning: Default multi_class will be changed to 'auto' in 0.22. Specify the multi_class option to silence this warning.\n",
      "  \"this warning.\", FutureWarning)\n",
      "/Users/Tazman/anaconda3/lib/python3.7/site-packages/sklearn/linear_model/logistic.py:460: FutureWarning: Default multi_class will be changed to 'auto' in 0.22. Specify the multi_class option to silence this warning.\n",
      "  \"this warning.\", FutureWarning)\n",
      "/Users/Tazman/anaconda3/lib/python3.7/site-packages/sklearn/linear_model/logistic.py:460: FutureWarning: Default multi_class will be changed to 'auto' in 0.22. Specify the multi_class option to silence this warning.\n",
      "  \"this warning.\", FutureWarning)\n"
     ]
    },
    {
     "name": "stderr",
     "output_type": "stream",
     "text": [
      "/Users/Tazman/anaconda3/lib/python3.7/site-packages/sklearn/linear_model/logistic.py:460: FutureWarning: Default multi_class will be changed to 'auto' in 0.22. Specify the multi_class option to silence this warning.\n",
      "  \"this warning.\", FutureWarning)\n",
      "/Users/Tazman/anaconda3/lib/python3.7/site-packages/sklearn/linear_model/logistic.py:460: FutureWarning: Default multi_class will be changed to 'auto' in 0.22. Specify the multi_class option to silence this warning.\n",
      "  \"this warning.\", FutureWarning)\n",
      "/Users/Tazman/anaconda3/lib/python3.7/site-packages/sklearn/linear_model/logistic.py:460: FutureWarning: Default multi_class will be changed to 'auto' in 0.22. Specify the multi_class option to silence this warning.\n",
      "  \"this warning.\", FutureWarning)\n",
      "/Users/Tazman/anaconda3/lib/python3.7/site-packages/sklearn/linear_model/logistic.py:460: FutureWarning: Default multi_class will be changed to 'auto' in 0.22. Specify the multi_class option to silence this warning.\n",
      "  \"this warning.\", FutureWarning)\n",
      "/Users/Tazman/anaconda3/lib/python3.7/site-packages/sklearn/linear_model/logistic.py:460: FutureWarning: Default multi_class will be changed to 'auto' in 0.22. Specify the multi_class option to silence this warning.\n",
      "  \"this warning.\", FutureWarning)\n",
      "/Users/Tazman/anaconda3/lib/python3.7/site-packages/sklearn/linear_model/logistic.py:460: FutureWarning: Default multi_class will be changed to 'auto' in 0.22. Specify the multi_class option to silence this warning.\n",
      "  \"this warning.\", FutureWarning)\n",
      "/Users/Tazman/anaconda3/lib/python3.7/site-packages/sklearn/linear_model/logistic.py:460: FutureWarning: Default multi_class will be changed to 'auto' in 0.22. Specify the multi_class option to silence this warning.\n",
      "  \"this warning.\", FutureWarning)\n",
      "/Users/Tazman/anaconda3/lib/python3.7/site-packages/sklearn/linear_model/logistic.py:460: FutureWarning: Default multi_class will be changed to 'auto' in 0.22. Specify the multi_class option to silence this warning.\n",
      "  \"this warning.\", FutureWarning)\n",
      "/Users/Tazman/anaconda3/lib/python3.7/site-packages/sklearn/linear_model/logistic.py:460: FutureWarning: Default multi_class will be changed to 'auto' in 0.22. Specify the multi_class option to silence this warning.\n",
      "  \"this warning.\", FutureWarning)\n",
      "/Users/Tazman/anaconda3/lib/python3.7/site-packages/sklearn/linear_model/logistic.py:460: FutureWarning: Default multi_class will be changed to 'auto' in 0.22. Specify the multi_class option to silence this warning.\n",
      "  \"this warning.\", FutureWarning)\n",
      "/Users/Tazman/anaconda3/lib/python3.7/site-packages/sklearn/linear_model/logistic.py:460: FutureWarning: Default multi_class will be changed to 'auto' in 0.22. Specify the multi_class option to silence this warning.\n",
      "  \"this warning.\", FutureWarning)\n",
      "/Users/Tazman/anaconda3/lib/python3.7/site-packages/sklearn/linear_model/logistic.py:460: FutureWarning: Default multi_class will be changed to 'auto' in 0.22. Specify the multi_class option to silence this warning.\n",
      "  \"this warning.\", FutureWarning)\n",
      "/Users/Tazman/anaconda3/lib/python3.7/site-packages/sklearn/linear_model/logistic.py:460: FutureWarning: Default multi_class will be changed to 'auto' in 0.22. Specify the multi_class option to silence this warning.\n",
      "  \"this warning.\", FutureWarning)\n",
      "/Users/Tazman/anaconda3/lib/python3.7/site-packages/sklearn/linear_model/logistic.py:460: FutureWarning: Default multi_class will be changed to 'auto' in 0.22. Specify the multi_class option to silence this warning.\n",
      "  \"this warning.\", FutureWarning)\n",
      "/Users/Tazman/anaconda3/lib/python3.7/site-packages/sklearn/linear_model/logistic.py:460: FutureWarning: Default multi_class will be changed to 'auto' in 0.22. Specify the multi_class option to silence this warning.\n",
      "  \"this warning.\", FutureWarning)\n",
      "/Users/Tazman/anaconda3/lib/python3.7/site-packages/sklearn/linear_model/logistic.py:460: FutureWarning: Default multi_class will be changed to 'auto' in 0.22. Specify the multi_class option to silence this warning.\n",
      "  \"this warning.\", FutureWarning)\n",
      "/Users/Tazman/anaconda3/lib/python3.7/site-packages/sklearn/linear_model/logistic.py:460: FutureWarning: Default multi_class will be changed to 'auto' in 0.22. Specify the multi_class option to silence this warning.\n",
      "  \"this warning.\", FutureWarning)\n",
      "/Users/Tazman/anaconda3/lib/python3.7/site-packages/sklearn/linear_model/logistic.py:460: FutureWarning: Default multi_class will be changed to 'auto' in 0.22. Specify the multi_class option to silence this warning.\n",
      "  \"this warning.\", FutureWarning)\n",
      "/Users/Tazman/anaconda3/lib/python3.7/site-packages/sklearn/linear_model/logistic.py:460: FutureWarning: Default multi_class will be changed to 'auto' in 0.22. Specify the multi_class option to silence this warning.\n",
      "  \"this warning.\", FutureWarning)\n",
      "/Users/Tazman/anaconda3/lib/python3.7/site-packages/sklearn/linear_model/logistic.py:460: FutureWarning: Default multi_class will be changed to 'auto' in 0.22. Specify the multi_class option to silence this warning.\n",
      "  \"this warning.\", FutureWarning)\n",
      "/Users/Tazman/anaconda3/lib/python3.7/site-packages/sklearn/linear_model/logistic.py:460: FutureWarning: Default multi_class will be changed to 'auto' in 0.22. Specify the multi_class option to silence this warning.\n",
      "  \"this warning.\", FutureWarning)\n",
      "/Users/Tazman/anaconda3/lib/python3.7/site-packages/sklearn/linear_model/logistic.py:460: FutureWarning: Default multi_class will be changed to 'auto' in 0.22. Specify the multi_class option to silence this warning.\n",
      "  \"this warning.\", FutureWarning)\n",
      "/Users/Tazman/anaconda3/lib/python3.7/site-packages/sklearn/linear_model/logistic.py:460: FutureWarning: Default multi_class will be changed to 'auto' in 0.22. Specify the multi_class option to silence this warning.\n",
      "  \"this warning.\", FutureWarning)\n",
      "/Users/Tazman/anaconda3/lib/python3.7/site-packages/sklearn/linear_model/logistic.py:460: FutureWarning: Default multi_class will be changed to 'auto' in 0.22. Specify the multi_class option to silence this warning.\n",
      "  \"this warning.\", FutureWarning)\n",
      "/Users/Tazman/anaconda3/lib/python3.7/site-packages/sklearn/linear_model/logistic.py:460: FutureWarning: Default multi_class will be changed to 'auto' in 0.22. Specify the multi_class option to silence this warning.\n",
      "  \"this warning.\", FutureWarning)\n",
      "/Users/Tazman/anaconda3/lib/python3.7/site-packages/sklearn/linear_model/logistic.py:460: FutureWarning: Default multi_class will be changed to 'auto' in 0.22. Specify the multi_class option to silence this warning.\n",
      "  \"this warning.\", FutureWarning)\n",
      "/Users/Tazman/anaconda3/lib/python3.7/site-packages/sklearn/linear_model/logistic.py:460: FutureWarning: Default multi_class will be changed to 'auto' in 0.22. Specify the multi_class option to silence this warning.\n",
      "  \"this warning.\", FutureWarning)\n",
      "/Users/Tazman/anaconda3/lib/python3.7/site-packages/sklearn/linear_model/logistic.py:460: FutureWarning: Default multi_class will be changed to 'auto' in 0.22. Specify the multi_class option to silence this warning.\n",
      "  \"this warning.\", FutureWarning)\n",
      "/Users/Tazman/anaconda3/lib/python3.7/site-packages/sklearn/linear_model/logistic.py:460: FutureWarning: Default multi_class will be changed to 'auto' in 0.22. Specify the multi_class option to silence this warning.\n",
      "  \"this warning.\", FutureWarning)\n",
      "/Users/Tazman/anaconda3/lib/python3.7/site-packages/sklearn/linear_model/logistic.py:460: FutureWarning: Default multi_class will be changed to 'auto' in 0.22. Specify the multi_class option to silence this warning.\n",
      "  \"this warning.\", FutureWarning)\n",
      "/Users/Tazman/anaconda3/lib/python3.7/site-packages/sklearn/linear_model/logistic.py:460: FutureWarning: Default multi_class will be changed to 'auto' in 0.22. Specify the multi_class option to silence this warning.\n",
      "  \"this warning.\", FutureWarning)\n",
      "/Users/Tazman/anaconda3/lib/python3.7/site-packages/sklearn/linear_model/logistic.py:460: FutureWarning: Default multi_class will be changed to 'auto' in 0.22. Specify the multi_class option to silence this warning.\n",
      "  \"this warning.\", FutureWarning)\n",
      "/Users/Tazman/anaconda3/lib/python3.7/site-packages/sklearn/linear_model/logistic.py:460: FutureWarning: Default multi_class will be changed to 'auto' in 0.22. Specify the multi_class option to silence this warning.\n",
      "  \"this warning.\", FutureWarning)\n",
      "/Users/Tazman/anaconda3/lib/python3.7/site-packages/sklearn/linear_model/logistic.py:460: FutureWarning: Default multi_class will be changed to 'auto' in 0.22. Specify the multi_class option to silence this warning.\n",
      "  \"this warning.\", FutureWarning)\n",
      "/Users/Tazman/anaconda3/lib/python3.7/site-packages/sklearn/linear_model/logistic.py:460: FutureWarning: Default multi_class will be changed to 'auto' in 0.22. Specify the multi_class option to silence this warning.\n",
      "  \"this warning.\", FutureWarning)\n",
      "/Users/Tazman/anaconda3/lib/python3.7/site-packages/sklearn/linear_model/logistic.py:460: FutureWarning: Default multi_class will be changed to 'auto' in 0.22. Specify the multi_class option to silence this warning.\n",
      "  \"this warning.\", FutureWarning)\n",
      "/Users/Tazman/anaconda3/lib/python3.7/site-packages/sklearn/linear_model/logistic.py:460: FutureWarning: Default multi_class will be changed to 'auto' in 0.22. Specify the multi_class option to silence this warning.\n",
      "  \"this warning.\", FutureWarning)\n",
      "/Users/Tazman/anaconda3/lib/python3.7/site-packages/sklearn/linear_model/logistic.py:460: FutureWarning: Default multi_class will be changed to 'auto' in 0.22. Specify the multi_class option to silence this warning.\n",
      "  \"this warning.\", FutureWarning)\n",
      "/Users/Tazman/anaconda3/lib/python3.7/site-packages/sklearn/linear_model/logistic.py:460: FutureWarning: Default multi_class will be changed to 'auto' in 0.22. Specify the multi_class option to silence this warning.\n",
      "  \"this warning.\", FutureWarning)\n",
      "/Users/Tazman/anaconda3/lib/python3.7/site-packages/sklearn/linear_model/logistic.py:460: FutureWarning: Default multi_class will be changed to 'auto' in 0.22. Specify the multi_class option to silence this warning.\n",
      "  \"this warning.\", FutureWarning)\n",
      "/Users/Tazman/anaconda3/lib/python3.7/site-packages/sklearn/linear_model/logistic.py:460: FutureWarning: Default multi_class will be changed to 'auto' in 0.22. Specify the multi_class option to silence this warning.\n",
      "  \"this warning.\", FutureWarning)\n",
      "/Users/Tazman/anaconda3/lib/python3.7/site-packages/sklearn/linear_model/logistic.py:460: FutureWarning: Default multi_class will be changed to 'auto' in 0.22. Specify the multi_class option to silence this warning.\n",
      "  \"this warning.\", FutureWarning)\n",
      "/Users/Tazman/anaconda3/lib/python3.7/site-packages/sklearn/linear_model/logistic.py:460: FutureWarning: Default multi_class will be changed to 'auto' in 0.22. Specify the multi_class option to silence this warning.\n",
      "  \"this warning.\", FutureWarning)\n"
     ]
    },
    {
     "name": "stderr",
     "output_type": "stream",
     "text": [
      "/Users/Tazman/anaconda3/lib/python3.7/site-packages/sklearn/linear_model/logistic.py:460: FutureWarning: Default multi_class will be changed to 'auto' in 0.22. Specify the multi_class option to silence this warning.\n",
      "  \"this warning.\", FutureWarning)\n",
      "/Users/Tazman/anaconda3/lib/python3.7/site-packages/sklearn/linear_model/logistic.py:460: FutureWarning: Default multi_class will be changed to 'auto' in 0.22. Specify the multi_class option to silence this warning.\n",
      "  \"this warning.\", FutureWarning)\n",
      "/Users/Tazman/anaconda3/lib/python3.7/site-packages/sklearn/linear_model/logistic.py:460: FutureWarning: Default multi_class will be changed to 'auto' in 0.22. Specify the multi_class option to silence this warning.\n",
      "  \"this warning.\", FutureWarning)\n",
      "/Users/Tazman/anaconda3/lib/python3.7/site-packages/sklearn/linear_model/logistic.py:460: FutureWarning: Default multi_class will be changed to 'auto' in 0.22. Specify the multi_class option to silence this warning.\n",
      "  \"this warning.\", FutureWarning)\n",
      "/Users/Tazman/anaconda3/lib/python3.7/site-packages/sklearn/linear_model/logistic.py:460: FutureWarning: Default multi_class will be changed to 'auto' in 0.22. Specify the multi_class option to silence this warning.\n",
      "  \"this warning.\", FutureWarning)\n",
      "/Users/Tazman/anaconda3/lib/python3.7/site-packages/sklearn/linear_model/logistic.py:460: FutureWarning: Default multi_class will be changed to 'auto' in 0.22. Specify the multi_class option to silence this warning.\n",
      "  \"this warning.\", FutureWarning)\n",
      "/Users/Tazman/anaconda3/lib/python3.7/site-packages/sklearn/linear_model/logistic.py:460: FutureWarning: Default multi_class will be changed to 'auto' in 0.22. Specify the multi_class option to silence this warning.\n",
      "  \"this warning.\", FutureWarning)\n",
      "/Users/Tazman/anaconda3/lib/python3.7/site-packages/sklearn/linear_model/logistic.py:460: FutureWarning: Default multi_class will be changed to 'auto' in 0.22. Specify the multi_class option to silence this warning.\n",
      "  \"this warning.\", FutureWarning)\n",
      "/Users/Tazman/anaconda3/lib/python3.7/site-packages/sklearn/linear_model/logistic.py:460: FutureWarning: Default multi_class will be changed to 'auto' in 0.22. Specify the multi_class option to silence this warning.\n",
      "  \"this warning.\", FutureWarning)\n",
      "/Users/Tazman/anaconda3/lib/python3.7/site-packages/sklearn/linear_model/logistic.py:460: FutureWarning: Default multi_class will be changed to 'auto' in 0.22. Specify the multi_class option to silence this warning.\n",
      "  \"this warning.\", FutureWarning)\n",
      "/Users/Tazman/anaconda3/lib/python3.7/site-packages/sklearn/linear_model/logistic.py:460: FutureWarning: Default multi_class will be changed to 'auto' in 0.22. Specify the multi_class option to silence this warning.\n",
      "  \"this warning.\", FutureWarning)\n",
      "/Users/Tazman/anaconda3/lib/python3.7/site-packages/sklearn/linear_model/logistic.py:460: FutureWarning: Default multi_class will be changed to 'auto' in 0.22. Specify the multi_class option to silence this warning.\n",
      "  \"this warning.\", FutureWarning)\n",
      "/Users/Tazman/anaconda3/lib/python3.7/site-packages/sklearn/linear_model/logistic.py:460: FutureWarning: Default multi_class will be changed to 'auto' in 0.22. Specify the multi_class option to silence this warning.\n",
      "  \"this warning.\", FutureWarning)\n",
      "/Users/Tazman/anaconda3/lib/python3.7/site-packages/sklearn/linear_model/logistic.py:460: FutureWarning: Default multi_class will be changed to 'auto' in 0.22. Specify the multi_class option to silence this warning.\n",
      "  \"this warning.\", FutureWarning)\n",
      "/Users/Tazman/anaconda3/lib/python3.7/site-packages/sklearn/linear_model/logistic.py:460: FutureWarning: Default multi_class will be changed to 'auto' in 0.22. Specify the multi_class option to silence this warning.\n",
      "  \"this warning.\", FutureWarning)\n",
      "/Users/Tazman/anaconda3/lib/python3.7/site-packages/sklearn/linear_model/logistic.py:460: FutureWarning: Default multi_class will be changed to 'auto' in 0.22. Specify the multi_class option to silence this warning.\n",
      "  \"this warning.\", FutureWarning)\n",
      "/Users/Tazman/anaconda3/lib/python3.7/site-packages/sklearn/linear_model/logistic.py:460: FutureWarning: Default multi_class will be changed to 'auto' in 0.22. Specify the multi_class option to silence this warning.\n",
      "  \"this warning.\", FutureWarning)\n",
      "/Users/Tazman/anaconda3/lib/python3.7/site-packages/sklearn/linear_model/logistic.py:460: FutureWarning: Default multi_class will be changed to 'auto' in 0.22. Specify the multi_class option to silence this warning.\n",
      "  \"this warning.\", FutureWarning)\n",
      "/Users/Tazman/anaconda3/lib/python3.7/site-packages/sklearn/linear_model/logistic.py:460: FutureWarning: Default multi_class will be changed to 'auto' in 0.22. Specify the multi_class option to silence this warning.\n",
      "  \"this warning.\", FutureWarning)\n",
      "/Users/Tazman/anaconda3/lib/python3.7/site-packages/sklearn/linear_model/logistic.py:460: FutureWarning: Default multi_class will be changed to 'auto' in 0.22. Specify the multi_class option to silence this warning.\n",
      "  \"this warning.\", FutureWarning)\n",
      "/Users/Tazman/anaconda3/lib/python3.7/site-packages/sklearn/linear_model/logistic.py:460: FutureWarning: Default multi_class will be changed to 'auto' in 0.22. Specify the multi_class option to silence this warning.\n",
      "  \"this warning.\", FutureWarning)\n",
      "/Users/Tazman/anaconda3/lib/python3.7/site-packages/sklearn/linear_model/logistic.py:460: FutureWarning: Default multi_class will be changed to 'auto' in 0.22. Specify the multi_class option to silence this warning.\n",
      "  \"this warning.\", FutureWarning)\n",
      "/Users/Tazman/anaconda3/lib/python3.7/site-packages/sklearn/linear_model/logistic.py:460: FutureWarning: Default multi_class will be changed to 'auto' in 0.22. Specify the multi_class option to silence this warning.\n",
      "  \"this warning.\", FutureWarning)\n",
      "/Users/Tazman/anaconda3/lib/python3.7/site-packages/sklearn/linear_model/logistic.py:460: FutureWarning: Default multi_class will be changed to 'auto' in 0.22. Specify the multi_class option to silence this warning.\n",
      "  \"this warning.\", FutureWarning)\n",
      "/Users/Tazman/anaconda3/lib/python3.7/site-packages/sklearn/linear_model/logistic.py:460: FutureWarning: Default multi_class will be changed to 'auto' in 0.22. Specify the multi_class option to silence this warning.\n",
      "  \"this warning.\", FutureWarning)\n",
      "/Users/Tazman/anaconda3/lib/python3.7/site-packages/sklearn/linear_model/logistic.py:460: FutureWarning: Default multi_class will be changed to 'auto' in 0.22. Specify the multi_class option to silence this warning.\n",
      "  \"this warning.\", FutureWarning)\n",
      "/Users/Tazman/anaconda3/lib/python3.7/site-packages/sklearn/linear_model/logistic.py:460: FutureWarning: Default multi_class will be changed to 'auto' in 0.22. Specify the multi_class option to silence this warning.\n",
      "  \"this warning.\", FutureWarning)\n",
      "/Users/Tazman/anaconda3/lib/python3.7/site-packages/sklearn/linear_model/logistic.py:460: FutureWarning: Default multi_class will be changed to 'auto' in 0.22. Specify the multi_class option to silence this warning.\n",
      "  \"this warning.\", FutureWarning)\n",
      "/Users/Tazman/anaconda3/lib/python3.7/site-packages/sklearn/linear_model/logistic.py:460: FutureWarning: Default multi_class will be changed to 'auto' in 0.22. Specify the multi_class option to silence this warning.\n",
      "  \"this warning.\", FutureWarning)\n",
      "/Users/Tazman/anaconda3/lib/python3.7/site-packages/sklearn/linear_model/logistic.py:460: FutureWarning: Default multi_class will be changed to 'auto' in 0.22. Specify the multi_class option to silence this warning.\n",
      "  \"this warning.\", FutureWarning)\n",
      "/Users/Tazman/anaconda3/lib/python3.7/site-packages/sklearn/linear_model/logistic.py:460: FutureWarning: Default multi_class will be changed to 'auto' in 0.22. Specify the multi_class option to silence this warning.\n",
      "  \"this warning.\", FutureWarning)\n",
      "/Users/Tazman/anaconda3/lib/python3.7/site-packages/sklearn/linear_model/logistic.py:460: FutureWarning: Default multi_class will be changed to 'auto' in 0.22. Specify the multi_class option to silence this warning.\n",
      "  \"this warning.\", FutureWarning)\n",
      "/Users/Tazman/anaconda3/lib/python3.7/site-packages/sklearn/linear_model/logistic.py:460: FutureWarning: Default multi_class will be changed to 'auto' in 0.22. Specify the multi_class option to silence this warning.\n",
      "  \"this warning.\", FutureWarning)\n",
      "/Users/Tazman/anaconda3/lib/python3.7/site-packages/sklearn/linear_model/logistic.py:460: FutureWarning: Default multi_class will be changed to 'auto' in 0.22. Specify the multi_class option to silence this warning.\n",
      "  \"this warning.\", FutureWarning)\n",
      "/Users/Tazman/anaconda3/lib/python3.7/site-packages/sklearn/linear_model/logistic.py:460: FutureWarning: Default multi_class will be changed to 'auto' in 0.22. Specify the multi_class option to silence this warning.\n",
      "  \"this warning.\", FutureWarning)\n",
      "/Users/Tazman/anaconda3/lib/python3.7/site-packages/sklearn/linear_model/logistic.py:460: FutureWarning: Default multi_class will be changed to 'auto' in 0.22. Specify the multi_class option to silence this warning.\n",
      "  \"this warning.\", FutureWarning)\n"
     ]
    },
    {
     "name": "stderr",
     "output_type": "stream",
     "text": [
      "/Users/Tazman/anaconda3/lib/python3.7/site-packages/sklearn/linear_model/logistic.py:460: FutureWarning: Default multi_class will be changed to 'auto' in 0.22. Specify the multi_class option to silence this warning.\n",
      "  \"this warning.\", FutureWarning)\n",
      "/Users/Tazman/anaconda3/lib/python3.7/site-packages/sklearn/linear_model/logistic.py:460: FutureWarning: Default multi_class will be changed to 'auto' in 0.22. Specify the multi_class option to silence this warning.\n",
      "  \"this warning.\", FutureWarning)\n",
      "/Users/Tazman/anaconda3/lib/python3.7/site-packages/sklearn/linear_model/logistic.py:460: FutureWarning: Default multi_class will be changed to 'auto' in 0.22. Specify the multi_class option to silence this warning.\n",
      "  \"this warning.\", FutureWarning)\n",
      "/Users/Tazman/anaconda3/lib/python3.7/site-packages/sklearn/linear_model/logistic.py:460: FutureWarning: Default multi_class will be changed to 'auto' in 0.22. Specify the multi_class option to silence this warning.\n",
      "  \"this warning.\", FutureWarning)\n",
      "/Users/Tazman/anaconda3/lib/python3.7/site-packages/sklearn/linear_model/logistic.py:460: FutureWarning: Default multi_class will be changed to 'auto' in 0.22. Specify the multi_class option to silence this warning.\n",
      "  \"this warning.\", FutureWarning)\n",
      "/Users/Tazman/anaconda3/lib/python3.7/site-packages/sklearn/linear_model/logistic.py:460: FutureWarning: Default multi_class will be changed to 'auto' in 0.22. Specify the multi_class option to silence this warning.\n",
      "  \"this warning.\", FutureWarning)\n",
      "/Users/Tazman/anaconda3/lib/python3.7/site-packages/sklearn/linear_model/logistic.py:460: FutureWarning: Default multi_class will be changed to 'auto' in 0.22. Specify the multi_class option to silence this warning.\n",
      "  \"this warning.\", FutureWarning)\n",
      "/Users/Tazman/anaconda3/lib/python3.7/site-packages/sklearn/linear_model/logistic.py:460: FutureWarning: Default multi_class will be changed to 'auto' in 0.22. Specify the multi_class option to silence this warning.\n",
      "  \"this warning.\", FutureWarning)\n",
      "/Users/Tazman/anaconda3/lib/python3.7/site-packages/sklearn/linear_model/logistic.py:460: FutureWarning: Default multi_class will be changed to 'auto' in 0.22. Specify the multi_class option to silence this warning.\n",
      "  \"this warning.\", FutureWarning)\n",
      "/Users/Tazman/anaconda3/lib/python3.7/site-packages/sklearn/linear_model/logistic.py:460: FutureWarning: Default multi_class will be changed to 'auto' in 0.22. Specify the multi_class option to silence this warning.\n",
      "  \"this warning.\", FutureWarning)\n",
      "/Users/Tazman/anaconda3/lib/python3.7/site-packages/sklearn/linear_model/logistic.py:460: FutureWarning: Default multi_class will be changed to 'auto' in 0.22. Specify the multi_class option to silence this warning.\n",
      "  \"this warning.\", FutureWarning)\n",
      "/Users/Tazman/anaconda3/lib/python3.7/site-packages/sklearn/linear_model/logistic.py:460: FutureWarning: Default multi_class will be changed to 'auto' in 0.22. Specify the multi_class option to silence this warning.\n",
      "  \"this warning.\", FutureWarning)\n",
      "/Users/Tazman/anaconda3/lib/python3.7/site-packages/sklearn/linear_model/logistic.py:460: FutureWarning: Default multi_class will be changed to 'auto' in 0.22. Specify the multi_class option to silence this warning.\n",
      "  \"this warning.\", FutureWarning)\n",
      "/Users/Tazman/anaconda3/lib/python3.7/site-packages/sklearn/linear_model/logistic.py:460: FutureWarning: Default multi_class will be changed to 'auto' in 0.22. Specify the multi_class option to silence this warning.\n",
      "  \"this warning.\", FutureWarning)\n",
      "/Users/Tazman/anaconda3/lib/python3.7/site-packages/sklearn/linear_model/logistic.py:460: FutureWarning: Default multi_class will be changed to 'auto' in 0.22. Specify the multi_class option to silence this warning.\n",
      "  \"this warning.\", FutureWarning)\n",
      "/Users/Tazman/anaconda3/lib/python3.7/site-packages/sklearn/linear_model/logistic.py:460: FutureWarning: Default multi_class will be changed to 'auto' in 0.22. Specify the multi_class option to silence this warning.\n",
      "  \"this warning.\", FutureWarning)\n",
      "/Users/Tazman/anaconda3/lib/python3.7/site-packages/sklearn/linear_model/logistic.py:460: FutureWarning: Default multi_class will be changed to 'auto' in 0.22. Specify the multi_class option to silence this warning.\n",
      "  \"this warning.\", FutureWarning)\n",
      "/Users/Tazman/anaconda3/lib/python3.7/site-packages/sklearn/linear_model/logistic.py:460: FutureWarning: Default multi_class will be changed to 'auto' in 0.22. Specify the multi_class option to silence this warning.\n",
      "  \"this warning.\", FutureWarning)\n",
      "/Users/Tazman/anaconda3/lib/python3.7/site-packages/sklearn/linear_model/logistic.py:460: FutureWarning: Default multi_class will be changed to 'auto' in 0.22. Specify the multi_class option to silence this warning.\n",
      "  \"this warning.\", FutureWarning)\n",
      "/Users/Tazman/anaconda3/lib/python3.7/site-packages/sklearn/linear_model/logistic.py:460: FutureWarning: Default multi_class will be changed to 'auto' in 0.22. Specify the multi_class option to silence this warning.\n",
      "  \"this warning.\", FutureWarning)\n",
      "/Users/Tazman/anaconda3/lib/python3.7/site-packages/sklearn/linear_model/logistic.py:460: FutureWarning: Default multi_class will be changed to 'auto' in 0.22. Specify the multi_class option to silence this warning.\n",
      "  \"this warning.\", FutureWarning)\n",
      "/Users/Tazman/anaconda3/lib/python3.7/site-packages/sklearn/linear_model/logistic.py:460: FutureWarning: Default multi_class will be changed to 'auto' in 0.22. Specify the multi_class option to silence this warning.\n",
      "  \"this warning.\", FutureWarning)\n",
      "/Users/Tazman/anaconda3/lib/python3.7/site-packages/sklearn/linear_model/logistic.py:460: FutureWarning: Default multi_class will be changed to 'auto' in 0.22. Specify the multi_class option to silence this warning.\n",
      "  \"this warning.\", FutureWarning)\n",
      "/Users/Tazman/anaconda3/lib/python3.7/site-packages/sklearn/linear_model/logistic.py:460: FutureWarning: Default multi_class will be changed to 'auto' in 0.22. Specify the multi_class option to silence this warning.\n",
      "  \"this warning.\", FutureWarning)\n",
      "/Users/Tazman/anaconda3/lib/python3.7/site-packages/sklearn/linear_model/logistic.py:460: FutureWarning: Default multi_class will be changed to 'auto' in 0.22. Specify the multi_class option to silence this warning.\n",
      "  \"this warning.\", FutureWarning)\n",
      "/Users/Tazman/anaconda3/lib/python3.7/site-packages/sklearn/linear_model/logistic.py:460: FutureWarning: Default multi_class will be changed to 'auto' in 0.22. Specify the multi_class option to silence this warning.\n",
      "  \"this warning.\", FutureWarning)\n",
      "/Users/Tazman/anaconda3/lib/python3.7/site-packages/sklearn/linear_model/logistic.py:460: FutureWarning: Default multi_class will be changed to 'auto' in 0.22. Specify the multi_class option to silence this warning.\n",
      "  \"this warning.\", FutureWarning)\n",
      "/Users/Tazman/anaconda3/lib/python3.7/site-packages/sklearn/linear_model/logistic.py:460: FutureWarning: Default multi_class will be changed to 'auto' in 0.22. Specify the multi_class option to silence this warning.\n",
      "  \"this warning.\", FutureWarning)\n",
      "[Parallel(n_jobs=1)]: Done 240 out of 240 | elapsed:    4.3s finished\n",
      "/Users/Tazman/anaconda3/lib/python3.7/site-packages/sklearn/model_selection/_search.py:841: DeprecationWarning: The default of the `iid` parameter will change from True to False in version 0.22 and will be removed in 0.24. This will change numeric results when test-set sizes are unequal.\n",
      "  DeprecationWarning)\n",
      "/Users/Tazman/anaconda3/lib/python3.7/site-packages/sklearn/linear_model/logistic.py:460: FutureWarning: Default multi_class will be changed to 'auto' in 0.22. Specify the multi_class option to silence this warning.\n",
      "  \"this warning.\", FutureWarning)\n"
     ]
    },
    {
     "data": {
      "text/plain": [
       "GridSearchCV(cv=3, error_score='raise-deprecating',\n",
       "       estimator=LogisticRegression(C=1.0, class_weight=None, dual=False, fit_intercept=True,\n",
       "          intercept_scaling=1, max_iter=100, multi_class='warn',\n",
       "          n_jobs=None, penalty='l2', random_state=None, solver='warn',\n",
       "          tol=0.0001, verbose=0, warm_start=False),\n",
       "       fit_params=None, iid='warn', n_jobs=None,\n",
       "       param_grid={'penalty': ['l1', 'l2'], 'C': array([1.00000e-04, 1.42510e-04, 2.03092e-04, 2.89427e-04, 4.12463e-04,\n",
       "       5.87802e-04, 8.37678e-04, 1.19378e-03, 1.70125e-03, 2.42446e-03,\n",
       "       3.45511e-03, 4.92388e-03, 7.01704e-03, 1.00000e-02, 1.42510e-02,\n",
       "       2.03092e-02, 2.89427e-02, 4.12463e-...,\n",
       "       2.42446e+01, 3.45511e+01, 4.92388e+01, 7.01704e+01, 1.00000e+02]), 'solver': ['liblinear']},\n",
       "       pre_dispatch='2*n_jobs', refit=True, return_train_score='warn',\n",
       "       scoring=None, verbose=1)"
      ]
     },
     "execution_count": 1353,
     "metadata": {},
     "output_type": "execute_result"
    }
   ],
   "source": [
    "lr =  LogisticRegression()\n",
    "\n",
    "lr_params = {\n",
    "    'penalty':['l1','l2'],\n",
    "    'C':np.logspace(-4, 2, 40),\n",
    "    'solver':['liblinear']\n",
    "}\n",
    "\n",
    "lr_gs = GridSearchCV(lr, lr_params, cv=3, verbose=1)\n",
    "lr_gs.fit(X_train, y_train)"
   ]
  },
  {
   "cell_type": "code",
   "execution_count": 1354,
   "metadata": {},
   "outputs": [
    {
     "name": "stdout",
     "output_type": "stream",
     "text": [
      "{'C': 17.012542798525892, 'penalty': 'l1', 'solver': 'liblinear'}\n",
      "0.8327067669172933\n"
     ]
    }
   ],
   "source": [
    "best_lr = lr_gs.best_estimator_\n",
    "print(lr_gs.best_params_)\n",
    "print(lr_gs.best_score_)"
   ]
  },
  {
   "cell_type": "code",
   "execution_count": 1356,
   "metadata": {},
   "outputs": [
    {
     "data": {
      "text/plain": [
       "0.5286207640269756"
      ]
     },
     "execution_count": 1356,
     "metadata": {},
     "output_type": "execute_result"
    }
   ],
   "source": [
    "gnb = GaussianNB()\n",
    "best_gnb = gnb.fit(X_train, y_train)\n",
    "np.mean(cross_val_score(gnb, X_train, y_train, cv=3))"
   ]
  },
  {
   "cell_type": "code",
   "execution_count": 1358,
   "metadata": {},
   "outputs": [
    {
     "name": "stdout",
     "output_type": "stream",
     "text": [
      "Fitting 3 folds for each of 385 candidates, totalling 1155 fits\n"
     ]
    },
    {
     "name": "stderr",
     "output_type": "stream",
     "text": [
      "[Parallel(n_jobs=1)]: Using backend SequentialBackend with 1 concurrent workers.\n",
      "[Parallel(n_jobs=1)]: Done 1155 out of 1155 | elapsed:    6.3s finished\n",
      "/Users/Tazman/anaconda3/lib/python3.7/site-packages/sklearn/model_selection/_search.py:841: DeprecationWarning: The default of the `iid` parameter will change from True to False in version 0.22 and will be removed in 0.24. This will change numeric results when test-set sizes are unequal.\n",
      "  DeprecationWarning)\n"
     ]
    },
    {
     "data": {
      "text/plain": [
       "GridSearchCV(cv=3, error_score='raise-deprecating',\n",
       "       estimator=DecisionTreeClassifier(class_weight=None, criterion='gini', max_depth=None,\n",
       "            max_features=None, max_leaf_nodes=None,\n",
       "            min_impurity_decrease=0.0, min_impurity_split=None,\n",
       "            min_samples_leaf=1, min_samples_split=2,\n",
       "            min_weight_fraction_leaf=0.0, presort=False, random_state=None,\n",
       "            splitter='best'),\n",
       "       fit_params=None, iid='warn', n_jobs=None,\n",
       "       param_grid={'max_depth': [None, 1, 2, 3, 4], 'max_features': [None, 'log2', 'sqrt', 2, 3, 4, 5], 'min_samples_split': [2, 3, 4, 5, 10, 15, 20, 25, 30, 40, 50]},\n",
       "       pre_dispatch='2*n_jobs', refit=True, return_train_score='warn',\n",
       "       scoring=None, verbose=1)"
      ]
     },
     "execution_count": 1358,
     "metadata": {},
     "output_type": "execute_result"
    }
   ],
   "source": [
    "DTC = DecisionTreeClassifier()\n",
    "dtc_params = {\n",
    "    'max_depth':[None,1,2,3,4],\n",
    "    'max_features':[None,'log2','sqrt',2,3,4,5],\n",
    "    'min_samples_split':[2,3,4,5,10,15,20,25,30,40,50]\n",
    "}\n",
    "\n",
    "dtc_gs = GridSearchCV(DTC, dtc_params, cv=3, verbose=1)\n",
    "dtc_gs.fit(X_train, y_train)"
   ]
  },
  {
   "cell_type": "code",
   "execution_count": 1359,
   "metadata": {},
   "outputs": [
    {
     "name": "stdout",
     "output_type": "stream",
     "text": [
      "{'max_depth': None, 'max_features': None, 'min_samples_split': 25}\n",
      "0.849624060150376\n"
     ]
    }
   ],
   "source": [
    "dtc_best = dtc_gs.best_estimator_\n",
    "print((dtc_gs.best_params_))\n",
    "print((dtc_gs.best_score_))"
   ]
  },
  {
   "cell_type": "code",
   "execution_count": 1363,
   "metadata": {},
   "outputs": [
    {
     "name": "stdout",
     "output_type": "stream",
     "text": [
      "Fitting 3 folds for each of 432 candidates, totalling 1296 fits\n"
     ]
    },
    {
     "name": "stderr",
     "output_type": "stream",
     "text": [
      "[Parallel(n_jobs=1)]: Using backend SequentialBackend with 1 concurrent workers.\n",
      "[Parallel(n_jobs=1)]: Done 1296 out of 1296 | elapsed:  1.6min finished\n",
      "/Users/Tazman/anaconda3/lib/python3.7/site-packages/sklearn/model_selection/_search.py:841: DeprecationWarning: The default of the `iid` parameter will change from True to False in version 0.22 and will be removed in 0.24. This will change numeric results when test-set sizes are unequal.\n",
      "  DeprecationWarning)\n"
     ]
    },
    {
     "data": {
      "text/plain": [
       "GridSearchCV(cv=3, error_score='raise-deprecating',\n",
       "       estimator=RandomForestClassifier(bootstrap=True, class_weight=None, criterion='gini',\n",
       "            max_depth=None, max_features='auto', max_leaf_nodes=None,\n",
       "            min_impurity_decrease=0.0, min_impurity_split=None,\n",
       "            min_samples_leaf=1, min_samples_split=2,\n",
       "            min_weight_fraction_leaf=0.0, n_estimators='warn', n_jobs=None,\n",
       "            oob_score=False, random_state=None, verbose=0,\n",
       "            warm_start=False),\n",
       "       fit_params=None, iid='warn', n_jobs=None,\n",
       "       param_grid={'bootstrap': [True, False], 'max_depth': [None, 1, 2, 3], 'max_features': ['auto', 'sqrt'], 'min_samples_leaf': [1, 2, 4], 'min_samples_split': [2, 5, 10], 'n_estimators': [25, 50, 100]},\n",
       "       pre_dispatch='2*n_jobs', refit=True, return_train_score='warn',\n",
       "       scoring=None, verbose=1)"
      ]
     },
     "execution_count": 1363,
     "metadata": {},
     "output_type": "execute_result"
    }
   ],
   "source": [
    "RFC =  RandomForestClassifier()\n",
    "\n",
    "rfc_params = {\n",
    " 'bootstrap': [True, False],\n",
    " 'max_depth': [None, 1, 2, 3],\n",
    " 'max_features': ['auto', 'sqrt'],\n",
    " 'min_samples_leaf': [1, 2, 4],\n",
    " 'min_samples_split': [2, 5, 10],\n",
    " 'n_estimators': [25, 50, 100]\n",
    "}\n",
    "\n",
    "rfc_gs = GridSearchCV(RFC, rfc_params, cv=3, verbose=1)\n",
    "rfc_gs.fit(X_train, y_train)"
   ]
  },
  {
   "cell_type": "code",
   "execution_count": 1364,
   "metadata": {},
   "outputs": [
    {
     "name": "stdout",
     "output_type": "stream",
     "text": [
      "{'bootstrap': False, 'max_depth': None, 'max_features': 'sqrt', 'min_samples_leaf': 2, 'min_samples_split': 10, 'n_estimators': 50}\n",
      "0.849624060150376\n"
     ]
    }
   ],
   "source": [
    "rfc_best = dtc_gs.best_estimator_\n",
    "print((rfc_gs.best_params_))\n",
    "print((rfc_gs.best_score_))"
   ]
  },
  {
   "cell_type": "markdown",
   "metadata": {},
   "source": [
    "## Evaluation of Models"
   ]
  },
  {
   "cell_type": "code",
   "execution_count": 96,
   "metadata": {},
   "outputs": [
    {
     "data": {
      "text/html": [
       "<div>\n",
       "<style scoped>\n",
       "    .dataframe tbody tr th:only-of-type {\n",
       "        vertical-align: middle;\n",
       "    }\n",
       "\n",
       "    .dataframe tbody tr th {\n",
       "        vertical-align: top;\n",
       "    }\n",
       "\n",
       "    .dataframe thead th {\n",
       "        text-align: right;\n",
       "    }\n",
       "</style>\n",
       "<table border=\"1\" class=\"dataframe\">\n",
       "  <thead>\n",
       "    <tr style=\"text-align: right;\">\n",
       "      <th></th>\n",
       "      <th>Classifier</th>\n",
       "      <th>Training Accuracy (using CV)</th>\n",
       "      <th>Testing Accuracy</th>\n",
       "    </tr>\n",
       "  </thead>\n",
       "  <tbody>\n",
       "    <tr>\n",
       "      <th>1</th>\n",
       "      <td>SVM</td>\n",
       "      <td>0.850</td>\n",
       "      <td>0.813</td>\n",
       "    </tr>\n",
       "    <tr>\n",
       "      <th>2</th>\n",
       "      <td>Logistic Regression</td>\n",
       "      <td>0.833</td>\n",
       "      <td>0.806</td>\n",
       "    </tr>\n",
       "    <tr>\n",
       "      <th>4</th>\n",
       "      <td>Decision Tree</td>\n",
       "      <td>0.850</td>\n",
       "      <td>0.806</td>\n",
       "    </tr>\n",
       "    <tr>\n",
       "      <th>5</th>\n",
       "      <td>Random Forest</td>\n",
       "      <td>0.846</td>\n",
       "      <td>0.806</td>\n",
       "    </tr>\n",
       "    <tr>\n",
       "      <th>0</th>\n",
       "      <td>KNN</td>\n",
       "      <td>0.786</td>\n",
       "      <td>0.776</td>\n",
       "    </tr>\n",
       "    <tr>\n",
       "      <th>3</th>\n",
       "      <td>Naive Bayes</td>\n",
       "      <td>0.529</td>\n",
       "      <td>0.619</td>\n",
       "    </tr>\n",
       "  </tbody>\n",
       "</table>\n",
       "</div>"
      ],
      "text/plain": [
       "            Classifier  Training Accuracy (using CV)  Testing Accuracy\n",
       "1                  SVM                         0.850             0.813\n",
       "2  Logistic Regression                         0.833             0.806\n",
       "4        Decision Tree                         0.850             0.806\n",
       "5        Random Forest                         0.846             0.806\n",
       "0                  KNN                         0.786             0.776\n",
       "3          Naive Bayes                         0.529             0.619"
      ]
     },
     "execution_count": 96,
     "metadata": {},
     "output_type": "execute_result"
    }
   ],
   "source": [
    "evaluation = pd.DataFrame()\n",
    "evaluation['Classifier'] = ['KNN', 'SVM', 'Logistic Regression', 'Naive Bayes', 'Decision Tree', 'Random Forest']\n",
    "evaluation['Training Accuracy (using CV)'] = [round(knn_gs.best_score_, 3),\n",
    "                                             round(svc_gs.best_score_, 3),\n",
    "                                             round(lr_gs.best_score_, 3),\n",
    "                                             round(np.mean(cross_val_score(gnb, X_train, y_train, cv=3)), 3),\n",
    "                                             round(dtc_gs.best_score_, 3),\n",
    "                                             round(rfc_gs.best_score_, 3)] \n",
    "evaluation['Testing Accuracy'] = [round(knn_best.score(X_test, y_test), 3),\n",
    "                                             round(best_svc.score(X_test, y_test), 3),\n",
    "                                             round(best_lr.score(X_test, y_test), 3),\n",
    "                                             round(best_gnb.score(X_test, y_test), 3),\n",
    "                                             round(dtc_best.score(X_test, y_test), 3),\n",
    "                                             round(rfc_best.score(X_test, y_test), 3)] \n",
    "evaluation.sort_values(by='Testing Accuracy', ascending=False)"
   ]
  },
  {
   "cell_type": "code",
   "execution_count": 1400,
   "metadata": {},
   "outputs": [],
   "source": [
    "evaluation = pd.DataFrame()\n",
    "evaluation['Classifier'] = ['KNN', 'SVM', 'Logistic Regression', 'Naive Bayes', 'Decision Tree', 'Random Forest']\n",
    "evaluation['Training Accuracy (using CV)'] = [round(knn_gs.best_score_, 3),\n",
    "                                             round(svc_gs.best_score_, 3),\n",
    "                                             round(lr_gs.best_score_, 3),\n",
    "                                             round(np.mean(cross_val_score(gnb, X_train, y_train, cv=3)), 3),\n",
    "                                             round(dtc_gs.best_score_, 3),\n",
    "                                             round(rfc_gs.best_score_, 3)] \n",
    "evaluation['Testing Accuracy'] = [round(knn_best.score(X_test, y_test), 3),\n",
    "                                             round(best_svc.score(X_test, y_test), 3),\n",
    "                                             round(best_lr.score(X_test, y_test), 3),\n",
    "                                             round(best_gnb.score(X_test, y_test), 3),\n",
    "                                             round(dtc_best.score(X_test, y_test), 3),\n",
    "                                             round(rfc_best.score(X_test, y_test), 3)] \n",
    "test = evaluation.sort_values(by='Testing Accuracy', ascending=False)"
   ]
  },
  {
   "cell_type": "code",
   "execution_count": 1431,
   "metadata": {},
   "outputs": [
    {
     "data": {
      "image/png": "[encoded data removed]",
      "text/plain": [
       "<Figure size 720x720 with 1 Axes>"
      ]
     },
     "metadata": {
      "needs_background": "light"
     },
     "output_type": "display_data"
    }
   ],
   "source": [
    "ax = test.plot(kind='barh', legend=False,grid=True, figsize=(10,10),fontsize=20, color = 'c')\n",
    "ax.set_title('Comparison of Models', fontsize=22)\n",
    "ax.set_ylabel(\"\", fontsize=18);\n",
    "ax.set_xlabel(\"Test Accuracy (%)\", fontsize=18);"
   ]
  },
  {
   "cell_type": "code",
   "execution_count": 1155,
   "metadata": {},
   "outputs": [],
   "source": [
    "classes=['Low', 'Low/Medium', 'Medium', 'Medium/High', 'High']\n",
    "\n",
    "# Note: I found the code for this function at:\n",
    "# https://datascience.stackexchange.com/questions/40067/confusion-matrix-three-classes-python\n",
    "\n",
    "def plot_confusion_matrix(cm, classes=classes,\n",
    "                          normalize=True,\n",
    "                          title='Confusion matrix',\n",
    "                          cmap=plt.cm.Blues):\n",
    "\n",
    "    plt.imshow(cm, interpolation='nearest', cmap=cmap)\n",
    "    plt.title(title)\n",
    "    plt.colorbar()\n",
    "    tick_marks = np.arange(len(classes))\n",
    "    plt.xticks(tick_marks, classes, rotation=45)\n",
    "    plt.yticks(tick_marks, classes)\n",
    "\n",
    "    fmt = '.2f' if normalize else 'd'\n",
    "    thresh = cm.max() / 2.\n",
    "    for i, j in itertools.product(range(cm.shape[0]), range(cm.shape[1])):\n",
    "        plt.text(j, i, format(cm[i, j], fmt),\n",
    "                 horizontalalignment=\"center\",\n",
    "                 color=\"white\" if cm[i, j] > thresh else \"black\")\n",
    "\n",
    "    plt.ylabel('True Class')\n",
    "    plt.xlabel('Predicted Class')\n",
    "    plt.tight_layout()"
   ]
  },
  {
   "cell_type": "code",
   "execution_count": 946,
   "metadata": {},
   "outputs": [
    {
     "data": {
      "image/png": "[encoded data removed]",
      "text/plain": [
       "<Figure size 432x288 with 2 Axes>"
      ]
     },
     "metadata": {
      "needs_background": "light"
     },
     "output_type": "display_data"
    },
    {
     "data": {
      "image/png": "[encoded data removed]",
      "text/plain": [
       "<Figure size 432x288 with 2 Axes>"
      ]
     },
     "metadata": {
      "needs_background": "light"
     },
     "output_type": "display_data"
    },
    {
     "data": {
      "image/png": "[encoded data removed]",
      "text/plain": [
       "<Figure size 432x288 with 2 Axes>"
      ]
     },
     "metadata": {
      "needs_background": "light"
     },
     "output_type": "display_data"
    },
    {
     "data": {
      "image/png": "[encoded data removed]",
      "text/plain": [
       "<Figure size 432x288 with 2 Axes>"
      ]
     },
     "metadata": {
      "needs_background": "light"
     },
     "output_type": "display_data"
    }
   ],
   "source": [
    "y_pred =  best_svc.predict(X_test)\n",
    "cnf_matrix = confusion_matrix(y_test, y_pred,labels=classes)\n",
    "np.set_printoptions(precision=2)\n",
    "plt.figure()\n",
    "plot_confusion_matrix(cnf_matrix,title='SVM Confusion matrix')\n",
    "\n",
    "y_pred =  best_lr.predict(X_test)\n",
    "cnf_matrix = confusion_matrix(y_test, y_pred,labels=classes)\n",
    "np.set_printoptions(precision=2)\n",
    "plt.figure()\n",
    "plot_confusion_matrix(cnf_matrix,title='LR Confusion matrix')\n",
    "\n",
    "y_pred =  dtc_gs.predict(X_test)\n",
    "cnf_matrix = confusion_matrix(y_test, y_pred,labels=classes)\n",
    "np.set_printoptions(precision=2)\n",
    "plt.figure()\n",
    "plot_confusion_matrix(cnf_matrix,title='DT Confusion matrix')\n",
    "\n",
    "y_pred =  rfc_best.predict(X_test)\n",
    "cnf_matrix = confusion_matrix(y_test, y_pred,labels=classes)\n",
    "np.set_printoptions(precision=2)\n",
    "plt.figure()\n",
    "plot_confusion_matrix(cnf_matrix,title='RF Confusion matrix')"
   ]
  },
  {
   "cell_type": "markdown",
   "metadata": {},
   "source": [
    "LR, DT and RF perform exactly the same on the testing data.\n",
    "SVM performs slightly better and is the best model so far."
   ]
  },
  {
   "cell_type": "markdown",
   "metadata": {},
   "source": [
    "# Predicting Job Category"
   ]
  },
  {
   "cell_type": "code",
   "execution_count": 32,
   "metadata": {},
   "outputs": [
    {
     "data": {
      "text/html": [
       "<div>\n",
       "<style scoped>\n",
       "    .dataframe tbody tr th:only-of-type {\n",
       "        vertical-align: middle;\n",
       "    }\n",
       "\n",
       "    .dataframe tbody tr th {\n",
       "        vertical-align: top;\n",
       "    }\n",
       "\n",
       "    .dataframe thead th {\n",
       "        text-align: right;\n",
       "    }\n",
       "</style>\n",
       "<table border=\"1\" class=\"dataframe\">\n",
       "  <thead>\n",
       "    <tr style=\"text-align: right;\">\n",
       "      <th></th>\n",
       "      <th>Clean Job Title</th>\n",
       "      <th>Description</th>\n",
       "    </tr>\n",
       "  </thead>\n",
       "  <tbody>\n",
       "    <tr>\n",
       "      <th>0</th>\n",
       "      <td>Data Analyst</td>\n",
       "      <td>About Us Seventh Street Ventures is an entrepr...</td>\n",
       "    </tr>\n",
       "    <tr>\n",
       "      <th>1</th>\n",
       "      <td>Junior Data Analyst</td>\n",
       "      <td>Are you an up and coming Data/ Reporting Analy...</td>\n",
       "    </tr>\n",
       "    <tr>\n",
       "      <th>2</th>\n",
       "      <td>Data Analyst</td>\n",
       "      <td>2 month role, working 4 or 5 days per week Kn...</td>\n",
       "    </tr>\n",
       "    <tr>\n",
       "      <th>3</th>\n",
       "      <td>Junior Data Analyst</td>\n",
       "      <td>What’s your ambition? Is it a big goal or smal...</td>\n",
       "    </tr>\n",
       "    <tr>\n",
       "      <th>4</th>\n",
       "      <td>Data Analyst</td>\n",
       "      <td>NSW Government Client3 months contract with a ...</td>\n",
       "    </tr>\n",
       "  </tbody>\n",
       "</table>\n",
       "</div>"
      ],
      "text/plain": [
       "       Clean Job Title                                        Description\n",
       "0         Data Analyst  About Us Seventh Street Ventures is an entrepr...\n",
       "1  Junior Data Analyst  Are you an up and coming Data/ Reporting Analy...\n",
       "2         Data Analyst   2 month role, working 4 or 5 days per week Kn...\n",
       "3  Junior Data Analyst  What’s your ambition? Is it a big goal or smal...\n",
       "4         Data Analyst  NSW Government Client3 months contract with a ..."
      ]
     },
     "execution_count": 32,
     "metadata": {},
     "output_type": "execute_result"
    }
   ],
   "source": [
    "df[['Clean Job Title', 'Description']].head()"
   ]
  },
  {
   "cell_type": "markdown",
   "metadata": {},
   "source": [
    "To predict job category, let's do NLP on the job description!"
   ]
  },
  {
   "cell_type": "markdown",
   "metadata": {},
   "source": [
    "## EDA"
   ]
  },
  {
   "cell_type": "code",
   "execution_count": 868,
   "metadata": {},
   "outputs": [],
   "source": [
    "custom_stop_words = list(ENGLISH_STOP_WORDS)\n",
    "custom_stop_words.extend(['support', 'work', 'new', 'information', 'solution','data', 'Data', 'strong', 'skill',\n",
    "                         'systems', 'apply', 'provide', 'project', 'performance', 'requirement' ,'organisation',\n",
    "                         'including', 'environment', 'ability', 'need', 'role', 'skills', 'opportunity', 'source', 'product', 'requirements', 'required', 'key', 'large',\n",
    "                           'application', 'company','global','use','knowledge','service','opportunities',\n",
    "                           'people', 'develop', 'set', 'great', 'highly', 'based', 'solutions','ensure',\n",
    "                           'looking', 'using', 'make', 'working', 'benefit', 'applications',\n",
    "                           'industry', 'leading', 'seeking', 'analyst', 'analytical', 'tool', 'market',\n",
    "                           'quality', 'create', 'benefits', 'area', 'needs', 'sources', 'world', 'level',\n",
    "                           'processes', 'quality', 'offer', 'join', 'sets', 'maintain', 'complex',\n",
    "                           'successful', 'day', 'services', 'complex', 'projects', 'build', 'assurance',\n",
    "                           'candidate', 'background', 'position', 'responsible', 'process', 'contact',\n",
    "                           'experienced','time', 'high', 'exciting', 'tools', 'demonstrated', 'proven',\n",
    "                           'Australian','analytic', 'analytics', 'closely','job', 'advanced', 'range',\n",
    "                           'professional', 'implement', 'require', 'integrity', 'ensuring','customer',\n",
    "                           'Australia','predictive','innovative', 'design', 'year','platform',\n",
    "                           'building', 'responsibilities','deliver', 'capability','techniques', 'excellent',\n",
    "                           'expertise', 'products', 'value', 'software','platform','technologies',\n",
    "                           'analyse','understanding','technical','help', 'lead', 'Scientist', 'recommendations',\n",
    "                           'include', 'delivering', 'years', 'Melbourne', 'best', 'like', 'relevant',\n",
    "                           'science', 'BrightStar', 'capabilities', 'functional', 'passionate', 'making',\n",
    "                           'love', 'field', 'able', 'focused', 'assist', 'scientists', 'decision'])"
   ]
  },
  {
   "cell_type": "code",
   "execution_count": 1112,
   "metadata": {},
   "outputs": [],
   "source": [
    "def wordcloud(title):\n",
    "    descriptions = ''\n",
    "    for i in list(df[df['Title'] == title]['Description'].index):\n",
    "        descriptions += df['Description'][i]\n",
    "    wordcloud = WordCloud(stopwords = custom_stop_words_2, max_font_size=50, max_words=10, background_color=\"white\").generate(descriptions)\n",
    "    plt.figure(figsize=(15, 6))\n",
    "    # Display the generated image:\n",
    "    plt.imshow(wordcloud, interpolation='bilinear')\n",
    "    plt.axis(\"off\")\n",
    "    plt.show()"
   ]
  },
  {
   "cell_type": "code",
   "execution_count": 1117,
   "metadata": {},
   "outputs": [
    {
     "data": {
      "image/png": "[encoded data removed]",
      "text/plain": [
       "<Figure size 1080x432 with 1 Axes>"
      ]
     },
     "metadata": {
      "needs_background": "light"
     },
     "output_type": "display_data"
    }
   ],
   "source": [
    "wordcloud('Data Scientist')"
   ]
  },
  {
   "cell_type": "code",
   "execution_count": 1114,
   "metadata": {},
   "outputs": [
    {
     "data": {
      "image/png": "[encoded data removed]",
      "text/plain": [
       "<Figure size 1080x432 with 1 Axes>"
      ]
     },
     "metadata": {
      "needs_background": "light"
     },
     "output_type": "display_data"
    }
   ],
   "source": [
    "wordcloud('Data Analyst')"
   ]
  },
  {
   "cell_type": "markdown",
   "metadata": {},
   "source": [
    "Comparing 'Data Analyst' and 'Data Scientist' job descriptions:\n",
    "\n",
    "Similarities:\n",
    "- emphasis on business, experience, team, analysis and the client\n",
    "\n",
    "\n",
    "\n",
    "Differences:\n",
    "- 'scientist' jobs place a stronger emphasis on experience\n",
    "- 'scientist' jobs place a stronger emphasis on Python, while 'analyst' jobs place a stronger emphasis on SQL\n",
    "- 'scientst' jobs place emphasis on modelling and machine learning\n",
    "- 'analyst' jobs place a stronger emphasis on reporting"
   ]
  },
  {
   "cell_type": "markdown",
   "metadata": {},
   "source": [
    "## Preprocessing"
   ]
  },
  {
   "cell_type": "code",
   "execution_count": 52,
   "metadata": {},
   "outputs": [],
   "source": [
    "# read csv\n",
    "df = pd.read_csv('scraped_ads_cleanest.csv')[['Description', 'Clean Job Title']]"
   ]
  },
  {
   "cell_type": "code",
   "execution_count": 53,
   "metadata": {},
   "outputs": [],
   "source": [
    "# let's just focus on Data Scientists and Data Analysts\n",
    "df2 = df[(df['Clean Job Title'] == 'Data Analyst') | (df['Clean Job Title'] == 'Data Scientist') |\n",
    "   (df['Clean Job Title'] == 'Junior Data Analyst') | (df['Clean Job Title'] == 'Senior Data Analyst')]"
   ]
  },
  {
   "cell_type": "code",
   "execution_count": 54,
   "metadata": {},
   "outputs": [],
   "source": [
    "# Create the predictor and target matrices\n",
    "X = df2['Description']\n",
    "y = np.where(df2['Clean Job Title'] == 'Data Scientist', 1, 0)"
   ]
  },
  {
   "cell_type": "code",
   "execution_count": 55,
   "metadata": {},
   "outputs": [],
   "source": [
    "# reupdate stop words\n",
    "from sklearn.feature_extraction.text import ENGLISH_STOP_WORDS\n",
    "custom_stop_words = list(ENGLISH_STOP_WORDS)\n",
    "custom_stop_words.extend(['data', 'scientist', 'science', 'projects','processes',\n",
    "                         'credit', 'key', 'scientists','organisation',\n",
    "                         'receive','sydney','analytics','energyaustralia','dxc','image',\n",
    "                         'asset', 'drive','assets','analyst','behaviours','values',\n",
    "                         'extremely','looking','large','customer','foxtel','understanding',\n",
    "                     'analysis', 'learning', 'techniques', 'role', 'contact','risk',\n",
    "                         'predictive', 'statistical','models','iot','algorithms','quality',\n",
    "                         'university','revenue', 'making','love','fraud','entertainment','migration',\n",
    "                         'advice','governance','sourcing','rv','issues','tools','need',\n",
    "                         'using','decision','acumen','sets','commercial','master','government',\n",
    "                         'health','significant','experience','right','solutions','ml','real','internet',\n",
    "                         'recommendation', 'amounts','cutting','engineering','scoring','major',\n",
    "                         'mathematics','edge','analysing','management','trading','tech','service',\n",
    "                         'huge','building','platform','leading','package','report','academic','reports',\n",
    "                         'overall','largest','accountabilities', 'capacity', 'define'])\n",
    "\n",
    "# Initialise TfidfVectorizer\n",
    "tfidf = TfidfVectorizer(min_df = 2, ngram_range = (1, 1), stop_words = custom_stop_words)\n",
    "\n",
    "# use TfidfVectorizer to create a document-term matrix from X\n",
    "X_m = tfidf.fit_transform(X)\n",
    "\n",
    "# convert the matrix into a dataframe\n",
    "X_df = pd.DataFrame(X_m.todense(), columns=tfidf.get_feature_names())"
   ]
  },
  {
   "cell_type": "code",
   "execution_count": 56,
   "metadata": {},
   "outputs": [],
   "source": [
    "\n",
    "\n",
    "# Create the train test splits\n",
    "X_train, X_test, y_train, y_test = train_test_split(X_df, \n",
    "                     y, test_size=0.2, random_state=42)"
   ]
  },
  {
   "cell_type": "code",
   "execution_count": 59,
   "metadata": {},
   "outputs": [
    {
     "name": "stdout",
     "output_type": "stream",
     "text": [
      "(243, 3371)\n",
      "(61, 3371)\n",
      "(243,)\n",
      "(61,)\n"
     ]
    }
   ],
   "source": [
    "# Inspect shapes\n",
    "print(X_train.shape)\n",
    "print(X_test.shape)\n",
    "print(y_train.shape)\n",
    "print(y_test.shape)"
   ]
  },
  {
   "cell_type": "markdown",
   "metadata": {},
   "source": [
    "## Modelling"
   ]
  },
  {
   "cell_type": "markdown",
   "metadata": {},
   "source": [
    "### Fitting the models"
   ]
  },
  {
   "cell_type": "code",
   "execution_count": 64,
   "metadata": {},
   "outputs": [
    {
     "data": {
      "text/plain": [
       "0.7072368421052632"
      ]
     },
     "execution_count": 64,
     "metadata": {},
     "output_type": "execute_result"
    }
   ],
   "source": [
    "max(y.mean(), 1 - y.mean())"
   ]
  },
  {
   "cell_type": "markdown",
   "metadata": {},
   "source": [
    "Baseline: 71%"
   ]
  },
  {
   "cell_type": "markdown",
   "metadata": {},
   "source": [
    "Let's try two models - Logistic Regression and Decision Tree Classifier"
   ]
  },
  {
   "cell_type": "code",
   "execution_count": 70,
   "metadata": {},
   "outputs": [
    {
     "name": "stdout",
     "output_type": "stream",
     "text": [
      "Fitting 3 folds for each of 80 candidates, totalling 240 fits\n"
     ]
    },
    {
     "name": "stderr",
     "output_type": "stream",
     "text": [
      "[Parallel(n_jobs=1)]: Using backend SequentialBackend with 1 concurrent workers.\n",
      "[Parallel(n_jobs=1)]: Done 240 out of 240 | elapsed:    4.3s finished\n"
     ]
    },
    {
     "data": {
      "text/plain": [
       "GridSearchCV(cv=3, error_score='raise-deprecating',\n",
       "       estimator=LogisticRegression(C=1.0, class_weight=None, dual=False, fit_intercept=True,\n",
       "          intercept_scaling=1, max_iter=100, multi_class='warn',\n",
       "          n_jobs=None, penalty='l2', random_state=None, solver='warn',\n",
       "          tol=0.0001, verbose=0, warm_start=False),\n",
       "       fit_params=None, iid='warn', n_jobs=None,\n",
       "       param_grid={'penalty': ['l1', 'l2'], 'C': array([1.00000e-04, 1.42510e-04, 2.03092e-04, 2.89427e-04, 4.12463e-04,\n",
       "       5.87802e-04, 8.37678e-04, 1.19378e-03, 1.70125e-03, 2.42446e-03,\n",
       "       3.45511e-03, 4.92388e-03, 7.01704e-03, 1.00000e-02, 1.42510e-02,\n",
       "       2.03092e-02, 2.89427e-02, 4.12463e-...,\n",
       "       2.42446e+01, 3.45511e+01, 4.92388e+01, 7.01704e+01, 1.00000e+02]), 'solver': ['liblinear']},\n",
       "       pre_dispatch='2*n_jobs', refit=True, return_train_score='warn',\n",
       "       scoring=None, verbose=1)"
      ]
     },
     "execution_count": 70,
     "metadata": {},
     "output_type": "execute_result"
    }
   ],
   "source": [
    "lr =  LogisticRegression()\n",
    "\n",
    "lr_params = {\n",
    "    'penalty':['l1','l2'],\n",
    "    'C':np.logspace(-4, 2, 40),\n",
    "    'solver':['liblinear']\n",
    "}\n",
    "\n",
    "lr_gs = GridSearchCV(lr, lr_params, cv=3, verbose=1)\n",
    "lr_gs.fit(X_train, y_train)"
   ]
  },
  {
   "cell_type": "code",
   "execution_count": 72,
   "metadata": {},
   "outputs": [
    {
     "name": "stdout",
     "output_type": "stream",
     "text": [
      "{'C': 8.376776400682925, 'penalty': 'l2', 'solver': 'liblinear'}\n",
      "0.8477366255144033\n",
      "0.8360655737704918\n"
     ]
    }
   ],
   "source": [
    "best_lr = lr_gs.best_estimator_\n",
    "print(lr_gs.best_params_)\n",
    "print(lr_gs.best_score_)\n",
    "print(lr_gs.score(X_test, y_test))"
   ]
  },
  {
   "cell_type": "code",
   "execution_count": 65,
   "metadata": {},
   "outputs": [
    {
     "name": "stdout",
     "output_type": "stream",
     "text": [
      "Fitting 3 folds for each of 420 candidates, totalling 1260 fits\n"
     ]
    },
    {
     "name": "stderr",
     "output_type": "stream",
     "text": [
      "[Parallel(n_jobs=1)]: Using backend SequentialBackend with 1 concurrent workers.\n",
      "[Parallel(n_jobs=1)]: Done 1260 out of 1260 | elapsed:   19.2s finished\n"
     ]
    },
    {
     "data": {
      "text/plain": [
       "GridSearchCV(cv=3, error_score='raise-deprecating',\n",
       "       estimator=DecisionTreeClassifier(class_weight=None, criterion='gini', max_depth=None,\n",
       "            max_features=None, max_leaf_nodes=None,\n",
       "            min_impurity_decrease=0.0, min_impurity_split=None,\n",
       "            min_samples_leaf=1, min_samples_split=2,\n",
       "            min_weight_fraction_leaf=0.0, presort=False, random_state=None,\n",
       "            splitter='best'),\n",
       "       fit_params=None, iid='warn', n_jobs=None,\n",
       "       param_grid={'max_depth': [None, 1, 2, 3, 4, 5], 'max_features': [None, 'log2', 'sqrt', 2, 3, 4, 5], 'min_samples_split': [11, 12, 13, 14, 15, 16, 17, 18, 19, 20]},\n",
       "       pre_dispatch='2*n_jobs', refit=True, return_train_score='warn',\n",
       "       scoring=None, verbose=1)"
      ]
     },
     "execution_count": 65,
     "metadata": {},
     "output_type": "execute_result"
    }
   ],
   "source": [
    "DTC = DecisionTreeClassifier()\n",
    "dtc_params = {\n",
    "    'max_depth':[None,1,2,3,4, 5],\n",
    "    'max_features':[None,'log2','sqrt',2,3,4,5],\n",
    "    'min_samples_split':[11, 12, 13, 14,15,16, 17, 18, 19, 20]\n",
    "}\n",
    "\n",
    "dtc_gs = GridSearchCV(DTC, dtc_params, cv=3, verbose=1)\n",
    "dtc_gs.fit(X_train, y_train)"
   ]
  },
  {
   "cell_type": "code",
   "execution_count": 66,
   "metadata": {},
   "outputs": [
    {
     "name": "stdout",
     "output_type": "stream",
     "text": [
      "{'max_depth': 2, 'max_features': None, 'min_samples_split': 13}\n",
      "0.9218106995884774\n",
      "0.8524590163934426\n"
     ]
    }
   ],
   "source": [
    "dtc_best = dtc_gs.best_estimator_\n",
    "print((dtc_gs.best_params_))\n",
    "print((dtc_gs.best_score_))\n",
    "print(dtc_gs.score(X_test, y_test))"
   ]
  },
  {
   "cell_type": "markdown",
   "metadata": {},
   "source": [
    "### Feature Importance"
   ]
  },
  {
   "cell_type": "code",
   "execution_count": 749,
   "metadata": {},
   "outputs": [
    {
     "data": {
      "image/png": "[encoded data removed]",
      "text/plain": [
       "<Figure size 720x720 with 1 Axes>"
      ]
     },
     "metadata": {
      "needs_background": "light"
     },
     "output_type": "display_data"
    }
   ],
   "source": [
    "ax = helper.sort_values(by='absolute value', ascending=False).head(19)[::-1].plot(x='feature', y='coefficient',\n",
    "                                                                      kind='barh', legend=False,\n",
    "                                                                      grid=True, figsize=(10,10),\n",
    "                                                                            fontsize=20, color = 'c')\n",
    "ax.set_title('What distinguishes a DS from a DA?', fontsize=22)\n",
    "ax.set_ylabel(\"Unigram\", fontsize=18);\n",
    "ax.set_xlabel(\"Logistic Regression Coefficient\", fontsize=18);"
   ]
  },
  {
   "cell_type": "code",
   "execution_count": 76,
   "metadata": {},
   "outputs": [
    {
     "data": {
      "image/png": "[encoded data removed]",
      "text/plain": [
       "<IPython.core.display.Image object>"
      ]
     },
     "execution_count": 76,
     "metadata": {},
     "output_type": "execute_result"
    }
   ],
   "source": [
    "from sklearn.externals.six import StringIO  \n",
    "from IPython.display import Image  \n",
    "from sklearn.tree import export_graphviz\n",
    "import pydotplus\n",
    "\n",
    "# # initialize the output file object\n",
    "dot_data = StringIO() \n",
    "\n",
    "# # my fit DecisionTreeRegressor object here is: dtr1\n",
    "# # for feature_names i put the columns of my Xr matrix\n",
    "export_graphviz(dtc_best, out_file=dot_data,  \n",
    "                filled=True, rounded=True,\n",
    "                special_characters=True,\n",
    "                 feature_names=X_train.columns)  \n",
    "\n",
    "graph = pydotplus.graph_from_dot_data(dot_data.getvalue())  \n",
    "Image(graph.create_png())"
   ]
  },
  {
   "cell_type": "code",
   "execution_count": 902,
   "metadata": {},
   "outputs": [
    {
     "data": {
      "text/html": [
       "<div>\n",
       "<style scoped>\n",
       "    .dataframe tbody tr th:only-of-type {\n",
       "        vertical-align: middle;\n",
       "    }\n",
       "\n",
       "    .dataframe tbody tr th {\n",
       "        vertical-align: top;\n",
       "    }\n",
       "\n",
       "    .dataframe thead th {\n",
       "        text-align: right;\n",
       "    }\n",
       "</style>\n",
       "<table border=\"1\" class=\"dataframe\">\n",
       "  <thead>\n",
       "    <tr style=\"text-align: right;\">\n",
       "      <th></th>\n",
       "      <th>feature</th>\n",
       "      <th>importance</th>\n",
       "    </tr>\n",
       "  </thead>\n",
       "  <tbody>\n",
       "    <tr>\n",
       "      <th>1604</th>\n",
       "      <td>machine</td>\n",
       "      <td>0.715131</td>\n",
       "    </tr>\n",
       "    <tr>\n",
       "      <th>2126</th>\n",
       "      <td>python</td>\n",
       "      <td>0.165623</td>\n",
       "    </tr>\n",
       "    <tr>\n",
       "      <th>2627</th>\n",
       "      <td>tableau</td>\n",
       "      <td>0.119246</td>\n",
       "    </tr>\n",
       "  </tbody>\n",
       "</table>\n",
       "</div>"
      ],
      "text/plain": [
       "      feature  importance\n",
       "1604  machine    0.715131\n",
       "2126   python    0.165623\n",
       "2627  tableau    0.119246"
      ]
     },
     "execution_count": 902,
     "metadata": {},
     "output_type": "execute_result"
    }
   ],
   "source": [
    "fi = pd.DataFrame({\n",
    "        'feature':X_train_df.columns,\n",
    "        'importance':dtc_best.feature_importances_\n",
    "    })\n",
    "\n",
    "fi.sort_values('importance', ascending=False, inplace=True)\n",
    "fi.head(3)"
   ]
  },
  {
   "cell_type": "code",
   "execution_count": 83,
   "metadata": {},
   "outputs": [],
   "source": [
    "def print_cm_cr(y_test, y_pred):\n",
    "    \"\"\"prints the confusion matrix and the classification report\"\"\"\n",
    "    confusion = pd.crosstab(y_test, y_pred, rownames=['Actual'], colnames=['Predicted'], margins=True)\n",
    "    print(confusion)\n",
    "    print()\n",
    "    print(classification_report(y_test, y_pred))\n",
    "    "
   ]
  },
  {
   "cell_type": "markdown",
   "metadata": {},
   "source": [
    "According to both the LR model and the DTC, the two best predictors of data science are 'Machine Learning' and 'Python"
   ]
  },
  {
   "cell_type": "markdown",
   "metadata": {},
   "source": [
    "### Evaluation of models"
   ]
  },
  {
   "cell_type": "code",
   "execution_count": 85,
   "metadata": {},
   "outputs": [
    {
     "name": "stdout",
     "output_type": "stream",
     "text": [
      "Predicted   0  1  All\n",
      "Actual               \n",
      "0          43  1   44\n",
      "1           9  8   17\n",
      "All        52  9   61\n",
      "\n",
      "              precision    recall  f1-score   support\n",
      "\n",
      "           0       0.83      0.98      0.90        44\n",
      "           1       0.89      0.47      0.62        17\n",
      "\n",
      "   micro avg       0.84      0.84      0.84        61\n",
      "   macro avg       0.86      0.72      0.76        61\n",
      "weighted avg       0.84      0.84      0.82        61\n",
      "\n"
     ]
    }
   ],
   "source": [
    "y_pred = best_lr.predict(X_test)\n",
    "print_cm_cr(y_test, y_pred)"
   ]
  },
  {
   "cell_type": "code",
   "execution_count": 86,
   "metadata": {},
   "outputs": [
    {
     "name": "stdout",
     "output_type": "stream",
     "text": [
      "Predicted   0   1  All\n",
      "Actual                \n",
      "0          42   2   44\n",
      "1           7  10   17\n",
      "All        49  12   61\n",
      "\n",
      "              precision    recall  f1-score   support\n",
      "\n",
      "           0       0.86      0.95      0.90        44\n",
      "           1       0.83      0.59      0.69        17\n",
      "\n",
      "   micro avg       0.85      0.85      0.85        61\n",
      "   macro avg       0.85      0.77      0.80        61\n",
      "weighted avg       0.85      0.85      0.84        61\n",
      "\n"
     ]
    }
   ],
   "source": [
    "y_pred = dtc_best.predict(X_test)\n",
    "print_cm_cr(y_test, y_pred)"
   ]
  },
  {
   "cell_type": "markdown",
   "metadata": {},
   "source": [
    "Here, the deicison tree classifier performs better than logistic regression. This example really showcases the beautfy of DTC - it's much simpler AND more accurate here!"
   ]
  },
  {
   "cell_type": "markdown",
   "metadata": {},
   "source": [
    "# Conclusion"
   ]
  },
  {
   "cell_type": "code",
   "execution_count": null,
   "metadata": {},
   "outputs": [],
   "source": [
    "df_odds['P1 Av odds check'] = np.where(df_odds['Target'] == 1, df_odds['AvgW'], df_odds['AvgL'] )\n",
    "df_odds['P2 Av odds check'] = np.where(df_odds['Target'] == 0, df_odds['AvgW'], df_odds['AvgL'] )\n",
    "\n",
    "df_odds['P1 B&W odds'] = np.where(df_odds['Target'] == 1, df_odds['B&WW'], df_odds['B&WL'] )\n",
    "df_odds['P2 B&W odds'] = np.where(df_odds['Target'] == 0, df_odds['B&WW'], df_odds['B&WL'] )\n",
    "\n",
    "df_odds['P1 B365 odds'] = np.where(df_odds['Target'] == 1, df_odds['B365W'], df_odds['B365L'] )\n",
    "df_odds['P2 B365 odds'] = np.where(df_odds['Target'] == 0, df_odds['B365W'], df_odds['B365L'] )\n",
    "\n",
    "df_odds['P1 CB odds'] = np.where(df_odds['Target'] == 1, df_odds['CBW'], df_odds['CBL'] )\n",
    "df_odds['P2 CB odds'] = np.where(df_odds['Target'] == 0, df_odds['CBW'], df_odds['CBL'] )\n",
    "\n",
    "df_odds['P1 EX odds'] = np.where(df_odds['Target'] == 1, df_odds['EXW'], df_odds['EXL'] )\n",
    "df_odds['P2 EX odds'] = np.where(df_odds['Target'] == 0, df_odds['EXW'], df_odds['EXL'] )\n",
    "\n",
    "df_odds['P1 GB odds'] = np.where(df_odds['Target'] == 1, df_odds['GBW'], df_odds['GBL'] )\n",
    "df_odds['P2 GB odds'] = np.where(df_odds['Target'] == 0, df_odds['GBW'], df_odds['GBL'] )\n",
    "\n",
    "df_odds['P1 IW odds'] = np.where(df_odds['Target'] == 1, df_odds['IWW'], df_odds['IWL'] )\n",
    "df_odds['P2 IW odds'] = np.where(df_odds['Target'] == 0, df_odds['IWW'], df_odds['IWL'] )\n",
    "\n",
    "df_odds['P1 LB odds'] = np.where(df_odds['Target'] == 1, df_odds['LBW'], df_odds['LBL'] )\n",
    "df_odds['P2 LB odds'] = np.where(df_odds['Target'] == 0, df_odds['LBW'], df_odds['LBL'] )\n",
    "\n",
    "df_odds['P1 PS odds'] = np.where(df_odds['Target'] == 1, df_odds['PSW'], df_odds['PSL'] )\n",
    "df_odds['P2 PS odds'] = np.where(df_odds['Target'] == 0, df_odds['PSW'], df_odds['PSL'] )\n",
    "\n",
    "df_odds['P1 SB odds'] = np.where(df_odds['Target'] == 1, df_odds['SBW'], df_odds['SBL'] )\n",
    "df_odds['P2 SB odds'] = np.where(df_odds['Target'] == 0, df_odds['SBW'], df_odds['SBL'] )\n",
    "\n",
    "df_odds['P1 SJ odds'] = np.where(df_odds['Target'] == 1, df_odds['SJW'], df_odds['SJL'] )\n",
    "df_odds['P2 SJ odds'] = np.where(df_odds['Target'] == 0, df_odds['SJW'], df_odds['SJL'] )\n",
    "\n",
    "df_odds['P1 UB odds'] = np.where(df_odds['Target'] == 1, df_odds['UBW'], df_odds['UBL'] )\n",
    "df_odds['P2 UB odds'] = np.where(df_odds['Target'] == 0, df_odds['UBW'], df_odds['UBL'] )"
   ]
  }
 ],
 "metadata": {
  "kernelspec": {
   "display_name": "Python 3",
   "language": "python",
   "name": "python3"
  },
  "language_info": {
   "codemirror_mode": {
    "name": "ipython",
    "version": 3
   },
   "file_extension": ".py",
   "mimetype": "text/x-python",
   "name": "python",
   "nbconvert_exporter": "python",
   "pygments_lexer": "ipython3",
   "version": "3.7.1"
  },
  "toc": {
   "base_numbering": 1,
   "nav_menu": {},
   "number_sections": true,
   "sideBar": true,
   "skip_h1_title": false,
   "title_cell": "Table of Contents",
   "title_sidebar": "Contents",
   "toc_cell": false,
   "toc_position": {
    "height": "calc(100% - 180px)",
    "left": "10px",
    "top": "150px",
    "width": "385.875px"
   },
   "toc_section_display": true,
   "toc_window_display": true
  }
 },
 "nbformat": 4,
 "nbformat_minor": 2
}
