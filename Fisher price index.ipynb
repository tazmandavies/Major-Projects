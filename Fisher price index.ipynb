{
 "cells": [
  {
   "cell_type": "markdown",
   "metadata": {},
   "source": [
    "#### IMPORT LIBRARIES"
   ]
  },
  {
   "cell_type": "code",
   "execution_count": 1,
   "metadata": {},
   "outputs": [],
   "source": [
    "import pandas as pd\n",
    "import numpy as np\n",
    "import seaborn as sns\n",
    "import matplotlib.pyplot as plt\n",
    "from sklearn.linear_model import LinearRegression\n",
    "from sklearn.model_selection import train_test_split\n",
    "from sklearn.preprocessing import StandardScaler"
   ]
  },
  {
   "cell_type": "markdown",
   "metadata": {},
   "source": [
    "#### IMPORT FUNCTIONS"
   ]
  },
  {
   "cell_type": "code",
   "execution_count": 2,
   "metadata": {},
   "outputs": [],
   "source": [
    "# create function to impute missing values using regression based on HH SZ, REGION, AND YEAR\n",
    "def impute_missing_values(df, target_col, feature_cols):\n",
    "    # Split the data into training and test sets\n",
    "    \n",
    "    not_null_df = df[df[target_col].notnull()]\n",
    "    null_df = df[df[target_col].isnull()]\n",
    "    try:\n",
    "        if (not_null_df['YEAR'].nunique() == 5) & (not_null_df['REGION 2'].nunique() == 6):\n",
    "\n",
    "            X_train = not_null_df[['HH SZ','YEAR_2016', 'YEAR_2017','YEAR_2018','YEAR_2019',\n",
    "                               'REGION 2_BRI','REGION 2_MEL','REGION 2_Other','REGION 2_PER','REGION 2_SYD']]\n",
    "\n",
    "            y_train = not_null_df[target_col]\n",
    "            X_test = null_df[['HH SZ','YEAR_2016', 'YEAR_2017','YEAR_2018','YEAR_2019',\n",
    "                               'REGION 2_BRI','REGION 2_MEL','REGION 2_Other','REGION 2_PER','REGION 2_SYD']]\n",
    "\n",
    "            # Train the regression model\n",
    "            reg = LinearRegression()\n",
    "            reg.fit(X_train, y_train)\n",
    "\n",
    "            # Predict the missing values\n",
    "            y_pred = reg.predict(X_test)\n",
    "            y_pred = np.maximum(y_pred, 0.01)\n",
    "\n",
    "            # Impute the missing values\n",
    "            df.loc[df[target_col].isnull(), target_col] = y_pred\n",
    "    except:\n",
    "        None\n",
    "        \n",
    "        \n",
    "# create function to impute missing values using regression based on HH SZ and REGION\n",
    "def impute_missing_values2(df, target_col, feature_cols):\n",
    "    # Split the data into training and test sets\n",
    "    \n",
    "    not_null_df = df[df[target_col].notnull()]\n",
    "    null_df = df[df[target_col].isnull()]\n",
    "    try:\n",
    "        if (not_null_df['REGION 2'].nunique() == 6):\n",
    "\n",
    "            X_train = not_null_df[['HH SZ',\n",
    "                               'REGION 2_BRI','REGION 2_MEL','REGION 2_Other','REGION 2_PER','REGION 2_SYD']]\n",
    "\n",
    "            y_train = not_null_df[target_col]\n",
    "            X_test = null_df[['HH SZ',\n",
    "                               'REGION 2_BRI','REGION 2_MEL','REGION 2_Other','REGION 2_PER','REGION 2_SYD']]\n",
    "\n",
    "            # Train the regression model\n",
    "            reg = LinearRegression()\n",
    "            reg.fit(X_train, y_train)\n",
    "\n",
    "            # Predict the missing values\n",
    "            y_pred = reg.predict(X_test)\n",
    "            y_pred = np.maximum(y_pred, 0.01)\n",
    "\n",
    "            # Impute the missing values\n",
    "            df.loc[df[target_col].isnull(), target_col] = y_pred\n",
    "    except:\n",
    "        None\n",
    "\n",
    "        \n",
    "# create function to impute missing values using regression based on HH SZ and YEAR \n",
    "def impute_missing_values3(df, target_col, feature_cols):\n",
    "    # Split the data into training and test sets\n",
    "    \n",
    "    not_null_df = df[df[target_col].notnull()]\n",
    "    null_df = df[df[target_col].isnull()]\n",
    "    try:\n",
    "        if (not_null_df['YEAR'].nunique() == 5):\n",
    "\n",
    "            X_train = not_null_df[['HH SZ','YEAR_2016', 'YEAR_2017','YEAR_2018','YEAR_2019']]\n",
    "\n",
    "            y_train = not_null_df[target_col]\n",
    "            X_test = null_df[['HH SZ','YEAR_2016', 'YEAR_2017','YEAR_2018','YEAR_2019']]\n",
    "\n",
    "            # Train the regression model\n",
    "            reg = LinearRegression()\n",
    "            reg.fit(X_train, y_train)\n",
    "\n",
    "            # Predict the missing values\n",
    "            y_pred = reg.predict(X_test)\n",
    "            y_pred = np.maximum(y_pred, 0.01)\n",
    "\n",
    "            # Impute the missing values\n",
    "            df.loc[df[target_col].isnull(), target_col] = y_pred\n",
    "    except:\n",
    "        None\n",
    "        \n",
    "        \n",
    "# create function to impute missing values using regression based on HH SZ\n",
    "def impute_missing_values4(df, target_col, feature_cols):\n",
    "    # Split the data into training and test sets\n",
    "    try:\n",
    "        not_null_df = df[df[target_col].notnull()]\n",
    "        null_df = df[df[target_col].isnull()]\n",
    "\n",
    "        X_train = not_null_df[['HH SZ']]\n",
    "\n",
    "        y_train = not_null_df[target_col]\n",
    "        X_test = null_df[['HH SZ']]\n",
    "\n",
    "        # Train the regression model\n",
    "        reg = LinearRegression()\n",
    "        reg.fit(X_train, y_train)\n",
    "\n",
    "        # Predict the missing values\n",
    "        y_pred = reg.predict(X_test)\n",
    "        y_pred = np.maximum(y_pred, 0.01)\n",
    "\n",
    "        # Impute the missing values\n",
    "        df.loc[df[target_col].isnull(), target_col] = y_pred\n",
    "    except:\n",
    "        None"
   ]
  },
  {
   "cell_type": "markdown",
   "metadata": {},
   "source": [
    "#### IMPORT PROJECTION FACTORS"
   ]
  },
  {
   "cell_type": "code",
   "execution_count": 3,
   "metadata": {},
   "outputs": [],
   "source": [
    "# projection factors\n",
    "df19pf = pd.read_csv('2019/TGI_FACTOR_MAT_20191228.CSV', header=None)\n",
    "df19pf.columns = ['HHID', 'REGION', 'PF']\n",
    "df19pf['YEAR'] = 2019\n",
    "\n",
    "df18pf = pd.read_csv('2018/TGI_FACTOR_MAT_20181229.CSV', header=None)\n",
    "df18pf.columns = ['HHID', 'REGION', 'PF']\n",
    "df18pf['YEAR'] = 2018\n",
    "\n",
    "df17pf = pd.read_csv('2017/TGI_FACTOR_MAT_20171230.CSV', header=None)\n",
    "df17pf.columns = ['HHID', 'REGION', 'PF']\n",
    "df17pf['YEAR'] = 2017\n",
    "\n",
    "df16pf = pd.read_csv('2016/TGI_FACTOR_MAT_20161231.CSV', header=None)\n",
    "df16pf.columns = ['HHID', 'REGION', 'PF']\n",
    "df16pf['YEAR'] = 2016\n",
    "\n",
    "df15pf = pd.read_csv('2015/TGI_FACTOR_MAT_20151226.CSV', header=None)\n",
    "df15pf.columns = ['HHID', 'REGION', 'PF']\n",
    "df15pf['YEAR'] = 2015\n",
    "\n",
    "dfpf = pd.concat([df15pf, df16pf, df17pf, df18pf, df19pf])\n",
    "dfpf['YEAR-HHID'] = dfpf['YEAR'].astype(str) + '|' + dfpf['HHID'].astype(str)\n",
    "dfpf['REGION 2'] = dfpf['REGION'].replace(1, 'SYD').replace(2, 'MEL').replace(3, 'BRI').replace(4, 'ADE').replace(5, 'PER').replace(6, 'Other').replace(7, 'Other').replace(8, 'Other').replace(9, 'Other').replace(10, 'Other').replace(11, 'Other').replace(12, 'Other').replace(13, 'Other')\n"
   ]
  },
  {
   "cell_type": "markdown",
   "metadata": {},
   "source": [
    "1\tSYDNEY\n",
    "2\tMELBOURNE\n",
    "3\tBRISBANE\n",
    "4\tADELAIDE\n",
    "5\tPERTH\n",
    "6\tSOUTHERN NSW\n",
    "7\tNORTHERN NSW\n",
    "8\tREGIONAL VIC\n",
    "9\tREGIONAL QLD\n",
    "10\tREGIONAL SA\n",
    "11\tREGIONAL WA\n",
    "12\tTASMANIA\n",
    "13\tNORTHERN TERRITORY"
   ]
  },
  {
   "cell_type": "code",
   "execution_count": 4,
   "metadata": {},
   "outputs": [
    {
     "data": {
      "text/plain": [
       "Other     30.9\n",
       "MEL       51.4\n",
       "SYD       70.6\n",
       "BRI       84.5\n",
       "PER       92.6\n",
       "ADE      100.0\n",
       "Name: REGION 2, dtype: float64"
      ]
     },
     "execution_count": 4,
     "metadata": {},
     "output_type": "execute_result"
    }
   ],
   "source": [
    "np.round(100*dfpf['REGION 2'].value_counts(normalize=True), 1).cumsum()"
   ]
  },
  {
   "cell_type": "markdown",
   "metadata": {},
   "source": [
    "#### IMPORT HOUSEHOLD INFORMATION"
   ]
  },
  {
   "cell_type": "code",
   "execution_count": 5,
   "metadata": {},
   "outputs": [],
   "source": [
    "# household size\n",
    "demog = pd.read_csv('TGI_DEMOG_BY_QTR.CSV')\n",
    "demog.columns = ['HHID', 'QTR', 'LIFESTAGE', 'HH SZ', 'INCOME', 'AFFLUENCE', 'ETHNICITY',\n",
    "              'MICROSEGMENT', 'HEAD EDUCATION', 'AGE1', 'AGE2', 'AGE3', 'AGE4', 'AGE5',\n",
    "              'AGE6', 'AGE7', 'AGE8', 'AGE9', 'AGE10', 'AGE11', 'AGE12', 'AGE13', 'AGE14', 'AGE15',\n",
    "              'AGE16', 'AGE17', 'AGE18', 'AGE19', 'AGE20', 'SEX1', 'SEX2', 'SEX3', 'SEX4', 'SEX5',\n",
    "               'SEX6', 'SEX7', 'SEX8', 'SEX9', 'SEX10','SEX11', 'SEX12', 'SEX13', 'SEX14', 'SEX15',\n",
    "              'SEX16', 'SEX17', 'SEX18', 'SEX19', 'SEX20']\n",
    "\n",
    "\n",
    "for n in [1, 2, 3, 4, 5, 6, 7, 8, 9, 10, 11, 12, 13, 14, 15]:\n",
    "    c1 = ~demog['AGE' + str(n)].isnull()\n",
    "    c2 = demog['SEX' + str(n)].isnull()\n",
    "    demog['SEX' + str(n)] = np.where(c1&c2, 1, demog['SEX' + str(n)])\n",
    "    \n",
    "demog = demog[demog['HH SZ'] != 0] \n",
    "\n",
    "demog['YEAR-HHID'] = demog['QTR'].str.split('-').str[0] + '|' + demog['HHID'].astype(str)\n",
    "\n",
    "# MORE DEMOGRPAHIC VARIABLES\n",
    "for n in [1, 2, 3, 4, 5, 6, 7, 8, 9, 10, 11, 12, 13, 14, 15]:\n",
    "    demog['P' + str(n)] = demog['SEX' + str(n)].fillna('0').replace(1, 'M').replace(2, 'F') + demog['AGE' + str(n)].fillna('0').astype(int).astype(str)\n",
    "\n",
    "adult_men = {'M3', 'M4', 'M5', 'M6', 'M7', 'M8'}\n",
    "adult_women = {'F3', 'F4', 'F5', 'F6', 'F7', 'F8'}\n",
    "children = {'M1', 'M2', 'F1', 'F2'}\n",
    "\n",
    "demog['Children'] = demog[['P1', 'P2', 'P3', 'P4', 'P5', 'P6', 'P7', 'P8', 'P9',\n",
    "       'P10', 'P11', 'P12', 'P13', 'P14', 'P15']].apply(lambda row: sum(row.isin(children)), axis=1)\n",
    "\n",
    "demog['Adolescent and adult men'] = demog[['P1', 'P2', 'P3', 'P4', 'P5', 'P6', 'P7', 'P8', 'P9',\n",
    "       'P10', 'P11', 'P12', 'P13', 'P14', 'P15']].apply(lambda row: sum(row.isin(adult_men)), axis=1)\n",
    "\n",
    "demog['Adolescent and adult women'] = demog[['P1', 'P2', 'P3', 'P4', 'P5', 'P6', 'P7', 'P8', 'P9',\n",
    "       'P10', 'P11', 'P12', 'P13', 'P14', 'P15']].apply(lambda row: sum(row.isin(adult_women)), axis=1)\n",
    "\n",
    "\n",
    "# SUBSET\n",
    "demog19 = demog[demog['QTR'] == '2019-1']\n",
    "demog19 = demog19[['HHID', 'HH SZ', 'Children', 'Adolescent and adult men', 'Adolescent and adult women']]\n",
    "demog19 = demog19[demog19['HHID'].isin(df19pf['HHID'])]\n",
    "\n",
    "demog18 = demog[demog['QTR'] == '2018-1']\n",
    "demog18 = demog18[['HHID', 'HH SZ', 'Children', 'Adolescent and adult men', 'Adolescent and adult women']]\n",
    "demog18 = demog18[demog18['HHID'].isin(df18pf['HHID'])]\n",
    "\n",
    "demog17 = demog[demog['QTR'] == '2017-1']\n",
    "demog17 = demog17[['HHID', 'HH SZ',  'Children', 'Adolescent and adult men', 'Adolescent and adult women']]\n",
    "demog17 = demog17[demog17['HHID'].isin(df17pf['HHID'])]\n",
    "\n",
    "demog16 = demog[demog['QTR'] == '2016-1']\n",
    "demog16 = demog16[['HHID', 'HH SZ',  'Children', 'Adolescent and adult men', 'Adolescent and adult women']]\n",
    "demog16 = demog16[demog16['HHID'].isin(df16pf['HHID'])]\n",
    "\n",
    "demog15 = demog[demog['QTR'] == '2015-1']\n",
    "demog15 = demog15[['HHID', 'HH SZ',  'Children', 'Adolescent and adult men', 'Adolescent and adult women']]\n",
    "demog15 = demog15[demog15['HHID'].isin(df15pf['HHID'])]\n",
    "\n",
    "demog = demog[demog['QTR'].str.split('-').str[-1] == '1']"
   ]
  },
  {
   "cell_type": "markdown",
   "metadata": {},
   "source": [
    "#### IMPORT SEIFA"
   ]
  },
  {
   "cell_type": "code",
   "execution_count": 6,
   "metadata": {},
   "outputs": [],
   "source": [
    "# seifa\n",
    "seifa = pd.read_excel('SEIFA deciles TGI 2015 onwards.xlsx')\n",
    "\n",
    "# CHANGES MADE HERE IN MAY 2024\n",
    "seifa['SES'] = 'Q1'\n",
    "seifa['SES'] = np.where(seifa['irsdscoreI']>=3, 'Q2', seifa['SES'])\n",
    "seifa['SES'] = np.where(seifa['irsdscoreI']>=5, 'Q3', seifa['SES'])\n",
    "seifa['SES'] = np.where(seifa['irsdscoreI']>=7, 'Q4', seifa['SES'])\n",
    "seifa['SES'] = np.where(seifa['irsdscoreI']>=9, 'Q5', seifa['SES'])\n",
    "\n",
    "seifa['YEAR-HHID'] = seifa['Qtr'].str.split('-').str[0] + '|' + seifa['Mapped HHID'].astype(str)\n",
    "\n",
    "seifa19 = seifa[seifa['Qtr'] == '2019-1']\n",
    "seifa19 = seifa19[['Mapped HHID', 'irsdscoreI', 'SES']]\n",
    "seifa19 = seifa19[seifa19['Mapped HHID'].isin(df19pf['HHID'])]\n",
    "seifa19.columns = ['HHID', 'irsdscoreI', 'SES']\n",
    "\n",
    "seifa18 = seifa[seifa['Qtr'] == '2018-1']\n",
    "seifa18 = seifa18[['Mapped HHID', 'irsdscoreI', 'SES']]\n",
    "seifa18 = seifa18[seifa18['Mapped HHID'].isin(df18pf['HHID'])]\n",
    "seifa18.columns = ['HHID', 'irsdscoreI', 'SES']\n",
    "\n",
    "seifa17 = seifa[seifa['Qtr'] == '2017-1']\n",
    "seifa17 = seifa17[['Mapped HHID', 'irsdscoreI', 'SES']]\n",
    "seifa17 = seifa17[seifa17['Mapped HHID'].isin(df17pf['HHID'])]\n",
    "seifa17.columns = ['HHID', 'irsdscoreI', 'SES']\n",
    "\n",
    "seifa16 = seifa[seifa['Qtr'] == '2016-1']\n",
    "seifa16 = seifa16[['Mapped HHID', 'irsdscoreI', 'SES']]\n",
    "seifa16 = seifa16[seifa16['Mapped HHID'].isin(df16pf['HHID'])]\n",
    "seifa16.columns = ['HHID', 'irsdscoreI', 'SES']\n",
    "\n",
    "seifa15 = seifa[seifa['Qtr'] == '2015-1']\n",
    "seifa15 = seifa15[['Mapped HHID', 'irsdscoreI', 'SES']]\n",
    "seifa15 = seifa15[seifa15['Mapped HHID'].isin(df15pf['HHID'])]\n",
    "seifa15.columns = ['HHID', 'irsdscoreI', 'SES']\n",
    "\n",
    "seifa = seifa[seifa['Qtr'].str.split('-').str[-1]=='1']"
   ]
  },
  {
   "cell_type": "markdown",
   "metadata": {},
   "source": [
    "#### IMPORT PRODUCT DATASET"
   ]
  },
  {
   "cell_type": "code",
   "execution_count": 7,
   "metadata": {},
   "outputs": [],
   "source": [
    "bl = pd.read_csv('barc_lookup_full_v6.csv', dtype = {'BARCODE':object})"
   ]
  },
  {
   "cell_type": "markdown",
   "metadata": {},
   "source": [
    "#### IMPORT DATASETS"
   ]
  },
  {
   "cell_type": "code",
   "execution_count": 555,
   "metadata": {},
   "outputs": [
    {
     "name": "stdout",
     "output_type": "stream",
     "text": [
      "16458400.000000006\n",
      "Wall time: 2min 42s\n"
     ]
    }
   ],
   "source": [
    "%%time\n",
    "# import dataset\n",
    "df19 = pd.read_csv('2019/TGI_DATA_201901_201913.CSV', header = None, dtype = {0:object})\n",
    "\n",
    "# rename columns\n",
    "df19.columns = ['BARCODE', 'GENERATION', 'HHID', 'SHOP', 'TRANS DATE', 'TRANS TIME',\n",
    "               'QTY', 'PRICE', 'EP', 'ON PROMO', 'PLU', 'WGT']\n",
    "\n",
    "# exclude households with inconsistent records\n",
    "df19 = df19[df19['HHID'].isin(df19pf['HHID'])]\n",
    "\n",
    "# exclude non-foods by inner joining with food barcode lookup dataset\n",
    "df19 = df19.merge(bl[['BARCODE', 'BC DESC', 'SIZE', 'UOM', 'FS Major category', 'cat', 'BRAND']], on = 'BARCODE', how = 'inner')\n",
    "\n",
    "# exclude purchases with PRICE of $0\n",
    "df19 = df19[df19['PRICE'] != 0]\n",
    "\n",
    "# adjust for extreme purchases\n",
    "df19['QTY 2'] = df19['QTY']*df19['EP']\n",
    "\n",
    "# determine the quarter of each transaction\n",
    "df19['MONTH'] = df19['TRANS DATE'].str.split('/').str[1]\n",
    "df19['YEAR'] = df19['TRANS DATE'].str.split('/').str[2]\n",
    "df19['QTR'] = np.NaN\n",
    "df19['QTR'] = np.where(df19['MONTH'].isin(['01', '02', '03']), 1, df19['QTR'])\n",
    "df19['QTR'] = np.where(df19['MONTH'].isin(['04', '05', '06']), 2, df19['QTR'])\n",
    "df19['QTR'] = np.where(df19['MONTH'].isin(['07', '08', '09']), 3, df19['QTR'])\n",
    "df19['QTR'] = np.where(df19['MONTH'].isin(['10', '11', '12']), 4, df19['QTR'])\n",
    "df19['QTR'] = np.where(df19['YEAR'] == '2018', 1, df19['QTR'])\n",
    "\n",
    "# adjust for inflation using quarterly CPI\n",
    "df19['PRICE 2'] = np.NaN\n",
    "df19['PRICE 2'] = np.where(df19['QTR'] == 1, df19['PRICE'], df19['PRICE 2'])\n",
    "df19['PRICE 2'] = np.where(df19['QTR'] == 2, df19['PRICE']*(109/108.6), df19['PRICE 2'])\n",
    "df19['PRICE 2'] = np.where(df19['QTR'] == 3, df19['PRICE']*(109/109), df19['PRICE 2'])\n",
    "df19['PRICE 2'] = np.where(df19['QTR'] == 4, df19['PRICE']*(109/110.4), df19['PRICE 2'])\n",
    "\n",
    "# create clean size column\n",
    "df19['SIZE 2'] = np.where(df19['UOM'].isin(['GM', 'ML']), df19['SIZE'], np.NaN)\n",
    "\n",
    "# exclude rows with no package size\n",
    "df19 = df19[~df19['SIZE 2'].isnull()]\n",
    "\n",
    "# create columns for expenditure and purchase volume\n",
    "df19['EXP'] = df19['PRICE 2']*df19['QTY 2']\n",
    "df19['PUR VOL'] = df19['SIZE 2']*df19['QTY 2']\n",
    "\n",
    "print(df19['QTY 2'].sum())\n",
    "\n",
    "# isolate required columns\n",
    "df19 = df19[['BARCODE', 'BRAND', 'HHID', 'EXP', 'PUR VOL', 'FS Major category', 'cat']]\n",
    "\n",
    "df19.to_csv('df19_Fisher.csv', index=False)\n",
    "del df19"
   ]
  },
  {
   "cell_type": "code",
   "execution_count": 556,
   "metadata": {},
   "outputs": [
    {
     "name": "stdout",
     "output_type": "stream",
     "text": [
      "16445936.899999978\n",
      "Wall time: 2min 41s\n"
     ]
    }
   ],
   "source": [
    "%%time\n",
    "# import dataset\n",
    "df18 = pd.read_csv('2018/TGI_DATA_201801_201813.CSV', header = None, dtype = {0:object})\n",
    "\n",
    "# rename columns\n",
    "df18.columns = ['BARCODE', 'GENERATION', 'HHID', 'SHOP', 'TRANS DATE', 'TRANS TIME',\n",
    "               'QTY', 'PRICE', 'EP', 'ON PROMO', 'PLU', 'WGT']\n",
    "\n",
    "# exclude households with inconsistent records\n",
    "df18 = df18[df18['HHID'].isin(df18pf['HHID'])]\n",
    "\n",
    "# exclude non-foods by inner joining with food barcode lookup dataset\n",
    "df18 = df18.merge(bl[['BARCODE', 'BC DESC', 'SIZE', 'UOM', 'FS Major category', 'cat', 'BRAND']], on = 'BARCODE', how = 'inner')\n",
    "\n",
    "# exclude purchases with PRICE of $0\n",
    "df18 = df18[df18['PRICE'] != 0]\n",
    "\n",
    "# adjust for extreme purchases\n",
    "df18['QTY 2'] = df18['QTY']*df18['EP']\n",
    "\n",
    "# determine the quarter of each transaction\n",
    "df18['MONTH'] = df18['TRANS DATE'].str.split('/').str[1]\n",
    "df18['YEAR'] = df18['TRANS DATE'].str.split('/').str[2]\n",
    "df18['QTR'] = np.NaN\n",
    "df18['QTR'] = np.where(df18['MONTH'].isin(['01', '02', '03']), 1, df18['QTR'])\n",
    "df18['QTR'] = np.where(df18['MONTH'].isin(['04', '05', '06']), 2, df18['QTR'])\n",
    "df18['QTR'] = np.where(df18['MONTH'].isin(['07', '08', '09']), 3, df18['QTR'])\n",
    "df18['QTR'] = np.where(df18['MONTH'].isin(['10', '11', '12']), 4, df18['QTR'])\n",
    "df18['QTR'] = np.where(df18['YEAR'] == '2017', 1, df18['QTR'])\n",
    "\n",
    "# adjust for inflation using quarterly CPI\n",
    "df18['PRICE 2'] = np.NaN\n",
    "df18['PRICE 2'] = np.where(df18['QTR'] == 1, df18['PRICE']*(109/106.5), df18['PRICE 2'])\n",
    "df18['PRICE 2'] = np.where(df18['QTR'] == 2, df18['PRICE']*(109/106.1), df18['PRICE 2'])\n",
    "df18['PRICE 2'] = np.where(df18['QTR'] == 3, df18['PRICE']*(109/106.6), df18['PRICE 2'])\n",
    "df18['PRICE 2'] = np.where(df18['QTR'] == 4, df18['PRICE']*(109/107.6), df18['PRICE 2'])\n",
    "\n",
    "# create clean size column\n",
    "df18['SIZE 2'] = np.where(df18['UOM'].isin(['GM', 'ML']), df18['SIZE'], np.NaN)\n",
    "\n",
    "# exclude rows with no package size\n",
    "df18 = df18[~df18['SIZE 2'].isnull()]\n",
    "\n",
    "# create columns for expenditure and purchase volume\n",
    "df18['EXP'] = df18['PRICE 2']*df18['QTY 2']\n",
    "df18['PUR VOL'] = df18['SIZE 2']*df18['QTY 2']\n",
    "\n",
    "print(df18['QTY 2'].sum())\n",
    "\n",
    "# isolate required columns\n",
    "df18 = df18[['BARCODE', 'BRAND', 'HHID', 'EXP', 'PUR VOL', 'FS Major category', 'cat']]\n",
    "\n",
    "df18.to_csv('df18_Fisher.csv', index=False)\n",
    "del df18"
   ]
  },
  {
   "cell_type": "code",
   "execution_count": 557,
   "metadata": {},
   "outputs": [
    {
     "name": "stdout",
     "output_type": "stream",
     "text": [
      "14693994.900000015\n",
      "Wall time: 2min 30s\n"
     ]
    }
   ],
   "source": [
    "%%time\n",
    "# import dataset\n",
    "df17 = pd.read_csv('2019/TGI_DATA_201901_201913.CSV', header = None, dtype = {0:object})\n",
    "\n",
    "# rename columns\n",
    "df17.columns = ['BARCODE', 'GENERATION', 'HHID', 'SHOP', 'TRANS DATE', 'TRANS TIME',\n",
    "               'QTY', 'PRICE', 'EP', 'ON PROMO', 'PLU', 'WGT']\n",
    "\n",
    "# exclude households with inconsistent records\n",
    "df17 = df17[df17['HHID'].isin(df17pf['HHID'])]\n",
    "\n",
    "# exclude non-foods by inner joining with food barcode lookup dataset\n",
    "df17 = df17.merge(bl[['BARCODE', 'BC DESC', 'SIZE', 'UOM', 'FS Major category', 'cat', 'BRAND']], on = 'BARCODE', how = 'inner')\n",
    "\n",
    "# exclude purchases with PRICE of $0\n",
    "df17 = df17[df17['PRICE'] != 0]\n",
    "\n",
    "# adjust for extreme purchases\n",
    "df17['QTY 2'] = df17['QTY']*df17['EP']\n",
    "\n",
    "# determine the quarter of each transaction\n",
    "df17['MONTH'] = df17['TRANS DATE'].str.split('/').str[1]\n",
    "df17['YEAR'] = df17['TRANS DATE'].str.split('/').str[2]\n",
    "df17['QTR'] = np.NaN\n",
    "df17['QTR'] = np.where(df17['MONTH'].isin(['01', '02', '03']), 1, df17['QTR'])\n",
    "df17['QTR'] = np.where(df17['MONTH'].isin(['04', '05', '06']), 2, df17['QTR'])\n",
    "df17['QTR'] = np.where(df17['MONTH'].isin(['07', '08', '09']), 3, df17['QTR'])\n",
    "df17['QTR'] = np.where(df17['MONTH'].isin(['10', '11', '12']), 4, df17['QTR'])\n",
    "df17['QTR'] = np.where(df17['YEAR'] == '2016', 1, df17['QTR'])\n",
    "\n",
    "# adjust for inflation using quarterly CPI\n",
    "df17['PRICE 2'] = np.NaN\n",
    "df17['PRICE 2'] = np.where(df17['QTR'] == 1, df17['PRICE']*(109/106.0), df17['PRICE 2'])\n",
    "df17['PRICE 2'] = np.where(df17['QTR'] == 2, df17['PRICE']*(109/105.8), df17['PRICE 2'])\n",
    "df17['PRICE 2'] = np.where(df17['QTR'] == 3, df17['PRICE']*(109/104.9), df17['PRICE 2'])\n",
    "df17['PRICE 2'] = np.where(df17['QTR'] == 4, df17['PRICE']*(109/106.0), df17['PRICE 2'])\n",
    "\n",
    "# create clean size column\n",
    "df17['SIZE 2'] = np.where(df17['UOM'].isin(['GM', 'ML']), df17['SIZE'], np.NaN)\n",
    "\n",
    "# exclude rows with no package size\n",
    "df17 = df17[~df17['SIZE 2'].isnull()]\n",
    "\n",
    "# create columns for expenditure and purchase volume\n",
    "df17['EXP'] = df17['PRICE 2']*df17['QTY 2']\n",
    "df17['PUR VOL'] = df17['SIZE 2']*df17['QTY 2']\n",
    "\n",
    "print(df17['QTY 2'].sum())\n",
    "\n",
    "# isolate required columns\n",
    "df17 = df17[['BARCODE', 'BRAND', 'HHID', 'EXP', 'PUR VOL', 'FS Major category', 'cat']]\n",
    "\n",
    "df17.to_csv('df17_Fisher.csv', index=False)\n",
    "del df17"
   ]
  },
  {
   "cell_type": "code",
   "execution_count": 558,
   "metadata": {},
   "outputs": [
    {
     "name": "stdout",
     "output_type": "stream",
     "text": [
      "17560724.98999999\n",
      "Wall time: 2min 39s\n"
     ]
    }
   ],
   "source": [
    "%%time\n",
    "# import dataset\n",
    "df16 = pd.read_csv('2016/TGI_DATA_201601_201613.CSV', header = None, dtype = {0:object})\n",
    "\n",
    "# rename columns\n",
    "df16.columns = ['BARCODE', 'GENERATION', 'HHID', 'SHOP', 'TRANS DATE', 'TRANS TIME',\n",
    "               'QTY', 'PRICE', 'EP', 'ON PROMO', 'PLU', 'WGT']\n",
    "\n",
    "# exclude households with inconsistent records\n",
    "df16 = df16[df16['HHID'].isin(df16pf['HHID'])]\n",
    "\n",
    "# exclude non-foods by inner joining with food barcode lookup dataset\n",
    "df16 = df16.merge(bl[['BARCODE', 'BC DESC', 'SIZE', 'UOM', 'FS Major category', 'cat', 'BRAND']], on = 'BARCODE', how = 'inner')\n",
    "\n",
    "# exclude purchases with PRICE of $0\n",
    "df16 = df16[df16['PRICE'] != 0]\n",
    "\n",
    "# adjust for extreme purchases\n",
    "df16['QTY 2'] = df16['QTY']*df16['EP']\n",
    "\n",
    "# determine the quarter of each transaction\n",
    "df16['MONTH'] = df16['TRANS DATE'].str.split('/').str[1]\n",
    "df16['YEAR'] = df16['TRANS DATE'].str.split('/').str[2]\n",
    "df16['QTR'] = np.NaN\n",
    "df16['QTR'] = np.where(df16['MONTH'].isin(['01', '02', '03']), 1, df16['QTR'])\n",
    "df16['QTR'] = np.where(df16['MONTH'].isin(['04', '05', '06']), 2, df16['QTR'])\n",
    "df16['QTR'] = np.where(df16['MONTH'].isin(['07', '08', '09']), 3, df16['QTR'])\n",
    "df16['QTR'] = np.where(df16['MONTH'].isin(['10', '11', '12']), 4, df16['QTR'])\n",
    "df16['QTR'] = np.where(df16['YEAR'] == '2015', 1, df16['QTR'])\n",
    "\n",
    "# adjust for inflation using quarterly CPI\n",
    "df16['PRICE 2'] = np.NaN\n",
    "df16['PRICE 2'] = np.where(df16['QTR'] == 1, df16['PRICE']*(109/104.1), df16['PRICE 2'])\n",
    "df16['PRICE 2'] = np.where(df16['QTR'] == 2, df16['PRICE']*(109/103.8), df16['PRICE 2'])\n",
    "df16['PRICE 2'] = np.where(df16['QTR'] == 3, df16['PRICE']*(109/105.6), df16['PRICE 2'])\n",
    "df16['PRICE 2'] = np.where(df16['QTR'] == 4, df16['PRICE']*(109/106.2), df16['PRICE 2'])\n",
    "\n",
    "# create clean size column\n",
    "df16['SIZE 2'] = np.where(df16['UOM'].isin(['GM', 'ML']), df16['SIZE'], np.NaN)\n",
    "\n",
    "# exclude rows with no package size\n",
    "df16 = df16[~df16['SIZE 2'].isnull()]\n",
    "\n",
    "# create columns for expenditure and purchase volume\n",
    "df16['EXP'] = df16['PRICE 2']*df16['QTY 2']\n",
    "df16['PUR VOL'] = df16['SIZE 2']*df16['QTY 2']\n",
    "\n",
    "print(df16['QTY 2'].sum())\n",
    "\n",
    "# isolate required columns\n",
    "df16 = df16[['BARCODE', 'BRAND', 'HHID', 'EXP', 'PUR VOL', 'FS Major category', 'cat']]\n",
    "\n",
    "df16.to_csv('df16_Fisher.csv', index=False)\n",
    "del df16"
   ]
  },
  {
   "cell_type": "code",
   "execution_count": 559,
   "metadata": {},
   "outputs": [
    {
     "name": "stdout",
     "output_type": "stream",
     "text": [
      "16385435.599999972\n",
      "Wall time: 2min 31s\n"
     ]
    }
   ],
   "source": [
    "%%time\n",
    "# import dataset\n",
    "df15 = pd.read_csv('2015/TGI_DATA_201501_201513.CSV', header = None, dtype = {0:object})\n",
    "\n",
    "# rename columns\n",
    "df15.columns = ['BARCODE', 'GENERATION', 'HHID', 'SHOP', 'TRANS DATE', 'TRANS TIME',\n",
    "               'QTY', 'PRICE', 'EP', 'ON PROMO', 'PLU', 'WGT']\n",
    "\n",
    "# exclude households with inconsistent records\n",
    "df15 = df15[df15['HHID'].isin(df15pf['HHID'])]\n",
    "df15 = df15[df15['HHID'].isin(demog15['HHID'])]\n",
    "\n",
    "# exclude non-foods by inner joining with food barcode lookup dataset\n",
    "df15 = df15.merge(bl[['BARCODE', 'BC DESC', 'SIZE', 'UOM', 'FS Major category', 'cat', 'BRAND']], on = 'BARCODE', how = 'inner')\n",
    "\n",
    "# exclude purchases with PRICE of $0\n",
    "df15 = df15[df15['PRICE'] != 0]\n",
    "\n",
    "# adjust for extreme purchases\n",
    "df15['QTY 2'] = df15['QTY']*df15['EP']\n",
    "\n",
    "# determine the quarter of each transaction\n",
    "df15['MONTH'] = df15['TRANS DATE'].str.split('/').str[1]\n",
    "df15['YEAR'] = df15['TRANS DATE'].str.split('/').str[2]\n",
    "df15['QTR'] = np.NaN\n",
    "df15['QTR'] = np.where(df15['MONTH'].isin(['01', '02', '03']), 1, df15['QTR'])\n",
    "df15['QTR'] = np.where(df15['MONTH'].isin(['04', '05', '06']), 2, df15['QTR'])\n",
    "df15['QTR'] = np.where(df15['MONTH'].isin(['07', '08', '09']), 3, df15['QTR'])\n",
    "df15['QTR'] = np.where(df15['MONTH'].isin(['10', '11', '12']), 4, df15['QTR'])\n",
    "df15['QTR'] = np.where(df15['YEAR'] == '2014', 1, df15['QTR'])\n",
    "\n",
    "# adjust for inflation using quarterly CPI\n",
    "df15['PRICE 2'] = np.NaN\n",
    "df15['PRICE 2'] = np.where(df15['QTR'] == 1, df15['PRICE']*(109/104.1), df15['PRICE 2'])\n",
    "df15['PRICE 2'] = np.where(df15['QTR'] == 2, df15['PRICE']*(109/103.9), df15['PRICE 2'])\n",
    "df15['PRICE 2'] = np.where(df15['QTR'] == 3, df15['PRICE']*(109/104.0), df15['PRICE 2'])\n",
    "df15['PRICE 2'] = np.where(df15['QTR'] == 4, df15['PRICE']*(109/104.3), df15['PRICE 2'])\n",
    "\n",
    "# create clean size column\n",
    "df15['SIZE 2'] = np.where(df15['UOM'].isin(['GM', 'ML']), df15['SIZE'], np.NaN)\n",
    "\n",
    "# exclude rows with no package size\n",
    "df15 = df15[~df15['SIZE 2'].isnull()]\n",
    "\n",
    "# create columns for expenditure and purchase volume\n",
    "df15['EXP'] = df15['PRICE 2']*df15['QTY 2']\n",
    "df15['PUR VOL'] = df15['SIZE 2']*df15['QTY 2']\n",
    "\n",
    "print(df15['QTY 2'].sum())\n",
    "\n",
    "# isolate required columns\n",
    "df15 = df15[['BARCODE', 'BRAND', 'HHID', 'EXP', 'PUR VOL', 'FS Major category', 'cat']]\n",
    "\n",
    "df15.to_csv('df15_Fisher.csv', index=False)\n",
    "del df15"
   ]
  },
  {
   "cell_type": "markdown",
   "metadata": {},
   "source": [
    "#### COMBINE"
   ]
  },
  {
   "cell_type": "code",
   "execution_count": 9,
   "metadata": {},
   "outputs": [],
   "source": [
    "df19 = pd.read_csv('df19_Fisher.csv', dtype = {'BARCODE':object})\n",
    "df18 = pd.read_csv('df18_Fisher.csv', dtype = {'BARCODE':object})\n",
    "df17 = pd.read_csv('df17_Fisher.csv', dtype = {'BARCODE':object})\n",
    "df16 = pd.read_csv('df16_Fisher.csv', dtype = {'BARCODE':object})\n",
    "df15 = pd.read_csv('df15_Fisher.csv', dtype = {'BARCODE':object})"
   ]
  },
  {
   "cell_type": "code",
   "execution_count": 10,
   "metadata": {},
   "outputs": [],
   "source": [
    "df19['YEAR'] = '2019'\n",
    "df18['YEAR'] = '2018'\n",
    "df17['YEAR'] = '2017'\n",
    "df16['YEAR'] = '2016'\n",
    "df15['YEAR'] = '2015'"
   ]
  },
  {
   "cell_type": "code",
   "execution_count": 11,
   "metadata": {},
   "outputs": [],
   "source": [
    "dff = pd.concat([df19, df18, df17, df16, df15])"
   ]
  },
  {
   "cell_type": "code",
   "execution_count": 13,
   "metadata": {},
   "outputs": [],
   "source": [
    "del df19\n",
    "del df18\n",
    "del df17\n",
    "del df16\n",
    "del df15"
   ]
  },
  {
   "cell_type": "code",
   "execution_count": 14,
   "metadata": {},
   "outputs": [
    {
     "data": {
      "text/plain": [
       "36208"
      ]
     },
     "execution_count": 14,
     "metadata": {},
     "output_type": "execute_result"
    }
   ],
   "source": [
    "dff['YEAR-HHID'] = dff['YEAR'] + '|' +  dff['HHID'].astype(str)\n",
    "dff['YEAR-HHID'].nunique()"
   ]
  },
  {
   "cell_type": "code",
   "execution_count": 19,
   "metadata": {},
   "outputs": [],
   "source": [
    "majors = dff['FS Major category'].unique().tolist()"
   ]
  },
  {
   "cell_type": "code",
   "execution_count": 20,
   "metadata": {},
   "outputs": [
    {
     "data": {
      "text/plain": [
       "['Meat and alternatives',\n",
       " 'Vegetables',\n",
       " 'Other',\n",
       " 'Non-alcoholic beverages',\n",
       " 'Biscuits, cakes, and desserts',\n",
       " 'Grains',\n",
       " 'Dairy products and alternatives',\n",
       " 'Fruit',\n",
       " 'Confectionery and snacks']"
      ]
     },
     "execution_count": 20,
     "metadata": {},
     "output_type": "execute_result"
    }
   ],
   "source": [
    "majors"
   ]
  },
  {
   "cell_type": "code",
   "execution_count": 17,
   "metadata": {},
   "outputs": [
    {
     "data": {
      "text/plain": [
       "2"
      ]
     },
     "execution_count": 17,
     "metadata": {},
     "output_type": "execute_result"
    }
   ],
   "source": [
    "1+1"
   ]
  },
  {
   "cell_type": "markdown",
   "metadata": {},
   "source": [
    "# MAJOR CATEGORIES"
   ]
  },
  {
   "cell_type": "code",
   "execution_count": null,
   "metadata": {},
   "outputs": [],
   "source": [
    "#like 36,000 year-households"
   ]
  },
  {
   "cell_type": "code",
   "execution_count": 21,
   "metadata": {},
   "outputs": [
    {
     "name": "stdout",
     "output_type": "stream",
     "text": [
      "Meat and alternatives\n",
      "Data aggregation\n",
      "1000\n",
      "2000\n",
      "3000\n",
      "4000\n",
      "5000\n",
      "6000\n",
      "7000\n",
      "8000\n",
      "9000\n",
      "10000\n",
      "11000\n",
      "12000\n",
      "13000\n",
      "14000\n",
      "15000\n",
      "16000\n",
      "17000\n",
      "18000\n",
      "19000\n",
      "20000\n",
      "21000\n",
      "22000\n",
      "23000\n",
      "24000\n",
      "25000\n",
      "26000\n",
      "27000\n",
      "28000\n",
      "29000\n",
      "30000\n",
      "31000\n",
      "32000\n",
      "33000\n",
      "34000\n",
      "35000\n",
      "36000\n",
      "Brand price imputation\n",
      "FPI calculation\n"
     ]
    },
    {
     "name": "stderr",
     "output_type": "stream",
     "text": [
      "C:\\ProgramData\\Anaconda3\\lib\\site-packages\\ipykernel_launcher.py:112: RuntimeWarning: invalid value encountered in double_scalars\n"
     ]
    },
    {
     "name": "stdout",
     "output_type": "stream",
     "text": [
      "AxesSubplot(0.125,0.125;0.775x0.755)\n",
      "14\n",
      "Vegetables\n",
      "Data aggregation\n",
      "1000\n",
      "2000\n",
      "3000\n",
      "4000\n",
      "5000\n",
      "6000\n",
      "7000\n",
      "8000\n",
      "9000\n",
      "10000\n",
      "11000\n",
      "12000\n",
      "13000\n",
      "14000\n",
      "15000\n",
      "16000\n",
      "17000\n",
      "18000\n",
      "19000\n",
      "20000\n",
      "21000\n",
      "22000\n",
      "23000\n",
      "24000\n",
      "25000\n",
      "26000\n",
      "27000\n",
      "28000\n",
      "29000\n",
      "30000\n",
      "31000\n",
      "32000\n",
      "33000\n",
      "34000\n",
      "35000\n",
      "36000\n",
      "Brand price imputation\n",
      "FPI calculation\n"
     ]
    },
    {
     "name": "stderr",
     "output_type": "stream",
     "text": [
      "C:\\ProgramData\\Anaconda3\\lib\\site-packages\\ipykernel_launcher.py:112: RuntimeWarning: invalid value encountered in double_scalars\n"
     ]
    },
    {
     "name": "stdout",
     "output_type": "stream",
     "text": [
      "AxesSubplot(0.125,0.125;0.775x0.755)\n",
      "47\n",
      "Other\n",
      "Data aggregation\n",
      "1000\n",
      "2000\n",
      "3000\n",
      "4000\n",
      "5000\n",
      "6000\n",
      "7000\n",
      "8000\n",
      "9000\n",
      "10000\n",
      "11000\n",
      "12000\n",
      "13000\n",
      "14000\n",
      "15000\n",
      "16000\n",
      "17000\n",
      "18000\n",
      "19000\n",
      "20000\n",
      "21000\n",
      "22000\n",
      "23000\n",
      "24000\n",
      "25000\n",
      "26000\n",
      "27000\n",
      "28000\n",
      "29000\n",
      "30000\n",
      "31000\n",
      "32000\n",
      "33000\n",
      "34000\n",
      "35000\n",
      "36000\n",
      "Brand price imputation\n",
      "FPI calculation\n"
     ]
    },
    {
     "name": "stderr",
     "output_type": "stream",
     "text": [
      "C:\\ProgramData\\Anaconda3\\lib\\site-packages\\ipykernel_launcher.py:112: RuntimeWarning: invalid value encountered in double_scalars\n"
     ]
    },
    {
     "name": "stdout",
     "output_type": "stream",
     "text": [
      "AxesSubplot(0.125,0.125;0.775x0.755)\n",
      "11\n",
      "Non-alcoholic beverages\n",
      "Data aggregation\n",
      "1000\n",
      "2000\n",
      "3000\n",
      "4000\n",
      "5000\n",
      "6000\n",
      "7000\n",
      "8000\n",
      "9000\n",
      "10000\n",
      "11000\n",
      "12000\n",
      "13000\n",
      "14000\n",
      "15000\n",
      "16000\n",
      "17000\n",
      "18000\n",
      "19000\n",
      "20000\n",
      "21000\n",
      "22000\n",
      "23000\n",
      "24000\n",
      "25000\n",
      "26000\n",
      "27000\n",
      "28000\n",
      "29000\n",
      "30000\n",
      "31000\n",
      "32000\n",
      "33000\n",
      "34000\n",
      "35000\n",
      "36000\n",
      "Brand price imputation\n",
      "FPI calculation\n"
     ]
    },
    {
     "name": "stderr",
     "output_type": "stream",
     "text": [
      "C:\\ProgramData\\Anaconda3\\lib\\site-packages\\ipykernel_launcher.py:112: RuntimeWarning: invalid value encountered in double_scalars\n"
     ]
    },
    {
     "name": "stdout",
     "output_type": "stream",
     "text": [
      "AxesSubplot(0.125,0.125;0.775x0.755)\n",
      "56\n",
      "Biscuits, cakes, and desserts\n",
      "Data aggregation\n",
      "1000\n",
      "2000\n",
      "3000\n",
      "4000\n",
      "5000\n",
      "6000\n",
      "7000\n",
      "8000\n",
      "9000\n",
      "10000\n",
      "11000\n",
      "12000\n",
      "13000\n",
      "14000\n",
      "15000\n",
      "16000\n",
      "17000\n",
      "18000\n",
      "19000\n",
      "20000\n",
      "21000\n",
      "22000\n",
      "23000\n",
      "24000\n",
      "25000\n",
      "26000\n",
      "27000\n",
      "28000\n",
      "29000\n",
      "30000\n",
      "31000\n",
      "32000\n",
      "33000\n",
      "34000\n",
      "35000\n",
      "36000\n",
      "Brand price imputation\n",
      "FPI calculation\n"
     ]
    },
    {
     "name": "stderr",
     "output_type": "stream",
     "text": [
      "C:\\ProgramData\\Anaconda3\\lib\\site-packages\\ipykernel_launcher.py:112: RuntimeWarning: invalid value encountered in double_scalars\n"
     ]
    },
    {
     "name": "stdout",
     "output_type": "stream",
     "text": [
      "AxesSubplot(0.125,0.125;0.775x0.755)\n",
      "118\n",
      "Grains\n",
      "Data aggregation\n",
      "1000\n",
      "2000\n",
      "3000\n",
      "4000\n",
      "5000\n",
      "6000\n",
      "7000\n",
      "8000\n",
      "9000\n",
      "10000\n",
      "11000\n",
      "12000\n",
      "13000\n",
      "14000\n",
      "15000\n",
      "16000\n",
      "17000\n",
      "18000\n",
      "19000\n",
      "20000\n",
      "21000\n",
      "22000\n",
      "23000\n",
      "24000\n",
      "25000\n",
      "26000\n",
      "27000\n",
      "28000\n",
      "29000\n",
      "30000\n",
      "31000\n",
      "32000\n",
      "33000\n",
      "34000\n",
      "35000\n",
      "36000\n",
      "Brand price imputation\n",
      "FPI calculation\n"
     ]
    },
    {
     "name": "stderr",
     "output_type": "stream",
     "text": [
      "C:\\ProgramData\\Anaconda3\\lib\\site-packages\\ipykernel_launcher.py:112: RuntimeWarning: invalid value encountered in double_scalars\n"
     ]
    },
    {
     "name": "stdout",
     "output_type": "stream",
     "text": [
      "AxesSubplot(0.125,0.125;0.775x0.755)\n",
      "30\n",
      "Dairy products and alternatives\n",
      "Data aggregation\n",
      "1000\n",
      "2000\n",
      "3000\n",
      "4000\n",
      "5000\n",
      "6000\n",
      "7000\n",
      "8000\n",
      "9000\n",
      "10000\n",
      "11000\n",
      "12000\n",
      "13000\n",
      "14000\n",
      "15000\n",
      "16000\n",
      "17000\n",
      "18000\n",
      "19000\n",
      "20000\n",
      "21000\n",
      "22000\n",
      "23000\n",
      "24000\n",
      "25000\n",
      "26000\n",
      "27000\n",
      "28000\n",
      "29000\n",
      "30000\n",
      "31000\n",
      "32000\n",
      "33000\n",
      "34000\n",
      "35000\n",
      "36000\n",
      "Brand price imputation\n",
      "FPI calculation\n"
     ]
    },
    {
     "name": "stderr",
     "output_type": "stream",
     "text": [
      "C:\\ProgramData\\Anaconda3\\lib\\site-packages\\ipykernel_launcher.py:112: RuntimeWarning: invalid value encountered in double_scalars\n"
     ]
    },
    {
     "name": "stdout",
     "output_type": "stream",
     "text": [
      "AxesSubplot(0.125,0.125;0.775x0.755)\n",
      "6\n",
      "Fruit\n",
      "Data aggregation\n",
      "1000\n",
      "2000\n",
      "3000\n",
      "4000\n",
      "5000\n",
      "6000\n",
      "7000\n",
      "8000\n",
      "9000\n",
      "10000\n",
      "11000\n",
      "12000\n",
      "13000\n",
      "14000\n",
      "15000\n",
      "16000\n",
      "17000\n",
      "18000\n",
      "19000\n",
      "20000\n",
      "21000\n",
      "22000\n",
      "23000\n",
      "24000\n",
      "25000\n",
      "26000\n",
      "27000\n",
      "28000\n",
      "29000\n",
      "30000\n",
      "31000\n",
      "32000\n",
      "33000\n",
      "34000\n",
      "35000\n",
      "36000\n",
      "Brand price imputation\n",
      "FPI calculation\n"
     ]
    },
    {
     "name": "stderr",
     "output_type": "stream",
     "text": [
      "C:\\ProgramData\\Anaconda3\\lib\\site-packages\\ipykernel_launcher.py:112: RuntimeWarning: invalid value encountered in double_scalars\n"
     ]
    },
    {
     "name": "stdout",
     "output_type": "stream",
     "text": [
      "AxesSubplot(0.125,0.125;0.775x0.755)\n",
      "103\n",
      "Confectionery and snacks\n",
      "Data aggregation\n",
      "1000\n",
      "2000\n",
      "3000\n",
      "4000\n",
      "5000\n",
      "6000\n",
      "7000\n",
      "8000\n",
      "9000\n",
      "10000\n",
      "11000\n",
      "12000\n",
      "13000\n",
      "14000\n",
      "15000\n",
      "16000\n",
      "17000\n",
      "18000\n",
      "19000\n",
      "20000\n",
      "21000\n",
      "22000\n",
      "23000\n",
      "24000\n",
      "25000\n",
      "26000\n",
      "27000\n",
      "28000\n",
      "29000\n",
      "30000\n",
      "31000\n",
      "32000\n",
      "33000\n",
      "34000\n",
      "35000\n",
      "36000\n",
      "Brand price imputation\n",
      "FPI calculation\n"
     ]
    },
    {
     "name": "stderr",
     "output_type": "stream",
     "text": [
      "C:\\ProgramData\\Anaconda3\\lib\\site-packages\\ipykernel_launcher.py:112: RuntimeWarning: invalid value encountered in double_scalars\n"
     ]
    },
    {
     "name": "stdout",
     "output_type": "stream",
     "text": [
      "AxesSubplot(0.125,0.125;0.775x0.755)\n",
      "90\n",
      "Wall time: 8h 25min 37s\n"
     ]
    },
    {
     "data": {
      "image/png": "[encoded data removed]",
      "text/plain": [
       "<Figure size 432x288 with 1 Axes>"
      ]
     },
     "metadata": {
      "needs_background": "light"
     },
     "output_type": "display_data"
    },
    {
     "data": {
      "image/png": "[encoded data removed]",
      "text/plain": [
       "<Figure size 432x288 with 1 Axes>"
      ]
     },
     "metadata": {
      "needs_background": "light"
     },
     "output_type": "display_data"
    },
    {
     "data": {
      "image/png": "[encoded data removed]",
      "text/plain": [
       "<Figure size 432x288 with 1 Axes>"
      ]
     },
     "metadata": {
      "needs_background": "light"
     },
     "output_type": "display_data"
    },
    {
     "data": {
      "image/png": "[encoded data removed]",
      "text/plain": [
       "<Figure size 432x288 with 1 Axes>"
      ]
     },
     "metadata": {
      "needs_background": "light"
     },
     "output_type": "display_data"
    },
    {
     "data": {
      "image/png": "[encoded data removed]",
      "text/plain": [
       "<Figure size 432x288 with 1 Axes>"
      ]
     },
     "metadata": {
      "needs_background": "light"
     },
     "output_type": "display_data"
    },
    {
     "data": {
      "image/png": "[encoded data removed]",
      "text/plain": [
       "<Figure size 432x288 with 1 Axes>"
      ]
     },
     "metadata": {
      "needs_background": "light"
     },
     "output_type": "display_data"
    },
    {
     "data": {
      "image/png": "[encoded data removed]",
      "text/plain": [
       "<Figure size 432x288 with 1 Axes>"
      ]
     },
     "metadata": {
      "needs_background": "light"
     },
     "output_type": "display_data"
    },
    {
     "data": {
      "image/png": "[encoded data removed]",
      "text/plain": [
       "<Figure size 432x288 with 1 Axes>"
      ]
     },
     "metadata": {
      "needs_background": "light"
     },
     "output_type": "display_data"
    },
    {
     "data": {
      "image/png": "[encoded data removed]",
      "text/plain": [
       "<Figure size 432x288 with 1 Axes>"
      ]
     },
     "metadata": {
      "needs_background": "light"
     },
     "output_type": "display_data"
    },
    {
     "data": {
      "image/png": "[encoded data removed]",
      "text/plain": [
       "<Figure size 432x288 with 1 Axes>"
      ]
     },
     "metadata": {
      "needs_background": "light"
     },
     "output_type": "display_data"
    }
   ],
   "source": [
    "%%time\n",
    "# AGGREGATE BRAND PRICES AND QUANTITIES FOR EACH YEAR-HOUSEHOLD \n",
    "# isolate category\n",
    "for major in majors:\n",
    "    print(major)\n",
    "    sub = dff[dff['FS Major category'] == major].copy()\n",
    "\n",
    "    # isolate top 100 brands (by % of purchasing households)\n",
    "    top_100_brands = sub.groupby('BRAND')['HHID'].nunique().sort_values(ascending=False).head(100).index.tolist()\n",
    "\n",
    "    # only use top 100 brands\n",
    "    sub['BRAND 2'] = np.where(sub['BRAND'].isin(top_100_brands), sub['BRAND'], 'All other brands')\n",
    "\n",
    "    # precompute repetitive calculations\n",
    "    expenditures = sub.groupby(['YEAR-HHID', 'BRAND 2'])['EXP'].sum()\n",
    "    purchase_volumes = sub.groupby(['YEAR-HHID', 'BRAND 2'])['PUR VOL'].sum()\n",
    "\n",
    "    # iterate through year-households\n",
    "    print('Data aggregation')\n",
    "    ids = dff['YEAR-HHID'].unique()\n",
    "\n",
    "    data = []\n",
    "    count = 0\n",
    "    for i in ids:\n",
    "        count += 1\n",
    "        if count % 1000 == 0:\n",
    "            print(count)\n",
    "        row = {}\n",
    "        row['YEAR-HHID'] = i\n",
    "        for brand in top_100_brands + ['All other brands']:\n",
    "            try:\n",
    "                row[brand + ' Q1'] = purchase_volumes[i][brand]/1000\n",
    "            except:\n",
    "                row[brand + ' Q1'] = 0\n",
    "\n",
    "            try:\n",
    "                row[brand + ' P1'] = expenditures[i][brand]/(purchase_volumes[i][brand]/1000)\n",
    "            except:\n",
    "                row[brand + ' P1'] = np.NaN\n",
    "\n",
    "        data.append(row)\n",
    "\n",
    "    result_df = pd.DataFrame(data)\n",
    "    result_df = result_df[['YEAR-HHID'] + list(filter(lambda x: x != 'YEAR-HHID', result_df.columns.tolist()))]\n",
    "\n",
    "    # adjust for outlying brand prices\n",
    "    # for anything surpassing column mean by 5 SDs, reduce to the mean + 5 SDs\n",
    "    lims = result_df.mean() + result_df.std()*5\n",
    "\n",
    "    # this just changes <1% of all values, not a big diff\n",
    "    for col in lims.index.tolist():\n",
    "        lim = lims[col]\n",
    "        result_df[col] = np.where(result_df[col]>lim, lim, result_df[col])\n",
    "\n",
    "    #*************************************************************************************************** \n",
    "    print('Brand price imputation')\n",
    "    # IMPUTE MISSING BRAND PRICES BASED ON YEAR, REGION, and HH SZ\n",
    "    # merge required variables\n",
    "    result_df = result_df.merge(demog[['YEAR-HHID', 'HH SZ']], on = 'YEAR-HHID', how = 'left')\n",
    "    result_df = result_df.merge(dfpf[['YEAR-HHID', 'REGION 2']], on = 'YEAR-HHID', how = 'left')\n",
    "    result_df['YEAR'] = result_df['YEAR-HHID'].str.split('|').str[0]\n",
    "\n",
    "    # Create dummy variables\n",
    "    year_dummies = pd.get_dummies(result_df['YEAR'], prefix='YEAR', drop_first=True)\n",
    "    region_dummies = pd.get_dummies(result_df['REGION 2'], prefix='REGION 2', drop_first=True)\n",
    "    result_df = pd.concat([result_df, year_dummies, region_dummies], axis=1)\n",
    "\n",
    "    # Impute missing values for each \"P1\" column, using as many input variables as possible\n",
    "    p1_columns = [col for col in result_df.columns if 'P1' in col]\n",
    "    for col in p1_columns:\n",
    "        feature_columns = ['HH SZ','YEAR', 'REGION 2','YEAR_2016', 'YEAR_2017','YEAR_2018','YEAR_2019',\n",
    "                           'REGION 2_BRI','REGION 2_MEL','REGION 2_Other','REGION 2_PER','REGION 2_SYD'] \n",
    "        impute_missing_values(result_df, col, feature_columns)\n",
    "        impute_missing_values2(result_df, col, feature_columns)\n",
    "        impute_missing_values3(result_df, col, feature_columns)\n",
    "        impute_missing_values4(result_df, col, feature_columns)\n",
    "\n",
    "    #***************************************************************************************************  \n",
    "    print('FPI calculation')\n",
    "    # CALCULATE FISHER PRICE INDEX\n",
    "    # Identify P1 and Q1 columns\n",
    "    p1_columns = [col for col in result_df.columns if 'P1' in col]\n",
    "    q1_columns = [col.replace('P1', 'Q1') for col in p1_columns]\n",
    "\n",
    "    # Calculate P0 and Q0 using column means\n",
    "    p0 = result_df[p1_columns].mean()\n",
    "    q0 = result_df[q1_columns].mean()\n",
    "\n",
    "    # Initialize lists to store the indices and their components for each row\n",
    "    fisher_indices = []\n",
    "\n",
    "    # Calculate Fisher Price Index for each row\n",
    "    for i, row in result_df.iterrows():\n",
    "        laspeyres_numerator = 0\n",
    "        laspeyres_denominator = 0\n",
    "        paasche_numerator = 0\n",
    "        paasche_denominator = 0\n",
    "\n",
    "        for p1_col, q1_col in zip(p1_columns, q1_columns):\n",
    "            p1 = row[p1_col]\n",
    "            q1 = row[q1_col]\n",
    "\n",
    "            # Calculate Laspeyres components\n",
    "            laspeyres_numerator += p1 * q0[q1_col]\n",
    "            laspeyres_denominator += p0[p1_col] * q0[q1_col]\n",
    "\n",
    "            # Calculate Paasche components\n",
    "            paasche_numerator += p1 * q1\n",
    "            paasche_denominator += p0[p1_col] * q1\n",
    "\n",
    "        # Calculate Laspeyres and Paasche Price Indices for the row\n",
    "        laspeyres_index = laspeyres_numerator / laspeyres_denominator\n",
    "        paasche_index = paasche_numerator / paasche_denominator\n",
    "\n",
    "        # Calculate Fisher Price Index for the row\n",
    "        fisher_index = np.sqrt(laspeyres_index * paasche_index)\n",
    "\n",
    "        # Append the indices and their components to their respective lists\n",
    "        fisher_indices.append(fisher_index)\n",
    "\n",
    "    # Add the indices and their components to the DataFrame\n",
    "    result_df['Fisher Price Index'] = fisher_indices\n",
    "\n",
    "    # adjust for outlying fisher price indexes\n",
    "    #lim = result_df['Fisher Price Index'].mean() + result_df['Fisher Price Index'].std()*5\n",
    "    #result_df['Fisher Price Index'] = np.where(result_df['Fisher Price Index']>lim, lim, result_df['Fisher Price Index'])\n",
    "\n",
    "    #*************************************************************************************************** \n",
    "    # OUPUT IMPORTANT STUFF\n",
    "    result_df = result_df.merge(seifa[['YEAR-HHID', 'SES']], on = 'YEAR-HHID', how = 'left')\n",
    "    print(result_df['Fisher Price Index'].hist(bins=100));\n",
    "\n",
    "    #print(result_df.groupby('SES')['Fisher Price Index'].mean())\n",
    "\n",
    "    print(result_df['Fisher Price Index'].isnull().sum())\n",
    "\n",
    "    see = pd.DataFrame(sub.groupby('YEAR-HHID')['EXP'].sum()/sub.groupby('YEAR-HHID')['PUR VOL'].sum()).reset_index()\n",
    "    see.columns = ['YEAR-HHID', 'cat price']\n",
    "    see = result_df.merge(see, on = 'YEAR-HHID', how = 'left')\n",
    "    see.plot(kind='scatter', x='cat price', y='Fisher Price Index');\n",
    "\n",
    "    # any empty fisher price indices are because the consumer didn't consume the category - impute median\n",
    "    result_df['Fisher Price Index'] = result_df['Fisher Price Index'].fillna(result_df['Fisher Price Index'].median())\n",
    "\n",
    "    result_df[['YEAR-HHID', 'Fisher Price Index']].to_csv('FI2' + major + '.csv', index=False)"
   ]
  },
  {
   "cell_type": "markdown",
   "metadata": {},
   "source": [
    "# MINOR CATEGORIES"
   ]
  },
  {
   "cell_type": "code",
   "execution_count": 24,
   "metadata": {},
   "outputs": [
    {
     "data": {
      "text/html": [
       "<div>\n",
       "<style scoped>\n",
       "    .dataframe tbody tr th:only-of-type {\n",
       "        vertical-align: middle;\n",
       "    }\n",
       "\n",
       "    .dataframe tbody tr th {\n",
       "        vertical-align: top;\n",
       "    }\n",
       "\n",
       "    .dataframe thead th {\n",
       "        text-align: right;\n",
       "    }\n",
       "</style>\n",
       "<table border=\"1\" class=\"dataframe\">\n",
       "  <thead>\n",
       "    <tr style=\"text-align: right;\">\n",
       "      <th></th>\n",
       "      <th>BARCODE</th>\n",
       "      <th>BRAND</th>\n",
       "      <th>HHID</th>\n",
       "      <th>EXP</th>\n",
       "      <th>PUR VOL</th>\n",
       "      <th>FS Major category</th>\n",
       "      <th>cat</th>\n",
       "      <th>YEAR</th>\n",
       "      <th>YEAR-HHID</th>\n",
       "    </tr>\n",
       "  </thead>\n",
       "  <tbody>\n",
       "    <tr>\n",
       "      <th>0</th>\n",
       "      <td>9300601417285</td>\n",
       "      <td>COLES FINEST</td>\n",
       "      <td>24882</td>\n",
       "      <td>9.0</td>\n",
       "      <td>1700.0</td>\n",
       "      <td>Meat and alternatives</td>\n",
       "      <td>Processed meat</td>\n",
       "      <td>2019</td>\n",
       "      <td>2019|24882</td>\n",
       "    </tr>\n",
       "  </tbody>\n",
       "</table>\n",
       "</div>"
      ],
      "text/plain": [
       "         BARCODE         BRAND   HHID  EXP  PUR VOL      FS Major category  \\\n",
       "0  9300601417285  COLES FINEST  24882  9.0   1700.0  Meat and alternatives   \n",
       "\n",
       "              cat  YEAR   YEAR-HHID  \n",
       "0  Processed meat  2019  2019|24882  "
      ]
     },
     "execution_count": 24,
     "metadata": {},
     "output_type": "execute_result"
    }
   ],
   "source": [
    "dff.head(1)"
   ]
  },
  {
   "cell_type": "code",
   "execution_count": 28,
   "metadata": {},
   "outputs": [],
   "source": [
    "minors = ['Processed meat',\n",
    " 'Vegetables',\n",
    " 'Ready meals',\n",
    " 'Non-sugar sweetened beverages',\n",
    " 'Biscuits',\n",
    " 'Fats and oils',\n",
    " 'Pasta, rice, and other cereals',\n",
    " 'Sauces, dressings, spreads, and dips',\n",
    " 'Milk',\n",
    " 'Fruit',\n",
    " 'Sugar-based confectionery',\n",
    " 'Desserts',\n",
    " 'Breakfast cereals',\n",
    " 'Cakes, muffins, and pastries',\n",
    " 'Cheese and cream',\n",
    " 'Sugar-sweetened beverages',\n",
    " 'Nuts and seeds',\n",
    " 'Tea and coffee',\n",
    " 'Poultry',\n",
    " 'Eggs',\n",
    " 'Yoghurt',\n",
    " 'Chocolate-based confectionery',\n",
    " 'Sugars, honey, and related products',\n",
    " 'Fish and seafoods',\n",
    " 'Legumes/beans',\n",
    " 'Snackfoods',\n",
    " 'Bread',\n",
    " 'Ice-cream',\n",
    " 'Red meat']"
   ]
  },
  {
   "cell_type": "code",
   "execution_count": 29,
   "metadata": {},
   "outputs": [
    {
     "name": "stdout",
     "output_type": "stream",
     "text": [
      "Processed meat\n",
      "Data aggregation\n",
      "1000\n",
      "2000\n",
      "3000\n",
      "4000\n",
      "5000\n",
      "6000\n",
      "7000\n",
      "8000\n",
      "9000\n",
      "10000\n",
      "11000\n",
      "12000\n",
      "13000\n",
      "14000\n",
      "15000\n",
      "16000\n",
      "17000\n",
      "18000\n",
      "19000\n",
      "20000\n",
      "21000\n",
      "22000\n",
      "23000\n",
      "24000\n",
      "25000\n",
      "26000\n",
      "27000\n",
      "28000\n",
      "29000\n",
      "30000\n",
      "31000\n",
      "32000\n",
      "33000\n",
      "34000\n",
      "35000\n",
      "36000\n",
      "Brand price imputation\n",
      "FPI calculation\n"
     ]
    },
    {
     "name": "stderr",
     "output_type": "stream",
     "text": [
      "C:\\ProgramData\\Anaconda3\\lib\\site-packages\\ipykernel_launcher.py:112: RuntimeWarning: invalid value encountered in double_scalars\n"
     ]
    },
    {
     "name": "stdout",
     "output_type": "stream",
     "text": [
      "AxesSubplot(0.125,0.125;0.775x0.755)\n",
      "328\n",
      "Vegetables\n",
      "Data aggregation\n",
      "1000\n",
      "2000\n",
      "3000\n",
      "4000\n",
      "5000\n",
      "6000\n",
      "7000\n",
      "8000\n",
      "9000\n",
      "10000\n",
      "11000\n",
      "12000\n",
      "13000\n",
      "14000\n",
      "15000\n",
      "16000\n",
      "17000\n",
      "18000\n",
      "19000\n",
      "20000\n",
      "21000\n",
      "22000\n",
      "23000\n",
      "24000\n",
      "25000\n",
      "26000\n",
      "27000\n",
      "28000\n",
      "29000\n",
      "30000\n",
      "31000\n",
      "32000\n",
      "33000\n",
      "34000\n",
      "35000\n",
      "36000\n",
      "Brand price imputation\n",
      "FPI calculation\n"
     ]
    },
    {
     "name": "stderr",
     "output_type": "stream",
     "text": [
      "C:\\ProgramData\\Anaconda3\\lib\\site-packages\\ipykernel_launcher.py:112: RuntimeWarning: invalid value encountered in double_scalars\n"
     ]
    },
    {
     "name": "stdout",
     "output_type": "stream",
     "text": [
      "AxesSubplot(0.125,0.125;0.775x0.755)\n",
      "47\n",
      "Ready meals\n",
      "Data aggregation\n",
      "1000\n",
      "2000\n",
      "3000\n",
      "4000\n",
      "5000\n",
      "6000\n",
      "7000\n",
      "8000\n",
      "9000\n",
      "10000\n",
      "11000\n",
      "12000\n",
      "13000\n",
      "14000\n",
      "15000\n",
      "16000\n",
      "17000\n",
      "18000\n",
      "19000\n",
      "20000\n",
      "21000\n",
      "22000\n",
      "23000\n",
      "24000\n",
      "25000\n",
      "26000\n",
      "27000\n",
      "28000\n",
      "29000\n",
      "30000\n",
      "31000\n",
      "32000\n",
      "33000\n",
      "34000\n",
      "35000\n",
      "36000\n",
      "Brand price imputation\n",
      "FPI calculation\n"
     ]
    },
    {
     "name": "stderr",
     "output_type": "stream",
     "text": [
      "C:\\ProgramData\\Anaconda3\\lib\\site-packages\\ipykernel_launcher.py:112: RuntimeWarning: invalid value encountered in double_scalars\n"
     ]
    },
    {
     "name": "stdout",
     "output_type": "stream",
     "text": [
      "AxesSubplot(0.125,0.125;0.775x0.755)\n",
      "353\n",
      "Non-sugar sweetened beverages\n",
      "Data aggregation\n",
      "1000\n",
      "2000\n",
      "3000\n",
      "4000\n",
      "5000\n",
      "6000\n",
      "7000\n",
      "8000\n",
      "9000\n",
      "10000\n",
      "11000\n",
      "12000\n",
      "13000\n",
      "14000\n",
      "15000\n",
      "16000\n",
      "17000\n",
      "18000\n",
      "19000\n",
      "20000\n",
      "21000\n",
      "22000\n",
      "23000\n",
      "24000\n",
      "25000\n",
      "26000\n",
      "27000\n",
      "28000\n",
      "29000\n",
      "30000\n",
      "31000\n",
      "32000\n",
      "33000\n",
      "34000\n",
      "35000\n",
      "36000\n",
      "Brand price imputation\n",
      "FPI calculation\n"
     ]
    },
    {
     "name": "stderr",
     "output_type": "stream",
     "text": [
      "C:\\ProgramData\\Anaconda3\\lib\\site-packages\\ipykernel_launcher.py:112: RuntimeWarning: invalid value encountered in double_scalars\n"
     ]
    },
    {
     "name": "stdout",
     "output_type": "stream",
     "text": [
      "AxesSubplot(0.125,0.125;0.775x0.755)\n",
      "1759\n",
      "Biscuits\n",
      "Data aggregation\n",
      "1000\n",
      "2000\n",
      "3000\n",
      "4000\n",
      "5000\n",
      "6000\n",
      "7000\n",
      "8000\n",
      "9000\n",
      "10000\n",
      "11000\n",
      "12000\n",
      "13000\n",
      "14000\n",
      "15000\n",
      "16000\n",
      "17000\n",
      "18000\n",
      "19000\n",
      "20000\n",
      "21000\n",
      "22000\n",
      "23000\n",
      "24000\n",
      "25000\n",
      "26000\n",
      "27000\n",
      "28000\n",
      "29000\n",
      "30000\n",
      "31000\n",
      "32000\n",
      "33000\n",
      "34000\n",
      "35000\n",
      "36000\n",
      "Brand price imputation\n",
      "FPI calculation\n"
     ]
    },
    {
     "name": "stderr",
     "output_type": "stream",
     "text": [
      "C:\\ProgramData\\Anaconda3\\lib\\site-packages\\ipykernel_launcher.py:112: RuntimeWarning: invalid value encountered in double_scalars\n"
     ]
    },
    {
     "name": "stdout",
     "output_type": "stream",
     "text": [
      "AxesSubplot(0.125,0.125;0.775x0.755)\n",
      "282\n",
      "Fats and oils\n",
      "Data aggregation\n",
      "1000\n",
      "2000\n",
      "3000\n",
      "4000\n",
      "5000\n",
      "6000\n",
      "7000\n",
      "8000\n",
      "9000\n",
      "10000\n",
      "11000\n",
      "12000\n",
      "13000\n",
      "14000\n",
      "15000\n",
      "16000\n",
      "17000\n",
      "18000\n",
      "19000\n",
      "20000\n",
      "21000\n",
      "22000\n",
      "23000\n",
      "24000\n",
      "25000\n",
      "26000\n",
      "27000\n",
      "28000\n",
      "29000\n",
      "30000\n",
      "31000\n",
      "32000\n",
      "33000\n",
      "34000\n",
      "35000\n",
      "36000\n",
      "Brand price imputation\n",
      "FPI calculation\n"
     ]
    },
    {
     "name": "stderr",
     "output_type": "stream",
     "text": [
      "C:\\ProgramData\\Anaconda3\\lib\\site-packages\\ipykernel_launcher.py:112: RuntimeWarning: invalid value encountered in double_scalars\n"
     ]
    },
    {
     "name": "stdout",
     "output_type": "stream",
     "text": [
      "AxesSubplot(0.125,0.125;0.775x0.755)\n",
      "323\n",
      "Pasta, rice, and other cereals\n",
      "Data aggregation\n",
      "1000\n",
      "2000\n",
      "3000\n",
      "4000\n",
      "5000\n",
      "6000\n",
      "7000\n",
      "8000\n",
      "9000\n",
      "10000\n",
      "11000\n",
      "12000\n",
      "13000\n",
      "14000\n",
      "15000\n",
      "16000\n",
      "17000\n",
      "18000\n",
      "19000\n",
      "20000\n",
      "21000\n",
      "22000\n",
      "23000\n",
      "24000\n",
      "25000\n",
      "26000\n",
      "27000\n",
      "28000\n",
      "29000\n",
      "30000\n",
      "31000\n",
      "32000\n",
      "33000\n",
      "34000\n",
      "35000\n",
      "36000\n",
      "Brand price imputation\n",
      "FPI calculation\n"
     ]
    },
    {
     "name": "stderr",
     "output_type": "stream",
     "text": [
      "C:\\ProgramData\\Anaconda3\\lib\\site-packages\\ipykernel_launcher.py:112: RuntimeWarning: invalid value encountered in double_scalars\n"
     ]
    },
    {
     "name": "stdout",
     "output_type": "stream",
     "text": [
      "AxesSubplot(0.125,0.125;0.775x0.755)\n",
      "338\n",
      "Sauces, dressings, spreads, and dips\n",
      "Data aggregation\n",
      "1000\n",
      "2000\n",
      "3000\n",
      "4000\n",
      "5000\n",
      "6000\n",
      "7000\n",
      "8000\n",
      "9000\n",
      "10000\n",
      "11000\n",
      "12000\n",
      "13000\n",
      "14000\n",
      "15000\n",
      "16000\n",
      "17000\n",
      "18000\n",
      "19000\n",
      "20000\n",
      "21000\n",
      "22000\n",
      "23000\n",
      "24000\n",
      "25000\n",
      "26000\n",
      "27000\n",
      "28000\n",
      "29000\n",
      "30000\n",
      "31000\n",
      "32000\n",
      "33000\n",
      "34000\n",
      "35000\n",
      "36000\n",
      "Brand price imputation\n",
      "FPI calculation\n"
     ]
    },
    {
     "name": "stderr",
     "output_type": "stream",
     "text": [
      "C:\\ProgramData\\Anaconda3\\lib\\site-packages\\ipykernel_launcher.py:112: RuntimeWarning: invalid value encountered in double_scalars\n"
     ]
    },
    {
     "name": "stdout",
     "output_type": "stream",
     "text": [
      "AxesSubplot(0.125,0.125;0.775x0.755)\n",
      "100\n",
      "Milk\n",
      "Data aggregation\n",
      "1000\n",
      "2000\n",
      "3000\n",
      "4000\n",
      "5000\n",
      "6000\n",
      "7000\n",
      "8000\n",
      "9000\n",
      "10000\n",
      "11000\n",
      "12000\n",
      "13000\n",
      "14000\n",
      "15000\n",
      "16000\n",
      "17000\n",
      "18000\n",
      "19000\n",
      "20000\n",
      "21000\n",
      "22000\n",
      "23000\n",
      "24000\n",
      "25000\n",
      "26000\n",
      "27000\n",
      "28000\n",
      "29000\n",
      "30000\n",
      "31000\n",
      "32000\n",
      "33000\n",
      "34000\n",
      "35000\n",
      "36000\n",
      "Brand price imputation\n",
      "FPI calculation\n"
     ]
    },
    {
     "name": "stderr",
     "output_type": "stream",
     "text": [
      "C:\\ProgramData\\Anaconda3\\lib\\site-packages\\ipykernel_launcher.py:112: RuntimeWarning: invalid value encountered in double_scalars\n"
     ]
    },
    {
     "name": "stdout",
     "output_type": "stream",
     "text": [
      "AxesSubplot(0.125,0.125;0.775x0.755)\n",
      "160\n",
      "Fruit\n",
      "Data aggregation\n",
      "1000\n",
      "2000\n",
      "3000\n",
      "4000\n",
      "5000\n",
      "6000\n",
      "7000\n",
      "8000\n",
      "9000\n",
      "10000\n",
      "11000\n",
      "12000\n",
      "13000\n",
      "14000\n",
      "15000\n",
      "16000\n",
      "17000\n",
      "18000\n",
      "19000\n",
      "20000\n",
      "21000\n",
      "22000\n",
      "23000\n",
      "24000\n",
      "25000\n",
      "26000\n",
      "27000\n",
      "28000\n",
      "29000\n",
      "30000\n",
      "31000\n",
      "32000\n",
      "33000\n",
      "34000\n",
      "35000\n",
      "36000\n",
      "Brand price imputation\n",
      "FPI calculation\n"
     ]
    },
    {
     "name": "stderr",
     "output_type": "stream",
     "text": [
      "C:\\ProgramData\\Anaconda3\\lib\\site-packages\\ipykernel_launcher.py:112: RuntimeWarning: invalid value encountered in double_scalars\n"
     ]
    },
    {
     "name": "stdout",
     "output_type": "stream",
     "text": [
      "AxesSubplot(0.125,0.125;0.775x0.755)\n",
      "103\n",
      "Sugar-based confectionery\n",
      "Data aggregation\n",
      "1000\n",
      "2000\n",
      "3000\n",
      "4000\n",
      "5000\n",
      "6000\n",
      "7000\n",
      "8000\n",
      "9000\n",
      "10000\n",
      "11000\n",
      "12000\n",
      "13000\n",
      "14000\n",
      "15000\n",
      "16000\n",
      "17000\n",
      "18000\n",
      "19000\n",
      "20000\n",
      "21000\n",
      "22000\n",
      "23000\n",
      "24000\n",
      "25000\n",
      "26000\n",
      "27000\n",
      "28000\n",
      "29000\n",
      "30000\n",
      "31000\n",
      "32000\n",
      "33000\n",
      "34000\n",
      "35000\n",
      "36000\n",
      "Brand price imputation\n",
      "FPI calculation\n"
     ]
    },
    {
     "name": "stderr",
     "output_type": "stream",
     "text": [
      "C:\\ProgramData\\Anaconda3\\lib\\site-packages\\ipykernel_launcher.py:112: RuntimeWarning: invalid value encountered in double_scalars\n"
     ]
    },
    {
     "name": "stdout",
     "output_type": "stream",
     "text": [
      "AxesSubplot(0.125,0.125;0.775x0.755)\n",
      "2771\n",
      "Desserts\n",
      "Data aggregation\n",
      "1000\n",
      "2000\n",
      "3000\n",
      "4000\n",
      "5000\n",
      "6000\n",
      "7000\n",
      "8000\n",
      "9000\n",
      "10000\n",
      "11000\n",
      "12000\n",
      "13000\n",
      "14000\n",
      "15000\n",
      "16000\n",
      "17000\n",
      "18000\n",
      "19000\n",
      "20000\n",
      "21000\n",
      "22000\n",
      "23000\n",
      "24000\n",
      "25000\n",
      "26000\n",
      "27000\n",
      "28000\n",
      "29000\n",
      "30000\n",
      "31000\n",
      "32000\n",
      "33000\n",
      "34000\n",
      "35000\n",
      "36000\n",
      "Brand price imputation\n",
      "FPI calculation\n"
     ]
    },
    {
     "name": "stderr",
     "output_type": "stream",
     "text": [
      "C:\\ProgramData\\Anaconda3\\lib\\site-packages\\ipykernel_launcher.py:112: RuntimeWarning: invalid value encountered in double_scalars\n"
     ]
    },
    {
     "name": "stdout",
     "output_type": "stream",
     "text": [
      "AxesSubplot(0.125,0.125;0.775x0.755)\n",
      "5714\n",
      "Breakfast cereals\n",
      "Data aggregation\n",
      "1000\n",
      "2000\n",
      "3000\n",
      "4000\n",
      "5000\n",
      "6000\n",
      "7000\n",
      "8000\n",
      "9000\n",
      "10000\n",
      "11000\n",
      "12000\n",
      "13000\n",
      "14000\n",
      "15000\n",
      "16000\n",
      "17000\n",
      "18000\n",
      "19000\n",
      "20000\n",
      "21000\n",
      "22000\n",
      "23000\n",
      "24000\n",
      "25000\n",
      "26000\n",
      "27000\n",
      "28000\n",
      "29000\n",
      "30000\n",
      "31000\n",
      "32000\n",
      "33000\n",
      "34000\n",
      "35000\n",
      "36000\n",
      "Brand price imputation\n",
      "FPI calculation\n"
     ]
    },
    {
     "name": "stderr",
     "output_type": "stream",
     "text": [
      "C:\\ProgramData\\Anaconda3\\lib\\site-packages\\ipykernel_launcher.py:112: RuntimeWarning: invalid value encountered in double_scalars\n"
     ]
    },
    {
     "name": "stdout",
     "output_type": "stream",
     "text": [
      "AxesSubplot(0.125,0.125;0.775x0.755)\n",
      "1792\n",
      "Cakes, muffins, and pastries\n",
      "Data aggregation\n",
      "1000\n",
      "2000\n",
      "3000\n",
      "4000\n",
      "5000\n",
      "6000\n",
      "7000\n",
      "8000\n",
      "9000\n",
      "10000\n",
      "11000\n",
      "12000\n",
      "13000\n",
      "14000\n",
      "15000\n",
      "16000\n",
      "17000\n",
      "18000\n",
      "19000\n",
      "20000\n",
      "21000\n",
      "22000\n",
      "23000\n",
      "24000\n",
      "25000\n",
      "26000\n",
      "27000\n",
      "28000\n",
      "29000\n",
      "30000\n",
      "31000\n",
      "32000\n",
      "33000\n",
      "34000\n",
      "35000\n",
      "36000\n",
      "Brand price imputation\n",
      "FPI calculation\n"
     ]
    },
    {
     "name": "stderr",
     "output_type": "stream",
     "text": [
      "C:\\ProgramData\\Anaconda3\\lib\\site-packages\\ipykernel_launcher.py:112: RuntimeWarning: invalid value encountered in double_scalars\n"
     ]
    },
    {
     "name": "stdout",
     "output_type": "stream",
     "text": [
      "AxesSubplot(0.125,0.125;0.775x0.755)\n",
      "2144\n",
      "Cheese and cream\n",
      "Data aggregation\n",
      "1000\n",
      "2000\n",
      "3000\n",
      "4000\n",
      "5000\n",
      "6000\n",
      "7000\n",
      "8000\n",
      "9000\n",
      "10000\n",
      "11000\n",
      "12000\n",
      "13000\n",
      "14000\n",
      "15000\n",
      "16000\n",
      "17000\n",
      "18000\n",
      "19000\n",
      "20000\n",
      "21000\n",
      "22000\n",
      "23000\n",
      "24000\n",
      "25000\n",
      "26000\n",
      "27000\n",
      "28000\n",
      "29000\n",
      "30000\n",
      "31000\n",
      "32000\n",
      "33000\n",
      "34000\n",
      "35000\n",
      "36000\n",
      "Brand price imputation\n",
      "FPI calculation\n"
     ]
    },
    {
     "name": "stderr",
     "output_type": "stream",
     "text": [
      "C:\\ProgramData\\Anaconda3\\lib\\site-packages\\ipykernel_launcher.py:112: RuntimeWarning: invalid value encountered in double_scalars\n"
     ]
    },
    {
     "name": "stdout",
     "output_type": "stream",
     "text": [
      "AxesSubplot(0.125,0.125;0.775x0.755)\n",
      "255\n",
      "Sugar-sweetened beverages\n",
      "Data aggregation\n",
      "1000\n",
      "2000\n",
      "3000\n",
      "4000\n",
      "5000\n",
      "6000\n",
      "7000\n",
      "8000\n",
      "9000\n",
      "10000\n",
      "11000\n",
      "12000\n",
      "13000\n",
      "14000\n",
      "15000\n",
      "16000\n",
      "17000\n",
      "18000\n",
      "19000\n",
      "20000\n",
      "21000\n",
      "22000\n",
      "23000\n",
      "24000\n",
      "25000\n",
      "26000\n",
      "27000\n",
      "28000\n",
      "29000\n",
      "30000\n",
      "31000\n",
      "32000\n",
      "33000\n",
      "34000\n",
      "35000\n",
      "36000\n",
      "Brand price imputation\n",
      "FPI calculation\n"
     ]
    },
    {
     "name": "stderr",
     "output_type": "stream",
     "text": [
      "C:\\ProgramData\\Anaconda3\\lib\\site-packages\\ipykernel_launcher.py:112: RuntimeWarning: invalid value encountered in double_scalars\n"
     ]
    },
    {
     "name": "stdout",
     "output_type": "stream",
     "text": [
      "AxesSubplot(0.125,0.125;0.775x0.755)\n",
      "1745\n",
      "Nuts and seeds\n",
      "Data aggregation\n",
      "1000\n",
      "2000\n",
      "3000\n",
      "4000\n",
      "5000\n",
      "6000\n",
      "7000\n",
      "8000\n",
      "9000\n",
      "10000\n",
      "11000\n",
      "12000\n",
      "13000\n",
      "14000\n",
      "15000\n",
      "16000\n",
      "17000\n",
      "18000\n",
      "19000\n",
      "20000\n",
      "21000\n",
      "22000\n",
      "23000\n",
      "24000\n",
      "25000\n",
      "26000\n",
      "27000\n",
      "28000\n",
      "29000\n",
      "30000\n",
      "31000\n",
      "32000\n",
      "33000\n",
      "34000\n",
      "35000\n",
      "36000\n",
      "Brand price imputation\n",
      "FPI calculation\n"
     ]
    },
    {
     "name": "stderr",
     "output_type": "stream",
     "text": [
      "C:\\ProgramData\\Anaconda3\\lib\\site-packages\\ipykernel_launcher.py:112: RuntimeWarning: invalid value encountered in double_scalars\n"
     ]
    },
    {
     "name": "stdout",
     "output_type": "stream",
     "text": [
      "AxesSubplot(0.125,0.125;0.775x0.755)\n",
      "4728\n",
      "Tea and coffee\n",
      "Data aggregation\n",
      "1000\n",
      "2000\n",
      "3000\n",
      "4000\n",
      "5000\n",
      "6000\n",
      "7000\n",
      "8000\n",
      "9000\n",
      "10000\n",
      "11000\n",
      "12000\n",
      "13000\n",
      "14000\n",
      "15000\n",
      "16000\n",
      "17000\n",
      "18000\n",
      "19000\n",
      "20000\n",
      "21000\n",
      "22000\n",
      "23000\n",
      "24000\n",
      "25000\n",
      "26000\n",
      "27000\n",
      "28000\n",
      "29000\n",
      "30000\n",
      "31000\n",
      "32000\n",
      "33000\n",
      "34000\n",
      "35000\n",
      "36000\n",
      "Brand price imputation\n",
      "FPI calculation\n"
     ]
    },
    {
     "name": "stderr",
     "output_type": "stream",
     "text": [
      "C:\\ProgramData\\Anaconda3\\lib\\site-packages\\ipykernel_launcher.py:112: RuntimeWarning: invalid value encountered in double_scalars\n"
     ]
    },
    {
     "name": "stdout",
     "output_type": "stream",
     "text": [
      "AxesSubplot(0.125,0.125;0.775x0.755)\n",
      "1375\n",
      "Poultry\n",
      "Data aggregation\n",
      "1000\n",
      "2000\n",
      "3000\n",
      "4000\n",
      "5000\n",
      "6000\n",
      "7000\n",
      "8000\n",
      "9000\n",
      "10000\n",
      "11000\n",
      "12000\n",
      "13000\n",
      "14000\n",
      "15000\n",
      "16000\n",
      "17000\n",
      "18000\n",
      "19000\n",
      "20000\n",
      "21000\n",
      "22000\n",
      "23000\n",
      "24000\n",
      "25000\n",
      "26000\n",
      "27000\n",
      "28000\n",
      "29000\n",
      "30000\n",
      "31000\n",
      "32000\n",
      "33000\n",
      "34000\n",
      "35000\n",
      "36000\n",
      "Brand price imputation\n",
      "FPI calculation\n",
      "AxesSubplot(0.125,0.125;0.775x0.755)\n",
      "36208\n",
      "Eggs\n",
      "Data aggregation\n",
      "1000\n",
      "2000\n",
      "3000\n",
      "4000\n",
      "5000\n",
      "6000\n",
      "7000\n",
      "8000\n",
      "9000\n",
      "10000\n",
      "11000\n",
      "12000\n",
      "13000\n",
      "14000\n",
      "15000\n",
      "16000\n",
      "17000\n",
      "18000\n",
      "19000\n",
      "20000\n",
      "21000\n",
      "22000\n",
      "23000\n",
      "24000\n",
      "25000\n",
      "26000\n",
      "27000\n",
      "28000\n",
      "29000\n",
      "30000\n",
      "31000\n",
      "32000\n",
      "33000\n",
      "34000\n",
      "35000\n",
      "36000\n",
      "Brand price imputation\n",
      "FPI calculation\n"
     ]
    },
    {
     "name": "stderr",
     "output_type": "stream",
     "text": [
      "C:\\ProgramData\\Anaconda3\\lib\\site-packages\\ipykernel_launcher.py:112: RuntimeWarning: invalid value encountered in double_scalars\n"
     ]
    },
    {
     "name": "stdout",
     "output_type": "stream",
     "text": [
      "AxesSubplot(0.125,0.125;0.775x0.755)\n",
      "4055\n"
     ]
    },
    {
     "name": "stderr",
     "output_type": "stream",
     "text": [
      "C:\\ProgramData\\Anaconda3\\lib\\site-packages\\pandas\\plotting\\_core.py:304: RuntimeWarning: More than 20 figures have been opened. Figures created through the pyplot interface (`matplotlib.pyplot.figure`) are retained until explicitly closed and may consume too much memory. (To control this warning, see the rcParam `figure.max_open_warning`).\n",
      "  fig = self.plt.figure(figsize=self.figsize)\n"
     ]
    },
    {
     "name": "stdout",
     "output_type": "stream",
     "text": [
      "Yoghurt\n",
      "Data aggregation\n",
      "1000\n",
      "2000\n",
      "3000\n",
      "4000\n",
      "5000\n",
      "6000\n",
      "7000\n",
      "8000\n",
      "9000\n",
      "10000\n",
      "11000\n",
      "12000\n",
      "13000\n",
      "14000\n",
      "15000\n",
      "16000\n",
      "17000\n",
      "18000\n",
      "19000\n",
      "20000\n",
      "21000\n",
      "22000\n",
      "23000\n",
      "24000\n",
      "25000\n",
      "26000\n",
      "27000\n",
      "28000\n",
      "29000\n",
      "30000\n",
      "31000\n",
      "32000\n",
      "33000\n",
      "34000\n",
      "35000\n",
      "36000\n",
      "Brand price imputation\n",
      "FPI calculation\n"
     ]
    },
    {
     "name": "stderr",
     "output_type": "stream",
     "text": [
      "C:\\ProgramData\\Anaconda3\\lib\\site-packages\\ipykernel_launcher.py:112: RuntimeWarning: invalid value encountered in double_scalars\n"
     ]
    },
    {
     "name": "stdout",
     "output_type": "stream",
     "text": [
      "AxesSubplot(0.125,0.125;0.775x0.755)\n",
      "3268\n"
     ]
    },
    {
     "name": "stderr",
     "output_type": "stream",
     "text": [
      "C:\\ProgramData\\Anaconda3\\lib\\site-packages\\pandas\\plotting\\_core.py:304: RuntimeWarning: More than 20 figures have been opened. Figures created through the pyplot interface (`matplotlib.pyplot.figure`) are retained until explicitly closed and may consume too much memory. (To control this warning, see the rcParam `figure.max_open_warning`).\n",
      "  fig = self.plt.figure(figsize=self.figsize)\n"
     ]
    },
    {
     "name": "stdout",
     "output_type": "stream",
     "text": [
      "Chocolate-based confectionery\n",
      "Data aggregation\n",
      "1000\n",
      "2000\n",
      "3000\n",
      "4000\n",
      "5000\n",
      "6000\n",
      "7000\n",
      "8000\n",
      "9000\n",
      "10000\n",
      "11000\n",
      "12000\n",
      "13000\n",
      "14000\n",
      "15000\n",
      "16000\n",
      "17000\n",
      "18000\n",
      "19000\n",
      "20000\n",
      "21000\n",
      "22000\n",
      "23000\n",
      "24000\n",
      "25000\n",
      "26000\n",
      "27000\n",
      "28000\n",
      "29000\n",
      "30000\n",
      "31000\n",
      "32000\n",
      "33000\n",
      "34000\n",
      "35000\n",
      "36000\n",
      "Brand price imputation\n",
      "FPI calculation\n"
     ]
    },
    {
     "name": "stderr",
     "output_type": "stream",
     "text": [
      "C:\\ProgramData\\Anaconda3\\lib\\site-packages\\ipykernel_launcher.py:112: RuntimeWarning: invalid value encountered in double_scalars\n"
     ]
    },
    {
     "name": "stdout",
     "output_type": "stream",
     "text": [
      "AxesSubplot(0.125,0.125;0.775x0.755)\n",
      "659\n"
     ]
    },
    {
     "name": "stderr",
     "output_type": "stream",
     "text": [
      "C:\\ProgramData\\Anaconda3\\lib\\site-packages\\pandas\\plotting\\_core.py:304: RuntimeWarning: More than 20 figures have been opened. Figures created through the pyplot interface (`matplotlib.pyplot.figure`) are retained until explicitly closed and may consume too much memory. (To control this warning, see the rcParam `figure.max_open_warning`).\n",
      "  fig = self.plt.figure(figsize=self.figsize)\n"
     ]
    },
    {
     "name": "stdout",
     "output_type": "stream",
     "text": [
      "Sugars, honey, and related products\n",
      "Data aggregation\n",
      "1000\n",
      "2000\n",
      "3000\n",
      "4000\n",
      "5000\n",
      "6000\n",
      "7000\n",
      "8000\n",
      "9000\n",
      "10000\n",
      "11000\n",
      "12000\n",
      "13000\n",
      "14000\n",
      "15000\n",
      "16000\n",
      "17000\n",
      "18000\n",
      "19000\n",
      "20000\n",
      "21000\n",
      "22000\n",
      "23000\n",
      "24000\n",
      "25000\n",
      "26000\n",
      "27000\n",
      "28000\n",
      "29000\n",
      "30000\n",
      "31000\n",
      "32000\n",
      "33000\n",
      "34000\n",
      "35000\n",
      "36000\n",
      "Brand price imputation\n",
      "FPI calculation\n"
     ]
    },
    {
     "name": "stderr",
     "output_type": "stream",
     "text": [
      "C:\\ProgramData\\Anaconda3\\lib\\site-packages\\ipykernel_launcher.py:112: RuntimeWarning: invalid value encountered in double_scalars\n"
     ]
    },
    {
     "name": "stdout",
     "output_type": "stream",
     "text": [
      "AxesSubplot(0.125,0.125;0.775x0.755)\n",
      "2335\n"
     ]
    },
    {
     "name": "stderr",
     "output_type": "stream",
     "text": [
      "C:\\ProgramData\\Anaconda3\\lib\\site-packages\\pandas\\plotting\\_core.py:304: RuntimeWarning: More than 20 figures have been opened. Figures created through the pyplot interface (`matplotlib.pyplot.figure`) are retained until explicitly closed and may consume too much memory. (To control this warning, see the rcParam `figure.max_open_warning`).\n",
      "  fig = self.plt.figure(figsize=self.figsize)\n"
     ]
    },
    {
     "name": "stdout",
     "output_type": "stream",
     "text": [
      "Fish and seafoods\n",
      "Data aggregation\n",
      "1000\n",
      "2000\n",
      "3000\n",
      "4000\n",
      "5000\n",
      "6000\n",
      "7000\n",
      "8000\n",
      "9000\n",
      "10000\n",
      "11000\n",
      "12000\n",
      "13000\n",
      "14000\n",
      "15000\n",
      "16000\n",
      "17000\n",
      "18000\n",
      "19000\n",
      "20000\n",
      "21000\n",
      "22000\n",
      "23000\n",
      "24000\n",
      "25000\n",
      "26000\n",
      "27000\n",
      "28000\n",
      "29000\n",
      "30000\n",
      "31000\n",
      "32000\n",
      "33000\n",
      "34000\n",
      "35000\n",
      "36000\n",
      "Brand price imputation\n",
      "FPI calculation\n"
     ]
    },
    {
     "name": "stderr",
     "output_type": "stream",
     "text": [
      "C:\\ProgramData\\Anaconda3\\lib\\site-packages\\ipykernel_launcher.py:112: RuntimeWarning: invalid value encountered in double_scalars\n"
     ]
    },
    {
     "name": "stdout",
     "output_type": "stream",
     "text": [
      "AxesSubplot(0.125,0.125;0.775x0.755)\n",
      "1804\n"
     ]
    },
    {
     "name": "stderr",
     "output_type": "stream",
     "text": [
      "C:\\ProgramData\\Anaconda3\\lib\\site-packages\\pandas\\plotting\\_core.py:304: RuntimeWarning: More than 20 figures have been opened. Figures created through the pyplot interface (`matplotlib.pyplot.figure`) are retained until explicitly closed and may consume too much memory. (To control this warning, see the rcParam `figure.max_open_warning`).\n",
      "  fig = self.plt.figure(figsize=self.figsize)\n"
     ]
    },
    {
     "name": "stdout",
     "output_type": "stream",
     "text": [
      "Legumes/beans\n",
      "Data aggregation\n",
      "1000\n",
      "2000\n",
      "3000\n",
      "4000\n",
      "5000\n",
      "6000\n",
      "7000\n",
      "8000\n",
      "9000\n",
      "10000\n",
      "11000\n",
      "12000\n",
      "13000\n",
      "14000\n",
      "15000\n",
      "16000\n",
      "17000\n",
      "18000\n",
      "19000\n",
      "20000\n",
      "21000\n",
      "22000\n",
      "23000\n",
      "24000\n",
      "25000\n",
      "26000\n",
      "27000\n",
      "28000\n",
      "29000\n",
      "30000\n",
      "31000\n",
      "32000\n",
      "33000\n",
      "34000\n",
      "35000\n",
      "36000\n",
      "Brand price imputation\n",
      "FPI calculation\n"
     ]
    },
    {
     "name": "stderr",
     "output_type": "stream",
     "text": [
      "C:\\ProgramData\\Anaconda3\\lib\\site-packages\\ipykernel_launcher.py:112: RuntimeWarning: invalid value encountered in double_scalars\n"
     ]
    },
    {
     "name": "stdout",
     "output_type": "stream",
     "text": [
      "AxesSubplot(0.125,0.125;0.775x0.755)\n",
      "1418\n"
     ]
    },
    {
     "name": "stderr",
     "output_type": "stream",
     "text": [
      "C:\\ProgramData\\Anaconda3\\lib\\site-packages\\pandas\\plotting\\_core.py:304: RuntimeWarning: More than 20 figures have been opened. Figures created through the pyplot interface (`matplotlib.pyplot.figure`) are retained until explicitly closed and may consume too much memory. (To control this warning, see the rcParam `figure.max_open_warning`).\n",
      "  fig = self.plt.figure(figsize=self.figsize)\n"
     ]
    },
    {
     "ename": "FileNotFoundError",
     "evalue": "[Errno 2] No such file or directory: 'FI2Legumes/beans.csv'",
     "output_type": "error",
     "traceback": [
      "\u001b[1;31m---------------------------------------------------------------------------\u001b[0m",
      "\u001b[1;31mFileNotFoundError\u001b[0m                         Traceback (most recent call last)",
      "\u001b[1;32m<timed exec>\u001b[0m in \u001b[0;36m<module>\u001b[1;34m\u001b[0m\n",
      "\u001b[1;32mC:\\ProgramData\\Anaconda3\\lib\\site-packages\\pandas\\core\\generic.py\u001b[0m in \u001b[0;36mto_csv\u001b[1;34m(self, path_or_buf, sep, na_rep, float_format, columns, header, index, index_label, mode, encoding, compression, quoting, quotechar, line_terminator, chunksize, tupleize_cols, date_format, doublequote, escapechar, decimal)\u001b[0m\n\u001b[0;32m   3018\u001b[0m                                  \u001b[0mdoublequote\u001b[0m\u001b[1;33m=\u001b[0m\u001b[0mdoublequote\u001b[0m\u001b[1;33m,\u001b[0m\u001b[1;33m\u001b[0m\u001b[1;33m\u001b[0m\u001b[0m\n\u001b[0;32m   3019\u001b[0m                                  escapechar=escapechar, decimal=decimal)\n\u001b[1;32m-> 3020\u001b[1;33m         \u001b[0mformatter\u001b[0m\u001b[1;33m.\u001b[0m\u001b[0msave\u001b[0m\u001b[1;33m(\u001b[0m\u001b[1;33m)\u001b[0m\u001b[1;33m\u001b[0m\u001b[1;33m\u001b[0m\u001b[0m\n\u001b[0m\u001b[0;32m   3021\u001b[0m \u001b[1;33m\u001b[0m\u001b[0m\n\u001b[0;32m   3022\u001b[0m         \u001b[1;32mif\u001b[0m \u001b[0mpath_or_buf\u001b[0m \u001b[1;32mis\u001b[0m \u001b[1;32mNone\u001b[0m\u001b[1;33m:\u001b[0m\u001b[1;33m\u001b[0m\u001b[1;33m\u001b[0m\u001b[0m\n",
      "\u001b[1;32mC:\\ProgramData\\Anaconda3\\lib\\site-packages\\pandas\\io\\formats\\csvs.py\u001b[0m in \u001b[0;36msave\u001b[1;34m(self)\u001b[0m\n\u001b[0;32m    155\u001b[0m             f, handles = _get_handle(self.path_or_buf, self.mode,\n\u001b[0;32m    156\u001b[0m                                      \u001b[0mencoding\u001b[0m\u001b[1;33m=\u001b[0m\u001b[0mself\u001b[0m\u001b[1;33m.\u001b[0m\u001b[0mencoding\u001b[0m\u001b[1;33m,\u001b[0m\u001b[1;33m\u001b[0m\u001b[1;33m\u001b[0m\u001b[0m\n\u001b[1;32m--> 157\u001b[1;33m                                      compression=self.compression)\n\u001b[0m\u001b[0;32m    158\u001b[0m             \u001b[0mclose\u001b[0m \u001b[1;33m=\u001b[0m \u001b[1;32mTrue\u001b[0m\u001b[1;33m\u001b[0m\u001b[1;33m\u001b[0m\u001b[0m\n\u001b[0;32m    159\u001b[0m \u001b[1;33m\u001b[0m\u001b[0m\n",
      "\u001b[1;32mC:\\ProgramData\\Anaconda3\\lib\\site-packages\\pandas\\io\\common.py\u001b[0m in \u001b[0;36m_get_handle\u001b[1;34m(path_or_buf, mode, encoding, compression, memory_map, is_text)\u001b[0m\n\u001b[0;32m    422\u001b[0m         \u001b[1;32melif\u001b[0m \u001b[0mencoding\u001b[0m\u001b[1;33m:\u001b[0m\u001b[1;33m\u001b[0m\u001b[1;33m\u001b[0m\u001b[0m\n\u001b[0;32m    423\u001b[0m             \u001b[1;31m# Python 3 and encoding\u001b[0m\u001b[1;33m\u001b[0m\u001b[1;33m\u001b[0m\u001b[1;33m\u001b[0m\u001b[0m\n\u001b[1;32m--> 424\u001b[1;33m             \u001b[0mf\u001b[0m \u001b[1;33m=\u001b[0m \u001b[0mopen\u001b[0m\u001b[1;33m(\u001b[0m\u001b[0mpath_or_buf\u001b[0m\u001b[1;33m,\u001b[0m \u001b[0mmode\u001b[0m\u001b[1;33m,\u001b[0m \u001b[0mencoding\u001b[0m\u001b[1;33m=\u001b[0m\u001b[0mencoding\u001b[0m\u001b[1;33m,\u001b[0m \u001b[0mnewline\u001b[0m\u001b[1;33m=\u001b[0m\u001b[1;34m\"\"\u001b[0m\u001b[1;33m)\u001b[0m\u001b[1;33m\u001b[0m\u001b[1;33m\u001b[0m\u001b[0m\n\u001b[0m\u001b[0;32m    425\u001b[0m         \u001b[1;32melif\u001b[0m \u001b[0mis_text\u001b[0m\u001b[1;33m:\u001b[0m\u001b[1;33m\u001b[0m\u001b[1;33m\u001b[0m\u001b[0m\n\u001b[0;32m    426\u001b[0m             \u001b[1;31m# Python 3 and no explicit encoding\u001b[0m\u001b[1;33m\u001b[0m\u001b[1;33m\u001b[0m\u001b[1;33m\u001b[0m\u001b[0m\n",
      "\u001b[1;31mFileNotFoundError\u001b[0m: [Errno 2] No such file or directory: 'FI2Legumes/beans.csv'"
     ]
    },
    {
     "data": {
      "image/png": "[encoded data removed]",
      "text/plain": [
       "<Figure size 432x288 with 1 Axes>"
      ]
     },
     "metadata": {
      "needs_background": "light"
     },
     "output_type": "display_data"
    },
    {
     "data": {
      "image/png": "[encoded data removed]",
      "text/plain": [
       "<Figure size 432x288 with 1 Axes>"
      ]
     },
     "metadata": {
      "needs_background": "light"
     },
     "output_type": "display_data"
    },
    {
     "data": {
      "image/png": "[encoded data removed]",
      "text/plain": [
       "<Figure size 432x288 with 1 Axes>"
      ]
     },
     "metadata": {
      "needs_background": "light"
     },
     "output_type": "display_data"
    },
    {
     "data": {
      "image/png": "[encoded data removed]",
      "text/plain": [
       "<Figure size 432x288 with 1 Axes>"
      ]
     },
     "metadata": {
      "needs_background": "light"
     },
     "output_type": "display_data"
    },
    {
     "data": {
      "image/png": "[encoded data removed]",
      "text/plain": [
       "<Figure size 432x288 with 1 Axes>"
      ]
     },
     "metadata": {
      "needs_background": "light"
     },
     "output_type": "display_data"
    },
    {
     "data": {
      "image/png": "[encoded data removed]",
      "text/plain": [
       "<Figure size 432x288 with 1 Axes>"
      ]
     },
     "metadata": {
      "needs_background": "light"
     },
     "output_type": "display_data"
    },
    {
     "data": {
      "image/png": "[encoded data removed]",
      "text/plain": [
       "<Figure size 432x288 with 1 Axes>"
      ]
     },
     "metadata": {
      "needs_background": "light"
     },
     "output_type": "display_data"
    },
    {
     "data": {
      "image/png": "[encoded data removed]",
      "text/plain": [
       "<Figure size 432x288 with 1 Axes>"
      ]
     },
     "metadata": {
      "needs_background": "light"
     },
     "output_type": "display_data"
    },
    {
     "data": {
      "image/png": "[encoded data removed]",
      "text/plain": [
       "<Figure size 432x288 with 1 Axes>"
      ]
     },
     "metadata": {
      "needs_background": "light"
     },
     "output_type": "display_data"
    },
    {
     "data": {
      "image/png": "[encoded data removed]",
      "text/plain": [
       "<Figure size 432x288 with 1 Axes>"
      ]
     },
     "metadata": {
      "needs_background": "light"
     },
     "output_type": "display_data"
    },
    {
     "data": {
      "image/png": "[encoded data removed]",
      "text/plain": [
       "<Figure size 432x288 with 1 Axes>"
      ]
     },
     "metadata": {
      "needs_background": "light"
     },
     "output_type": "display_data"
    },
    {
     "data": {
      "image/png": "[encoded data removed]",
      "text/plain": [
       "<Figure size 432x288 with 1 Axes>"
      ]
     },
     "metadata": {
      "needs_background": "light"
     },
     "output_type": "display_data"
    },
    {
     "data": {
      "image/png": "[encoded data removed]",
      "text/plain": [
       "<Figure size 432x288 with 1 Axes>"
      ]
     },
     "metadata": {
      "needs_background": "light"
     },
     "output_type": "display_data"
    },
    {
     "data": {
      "image/png": "[encoded data removed]",
      "text/plain": [
       "<Figure size 432x288 with 1 Axes>"
      ]
     },
     "metadata": {
      "needs_background": "light"
     },
     "output_type": "display_data"
    },
    {
     "data": {
      "image/png": "[encoded data removed]",
      "text/plain": [
       "<Figure size 432x288 with 1 Axes>"
      ]
     },
     "metadata": {
      "needs_background": "light"
     },
     "output_type": "display_data"
    },
    {
     "data": {
      "image/png": "[encoded data removed]",
      "text/plain": [
       "<Figure size 432x288 with 1 Axes>"
      ]
     },
     "metadata": {
      "needs_background": "light"
     },
     "output_type": "display_data"
    },
    {
     "data": {
      "image/png": "[encoded data removed]",
      "text/plain": [
       "<Figure size 432x288 with 1 Axes>"
      ]
     },
     "metadata": {
      "needs_background": "light"
     },
     "output_type": "display_data"
    },
    {
     "data": {
      "image/png": "[encoded data removed]",
      "text/plain": [
       "<Figure size 432x288 with 1 Axes>"
      ]
     },
     "metadata": {
      "needs_background": "light"
     },
     "output_type": "display_data"
    },
    {
     "data": {
      "image/png": "[encoded data removed]",
      "text/plain": [
       "<Figure size 432x288 with 1 Axes>"
      ]
     },
     "metadata": {
      "needs_background": "light"
     },
     "output_type": "display_data"
    },
    {
     "data": {
      "image/png": "[encoded data removed]",
      "text/plain": [
       "<Figure size 432x288 with 1 Axes>"
      ]
     },
     "metadata": {
      "needs_background": "light"
     },
     "output_type": "display_data"
    },
    {
     "data": {
      "image/png": "[encoded data removed]",
      "text/plain": [
       "<Figure size 432x288 with 1 Axes>"
      ]
     },
     "metadata": {
      "needs_background": "light"
     },
     "output_type": "display_data"
    },
    {
     "data": {
      "image/png": "[encoded data removed]",
      "text/plain": [
       "<Figure size 432x288 with 1 Axes>"
      ]
     },
     "metadata": {
      "needs_background": "light"
     },
     "output_type": "display_data"
    },
    {
     "data": {
      "image/png": "[encoded data removed]",
      "text/plain": [
       "<Figure size 432x288 with 1 Axes>"
      ]
     },
     "metadata": {
      "needs_background": "light"
     },
     "output_type": "display_data"
    },
    {
     "data": {
      "image/png": "[encoded data removed]",
      "text/plain": [
       "<Figure size 432x288 with 1 Axes>"
      ]
     },
     "metadata": {
      "needs_background": "light"
     },
     "output_type": "display_data"
    },
    {
     "data": {
      "image/png": "[encoded data removed]",
      "text/plain": [
       "<Figure size 432x288 with 1 Axes>"
      ]
     },
     "metadata": {
      "needs_background": "light"
     },
     "output_type": "display_data"
    },
    {
     "data": {
      "image/png": "[encoded data removed]",
      "text/plain": [
       "<Figure size 432x288 with 1 Axes>"
      ]
     },
     "metadata": {
      "needs_background": "light"
     },
     "output_type": "display_data"
    }
   ],
   "source": [
    "%%time\n",
    "# AGGREGATE BRAND PRICES AND QUANTITIES FOR EACH YEAR-HOUSEHOLD \n",
    "# isolate category\n",
    "for minor in minors:\n",
    "    print(minor)\n",
    "    sub = dff[dff['cat'] == minor].copy()\n",
    "\n",
    "    # isolate top 100 brands (by % of purchasing households)\n",
    "    top_100_brands = sub.groupby('BRAND')['HHID'].nunique().sort_values(ascending=False).head(100).index.tolist()\n",
    "\n",
    "    # only use top 100 brands\n",
    "    sub['BRAND 2'] = np.where(sub['BRAND'].isin(top_100_brands), sub['BRAND'], 'All other brands')\n",
    "\n",
    "    # precompute repetitive calculations\n",
    "    expenditures = sub.groupby(['YEAR-HHID', 'BRAND 2'])['EXP'].sum()\n",
    "    purchase_volumes = sub.groupby(['YEAR-HHID', 'BRAND 2'])['PUR VOL'].sum()\n",
    "\n",
    "    # iterate through year-households\n",
    "    print('Data aggregation')\n",
    "    ids = dff['YEAR-HHID'].unique()\n",
    "\n",
    "    data = []\n",
    "    count = 0\n",
    "    for i in ids:\n",
    "        count += 1\n",
    "        if count % 1000 == 0:\n",
    "            print(count)\n",
    "        row = {}\n",
    "        row['YEAR-HHID'] = i\n",
    "        for brand in top_100_brands + ['All other brands']:\n",
    "            try:\n",
    "                row[brand + ' Q1'] = purchase_volumes[i][brand]/1000\n",
    "            except:\n",
    "                row[brand + ' Q1'] = 0\n",
    "\n",
    "            try:\n",
    "                row[brand + ' P1'] = expenditures[i][brand]/(purchase_volumes[i][brand]/1000)\n",
    "            except:\n",
    "                row[brand + ' P1'] = np.NaN\n",
    "\n",
    "        data.append(row)\n",
    "\n",
    "    result_df = pd.DataFrame(data)\n",
    "    result_df = result_df[['YEAR-HHID'] + list(filter(lambda x: x != 'YEAR-HHID', result_df.columns.tolist()))]\n",
    "\n",
    "    # adjust for outlying brand prices\n",
    "    # for anything surpassing column mean by 5 SDs, reduce to the mean + 5 SDs\n",
    "    lims = result_df.mean() + result_df.std()*5\n",
    "\n",
    "    # this just changes <1% of all values, not a big diff\n",
    "    for col in lims.index.tolist():\n",
    "        lim = lims[col]\n",
    "        result_df[col] = np.where(result_df[col]>lim, lim, result_df[col])\n",
    "\n",
    "    #*************************************************************************************************** \n",
    "    print('Brand price imputation')\n",
    "    # IMPUTE MISSING BRAND PRICES BASED ON YEAR, REGION, and HH SZ\n",
    "    # merge required variables\n",
    "    result_df = result_df.merge(demog[['YEAR-HHID', 'HH SZ']], on = 'YEAR-HHID', how = 'left')\n",
    "    result_df = result_df.merge(dfpf[['YEAR-HHID', 'REGION 2']], on = 'YEAR-HHID', how = 'left')\n",
    "    result_df['YEAR'] = result_df['YEAR-HHID'].str.split('|').str[0]\n",
    "\n",
    "    # Create dummy variables\n",
    "    year_dummies = pd.get_dummies(result_df['YEAR'], prefix='YEAR', drop_first=True)\n",
    "    region_dummies = pd.get_dummies(result_df['REGION 2'], prefix='REGION 2', drop_first=True)\n",
    "    result_df = pd.concat([result_df, year_dummies, region_dummies], axis=1)\n",
    "\n",
    "    # Impute missing values for each \"P1\" column, using as many input variables as possible\n",
    "    p1_columns = [col for col in result_df.columns if 'P1' in col]\n",
    "    for col in p1_columns:\n",
    "        feature_columns = ['HH SZ','YEAR', 'REGION 2','YEAR_2016', 'YEAR_2017','YEAR_2018','YEAR_2019',\n",
    "                           'REGION 2_BRI','REGION 2_MEL','REGION 2_Other','REGION 2_PER','REGION 2_SYD'] \n",
    "        impute_missing_values(result_df, col, feature_columns)\n",
    "        impute_missing_values2(result_df, col, feature_columns)\n",
    "        impute_missing_values3(result_df, col, feature_columns)\n",
    "        impute_missing_values4(result_df, col, feature_columns)\n",
    "\n",
    "    #***************************************************************************************************  \n",
    "    print('FPI calculation')\n",
    "    # CALCULATE FISHER PRICE INDEX\n",
    "    # Identify P1 and Q1 columns\n",
    "    p1_columns = [col for col in result_df.columns if 'P1' in col]\n",
    "    q1_columns = [col.replace('P1', 'Q1') for col in p1_columns]\n",
    "\n",
    "    # Calculate P0 and Q0 using column means\n",
    "    p0 = result_df[p1_columns].mean()\n",
    "    q0 = result_df[q1_columns].mean()\n",
    "\n",
    "    # Initialize lists to store the indices and their components for each row\n",
    "    fisher_indices = []\n",
    "\n",
    "    # Calculate Fisher Price Index for each row\n",
    "    for i, row in result_df.iterrows():\n",
    "        laspeyres_numerator = 0\n",
    "        laspeyres_denominator = 0\n",
    "        paasche_numerator = 0\n",
    "        paasche_denominator = 0\n",
    "\n",
    "        for p1_col, q1_col in zip(p1_columns, q1_columns):\n",
    "            p1 = row[p1_col]\n",
    "            q1 = row[q1_col]\n",
    "\n",
    "            # Calculate Laspeyres components\n",
    "            laspeyres_numerator += p1 * q0[q1_col]\n",
    "            laspeyres_denominator += p0[p1_col] * q0[q1_col]\n",
    "\n",
    "            # Calculate Paasche components\n",
    "            paasche_numerator += p1 * q1\n",
    "            paasche_denominator += p0[p1_col] * q1\n",
    "\n",
    "        # Calculate Laspeyres and Paasche Price Indices for the row\n",
    "        laspeyres_index = laspeyres_numerator / laspeyres_denominator\n",
    "        paasche_index = paasche_numerator / paasche_denominator\n",
    "\n",
    "        # Calculate Fisher Price Index for the row\n",
    "        fisher_index = np.sqrt(laspeyres_index * paasche_index)\n",
    "\n",
    "        # Append the indices and their components to their respective lists\n",
    "        fisher_indices.append(fisher_index)\n",
    "\n",
    "    # Add the indices and their components to the DataFrame\n",
    "    result_df['Fisher Price Index'] = fisher_indices\n",
    "\n",
    "    # adjust for outlying fisher price indexes\n",
    "    #lim = result_df['Fisher Price Index'].mean() + result_df['Fisher Price Index'].std()*5\n",
    "    #result_df['Fisher Price Index'] = np.where(result_df['Fisher Price Index']>lim, lim, result_df['Fisher Price Index'])\n",
    "\n",
    "    #*************************************************************************************************** \n",
    "    # OUPUT IMPORTANT STUFF\n",
    "    result_df = result_df.merge(seifa[['YEAR-HHID', 'SES']], on = 'YEAR-HHID', how = 'left')\n",
    "    print(result_df['Fisher Price Index'].hist(bins=100));\n",
    "\n",
    "    #print(result_df.groupby('SES')['Fisher Price Index'].mean())\n",
    "\n",
    "    print(result_df['Fisher Price Index'].isnull().sum())\n",
    "\n",
    "    see = pd.DataFrame(sub.groupby('YEAR-HHID')['EXP'].sum()/sub.groupby('YEAR-HHID')['PUR VOL'].sum()).reset_index()\n",
    "    see.columns = ['YEAR-HHID', 'cat price']\n",
    "    see = result_df.merge(see, on = 'YEAR-HHID', how = 'left')\n",
    "    see.plot(kind='scatter', x='cat price', y='Fisher Price Index');\n",
    "\n",
    "    # any empty fisher price indices are because the consumer didn't consume the category - impute median\n",
    "    result_df['Fisher Price Index'] = result_df['Fisher Price Index'].fillna(result_df['Fisher Price Index'].median())\n",
    "\n",
    "    result_df[['YEAR-HHID', 'Fisher Price Index']].to_csv('FI2' + minor + '.csv', index=False)"
   ]
  },
  {
   "cell_type": "code",
   "execution_count": null,
   "metadata": {},
   "outputs": [],
   "source": []
  },
  {
   "cell_type": "code",
   "execution_count": null,
   "metadata": {},
   "outputs": [],
   "source": []
  },
  {
   "cell_type": "code",
   "execution_count": null,
   "metadata": {},
   "outputs": [],
   "source": []
  },
  {
   "cell_type": "code",
   "execution_count": null,
   "metadata": {},
   "outputs": [],
   "source": []
  },
  {
   "cell_type": "code",
   "execution_count": null,
   "metadata": {},
   "outputs": [],
   "source": []
  },
  {
   "cell_type": "code",
   "execution_count": null,
   "metadata": {},
   "outputs": [],
   "source": []
  },
  {
   "cell_type": "code",
   "execution_count": null,
   "metadata": {},
   "outputs": [],
   "source": []
  },
  {
   "cell_type": "code",
   "execution_count": null,
   "metadata": {},
   "outputs": [],
   "source": []
  },
  {
   "cell_type": "code",
   "execution_count": null,
   "metadata": {},
   "outputs": [],
   "source": []
  }
 ],
 "metadata": {
  "kernelspec": {
   "display_name": "Python 3",
   "language": "python",
   "name": "python3"
  },
  "language_info": {
   "codemirror_mode": {
    "name": "ipython",
    "version": 3
   },
   "file_extension": ".py",
   "mimetype": "text/x-python",
   "name": "python",
   "nbconvert_exporter": "python",
   "pygments_lexer": "ipython3",
   "version": "3.7.3"
  }
 },
 "nbformat": 4,
 "nbformat_minor": 2
}
